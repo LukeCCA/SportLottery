{
 "cells": [
  {
   "cell_type": "code",
   "execution_count": 1,
   "metadata": {
    "collapsed": true
   },
   "outputs": [],
   "source": [
    "from bs4 import BeautifulSoup\n",
    "import requests\n",
    "import datetime\n",
    "import pandas as pd\n",
    "import numpy as np\n",
    "import json\n",
    "import lightgbm as lgb\n",
    "import pickle"
   ]
  },
  {
   "cell_type": "markdown",
   "metadata": {},
   "source": [
    "# query game date"
   ]
  },
  {
   "cell_type": "code",
   "execution_count": 3,
   "metadata": {
    "collapsed": true
   },
   "outputs": [],
   "source": [
    "def get_web_page(url):\n",
    "    resp = requests.get(url=url)\n",
    "    if resp.status_code != 200:\n",
    "        print('Invalid url:', resp.url)\n",
    "        return None\n",
    "    else:\n",
    "        resp.encoding='utf-8'\n",
    "        return resp.text    "
   ]
  },
  {
   "cell_type": "code",
   "execution_count": 4,
   "metadata": {
    "collapsed": true
   },
   "outputs": [],
   "source": [
    "doc = get_web_page(\"https://www.basketball-reference.com/leagues/NBA_2019_games-february.html\")"
   ]
  },
  {
   "cell_type": "code",
   "execution_count": 5,
   "metadata": {
    "collapsed": true
   },
   "outputs": [],
   "source": [
    "teams = json.loads(open(\"/Users/chienan/Pycon/github/SportLottery/nbastat/teamId_mpt\").read())\n",
    "teams = dict((v,k) for k,v in teams.items())"
   ]
  },
  {
   "cell_type": "code",
   "execution_count": 6,
   "metadata": {
    "collapsed": true
   },
   "outputs": [],
   "source": [
    "soup = BeautifulSoup(doc, \"lxml\")"
   ]
  },
  {
   "cell_type": "code",
   "execution_count": 7,
   "metadata": {
    "collapsed": true
   },
   "outputs": [],
   "source": [
    "data = soup.find('table',attrs={'class':'suppress_glossary sortable stats_table'})"
   ]
  },
  {
   "cell_type": "code",
   "execution_count": 8,
   "metadata": {
    "collapsed": true
   },
   "outputs": [],
   "source": [
    "row = data.find('tbody')"
   ]
  },
  {
   "cell_type": "code",
   "execution_count": 9,
   "metadata": {
    "collapsed": true
   },
   "outputs": [],
   "source": [
    "data_date = row.find_all('th',attrs={\"data-stat\": \"date_game\"})\n",
    "data_row_home = row.find_all('td',attrs={\"data-stat\": \"home_team_name\"})\n",
    "data_row_visitor = row.find_all('td',attrs={\"data-stat\": \"visitor_team_name\"})"
   ]
  },
  {
   "cell_type": "code",
   "execution_count": 9,
   "metadata": {
    "collapsed": true
   },
   "outputs": [],
   "source": [
    "data_date = np.array([r.text for r in data_date]).reshape(-1,1)\n",
    "data_row_home = np.array([r.text for r in data_row_home]).reshape(-1,1)\n",
    "data_row_visitor = np.array([r.text for r in data_row_visitor]).reshape(-1,1)"
   ]
  },
  {
   "cell_type": "code",
   "execution_count": 10,
   "metadata": {
    "collapsed": true
   },
   "outputs": [],
   "source": [
    "df = pd.DataFrame(np.append(np.append(data_date,data_row_home,axis=1),data_row_visitor,axis=1),\n",
    "                  columns=[\"GAME_DATE\",\"HOME_TEAM\",\"AWAY_TEAM\"])"
   ]
  },
  {
   "cell_type": "code",
   "execution_count": 11,
   "metadata": {
    "collapsed": true
   },
   "outputs": [],
   "source": [
    "df[\"GAME_DATE\"] = df.GAME_DATE.apply(lambda dt : datetime.datetime.strptime(dt,\"%a, %b %d, %Y\").date())"
   ]
  },
  {
   "cell_type": "code",
   "execution_count": 12,
   "metadata": {
    "collapsed": true
   },
   "outputs": [],
   "source": [
    "df[\"TEAM_ID_HOME\"] = df.HOME_TEAM.apply(lambda x : teams[x])\n",
    "df[\"TEAM_ID_AWAY\"] = df.AWAY_TEAM.apply(lambda x : teams[x])"
   ]
  },
  {
   "cell_type": "code",
   "execution_count": 13,
   "metadata": {},
   "outputs": [
    {
     "data": {
      "text/plain": [
       "datetime.date(2019, 2, 5)"
      ]
     },
     "execution_count": 13,
     "metadata": {},
     "output_type": "execute_result"
    }
   ],
   "source": [
    "(datetime.datetime.now() + datetime.timedelta(1)).date()"
   ]
  },
  {
   "cell_type": "code",
   "execution_count": 14,
   "metadata": {
    "collapsed": true
   },
   "outputs": [],
   "source": [
    "df = df[df.GAME_DATE==(datetime.datetime.now()).date()].reset_index(drop=True)"
   ]
  },
  {
   "cell_type": "code",
   "execution_count": 15,
   "metadata": {},
   "outputs": [
    {
     "data": {
      "text/html": [
       "<div>\n",
       "<style scoped>\n",
       "    .dataframe tbody tr th:only-of-type {\n",
       "        vertical-align: middle;\n",
       "    }\n",
       "\n",
       "    .dataframe tbody tr th {\n",
       "        vertical-align: top;\n",
       "    }\n",
       "\n",
       "    .dataframe thead th {\n",
       "        text-align: right;\n",
       "    }\n",
       "</style>\n",
       "<table border=\"1\" class=\"dataframe\">\n",
       "  <thead>\n",
       "    <tr style=\"text-align: right;\">\n",
       "      <th></th>\n",
       "      <th>GAME_DATE</th>\n",
       "      <th>HOME_TEAM</th>\n",
       "      <th>AWAY_TEAM</th>\n",
       "      <th>TEAM_ID_HOME</th>\n",
       "      <th>TEAM_ID_AWAY</th>\n",
       "    </tr>\n",
       "  </thead>\n",
       "  <tbody>\n",
       "    <tr>\n",
       "      <th>0</th>\n",
       "      <td>2019-02-04</td>\n",
       "      <td>Brooklyn Nets</td>\n",
       "      <td>Milwaukee Bucks</td>\n",
       "      <td>1610612751</td>\n",
       "      <td>1610612749</td>\n",
       "    </tr>\n",
       "    <tr>\n",
       "      <th>1</th>\n",
       "      <td>2019-02-04</td>\n",
       "      <td>Detroit Pistons</td>\n",
       "      <td>Denver Nuggets</td>\n",
       "      <td>1610612765</td>\n",
       "      <td>1610612743</td>\n",
       "    </tr>\n",
       "    <tr>\n",
       "      <th>2</th>\n",
       "      <td>2019-02-04</td>\n",
       "      <td>New Orleans Pelicans</td>\n",
       "      <td>Indiana Pacers</td>\n",
       "      <td>1610612740</td>\n",
       "      <td>1610612754</td>\n",
       "    </tr>\n",
       "    <tr>\n",
       "      <th>3</th>\n",
       "      <td>2019-02-04</td>\n",
       "      <td>Phoenix Suns</td>\n",
       "      <td>Houston Rockets</td>\n",
       "      <td>1610612756</td>\n",
       "      <td>1610612745</td>\n",
       "    </tr>\n",
       "    <tr>\n",
       "      <th>4</th>\n",
       "      <td>2019-02-04</td>\n",
       "      <td>Sacramento Kings</td>\n",
       "      <td>San Antonio Spurs</td>\n",
       "      <td>1610612758</td>\n",
       "      <td>1610612759</td>\n",
       "    </tr>\n",
       "    <tr>\n",
       "      <th>5</th>\n",
       "      <td>2019-02-04</td>\n",
       "      <td>Washington Wizards</td>\n",
       "      <td>Atlanta Hawks</td>\n",
       "      <td>1610612764</td>\n",
       "      <td>1610612737</td>\n",
       "    </tr>\n",
       "  </tbody>\n",
       "</table>\n",
       "</div>"
      ],
      "text/plain": [
       "    GAME_DATE             HOME_TEAM          AWAY_TEAM TEAM_ID_HOME  \\\n",
       "0  2019-02-04         Brooklyn Nets    Milwaukee Bucks   1610612751   \n",
       "1  2019-02-04       Detroit Pistons     Denver Nuggets   1610612765   \n",
       "2  2019-02-04  New Orleans Pelicans     Indiana Pacers   1610612740   \n",
       "3  2019-02-04          Phoenix Suns    Houston Rockets   1610612756   \n",
       "4  2019-02-04      Sacramento Kings  San Antonio Spurs   1610612758   \n",
       "5  2019-02-04    Washington Wizards      Atlanta Hawks   1610612764   \n",
       "\n",
       "  TEAM_ID_AWAY  \n",
       "0   1610612749  \n",
       "1   1610612743  \n",
       "2   1610612754  \n",
       "3   1610612745  \n",
       "4   1610612759  \n",
       "5   1610612737  "
      ]
     },
     "execution_count": 15,
     "metadata": {},
     "output_type": "execute_result"
    }
   ],
   "source": [
    "df"
   ]
  },
  {
   "cell_type": "markdown",
   "metadata": {},
   "source": [
    "# create query data"
   ]
  },
  {
   "cell_type": "code",
   "execution_count": 16,
   "metadata": {
    "collapsed": true
   },
   "outputs": [],
   "source": [
    "team = pd.read_pickle(\"/Users/chienan/Pycon/github/SportLottery/input/FEATURE_AGG_2012TO2019.pkl\")\n",
    "home = team[[\"GAME_ID\",\"GAME_DATE\"]+sorted(list(set([col for col in team.columns if \"_H\" in col])))[::-1]]\n",
    "away = team.loc[:,[\"GAME_ID\",\"GAME_DATE\"]+sorted(list(set([col for col in team.columns if (\"_A\" in col) & (\"_H\" not in col)])))[::-1]]"
   ]
  },
  {
   "cell_type": "code",
   "execution_count": 17,
   "metadata": {
    "collapsed": true
   },
   "outputs": [],
   "source": [
    "home = home.drop(\"TEAM_ID_HOME\",axis=1)\n",
    "away = away.drop(\"TEAM_ID_AWAY\",axis=1)"
   ]
  },
  {
   "cell_type": "code",
   "execution_count": 18,
   "metadata": {
    "collapsed": true
   },
   "outputs": [],
   "source": [
    "home.columns = [\"GAME_ID\",\"GAME_DATE\"]+[column[:-2] for column in home.loc[:,\"TEAM_ID_H\":].columns]\n",
    "away.columns = [\"GAME_ID\",\"GAME_DATE\"]+[column[:-2] for column in away.loc[:,\"TEAM_ID_A\":].columns]"
   ]
  },
  {
   "cell_type": "code",
   "execution_count": 19,
   "metadata": {
    "collapsed": true
   },
   "outputs": [],
   "source": [
    "team = pd.concat([home,away],axis=0).reset_index(drop=True)"
   ]
  },
  {
   "cell_type": "code",
   "execution_count": 20,
   "metadata": {
    "collapsed": true
   },
   "outputs": [],
   "source": [
    "team = team.sort_values(\"GAME_DATE\").reset_index(drop=True)"
   ]
  },
  {
   "cell_type": "markdown",
   "metadata": {},
   "source": [
    "# query data"
   ]
  },
  {
   "cell_type": "code",
   "execution_count": 21,
   "metadata": {},
   "outputs": [
    {
     "data": {
      "text/html": [
       "<div>\n",
       "<style scoped>\n",
       "    .dataframe tbody tr th:only-of-type {\n",
       "        vertical-align: middle;\n",
       "    }\n",
       "\n",
       "    .dataframe tbody tr th {\n",
       "        vertical-align: top;\n",
       "    }\n",
       "\n",
       "    .dataframe thead th {\n",
       "        text-align: right;\n",
       "    }\n",
       "</style>\n",
       "<table border=\"1\" class=\"dataframe\">\n",
       "  <thead>\n",
       "    <tr style=\"text-align: right;\">\n",
       "      <th></th>\n",
       "      <th>GAME_DATE</th>\n",
       "      <th>HOME_TEAM</th>\n",
       "      <th>AWAY_TEAM</th>\n",
       "      <th>TEAM_ID_HOME</th>\n",
       "      <th>TEAM_ID_AWAY</th>\n",
       "    </tr>\n",
       "  </thead>\n",
       "  <tbody>\n",
       "    <tr>\n",
       "      <th>0</th>\n",
       "      <td>2019-02-04</td>\n",
       "      <td>Brooklyn Nets</td>\n",
       "      <td>Milwaukee Bucks</td>\n",
       "      <td>1610612751</td>\n",
       "      <td>1610612749</td>\n",
       "    </tr>\n",
       "    <tr>\n",
       "      <th>1</th>\n",
       "      <td>2019-02-04</td>\n",
       "      <td>Detroit Pistons</td>\n",
       "      <td>Denver Nuggets</td>\n",
       "      <td>1610612765</td>\n",
       "      <td>1610612743</td>\n",
       "    </tr>\n",
       "    <tr>\n",
       "      <th>2</th>\n",
       "      <td>2019-02-04</td>\n",
       "      <td>New Orleans Pelicans</td>\n",
       "      <td>Indiana Pacers</td>\n",
       "      <td>1610612740</td>\n",
       "      <td>1610612754</td>\n",
       "    </tr>\n",
       "    <tr>\n",
       "      <th>3</th>\n",
       "      <td>2019-02-04</td>\n",
       "      <td>Phoenix Suns</td>\n",
       "      <td>Houston Rockets</td>\n",
       "      <td>1610612756</td>\n",
       "      <td>1610612745</td>\n",
       "    </tr>\n",
       "    <tr>\n",
       "      <th>4</th>\n",
       "      <td>2019-02-04</td>\n",
       "      <td>Sacramento Kings</td>\n",
       "      <td>San Antonio Spurs</td>\n",
       "      <td>1610612758</td>\n",
       "      <td>1610612759</td>\n",
       "    </tr>\n",
       "    <tr>\n",
       "      <th>5</th>\n",
       "      <td>2019-02-04</td>\n",
       "      <td>Washington Wizards</td>\n",
       "      <td>Atlanta Hawks</td>\n",
       "      <td>1610612764</td>\n",
       "      <td>1610612737</td>\n",
       "    </tr>\n",
       "  </tbody>\n",
       "</table>\n",
       "</div>"
      ],
      "text/plain": [
       "    GAME_DATE             HOME_TEAM          AWAY_TEAM TEAM_ID_HOME  \\\n",
       "0  2019-02-04         Brooklyn Nets    Milwaukee Bucks   1610612751   \n",
       "1  2019-02-04       Detroit Pistons     Denver Nuggets   1610612765   \n",
       "2  2019-02-04  New Orleans Pelicans     Indiana Pacers   1610612740   \n",
       "3  2019-02-04          Phoenix Suns    Houston Rockets   1610612756   \n",
       "4  2019-02-04      Sacramento Kings  San Antonio Spurs   1610612758   \n",
       "5  2019-02-04    Washington Wizards      Atlanta Hawks   1610612764   \n",
       "\n",
       "  TEAM_ID_AWAY  \n",
       "0   1610612749  \n",
       "1   1610612743  \n",
       "2   1610612754  \n",
       "3   1610612745  \n",
       "4   1610612759  \n",
       "5   1610612737  "
      ]
     },
     "execution_count": 21,
     "metadata": {},
     "output_type": "execute_result"
    }
   ],
   "source": [
    "df"
   ]
  },
  {
   "cell_type": "code",
   "execution_count": 22,
   "metadata": {
    "collapsed": true
   },
   "outputs": [],
   "source": [
    "team[\"TEAM_ID\"] = team.TEAM_ID.astype(str)"
   ]
  },
  {
   "cell_type": "code",
   "execution_count": 23,
   "metadata": {
    "collapsed": true
   },
   "outputs": [],
   "source": [
    "df = df.set_index(\"TEAM_ID_HOME\")\n",
    "team_h = pd.DataFrame()\n",
    "for t_id in df.index:\n",
    "    team_i = team.loc[team[team.TEAM_ID==t_id].index[-1]:team[team.TEAM_ID==t_id].index[-1],:]\n",
    "    team_i = team_i.drop([\"GAME_ID\",\"GAME_DATE\"],axis=1)\n",
    "    team_i.columns=[\"TEAM_ID_HOME\"]+[\"%s_H\"%col for col in team.loc[:,\"LAST_9_GAME_WL\":].columns]\n",
    "    team_i = team_i.set_index(\"TEAM_ID_HOME\")\n",
    "    team_h = pd.concat([team_h,team_i],axis=0)\n",
    "df = pd.concat([df,team_h],axis=1).reset_index()\n",
    "\n",
    "df = df.set_index(\"TEAM_ID_AWAY\")\n",
    "team_v = pd.DataFrame()\n",
    "for t_id in df.index:\n",
    "    team_i = team.loc[team[team.TEAM_ID==t_id].index[-1]:team[team.TEAM_ID==t_id].index[-1],:]\n",
    "    team_i = team_i.drop([\"GAME_ID\",\"GAME_DATE\"],axis=1)\n",
    "    team_i.columns=[\"TEAM_ID_AWAY\"]+[\"%s_A\"%col for col in team.loc[:,\"LAST_9_GAME_WL\":].columns]\n",
    "    team_i = team_i.set_index(\"TEAM_ID_AWAY\")\n",
    "    team_v = pd.concat([team_v,team_i],axis=0)\n",
    "df = pd.concat([df,team_v],axis=1).reset_index()"
   ]
  },
  {
   "cell_type": "code",
   "execution_count": 24,
   "metadata": {
    "collapsed": true
   },
   "outputs": [],
   "source": [
    "team = pd.read_pickle(\"/Users/chienan/Pycon/github/SportLottery/input/FEATURE_AGG_2012TO2019.pkl\")"
   ]
  },
  {
   "cell_type": "code",
   "execution_count": 25,
   "metadata": {
    "collapsed": true
   },
   "outputs": [],
   "source": [
    "team.drop(list(set(team.columns)-set(df.columns)),axis=1,inplace=True)"
   ]
  },
  {
   "cell_type": "code",
   "execution_count": 26,
   "metadata": {
    "collapsed": true
   },
   "outputs": [],
   "source": [
    "column = pickle.load(open(\"/Users/chienan/Pycon/github/SportLottery/model/classfication_feature-45_columns.pkl\",\"rb\"))"
   ]
  },
  {
   "cell_type": "code",
   "execution_count": 27,
   "metadata": {
    "collapsed": true
   },
   "outputs": [],
   "source": [
    "x_input = df[column]"
   ]
  },
  {
   "cell_type": "code",
   "execution_count": 28,
   "metadata": {
    "collapsed": true
   },
   "outputs": [],
   "source": [
    "model = lgb.Booster(model_file=\"/Users/chienan/Pycon/github/SportLottery/model/classfication_model_feature-45.txt\")"
   ]
  },
  {
   "cell_type": "code",
   "execution_count": 29,
   "metadata": {
    "collapsed": true
   },
   "outputs": [],
   "source": [
    "pred = model.predict(x_input)"
   ]
  },
  {
   "cell_type": "code",
   "execution_count": 30,
   "metadata": {},
   "outputs": [
    {
     "data": {
      "text/plain": [
       "array([0.39044531, 0.37726632, 0.60518065, 0.41341926, 0.47838407,\n",
       "       0.68980421])"
      ]
     },
     "execution_count": 30,
     "metadata": {},
     "output_type": "execute_result"
    }
   ],
   "source": [
    "pred"
   ]
  },
  {
   "cell_type": "code",
   "execution_count": 31,
   "metadata": {},
   "outputs": [
    {
     "data": {
      "text/html": [
       "<div>\n",
       "<style scoped>\n",
       "    .dataframe tbody tr th:only-of-type {\n",
       "        vertical-align: middle;\n",
       "    }\n",
       "\n",
       "    .dataframe tbody tr th {\n",
       "        vertical-align: top;\n",
       "    }\n",
       "\n",
       "    .dataframe thead th {\n",
       "        text-align: right;\n",
       "    }\n",
       "</style>\n",
       "<table border=\"1\" class=\"dataframe\">\n",
       "  <thead>\n",
       "    <tr style=\"text-align: right;\">\n",
       "      <th></th>\n",
       "      <th>TEAM_ID_AWAY</th>\n",
       "      <th>TEAM_ID_HOME</th>\n",
       "      <th>GAME_DATE</th>\n",
       "      <th>HOME_TEAM</th>\n",
       "      <th>AWAY_TEAM</th>\n",
       "      <th>LAST_9_GAME_WL_H</th>\n",
       "      <th>LAST_9_GAME_TOV_H</th>\n",
       "      <th>LAST_9_GAME_STL_H</th>\n",
       "      <th>LAST_9_GAME_REB_H</th>\n",
       "      <th>LAST_9_GAME_PTS_H</th>\n",
       "      <th>...</th>\n",
       "      <th>LAST_10_GAME_FTA_A</th>\n",
       "      <th>LAST_10_GAME_FG_PCT_A</th>\n",
       "      <th>LAST_10_GAME_FGM_A</th>\n",
       "      <th>LAST_10_GAME_FGA_A</th>\n",
       "      <th>LAST_10_GAME_FG3_PCT_A</th>\n",
       "      <th>LAST_10_GAME_FG3M_A</th>\n",
       "      <th>LAST_10_GAME_FG3A_A</th>\n",
       "      <th>LAST_10_GAME_DREB_A</th>\n",
       "      <th>LAST_10_GAME_BLK_A</th>\n",
       "      <th>LAST_10_GAME_AST_A</th>\n",
       "    </tr>\n",
       "  </thead>\n",
       "  <tbody>\n",
       "    <tr>\n",
       "      <th>0</th>\n",
       "      <td>1610612749</td>\n",
       "      <td>1610612751</td>\n",
       "      <td>2019-02-04</td>\n",
       "      <td>Brooklyn Nets</td>\n",
       "      <td>Milwaukee Bucks</td>\n",
       "      <td>7.0</td>\n",
       "      <td>14.555556</td>\n",
       "      <td>6.777778</td>\n",
       "      <td>50.111111</td>\n",
       "      <td>117.444444</td>\n",
       "      <td>...</td>\n",
       "      <td>20.5</td>\n",
       "      <td>0.4897</td>\n",
       "      <td>43.2</td>\n",
       "      <td>88.3</td>\n",
       "      <td>0.3629</td>\n",
       "      <td>12.5</td>\n",
       "      <td>34.3</td>\n",
       "      <td>39.6</td>\n",
       "      <td>6.1</td>\n",
       "      <td>25.1</td>\n",
       "    </tr>\n",
       "    <tr>\n",
       "      <th>1</th>\n",
       "      <td>1610612743</td>\n",
       "      <td>1610612765</td>\n",
       "      <td>2019-02-04</td>\n",
       "      <td>Detroit Pistons</td>\n",
       "      <td>Denver Nuggets</td>\n",
       "      <td>4.0</td>\n",
       "      <td>11.555556</td>\n",
       "      <td>6.555556</td>\n",
       "      <td>44.333333</td>\n",
       "      <td>99.666667</td>\n",
       "      <td>...</td>\n",
       "      <td>20.1</td>\n",
       "      <td>0.5118</td>\n",
       "      <td>45.4</td>\n",
       "      <td>88.9</td>\n",
       "      <td>0.3746</td>\n",
       "      <td>12.0</td>\n",
       "      <td>31.7</td>\n",
       "      <td>33.1</td>\n",
       "      <td>3.4</td>\n",
       "      <td>27.6</td>\n",
       "    </tr>\n",
       "    <tr>\n",
       "      <th>2</th>\n",
       "      <td>1610612754</td>\n",
       "      <td>1610612740</td>\n",
       "      <td>2019-02-04</td>\n",
       "      <td>New Orleans Pelicans</td>\n",
       "      <td>Indiana Pacers</td>\n",
       "      <td>3.0</td>\n",
       "      <td>12.222222</td>\n",
       "      <td>6.000000</td>\n",
       "      <td>47.111111</td>\n",
       "      <td>113.555556</td>\n",
       "      <td>...</td>\n",
       "      <td>20.0</td>\n",
       "      <td>0.4541</td>\n",
       "      <td>40.9</td>\n",
       "      <td>90.0</td>\n",
       "      <td>0.3684</td>\n",
       "      <td>9.8</td>\n",
       "      <td>26.4</td>\n",
       "      <td>34.2</td>\n",
       "      <td>4.4</td>\n",
       "      <td>27.0</td>\n",
       "    </tr>\n",
       "    <tr>\n",
       "      <th>3</th>\n",
       "      <td>1610612745</td>\n",
       "      <td>1610612756</td>\n",
       "      <td>2019-02-04</td>\n",
       "      <td>Phoenix Suns</td>\n",
       "      <td>Houston Rockets</td>\n",
       "      <td>0.0</td>\n",
       "      <td>15.000000</td>\n",
       "      <td>7.555556</td>\n",
       "      <td>37.666667</td>\n",
       "      <td>105.888889</td>\n",
       "      <td>...</td>\n",
       "      <td>28.2</td>\n",
       "      <td>0.4353</td>\n",
       "      <td>39.4</td>\n",
       "      <td>90.8</td>\n",
       "      <td>0.3075</td>\n",
       "      <td>15.5</td>\n",
       "      <td>49.6</td>\n",
       "      <td>29.6</td>\n",
       "      <td>5.2</td>\n",
       "      <td>18.4</td>\n",
       "    </tr>\n",
       "    <tr>\n",
       "      <th>4</th>\n",
       "      <td>1610612759</td>\n",
       "      <td>1610612758</td>\n",
       "      <td>2019-02-04</td>\n",
       "      <td>Sacramento Kings</td>\n",
       "      <td>San Antonio Spurs</td>\n",
       "      <td>5.0</td>\n",
       "      <td>13.666667</td>\n",
       "      <td>8.000000</td>\n",
       "      <td>44.888889</td>\n",
       "      <td>106.444444</td>\n",
       "      <td>...</td>\n",
       "      <td>20.0</td>\n",
       "      <td>0.4908</td>\n",
       "      <td>43.3</td>\n",
       "      <td>88.6</td>\n",
       "      <td>0.4200</td>\n",
       "      <td>11.6</td>\n",
       "      <td>27.6</td>\n",
       "      <td>34.4</td>\n",
       "      <td>5.1</td>\n",
       "      <td>25.0</td>\n",
       "    </tr>\n",
       "    <tr>\n",
       "      <th>5</th>\n",
       "      <td>1610612737</td>\n",
       "      <td>1610612764</td>\n",
       "      <td>2019-02-04</td>\n",
       "      <td>Washington Wizards</td>\n",
       "      <td>Atlanta Hawks</td>\n",
       "      <td>5.0</td>\n",
       "      <td>12.555556</td>\n",
       "      <td>8.888889</td>\n",
       "      <td>41.444444</td>\n",
       "      <td>111.666667</td>\n",
       "      <td>...</td>\n",
       "      <td>22.9</td>\n",
       "      <td>0.4775</td>\n",
       "      <td>42.7</td>\n",
       "      <td>89.8</td>\n",
       "      <td>0.3560</td>\n",
       "      <td>13.0</td>\n",
       "      <td>37.0</td>\n",
       "      <td>32.0</td>\n",
       "      <td>4.4</td>\n",
       "      <td>26.3</td>\n",
       "    </tr>\n",
       "  </tbody>\n",
       "</table>\n",
       "<p>6 rows × 725 columns</p>\n",
       "</div>"
      ],
      "text/plain": [
       "  TEAM_ID_AWAY TEAM_ID_HOME   GAME_DATE             HOME_TEAM  \\\n",
       "0   1610612749   1610612751  2019-02-04         Brooklyn Nets   \n",
       "1   1610612743   1610612765  2019-02-04       Detroit Pistons   \n",
       "2   1610612754   1610612740  2019-02-04  New Orleans Pelicans   \n",
       "3   1610612745   1610612756  2019-02-04          Phoenix Suns   \n",
       "4   1610612759   1610612758  2019-02-04      Sacramento Kings   \n",
       "5   1610612737   1610612764  2019-02-04    Washington Wizards   \n",
       "\n",
       "           AWAY_TEAM  LAST_9_GAME_WL_H  LAST_9_GAME_TOV_H  LAST_9_GAME_STL_H  \\\n",
       "0    Milwaukee Bucks               7.0          14.555556           6.777778   \n",
       "1     Denver Nuggets               4.0          11.555556           6.555556   \n",
       "2     Indiana Pacers               3.0          12.222222           6.000000   \n",
       "3    Houston Rockets               0.0          15.000000           7.555556   \n",
       "4  San Antonio Spurs               5.0          13.666667           8.000000   \n",
       "5      Atlanta Hawks               5.0          12.555556           8.888889   \n",
       "\n",
       "   LAST_9_GAME_REB_H  LAST_9_GAME_PTS_H         ...          \\\n",
       "0          50.111111         117.444444         ...           \n",
       "1          44.333333          99.666667         ...           \n",
       "2          47.111111         113.555556         ...           \n",
       "3          37.666667         105.888889         ...           \n",
       "4          44.888889         106.444444         ...           \n",
       "5          41.444444         111.666667         ...           \n",
       "\n",
       "   LAST_10_GAME_FTA_A  LAST_10_GAME_FG_PCT_A  LAST_10_GAME_FGM_A  \\\n",
       "0                20.5                 0.4897                43.2   \n",
       "1                20.1                 0.5118                45.4   \n",
       "2                20.0                 0.4541                40.9   \n",
       "3                28.2                 0.4353                39.4   \n",
       "4                20.0                 0.4908                43.3   \n",
       "5                22.9                 0.4775                42.7   \n",
       "\n",
       "   LAST_10_GAME_FGA_A  LAST_10_GAME_FG3_PCT_A  LAST_10_GAME_FG3M_A  \\\n",
       "0                88.3                  0.3629                 12.5   \n",
       "1                88.9                  0.3746                 12.0   \n",
       "2                90.0                  0.3684                  9.8   \n",
       "3                90.8                  0.3075                 15.5   \n",
       "4                88.6                  0.4200                 11.6   \n",
       "5                89.8                  0.3560                 13.0   \n",
       "\n",
       "   LAST_10_GAME_FG3A_A  LAST_10_GAME_DREB_A  LAST_10_GAME_BLK_A  \\\n",
       "0                 34.3                 39.6                 6.1   \n",
       "1                 31.7                 33.1                 3.4   \n",
       "2                 26.4                 34.2                 4.4   \n",
       "3                 49.6                 29.6                 5.2   \n",
       "4                 27.6                 34.4                 5.1   \n",
       "5                 37.0                 32.0                 4.4   \n",
       "\n",
       "   LAST_10_GAME_AST_A  \n",
       "0                25.1  \n",
       "1                27.6  \n",
       "2                27.0  \n",
       "3                18.4  \n",
       "4                25.0  \n",
       "5                26.3  \n",
       "\n",
       "[6 rows x 725 columns]"
      ]
     },
     "execution_count": 31,
     "metadata": {},
     "output_type": "execute_result"
    }
   ],
   "source": [
    "df"
   ]
  },
  {
   "cell_type": "code",
   "execution_count": 32,
   "metadata": {},
   "outputs": [
    {
     "data": {
      "text/plain": [
       "array([1.28846954, 0.98089244, 0.        , 1.55032224, 0.93284894,\n",
       "       0.86225526])"
      ]
     },
     "execution_count": 32,
     "metadata": {},
     "output_type": "execute_result"
    }
   ],
   "source": [
    "#home\n",
    "home_exp = np.zeros(pred.shape)\n",
    "home_exp[1] = 2.6\n",
    "home_exp[5] = 1.25\n",
    "home_exp[0] = 3.3\n",
    "home_exp[3] = 3.75\n",
    "home_exp[4] = 1.95\n",
    "home_exp*pred"
   ]
  },
  {
   "cell_type": "code",
   "execution_count": 34,
   "metadata": {},
   "outputs": [
    {
     "data": {
      "text/plain": [
       "array([0.39044531, 0.37726632, 0.60518065, 0.41341926, 0.47838407,\n",
       "       0.68980421])"
      ]
     },
     "execution_count": 34,
     "metadata": {},
     "output_type": "execute_result"
    }
   ],
   "source": [
    "pred"
   ]
  },
  {
   "cell_type": "code",
   "execution_count": 33,
   "metadata": {},
   "outputs": [
    {
     "data": {
      "text/plain": [
       "array([0.71927453, 0.80955378, 0.        , 0.65697043, 0.80850469,\n",
       "       0.884058  ])"
      ]
     },
     "execution_count": 33,
     "metadata": {},
     "output_type": "execute_result"
    }
   ],
   "source": [
    "#away\n",
    "away_exp = np.zeros(pred.shape)\n",
    "away_exp[1] = 1.3\n",
    "away_exp[5] = 2.85\n",
    "away_exp[0] = 1.18\n",
    "away_exp[3] = 1.12\n",
    "away_exp[4] = 1.55\n",
    "away_exp*(1-pred)"
   ]
  },
  {
   "cell_type": "code",
   "execution_count": 40,
   "metadata": {},
   "outputs": [
    {
     "data": {
      "text/plain": [
       "0.13019182316102715"
      ]
     },
     "execution_count": 40,
     "metadata": {},
     "output_type": "execute_result"
    }
   ],
   "source": [
    "pred[7]*pred[6]*2.08"
   ]
  },
  {
   "cell_type": "code",
   "execution_count": 41,
   "metadata": {},
   "outputs": [
    {
     "data": {
      "text/plain": [
       "0.34620549843183906"
      ]
     },
     "execution_count": 41,
     "metadata": {},
     "output_type": "execute_result"
    }
   ],
   "source": [
    "pred[1]*pred[6]*3.19"
   ]
  },
  {
   "cell_type": "code",
   "execution_count": 42,
   "metadata": {},
   "outputs": [
    {
     "data": {
      "text/plain": [
       "0.5895458327208245"
      ]
     },
     "execution_count": 42,
     "metadata": {},
     "output_type": "execute_result"
    }
   ],
   "source": [
    "pred[1]*pred[7]*3.92"
   ]
  },
  {
   "cell_type": "code",
   "execution_count": null,
   "metadata": {
    "collapsed": true
   },
   "outputs": [],
   "source": []
  }
 ],
 "metadata": {
  "kernelspec": {
   "display_name": "Python 3",
   "language": "python",
   "name": "python3"
  },
  "language_info": {
   "codemirror_mode": {
    "name": "ipython",
    "version": 3
   },
   "file_extension": ".py",
   "mimetype": "text/x-python",
   "name": "python",
   "nbconvert_exporter": "python",
   "pygments_lexer": "ipython3",
   "version": "3.6.2"
  }
 },
 "nbformat": 4,
 "nbformat_minor": 2
}
