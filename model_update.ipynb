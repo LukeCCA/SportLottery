{
 "cells": [
  {
   "cell_type": "code",
   "execution_count": 1,
   "metadata": {
    "collapsed": true
   },
   "outputs": [],
   "source": [
    "import numpy as np\n",
    "import pandas as pd\n",
    "import gc\n",
    "import time\n",
    "import lightgbm as lgb\n",
    "import matplotlib.pyplot as plt\n",
    "import pickle"
   ]
  },
  {
   "cell_type": "code",
   "execution_count": 2,
   "metadata": {
    "collapsed": true
   },
   "outputs": [],
   "source": [
    "df = pd.read_pickle(\"/Users/chienan/Pycon/github/SportLottery/input/FEATURE_AGG_2012TO2019.pkl\")"
   ]
  },
  {
   "cell_type": "code",
   "execution_count": 3,
   "metadata": {},
   "outputs": [
    {
     "data": {
      "text/plain": [
       "['GAME_ID',\n",
       " 'TEAM_ID_HOME',\n",
       " 'TEAM_ID_AWAY',\n",
       " 'PLUS_MINUS',\n",
       " 'GAME_DATE',\n",
       " 'TEAM_ID_H',\n",
       " 'TEAM_ID_A']"
      ]
     },
     "execution_count": 3,
     "metadata": {},
     "output_type": "execute_result"
    }
   ],
   "source": [
    "[col for col in df.columns if \"LAST_\" not in col]"
   ]
  },
  {
   "cell_type": "code",
   "execution_count": 4,
   "metadata": {
    "scrolled": true
   },
   "outputs": [
    {
     "data": {
      "text/plain": [
       "362"
      ]
     },
     "execution_count": 4,
     "metadata": {},
     "output_type": "execute_result"
    }
   ],
   "source": [
    "len([col for col in df.columns if \"_H\" in col])"
   ]
  },
  {
   "cell_type": "code",
   "execution_count": 5,
   "metadata": {},
   "outputs": [
    {
     "data": {
      "text/plain": [
       "362"
      ]
     },
     "execution_count": 5,
     "metadata": {},
     "output_type": "execute_result"
    }
   ],
   "source": [
    "len([col for col in df.columns if (\"_A\" in col) & (\"_H\" not in col)])"
   ]
  },
  {
   "cell_type": "code",
   "execution_count": 6,
   "metadata": {},
   "outputs": [
    {
     "data": {
      "text/plain": [
       "{'GAME_DATE', 'GAME_ID', 'PLUS_MINUS'}"
      ]
     },
     "execution_count": 6,
     "metadata": {},
     "output_type": "execute_result"
    }
   ],
   "source": [
    "set(df.columns) - set([col for col in df.columns if \"_H\" in col]) - set([col for col in df.columns if (\"_A\" in col) & (\"_H\" not in col)])"
   ]
  },
  {
   "cell_type": "code",
   "execution_count": 7,
   "metadata": {
    "collapsed": true
   },
   "outputs": [],
   "source": [
    "df[\"TEAM_ID_AWAY\"] = df[\"TEAM_ID_AWAY\"].astype(\"category\")\n",
    "df[\"TEAM_ID_HOME\"] = df[\"TEAM_ID_HOME\"].astype(\"category\")"
   ]
  },
  {
   "cell_type": "code",
   "execution_count": 8,
   "metadata": {
    "collapsed": true
   },
   "outputs": [],
   "source": [
    "column = [\"_\".join(col.split(\"_\")[2:-1]) for col in df.columns if (\"LAST_1_\" in col)&(\"_H\" in col)]"
   ]
  },
  {
   "cell_type": "code",
   "execution_count": 9,
   "metadata": {
    "collapsed": true
   },
   "outputs": [],
   "source": [
    "df.loc[df[df.loc[:,\"PLUS_MINUS\"]>0].index,\"PLUS_MINUS\"] = 1\n",
    "df.loc[df[df.loc[:,\"PLUS_MINUS\"]<0].index,\"PLUS_MINUS\"] = 0"
   ]
  },
  {
   "cell_type": "code",
   "execution_count": 10,
   "metadata": {
    "collapsed": true
   },
   "outputs": [],
   "source": [
    "new_col = []\n",
    "for col_i in column:\n",
    "    new_col += [col for col in df.columns if col_i in col]"
   ]
  },
  {
   "cell_type": "code",
   "execution_count": 11,
   "metadata": {
    "collapsed": true
   },
   "outputs": [],
   "source": [
    "new_col = list(set(df.columns)-set(new_col))+list(new_col)"
   ]
  },
  {
   "cell_type": "code",
   "execution_count": 12,
   "metadata": {},
   "outputs": [
    {
     "data": {
      "text/plain": [
       "727"
      ]
     },
     "execution_count": 12,
     "metadata": {},
     "output_type": "execute_result"
    }
   ],
   "source": [
    "len(set(new_col))"
   ]
  },
  {
   "cell_type": "code",
   "execution_count": 13,
   "metadata": {
    "collapsed": true
   },
   "outputs": [],
   "source": [
    "df = df[new_col]"
   ]
  },
  {
   "cell_type": "code",
   "execution_count": 14,
   "metadata": {
    "collapsed": true
   },
   "outputs": [],
   "source": [
    "use_col = pickle.load(open(\"/Users/chienan/Pycon/github/SportLottery/model/classfication_feature-45_columns.pkl\",\"rb\"))"
   ]
  },
  {
   "cell_type": "code",
   "execution_count": 15,
   "metadata": {
    "collapsed": true
   },
   "outputs": [],
   "source": [
    "x_train = df.loc[:, use_col]\n",
    "y_train = df.loc[:, \"PLUS_MINUS\"]"
   ]
  },
  {
   "cell_type": "code",
   "execution_count": 16,
   "metadata": {
    "collapsed": true
   },
   "outputs": [],
   "source": [
    "train_dataset = lgb.Dataset(x_train, y_train)"
   ]
  },
  {
   "cell_type": "code",
   "execution_count": 17,
   "metadata": {
    "collapsed": true
   },
   "outputs": [],
   "source": [
    "best_params = pickle.load( open(\"/Users/chienan/Pycon/github/SportLottery/model/model_feature-45_params.pkl\",\"rb\"))"
   ]
  },
  {
   "cell_type": "code",
   "execution_count": 18,
   "metadata": {
    "collapsed": true
   },
   "outputs": [],
   "source": [
    "best_params.update({'num_iterations': 93, \n",
    "                    \"metric\": \"binary_error\",\n",
    "                    \"objective\": \"binary\"})\n",
    "evals_result={}"
   ]
  },
  {
   "cell_type": "code",
   "execution_count": 19,
   "metadata": {},
   "outputs": [
    {
     "data": {
      "text/plain": [
       "{'bagging_fraction': 0.8843237532597547,\n",
       " 'early_stopping_round': 100,\n",
       " 'feature_fraction': 0.3511957417701298,\n",
       " 'lambda_l1': 2.86312666321977,\n",
       " 'lambda_l2': 0.8281471449920853,\n",
       " 'learning_rate': 0.04583145032209364,\n",
       " 'max_depth': 6,\n",
       " 'metric': 'binary_error',\n",
       " 'min_child_weight': 34.58297582508912,\n",
       " 'min_split_gain': 0.03766475721581549,\n",
       " 'num_iterations': 93,\n",
       " 'num_leaves': 34,\n",
       " 'objective': 'binary'}"
      ]
     },
     "execution_count": 19,
     "metadata": {},
     "output_type": "execute_result"
    }
   ],
   "source": [
    "best_params"
   ]
  },
  {
   "cell_type": "code",
   "execution_count": 20,
   "metadata": {},
   "outputs": [
    {
     "name": "stdout",
     "output_type": "stream",
     "text": [
      "start training...\n",
      "Training until validation scores don't improve for 100 rounds.\n"
     ]
    },
    {
     "name": "stderr",
     "output_type": "stream",
     "text": [
      "/Users/chienan/anaconda2/envs/python3/lib/python3.6/site-packages/lightgbm/engine.py:102: UserWarning: Found `num_iterations` in params. Will use it instead of argument\n",
      "  warnings.warn(\"Found `{}` in params. Will use it instead of argument\".format(alias))\n",
      "/Users/chienan/anaconda2/envs/python3/lib/python3.6/site-packages/lightgbm/engine.py:107: UserWarning: Found `early_stopping_round` in params. Will use it instead of argument\n",
      "  warnings.warn(\"Found `{}` in params. Will use it instead of argument\".format(alias))\n"
     ]
    },
    {
     "name": "stdout",
     "output_type": "stream",
     "text": [
      "[20]\ttraining's binary_error: 0.323549\n",
      "[40]\ttraining's binary_error: 0.302438\n",
      "[60]\ttraining's binary_error: 0.288666\n",
      "[80]\ttraining's binary_error: 0.277263\n",
      "Did not meet early stopping. Best iteration is:\n",
      "[92]\ttraining's binary_error: 0.272522\n",
      "CPU times: user 876 ms, sys: 690 ms, total: 1.57 s\n",
      "Wall time: 645 ms\n"
     ]
    }
   ],
   "source": [
    "%%time \n",
    "print(\"start training...\")\n",
    "model = lgb.train(train_set=train_dataset,\n",
    "                  valid_sets=[train_dataset] ,\n",
    "                  verbose_eval=20,\n",
    "                  params=best_params,\n",
    "                  evals_result=evals_result)"
   ]
  },
  {
   "cell_type": "code",
   "execution_count": 21,
   "metadata": {
    "collapsed": true
   },
   "outputs": [],
   "source": [
    "model.save_model('/Users/chienan/Pycon/github/SportLottery/model/classfication_model_feature-45.txt')"
   ]
  },
  {
   "cell_type": "code",
   "execution_count": null,
   "metadata": {
    "collapsed": true
   },
   "outputs": [],
   "source": []
  }
 ],
 "metadata": {
  "kernelspec": {
   "display_name": "Python 3",
   "language": "python",
   "name": "python3"
  },
  "language_info": {
   "codemirror_mode": {
    "name": "ipython",
    "version": 3
   },
   "file_extension": ".py",
   "mimetype": "text/x-python",
   "name": "python",
   "nbconvert_exporter": "python",
   "pygments_lexer": "ipython3",
   "version": "3.6.2"
  }
 },
 "nbformat": 4,
 "nbformat_minor": 2
}
