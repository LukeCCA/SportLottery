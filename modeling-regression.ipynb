{
 "cells": [
  {
   "cell_type": "code",
   "execution_count": 1,
   "metadata": {
    "collapsed": true
   },
   "outputs": [],
   "source": [
    "import numpy as np\n",
    "import pandas as pd\n",
    "import gc\n",
    "import time\n",
    "import lightgbm as lgb\n",
    "import matplotlib.pyplot as plt\n",
    "from bayes_opt import BayesianOptimization"
   ]
  },
  {
   "cell_type": "code",
   "execution_count": 2,
   "metadata": {
    "collapsed": true
   },
   "outputs": [],
   "source": [
    "df = pd.read_pickle(\"/Users/chienan/Pycon/github/SportLottery/input/FEATURE_AGG_2012TO2019.pkl\")"
   ]
  },
  {
   "cell_type": "code",
   "execution_count": 3,
   "metadata": {},
   "outputs": [
    {
     "data": {
      "text/plain": [
       "['GAME_ID',\n",
       " 'TEAM_ID_HOME',\n",
       " 'TEAM_ID_AWAY',\n",
       " 'PLUS_MINUS',\n",
       " 'GAME_DATE',\n",
       " 'TEAM_ID_H',\n",
       " 'TEAM_ID_A']"
      ]
     },
     "execution_count": 3,
     "metadata": {},
     "output_type": "execute_result"
    }
   ],
   "source": [
    "[col for col in df.columns if \"LAST_\" not in col]"
   ]
  },
  {
   "cell_type": "code",
   "execution_count": 4,
   "metadata": {
    "scrolled": true
   },
   "outputs": [
    {
     "data": {
      "text/plain": [
       "362"
      ]
     },
     "execution_count": 4,
     "metadata": {},
     "output_type": "execute_result"
    }
   ],
   "source": [
    "len([col for col in df.columns if \"_H\" in col])"
   ]
  },
  {
   "cell_type": "code",
   "execution_count": 5,
   "metadata": {},
   "outputs": [
    {
     "data": {
      "text/plain": [
       "362"
      ]
     },
     "execution_count": 5,
     "metadata": {},
     "output_type": "execute_result"
    }
   ],
   "source": [
    "len([col for col in df.columns if (\"_A\" in col) & (\"_H\" not in col)])"
   ]
  },
  {
   "cell_type": "code",
   "execution_count": 6,
   "metadata": {},
   "outputs": [
    {
     "data": {
      "text/plain": [
       "{'GAME_DATE', 'GAME_ID', 'PLUS_MINUS'}"
      ]
     },
     "execution_count": 6,
     "metadata": {},
     "output_type": "execute_result"
    }
   ],
   "source": [
    "set(df.columns) - set([col for col in df.columns if \"_H\" in col]) - set([col for col in df.columns if (\"_A\" in col) & (\"_H\" not in col)])"
   ]
  },
  {
   "cell_type": "code",
   "execution_count": 7,
   "metadata": {
    "collapsed": true
   },
   "outputs": [],
   "source": [
    "df[\"TEAM_ID_AWAY\"] = df[\"TEAM_ID_AWAY\"].astype(\"category\")\n",
    "df[\"TEAM_ID_HOME\"] = df[\"TEAM_ID_HOME\"].astype(\"category\")"
   ]
  },
  {
   "cell_type": "code",
   "execution_count": 8,
   "metadata": {},
   "outputs": [
    {
     "data": {
      "text/plain": [
       "(array([-11.,   4.,  11.]), 2.690338713343942)"
      ]
     },
     "execution_count": 8,
     "metadata": {},
     "output_type": "execute_result"
    }
   ],
   "source": [
    "np.percentile(df.loc[:, \"PLUS_MINUS\"].values, [15, 50, 75]), np.mean(df.loc[:, \"PLUS_MINUS\"].values)"
   ]
  },
  {
   "cell_type": "code",
   "execution_count": 9,
   "metadata": {
    "collapsed": true
   },
   "outputs": [],
   "source": [
    "column = [\"_\".join(col.split(\"_\")[2:-1]) for col in df.columns if (\"LAST_1_\" in col)&(\"_H\" in col)]"
   ]
  },
  {
   "cell_type": "code",
   "execution_count": null,
   "metadata": {
    "collapsed": true
   },
   "outputs": [],
   "source": [
    "# 修改極大或極小\n",
    "df.loc[df[df.loc[:,\"PLUS_MINUS\"]>=11].index,\"PLUS_MINUS\"] = 11\n",
    "df.loc[df[df.loc[:,\"PLUS_MINUS\"]<=-11].index,\"PLUS_MINUS\"] = -11"
   ]
  },
  {
   "cell_type": "code",
   "execution_count": 10,
   "metadata": {
    "collapsed": true
   },
   "outputs": [],
   "source": [
    "new_col = []\n",
    "for col_i in column:\n",
    "    new_col += [col for col in df.columns if col_i in col]"
   ]
  },
  {
   "cell_type": "code",
   "execution_count": 11,
   "metadata": {
    "collapsed": true
   },
   "outputs": [],
   "source": [
    "new_col = list(set(df.columns)-set(new_col))+list(new_col)"
   ]
  },
  {
   "cell_type": "code",
   "execution_count": 12,
   "metadata": {},
   "outputs": [
    {
     "data": {
      "text/plain": [
       "727"
      ]
     },
     "execution_count": 12,
     "metadata": {},
     "output_type": "execute_result"
    }
   ],
   "source": [
    "len(set(new_col))"
   ]
  },
  {
   "cell_type": "code",
   "execution_count": 13,
   "metadata": {
    "collapsed": true
   },
   "outputs": [],
   "source": [
    "df = df[new_col]"
   ]
  },
  {
   "cell_type": "code",
   "execution_count": 14,
   "metadata": {},
   "outputs": [
    {
     "data": {
      "text/html": [
       "<div>\n",
       "<style scoped>\n",
       "    .dataframe tbody tr th:only-of-type {\n",
       "        vertical-align: middle;\n",
       "    }\n",
       "\n",
       "    .dataframe tbody tr th {\n",
       "        vertical-align: top;\n",
       "    }\n",
       "\n",
       "    .dataframe thead th {\n",
       "        text-align: right;\n",
       "    }\n",
       "</style>\n",
       "<table border=\"1\" class=\"dataframe\">\n",
       "  <thead>\n",
       "    <tr style=\"text-align: right;\">\n",
       "      <th></th>\n",
       "      <th>PLUS_MINUS</th>\n",
       "      <th>TEAM_ID_AWAY</th>\n",
       "      <th>TEAM_ID_A</th>\n",
       "      <th>GAME_ID</th>\n",
       "      <th>GAME_DATE</th>\n",
       "      <th>TEAM_ID_H</th>\n",
       "      <th>TEAM_ID_HOME</th>\n",
       "      <th>LAST_1_GAME_FGM_H</th>\n",
       "      <th>LAST_2_GAME_FGM_H</th>\n",
       "      <th>LAST_3_GAME_FGM_H</th>\n",
       "      <th>...</th>\n",
       "      <th>LAST_1_GAME_PLAYER_PIE_A</th>\n",
       "      <th>LAST_2_GAME_PLAYER_PIE_A</th>\n",
       "      <th>LAST_3_GAME_PLAYER_PIE_A</th>\n",
       "      <th>LAST_4_GAME_PLAYER_PIE_A</th>\n",
       "      <th>LAST_5_GAME_PLAYER_PIE_A</th>\n",
       "      <th>LAST_6_GAME_PLAYER_PIE_A</th>\n",
       "      <th>LAST_7_GAME_PLAYER_PIE_A</th>\n",
       "      <th>LAST_8_GAME_PLAYER_PIE_A</th>\n",
       "      <th>LAST_9_GAME_PLAYER_PIE_A</th>\n",
       "      <th>LAST_10_GAME_PLAYER_PIE_A</th>\n",
       "    </tr>\n",
       "  </thead>\n",
       "  <tbody>\n",
       "    <tr>\n",
       "      <th>0</th>\n",
       "      <td>-39.0</td>\n",
       "      <td>1610612741</td>\n",
       "      <td>1610612741</td>\n",
       "      <td>0021100222</td>\n",
       "      <td>2012-01-20</td>\n",
       "      <td>1610612739</td>\n",
       "      <td>1610612739</td>\n",
       "      <td>35.0</td>\n",
       "      <td>37.0</td>\n",
       "      <td>35.333333</td>\n",
       "      <td>...</td>\n",
       "      <td>0.099561</td>\n",
       "      <td>0.098817</td>\n",
       "      <td>0.088188</td>\n",
       "      <td>0.102924</td>\n",
       "      <td>0.100449</td>\n",
       "      <td>0.108826</td>\n",
       "      <td>0.090536</td>\n",
       "      <td>0.088891</td>\n",
       "      <td>0.089388</td>\n",
       "      <td>0.085876</td>\n",
       "    </tr>\n",
       "    <tr>\n",
       "      <th>1</th>\n",
       "      <td>15.0</td>\n",
       "      <td>1610612751</td>\n",
       "      <td>1610612751</td>\n",
       "      <td>0021100244</td>\n",
       "      <td>2012-01-23</td>\n",
       "      <td>1610612741</td>\n",
       "      <td>1610612741</td>\n",
       "      <td>40.0</td>\n",
       "      <td>43.0</td>\n",
       "      <td>44.333333</td>\n",
       "      <td>...</td>\n",
       "      <td>0.090257</td>\n",
       "      <td>0.091350</td>\n",
       "      <td>0.081796</td>\n",
       "      <td>0.077719</td>\n",
       "      <td>0.077584</td>\n",
       "      <td>0.078040</td>\n",
       "      <td>0.074292</td>\n",
       "      <td>0.072650</td>\n",
       "      <td>0.073911</td>\n",
       "      <td>0.069259</td>\n",
       "    </tr>\n",
       "    <tr>\n",
       "      <th>2</th>\n",
       "      <td>12.0</td>\n",
       "      <td>1610612758</td>\n",
       "      <td>1610612758</td>\n",
       "      <td>0021100250</td>\n",
       "      <td>2012-01-23</td>\n",
       "      <td>1610612757</td>\n",
       "      <td>1610612757</td>\n",
       "      <td>34.0</td>\n",
       "      <td>33.5</td>\n",
       "      <td>34.000000</td>\n",
       "      <td>...</td>\n",
       "      <td>0.091012</td>\n",
       "      <td>0.083085</td>\n",
       "      <td>0.073050</td>\n",
       "      <td>0.060630</td>\n",
       "      <td>0.063579</td>\n",
       "      <td>0.061998</td>\n",
       "      <td>0.064544</td>\n",
       "      <td>0.067435</td>\n",
       "      <td>0.067592</td>\n",
       "      <td>0.065412</td>\n",
       "    </tr>\n",
       "    <tr>\n",
       "      <th>3</th>\n",
       "      <td>7.0</td>\n",
       "      <td>1610612739</td>\n",
       "      <td>1610612739</td>\n",
       "      <td>0021100254</td>\n",
       "      <td>2012-01-24</td>\n",
       "      <td>1610612748</td>\n",
       "      <td>1610612748</td>\n",
       "      <td>25.0</td>\n",
       "      <td>34.5</td>\n",
       "      <td>35.666667</td>\n",
       "      <td>...</td>\n",
       "      <td>0.044851</td>\n",
       "      <td>0.044384</td>\n",
       "      <td>0.059031</td>\n",
       "      <td>0.067610</td>\n",
       "      <td>0.071996</td>\n",
       "      <td>0.067467</td>\n",
       "      <td>0.069797</td>\n",
       "      <td>0.076624</td>\n",
       "      <td>0.075287</td>\n",
       "      <td>0.078071</td>\n",
       "    </tr>\n",
       "    <tr>\n",
       "      <th>4</th>\n",
       "      <td>-3.0</td>\n",
       "      <td>1610612761</td>\n",
       "      <td>1610612761</td>\n",
       "      <td>0021100255</td>\n",
       "      <td>2012-01-24</td>\n",
       "      <td>1610612756</td>\n",
       "      <td>1610612756</td>\n",
       "      <td>31.0</td>\n",
       "      <td>31.0</td>\n",
       "      <td>32.666667</td>\n",
       "      <td>...</td>\n",
       "      <td>0.105249</td>\n",
       "      <td>0.091096</td>\n",
       "      <td>0.099990</td>\n",
       "      <td>0.089473</td>\n",
       "      <td>0.099120</td>\n",
       "      <td>0.101186</td>\n",
       "      <td>0.099608</td>\n",
       "      <td>0.100829</td>\n",
       "      <td>0.093281</td>\n",
       "      <td>0.090670</td>\n",
       "    </tr>\n",
       "  </tbody>\n",
       "</table>\n",
       "<p>5 rows × 727 columns</p>\n",
       "</div>"
      ],
      "text/plain": [
       "   PLUS_MINUS TEAM_ID_AWAY   TEAM_ID_A     GAME_ID  GAME_DATE   TEAM_ID_H  \\\n",
       "0       -39.0   1610612741  1610612741  0021100222 2012-01-20  1610612739   \n",
       "1        15.0   1610612751  1610612751  0021100244 2012-01-23  1610612741   \n",
       "2        12.0   1610612758  1610612758  0021100250 2012-01-23  1610612757   \n",
       "3         7.0   1610612739  1610612739  0021100254 2012-01-24  1610612748   \n",
       "4        -3.0   1610612761  1610612761  0021100255 2012-01-24  1610612756   \n",
       "\n",
       "  TEAM_ID_HOME  LAST_1_GAME_FGM_H  LAST_2_GAME_FGM_H  LAST_3_GAME_FGM_H  \\\n",
       "0   1610612739               35.0               37.0          35.333333   \n",
       "1   1610612741               40.0               43.0          44.333333   \n",
       "2   1610612757               34.0               33.5          34.000000   \n",
       "3   1610612748               25.0               34.5          35.666667   \n",
       "4   1610612756               31.0               31.0          32.666667   \n",
       "\n",
       "             ...              LAST_1_GAME_PLAYER_PIE_A  \\\n",
       "0            ...                              0.099561   \n",
       "1            ...                              0.090257   \n",
       "2            ...                              0.091012   \n",
       "3            ...                              0.044851   \n",
       "4            ...                              0.105249   \n",
       "\n",
       "   LAST_2_GAME_PLAYER_PIE_A  LAST_3_GAME_PLAYER_PIE_A  \\\n",
       "0                  0.098817                  0.088188   \n",
       "1                  0.091350                  0.081796   \n",
       "2                  0.083085                  0.073050   \n",
       "3                  0.044384                  0.059031   \n",
       "4                  0.091096                  0.099990   \n",
       "\n",
       "   LAST_4_GAME_PLAYER_PIE_A  LAST_5_GAME_PLAYER_PIE_A  \\\n",
       "0                  0.102924                  0.100449   \n",
       "1                  0.077719                  0.077584   \n",
       "2                  0.060630                  0.063579   \n",
       "3                  0.067610                  0.071996   \n",
       "4                  0.089473                  0.099120   \n",
       "\n",
       "   LAST_6_GAME_PLAYER_PIE_A  LAST_7_GAME_PLAYER_PIE_A  \\\n",
       "0                  0.108826                  0.090536   \n",
       "1                  0.078040                  0.074292   \n",
       "2                  0.061998                  0.064544   \n",
       "3                  0.067467                  0.069797   \n",
       "4                  0.101186                  0.099608   \n",
       "\n",
       "   LAST_8_GAME_PLAYER_PIE_A  LAST_9_GAME_PLAYER_PIE_A  \\\n",
       "0                  0.088891                  0.089388   \n",
       "1                  0.072650                  0.073911   \n",
       "2                  0.067435                  0.067592   \n",
       "3                  0.076624                  0.075287   \n",
       "4                  0.100829                  0.093281   \n",
       "\n",
       "   LAST_10_GAME_PLAYER_PIE_A  \n",
       "0                   0.085876  \n",
       "1                   0.069259  \n",
       "2                   0.065412  \n",
       "3                   0.078071  \n",
       "4                   0.090670  \n",
       "\n",
       "[5 rows x 727 columns]"
      ]
     },
     "execution_count": 14,
     "metadata": {},
     "output_type": "execute_result"
    }
   ],
   "source": [
    "df.head()"
   ]
  },
  {
   "cell_type": "code",
   "execution_count": 15,
   "metadata": {
    "collapsed": true
   },
   "outputs": [],
   "source": [
    "df_train = df[df.GAME_ID<\"0021700000\"].reset_index(drop=True)\n",
    "df_val = df[(df.GAME_ID<\"0021800000\")&(df.GAME_ID>\"0021700000\")].reset_index(drop=True)"
   ]
  },
  {
   "cell_type": "code",
   "execution_count": 16,
   "metadata": {
    "collapsed": true
   },
   "outputs": [],
   "source": [
    "x_train = df_train.loc[:, [col for col in df_train.columns if (col not in [\"GAME_ID\",\"GAME_DATE\",\"PLUS_MINUS\"])&\n",
    "                          (\"TEAM_ID\" not in col)]]\n",
    "x_val = df_val.loc[:, [col for col in df_val.columns if (col not in [\"GAME_ID\",\"GAME_DATE\",\"PLUS_MINUS\"])&\n",
    "                        (\"TEAM_ID\" not in col)]]"
   ]
  },
  {
   "cell_type": "code",
   "execution_count": 17,
   "metadata": {
    "collapsed": true
   },
   "outputs": [],
   "source": [
    "y_train = df_train.loc[:, \"PLUS_MINUS\"]\n",
    "y_val = df_val.loc[:, \"PLUS_MINUS\"]"
   ]
  },
  {
   "cell_type": "code",
   "execution_count": 18,
   "metadata": {
    "collapsed": true
   },
   "outputs": [],
   "source": [
    "train_dataset = lgb.Dataset(x_train, y_train)\n",
    "test_dataset = lgb.Dataset(x_val, y_val)"
   ]
  },
  {
   "cell_type": "code",
   "execution_count": 19,
   "metadata": {
    "collapsed": true
   },
   "outputs": [],
   "source": [
    "def lgb_eval(learning_rate, num_leaves, feature_fraction, bagging_fraction, max_depth, lambda_l1, lambda_l2, min_split_gain, min_child_weight):\n",
    "    evals_result = {}\n",
    "    params = {'application':'regression_l2','num_iterations': 1000, 'early_stopping_round':100, 'metric':'l2'}\n",
    "    \n",
    "    params[\"num_leaves\"] = int(round(num_leaves))\n",
    "    params[\"learning_rate\"] = max(learning_rate, 0)\n",
    "    params['feature_fraction'] = max(min(feature_fraction, 1), 0)\n",
    "    params['bagging_fraction'] = max(min(bagging_fraction, 1), 0)\n",
    "    params['max_depth'] = int(round(max_depth))\n",
    "    params['lambda_l1'] = max(lambda_l1, 0)\n",
    "    params['lambda_l2'] = max(lambda_l2, 0)\n",
    "    params['min_split_gain'] = min_split_gain\n",
    "    params['min_child_weight'] = min_child_weight\n",
    "    result = lgb.train(train_set=train_dataset,valid_sets=[train_dataset, test_dataset] ,evals_result=evals_result,\n",
    "                       params=params,verbose_eval =200)\n",
    "    return -min(evals_result[\"valid_1\"][\"l2\"])\n",
    "\n",
    "lgbBO = BayesianOptimization(lgb_eval, {'learning_rate': (0.001, 0.1),\n",
    "                                        'num_leaves': (24, 45),\n",
    "                                        'feature_fraction': (0.1, 0.9),\n",
    "                                        'bagging_fraction': (0.5, 1),\n",
    "                                        'max_depth': (4, 9),\n",
    "                                        'lambda_l1': (0, 5),\n",
    "                                        'lambda_l2': (0, 3),\n",
    "                                        'min_split_gain': (0.001, 0.1),\n",
    "                                        'min_child_weight': (5, 50)}, random_state=7)"
   ]
  },
  {
   "cell_type": "code",
   "execution_count": 20,
   "metadata": {
    "scrolled": true
   },
   "outputs": [
    {
     "name": "stdout",
     "output_type": "stream",
     "text": [
      "|   iter    |  target   | baggin... | featur... | lambda_l1 | lambda_l2 | learni... | max_depth | min_ch... | min_sp... | num_le... |\n",
      "-------------------------------------------------------------------------------------------------------------------------------------\n"
     ]
    },
    {
     "name": "stderr",
     "output_type": "stream",
     "text": [
      "/Users/chienan/anaconda2/envs/python3/lib/python3.6/site-packages/lightgbm/engine.py:102: UserWarning: Found `num_iterations` in params. Will use it instead of argument\n",
      "  warnings.warn(\"Found `{}` in params. Will use it instead of argument\".format(alias))\n",
      "/Users/chienan/anaconda2/envs/python3/lib/python3.6/site-packages/lightgbm/engine.py:107: UserWarning: Found `early_stopping_round` in params. Will use it instead of argument\n",
      "  warnings.warn(\"Found `{}` in params. Will use it instead of argument\".format(alias))\n"
     ]
    },
    {
     "name": "stdout",
     "output_type": "stream",
     "text": [
      "Training until validation scores don't improve for 100 rounds.\n",
      "Early stopping, best iteration is:\n",
      "[31]\ttraining's l2: 107.093\tvalid_1's l2: 168.675\n",
      "| \u001b[0m 1       \u001b[0m | \u001b[0m-168.7   \u001b[0m | \u001b[0m 0.5382  \u001b[0m | \u001b[0m 0.7239  \u001b[0m | \u001b[0m 2.192   \u001b[0m | \u001b[0m 2.17    \u001b[0m | \u001b[0m 0.09782 \u001b[0m | \u001b[0m 6.692   \u001b[0m | \u001b[0m 27.55   \u001b[0m | \u001b[0m 0.008133\u001b[0m | \u001b[0m 29.64   \u001b[0m |\n",
      "Training until validation scores don't improve for 100 rounds.\n",
      "[200]\ttraining's l2: 131.685\tvalid_1's l2: 169.483\n",
      "[400]\ttraining's l2: 117.074\tvalid_1's l2: 167.862\n",
      "Early stopping, best iteration is:\n",
      "[424]\ttraining's l2: 115.963\tvalid_1's l2: 167.777\n",
      "| \u001b[95m 2       \u001b[0m | \u001b[95m-167.8   \u001b[0m | \u001b[95m 0.7499  \u001b[0m | \u001b[95m 0.6434  \u001b[0m | \u001b[95m 4.019   \u001b[0m | \u001b[95m 1.143   \u001b[0m | \u001b[95m 0.007528\u001b[0m | \u001b[95m 5.441   \u001b[0m | \u001b[95m 45.93   \u001b[0m | \u001b[95m 0.02213 \u001b[0m | \u001b[95m 33.49   \u001b[0m |\n",
      "Training until validation scores don't improve for 100 rounds.\n",
      "[200]\ttraining's l2: 96.0262\tvalid_1's l2: 167.493\n",
      "Early stopping, best iteration is:\n",
      "[104]\ttraining's l2: 116.441\tvalid_1's l2: 166.7\n",
      "| \u001b[95m 3       \u001b[0m | \u001b[95m-166.7   \u001b[0m | \u001b[95m 0.9656  \u001b[0m | \u001b[95m 0.1199  \u001b[0m | \u001b[95m 3.003   \u001b[0m | \u001b[95m 2.85    \u001b[0m | \u001b[95m 0.0238  \u001b[0m | \u001b[95m 6.742   \u001b[0m | \u001b[95m 45.91   \u001b[0m | \u001b[95m 0.01418 \u001b[0m | \u001b[95m 34.99   \u001b[0m |\n",
      "Training until validation scores don't improve for 100 rounds.\n",
      "Early stopping, best iteration is:\n",
      "[81]\ttraining's l2: 93.8149\tvalid_1's l2: 168.564\n",
      "| \u001b[0m 4       \u001b[0m | \u001b[0m-168.6   \u001b[0m | \u001b[0m 0.8752  \u001b[0m | \u001b[0m 0.6352  \u001b[0m | \u001b[0m 2.339   \u001b[0m | \u001b[0m 0.6145  \u001b[0m | \u001b[0m 0.04959 \u001b[0m | \u001b[0m 5.862   \u001b[0m | \u001b[0m 26.48   \u001b[0m | \u001b[0m 0.03722 \u001b[0m | \u001b[0m 41.6    \u001b[0m |\n",
      "Training until validation scores don't improve for 100 rounds.\n",
      "[200]\ttraining's l2: 72.5011\tvalid_1's l2: 171.342\n",
      "Early stopping, best iteration is:\n",
      "[101]\ttraining's l2: 98.1874\tvalid_1's l2: 168.861\n",
      "| \u001b[0m 5       \u001b[0m | \u001b[0m-168.9   \u001b[0m | \u001b[0m 0.8843  \u001b[0m | \u001b[0m 0.3512  \u001b[0m | \u001b[0m 2.863   \u001b[0m | \u001b[0m 0.8281  \u001b[0m | \u001b[0m 0.04583 \u001b[0m | \u001b[0m 5.765   \u001b[0m | \u001b[0m 34.58   \u001b[0m | \u001b[0m 0.03766 \u001b[0m | \u001b[0m 33.64   \u001b[0m |\n",
      "Training until validation scores don't improve for 100 rounds.\n",
      "Early stopping, best iteration is:\n",
      "[26]\ttraining's l2: 118.555\tvalid_1's l2: 170.884\n",
      "| \u001b[0m 6       \u001b[0m | \u001b[0m-170.9   \u001b[0m | \u001b[0m 0.8597  \u001b[0m | \u001b[0m 0.4304  \u001b[0m | \u001b[0m 4.532   \u001b[0m | \u001b[0m 0.5414  \u001b[0m | \u001b[0m 0.07437 \u001b[0m | \u001b[0m 6.112   \u001b[0m | \u001b[0m 24.19   \u001b[0m | \u001b[0m 0.0638  \u001b[0m | \u001b[0m 34.98   \u001b[0m |\n",
      "Training until validation scores don't improve for 100 rounds.\n",
      "Early stopping, best iteration is:\n",
      "[61]\ttraining's l2: 118.657\tvalid_1's l2: 165.736\n",
      "| \u001b[95m 7       \u001b[0m | \u001b[95m-165.7   \u001b[0m | \u001b[95m 0.7074  \u001b[0m | \u001b[95m 0.1011  \u001b[0m | \u001b[95m 0.4613  \u001b[0m | \u001b[95m 2.128   \u001b[0m | \u001b[95m 0.05291 \u001b[0m | \u001b[95m 7.481   \u001b[0m | \u001b[95m 48.0    \u001b[0m | \u001b[95m 0.06861 \u001b[0m | \u001b[95m 25.12   \u001b[0m |\n",
      "Training until validation scores don't improve for 100 rounds.\n",
      "Early stopping, best iteration is:\n",
      "[35]\ttraining's l2: 107.834\tvalid_1's l2: 168.259\n",
      "| \u001b[0m 8       \u001b[0m | \u001b[0m-168.3   \u001b[0m | \u001b[0m 0.6544  \u001b[0m | \u001b[0m 0.5741  \u001b[0m | \u001b[0m 1.176   \u001b[0m | \u001b[0m 2.895   \u001b[0m | \u001b[0m 0.09456 \u001b[0m | \u001b[0m 8.242   \u001b[0m | \u001b[0m 26.25   \u001b[0m | \u001b[0m 0.08431 \u001b[0m | \u001b[0m 26.75   \u001b[0m |\n",
      "Training until validation scores don't improve for 100 rounds.\n",
      "[200]\ttraining's l2: 112.839\tvalid_1's l2: 167.929\n",
      "[400]\ttraining's l2: 92.0658\tvalid_1's l2: 167.834\n",
      "Early stopping, best iteration is:\n",
      "[378]\ttraining's l2: 94.2288\tvalid_1's l2: 167.687\n",
      "| \u001b[0m 9       \u001b[0m | \u001b[0m-167.7   \u001b[0m | \u001b[0m 0.6544  \u001b[0m | \u001b[0m 0.4704  \u001b[0m | \u001b[0m 3.709   \u001b[0m | \u001b[0m 1.457   \u001b[0m | \u001b[0m 0.01455 \u001b[0m | \u001b[0m 5.718   \u001b[0m | \u001b[0m 19.6    \u001b[0m | \u001b[0m 0.03074 \u001b[0m | \u001b[0m 27.48   \u001b[0m |\n",
      "Training until validation scores don't improve for 100 rounds.\n",
      "Early stopping, best iteration is:\n",
      "[75]\ttraining's l2: 100.508\tvalid_1's l2: 169.338\n",
      "| \u001b[0m 10      \u001b[0m | \u001b[0m-169.3   \u001b[0m | \u001b[0m 0.7075  \u001b[0m | \u001b[0m 0.4585  \u001b[0m | \u001b[0m 3.875   \u001b[0m | \u001b[0m 2.389   \u001b[0m | \u001b[0m 0.05272 \u001b[0m | \u001b[0m 6.303   \u001b[0m | \u001b[0m 40.02   \u001b[0m | \u001b[0m 0.08884 \u001b[0m | \u001b[0m 38.17   \u001b[0m |\n",
      "Training until validation scores don't improve for 100 rounds.\n",
      "[200]\ttraining's l2: 95.7143\tvalid_1's l2: 167.707\n",
      "Early stopping, best iteration is:\n",
      "[163]\ttraining's l2: 102.253\tvalid_1's l2: 167.181\n",
      "| \u001b[0m 11      \u001b[0m | \u001b[0m-167.2   \u001b[0m | \u001b[0m 0.9002  \u001b[0m | \u001b[0m 0.8513  \u001b[0m | \u001b[0m 0.2033  \u001b[0m | \u001b[0m 2.627   \u001b[0m | \u001b[0m 0.02838 \u001b[0m | \u001b[0m 6.379   \u001b[0m | \u001b[0m 40.85   \u001b[0m | \u001b[0m 0.07201 \u001b[0m | \u001b[0m 27.09   \u001b[0m |\n",
      "Training until validation scores don't improve for 100 rounds.\n",
      "Early stopping, best iteration is:\n",
      "[79]\ttraining's l2: 100.675\tvalid_1's l2: 166.523\n",
      "| \u001b[0m 12      \u001b[0m | \u001b[0m-166.5   \u001b[0m | \u001b[0m 0.8294  \u001b[0m | \u001b[0m 0.1554  \u001b[0m | \u001b[0m 1.785   \u001b[0m | \u001b[0m 2.438   \u001b[0m | \u001b[0m 0.04334 \u001b[0m | \u001b[0m 6.999   \u001b[0m | \u001b[0m 37.77   \u001b[0m | \u001b[0m 0.0823  \u001b[0m | \u001b[0m 39.97   \u001b[0m |\n",
      "Training until validation scores don't improve for 100 rounds.\n",
      "Early stopping, best iteration is:\n",
      "[73]\ttraining's l2: 104.573\tvalid_1's l2: 167.848\n",
      "| \u001b[0m 13      \u001b[0m | \u001b[0m-167.8   \u001b[0m | \u001b[0m 0.5036  \u001b[0m | \u001b[0m 0.4362  \u001b[0m | \u001b[0m 2.316   \u001b[0m | \u001b[0m 0.1665  \u001b[0m | \u001b[0m 0.0546  \u001b[0m | \u001b[0m 7.039   \u001b[0m | \u001b[0m 42.28   \u001b[0m | \u001b[0m 0.09424 \u001b[0m | \u001b[0m 26.69   \u001b[0m |\n",
      "Training until validation scores don't improve for 100 rounds.\n",
      "Early stopping, best iteration is:\n",
      "[68]\ttraining's l2: 111.551\tvalid_1's l2: 167.486\n",
      "| \u001b[0m 14      \u001b[0m | \u001b[0m-167.5   \u001b[0m | \u001b[0m 0.6152  \u001b[0m | \u001b[0m 0.6273  \u001b[0m | \u001b[0m 0.6624  \u001b[0m | \u001b[0m 0.6722  \u001b[0m | \u001b[0m 0.05791 \u001b[0m | \u001b[0m 4.848   \u001b[0m | \u001b[0m 40.2    \u001b[0m | \u001b[0m 0.08584 \u001b[0m | \u001b[0m 24.71   \u001b[0m |\n",
      "Training until validation scores don't improve for 100 rounds.\n",
      "[200]\ttraining's l2: 98.7909\tvalid_1's l2: 168.548\n",
      "Early stopping, best iteration is:\n",
      "[216]\ttraining's l2: 96.2893\tvalid_1's l2: 168.284\n",
      "| \u001b[0m 15      \u001b[0m | \u001b[0m-168.3   \u001b[0m | \u001b[0m 0.7663  \u001b[0m | \u001b[0m 0.7376  \u001b[0m | \u001b[0m 4.876   \u001b[0m | \u001b[0m 0.8228  \u001b[0m | \u001b[0m 0.01774 \u001b[0m | \u001b[0m 8.384   \u001b[0m | \u001b[0m 45.91   \u001b[0m | \u001b[0m 0.02056 \u001b[0m | \u001b[0m 33.27   \u001b[0m |\n",
      "Training until validation scores don't improve for 100 rounds.\n",
      "Early stopping, best iteration is:\n",
      "[32]\ttraining's l2: 111.267\tvalid_1's l2: 168.429\n",
      "| \u001b[0m 16      \u001b[0m | \u001b[0m-168.4   \u001b[0m | \u001b[0m 0.8596  \u001b[0m | \u001b[0m 0.7763  \u001b[0m | \u001b[0m 0.8414  \u001b[0m | \u001b[0m 1.995   \u001b[0m | \u001b[0m 0.08098 \u001b[0m | \u001b[0m 6.749   \u001b[0m | \u001b[0m 12.41   \u001b[0m | \u001b[0m 0.004517\u001b[0m | \u001b[0m 29.91   \u001b[0m |\n",
      "Training until validation scores don't improve for 100 rounds.\n",
      "[200]\ttraining's l2: 134.84\tvalid_1's l2: 167.492\n",
      "[400]\ttraining's l2: 118.311\tvalid_1's l2: 165.35\n",
      "[600]\ttraining's l2: 109.255\tvalid_1's l2: 165.093\n",
      "Early stopping, best iteration is:\n",
      "[660]\ttraining's l2: 106.99\tvalid_1's l2: 164.958\n",
      "| \u001b[95m 17      \u001b[0m | \u001b[95m-165.0   \u001b[0m | \u001b[95m 0.9039  \u001b[0m | \u001b[95m 0.1358  \u001b[0m | \u001b[95m 0.04108 \u001b[0m | \u001b[95m 1.085   \u001b[0m | \u001b[95m 0.007299\u001b[0m | \u001b[95m 4.747   \u001b[0m | \u001b[95m 6.044   \u001b[0m | \u001b[95m 0.05295 \u001b[0m | \u001b[95m 38.63   \u001b[0m |\n",
      "Training until validation scores don't improve for 100 rounds.\n",
      "Early stopping, best iteration is:\n",
      "[19]\ttraining's l2: 118.692\tvalid_1's l2: 168.451\n",
      "| \u001b[0m 18      \u001b[0m | \u001b[0m-168.5   \u001b[0m | \u001b[0m 0.7135  \u001b[0m | \u001b[0m 0.2077  \u001b[0m | \u001b[0m 1.657   \u001b[0m | \u001b[0m 1.771   \u001b[0m | \u001b[0m 0.09413 \u001b[0m | \u001b[0m 8.963   \u001b[0m | \u001b[0m 15.87   \u001b[0m | \u001b[0m 0.002047\u001b[0m | \u001b[0m 41.44   \u001b[0m |\n",
      "Training until validation scores don't improve for 100 rounds.\n",
      "Early stopping, best iteration is:\n",
      "[65]\ttraining's l2: 97.5359\tvalid_1's l2: 168.765\n",
      "| \u001b[0m 19      \u001b[0m | \u001b[0m-168.8   \u001b[0m | \u001b[0m 0.9633  \u001b[0m | \u001b[0m 0.4669  \u001b[0m | \u001b[0m 3.857   \u001b[0m | \u001b[0m 2.599   \u001b[0m | \u001b[0m 0.06135 \u001b[0m | \u001b[0m 8.363   \u001b[0m | \u001b[0m 6.076   \u001b[0m | \u001b[0m 0.02789 \u001b[0m | \u001b[0m 29.82   \u001b[0m |\n",
      "Training until validation scores don't improve for 100 rounds.\n",
      "[200]\ttraining's l2: 122.558\tvalid_1's l2: 169.403\n",
      "[400]\ttraining's l2: 102.391\tvalid_1's l2: 167.782\n",
      "Early stopping, best iteration is:\n",
      "[414]\ttraining's l2: 101.563\tvalid_1's l2: 167.688\n",
      "| \u001b[0m 20      \u001b[0m | \u001b[0m-167.7   \u001b[0m | \u001b[0m 0.5603  \u001b[0m | \u001b[0m 0.8286  \u001b[0m | \u001b[0m 0.1522  \u001b[0m | \u001b[0m 2.018   \u001b[0m | \u001b[0m 0.008063\u001b[0m | \u001b[0m 5.804   \u001b[0m | \u001b[0m 23.81   \u001b[0m | \u001b[0m 0.01896 \u001b[0m | \u001b[0m 34.94   \u001b[0m |\n",
      "Training until validation scores don't improve for 100 rounds.\n",
      "[200]\ttraining's l2: 93.7904\tvalid_1's l2: 167.411\n"
     ]
    },
    {
     "name": "stdout",
     "output_type": "stream",
     "text": [
      "Early stopping, best iteration is:\n",
      "[160]\ttraining's l2: 99.3094\tvalid_1's l2: 167.151\n",
      "| \u001b[0m 21      \u001b[0m | \u001b[0m-167.2   \u001b[0m | \u001b[0m 0.7675  \u001b[0m | \u001b[0m 0.3536  \u001b[0m | \u001b[0m 3.685   \u001b[0m | \u001b[0m 0.4806  \u001b[0m | \u001b[0m 0.02006 \u001b[0m | \u001b[0m 5.773   \u001b[0m | \u001b[0m 22.03   \u001b[0m | \u001b[0m 0.02142 \u001b[0m | \u001b[0m 43.29   \u001b[0m |\n",
      "Training until validation scores don't improve for 100 rounds.\n",
      "Early stopping, best iteration is:\n",
      "[70]\ttraining's l2: 117.377\tvalid_1's l2: 165.672\n",
      "| \u001b[0m 22      \u001b[0m | \u001b[0m-165.7   \u001b[0m | \u001b[0m 0.914   \u001b[0m | \u001b[0m 0.1855  \u001b[0m | \u001b[0m 1.847   \u001b[0m | \u001b[0m 0.698   \u001b[0m | \u001b[0m 0.04566 \u001b[0m | \u001b[0m 5.382   \u001b[0m | \u001b[0m 27.58   \u001b[0m | \u001b[0m 0.09234 \u001b[0m | \u001b[0m 32.03   \u001b[0m |\n",
      "Training until validation scores don't improve for 100 rounds.\n",
      "Early stopping, best iteration is:\n",
      "[21]\ttraining's l2: 121.192\tvalid_1's l2: 170.254\n",
      "| \u001b[0m 23      \u001b[0m | \u001b[0m-170.3   \u001b[0m | \u001b[0m 0.8251  \u001b[0m | \u001b[0m 0.5765  \u001b[0m | \u001b[0m 3.76    \u001b[0m | \u001b[0m 0.185   \u001b[0m | \u001b[0m 0.07474 \u001b[0m | \u001b[0m 8.731   \u001b[0m | \u001b[0m 32.16   \u001b[0m | \u001b[0m 0.02947 \u001b[0m | \u001b[0m 38.12   \u001b[0m |\n",
      "Training until validation scores don't improve for 100 rounds.\n",
      "Early stopping, best iteration is:\n",
      "[43]\ttraining's l2: 95.545\tvalid_1's l2: 170.255\n",
      "| \u001b[0m 24      \u001b[0m | \u001b[0m-170.3   \u001b[0m | \u001b[0m 0.856   \u001b[0m | \u001b[0m 0.6252  \u001b[0m | \u001b[0m 0.7347  \u001b[0m | \u001b[0m 2.92    \u001b[0m | \u001b[0m 0.09558 \u001b[0m | \u001b[0m 6.123   \u001b[0m | \u001b[0m 31.71   \u001b[0m | \u001b[0m 0.004923\u001b[0m | \u001b[0m 44.76   \u001b[0m |\n",
      "Training until validation scores don't improve for 100 rounds.\n",
      "[200]\ttraining's l2: 97.6842\tvalid_1's l2: 168.882\n",
      "Early stopping, best iteration is:\n",
      "[168]\ttraining's l2: 102.707\tvalid_1's l2: 168.339\n",
      "| \u001b[0m 25      \u001b[0m | \u001b[0m-168.3   \u001b[0m | \u001b[0m 0.9094  \u001b[0m | \u001b[0m 0.6092  \u001b[0m | \u001b[0m 3.805   \u001b[0m | \u001b[0m 0.5641  \u001b[0m | \u001b[0m 0.03146 \u001b[0m | \u001b[0m 5.232   \u001b[0m | \u001b[0m 31.82   \u001b[0m | \u001b[0m 0.0101  \u001b[0m | \u001b[0m 42.81   \u001b[0m |\n"
     ]
    },
    {
     "name": "stderr",
     "output_type": "stream",
     "text": [
      "/Users/chienan/anaconda2/envs/python3/lib/python3.6/site-packages/lightgbm/engine.py:102: UserWarning: Found `num_iterations` in params. Will use it instead of argument\n",
      "  warnings.warn(\"Found `{}` in params. Will use it instead of argument\".format(alias))\n",
      "/Users/chienan/anaconda2/envs/python3/lib/python3.6/site-packages/lightgbm/engine.py:107: UserWarning: Found `early_stopping_round` in params. Will use it instead of argument\n",
      "  warnings.warn(\"Found `{}` in params. Will use it instead of argument\".format(alias))\n"
     ]
    },
    {
     "name": "stdout",
     "output_type": "stream",
     "text": [
      "Training until validation scores don't improve for 100 rounds.\n",
      "[200]\ttraining's l2: 110.096\tvalid_1's l2: 166.861\n",
      "Early stopping, best iteration is:\n",
      "[207]\ttraining's l2: 109.33\tvalid_1's l2: 166.83\n",
      "| \u001b[0m 26      \u001b[0m | \u001b[0m-166.8   \u001b[0m | \u001b[0m 0.7668  \u001b[0m | \u001b[0m 0.1076  \u001b[0m | \u001b[0m 0.01577 \u001b[0m | \u001b[0m 1.369   \u001b[0m | \u001b[0m 0.02235 \u001b[0m | \u001b[0m 4.623   \u001b[0m | \u001b[0m 6.57    \u001b[0m | \u001b[0m 0.007741\u001b[0m | \u001b[0m 38.76   \u001b[0m |\n"
     ]
    },
    {
     "name": "stderr",
     "output_type": "stream",
     "text": [
      "/Users/chienan/anaconda2/envs/python3/lib/python3.6/site-packages/lightgbm/engine.py:102: UserWarning: Found `num_iterations` in params. Will use it instead of argument\n",
      "  warnings.warn(\"Found `{}` in params. Will use it instead of argument\".format(alias))\n",
      "/Users/chienan/anaconda2/envs/python3/lib/python3.6/site-packages/lightgbm/engine.py:107: UserWarning: Found `early_stopping_round` in params. Will use it instead of argument\n",
      "  warnings.warn(\"Found `{}` in params. Will use it instead of argument\".format(alias))\n"
     ]
    },
    {
     "name": "stdout",
     "output_type": "stream",
     "text": [
      "Training until validation scores don't improve for 100 rounds.\n",
      "[200]\ttraining's l2: 163.975\tvalid_1's l2: 178.177\n",
      "[400]\ttraining's l2: 153.162\tvalid_1's l2: 173.119\n",
      "[600]\ttraining's l2: 145.119\tvalid_1's l2: 170.148\n",
      "[800]\ttraining's l2: 138.807\tvalid_1's l2: 168.395\n",
      "[1000]\ttraining's l2: 133.622\tvalid_1's l2: 167.316\n",
      "Did not meet early stopping. Best iteration is:\n",
      "[1000]\ttraining's l2: 133.622\tvalid_1's l2: 167.316\n",
      "| \u001b[0m 27      \u001b[0m | \u001b[0m-167.3   \u001b[0m | \u001b[0m 0.9629  \u001b[0m | \u001b[0m 0.1086  \u001b[0m | \u001b[0m 0.04122 \u001b[0m | \u001b[0m 1.064   \u001b[0m | \u001b[0m 0.001606\u001b[0m | \u001b[0m 4.83    \u001b[0m | \u001b[0m 5.898   \u001b[0m | \u001b[0m 0.06683 \u001b[0m | \u001b[0m 38.91   \u001b[0m |\n"
     ]
    },
    {
     "name": "stderr",
     "output_type": "stream",
     "text": [
      "/Users/chienan/anaconda2/envs/python3/lib/python3.6/site-packages/lightgbm/engine.py:102: UserWarning: Found `num_iterations` in params. Will use it instead of argument\n",
      "  warnings.warn(\"Found `{}` in params. Will use it instead of argument\".format(alias))\n",
      "/Users/chienan/anaconda2/envs/python3/lib/python3.6/site-packages/lightgbm/engine.py:107: UserWarning: Found `early_stopping_round` in params. Will use it instead of argument\n",
      "  warnings.warn(\"Found `{}` in params. Will use it instead of argument\".format(alias))\n"
     ]
    },
    {
     "name": "stdout",
     "output_type": "stream",
     "text": [
      "Training until validation scores don't improve for 100 rounds.\n",
      "[200]\ttraining's l2: 111.072\tvalid_1's l2: 168.129\n",
      "[400]\ttraining's l2: 94.1287\tvalid_1's l2: 167.865\n",
      "Early stopping, best iteration is:\n",
      "[382]\ttraining's l2: 95.7197\tvalid_1's l2: 167.7\n",
      "| \u001b[0m 28      \u001b[0m | \u001b[0m-167.7   \u001b[0m | \u001b[0m 0.7772  \u001b[0m | \u001b[0m 0.5933  \u001b[0m | \u001b[0m 0.2853  \u001b[0m | \u001b[0m 1.421   \u001b[0m | \u001b[0m 0.0171  \u001b[0m | \u001b[0m 4.812   \u001b[0m | \u001b[0m 6.177   \u001b[0m | \u001b[0m 0.07857 \u001b[0m | \u001b[0m 38.67   \u001b[0m |\n"
     ]
    },
    {
     "name": "stderr",
     "output_type": "stream",
     "text": [
      "/Users/chienan/anaconda2/envs/python3/lib/python3.6/site-packages/lightgbm/engine.py:102: UserWarning: Found `num_iterations` in params. Will use it instead of argument\n",
      "  warnings.warn(\"Found `{}` in params. Will use it instead of argument\".format(alias))\n",
      "/Users/chienan/anaconda2/envs/python3/lib/python3.6/site-packages/lightgbm/engine.py:107: UserWarning: Found `early_stopping_round` in params. Will use it instead of argument\n",
      "  warnings.warn(\"Found `{}` in params. Will use it instead of argument\".format(alias))\n"
     ]
    },
    {
     "name": "stdout",
     "output_type": "stream",
     "text": [
      "Training until validation scores don't improve for 100 rounds.\n",
      "[200]\ttraining's l2: 85.866\tvalid_1's l2: 167.097\n",
      "Early stopping, best iteration is:\n",
      "[129]\ttraining's l2: 100.324\tvalid_1's l2: 165.988\n",
      "| \u001b[0m 29      \u001b[0m | \u001b[0m-166.0   \u001b[0m | \u001b[0m 0.8871  \u001b[0m | \u001b[0m 0.1497  \u001b[0m | \u001b[0m 2.794   \u001b[0m | \u001b[0m 2.785   \u001b[0m | \u001b[0m 0.03066 \u001b[0m | \u001b[0m 6.658   \u001b[0m | \u001b[0m 45.76   \u001b[0m | \u001b[0m 0.02014 \u001b[0m | \u001b[0m 34.96   \u001b[0m |\n"
     ]
    },
    {
     "name": "stderr",
     "output_type": "stream",
     "text": [
      "/Users/chienan/anaconda2/envs/python3/lib/python3.6/site-packages/lightgbm/engine.py:102: UserWarning: Found `num_iterations` in params. Will use it instead of argument\n",
      "  warnings.warn(\"Found `{}` in params. Will use it instead of argument\".format(alias))\n",
      "/Users/chienan/anaconda2/envs/python3/lib/python3.6/site-packages/lightgbm/engine.py:107: UserWarning: Found `early_stopping_round` in params. Will use it instead of argument\n",
      "  warnings.warn(\"Found `{}` in params. Will use it instead of argument\".format(alias))\n"
     ]
    },
    {
     "name": "stdout",
     "output_type": "stream",
     "text": [
      "Training until validation scores don't improve for 100 rounds.\n",
      "[200]\ttraining's l2: 90.4128\tvalid_1's l2: 168.833\n",
      "Early stopping, best iteration is:\n",
      "[123]\ttraining's l2: 104.391\tvalid_1's l2: 168.184\n",
      "| \u001b[0m 30      \u001b[0m | \u001b[0m-168.2   \u001b[0m | \u001b[0m 0.6153  \u001b[0m | \u001b[0m 0.411   \u001b[0m | \u001b[0m 1.66    \u001b[0m | \u001b[0m 0.8049  \u001b[0m | \u001b[0m 0.02855 \u001b[0m | \u001b[0m 5.827   \u001b[0m | \u001b[0m 27.93   \u001b[0m | \u001b[0m 0.04505 \u001b[0m | \u001b[0m 31.88   \u001b[0m |\n"
     ]
    },
    {
     "name": "stderr",
     "output_type": "stream",
     "text": [
      "/Users/chienan/anaconda2/envs/python3/lib/python3.6/site-packages/lightgbm/engine.py:102: UserWarning: Found `num_iterations` in params. Will use it instead of argument\n",
      "  warnings.warn(\"Found `{}` in params. Will use it instead of argument\".format(alias))\n",
      "/Users/chienan/anaconda2/envs/python3/lib/python3.6/site-packages/lightgbm/engine.py:107: UserWarning: Found `early_stopping_round` in params. Will use it instead of argument\n",
      "  warnings.warn(\"Found `{}` in params. Will use it instead of argument\".format(alias))\n"
     ]
    },
    {
     "name": "stdout",
     "output_type": "stream",
     "text": [
      "Training until validation scores don't improve for 100 rounds.\n",
      "Early stopping, best iteration is:\n",
      "[46]\ttraining's l2: 95.7198\tvalid_1's l2: 169.236\n",
      "| \u001b[0m 31      \u001b[0m | \u001b[0m-169.2   \u001b[0m | \u001b[0m 0.8036  \u001b[0m | \u001b[0m 0.3077  \u001b[0m | \u001b[0m 4.426   \u001b[0m | \u001b[0m 2.347   \u001b[0m | \u001b[0m 0.07415 \u001b[0m | \u001b[0m 8.071   \u001b[0m | \u001b[0m 9.356   \u001b[0m | \u001b[0m 0.04301 \u001b[0m | \u001b[0m 38.86   \u001b[0m |\n"
     ]
    },
    {
     "name": "stderr",
     "output_type": "stream",
     "text": [
      "/Users/chienan/anaconda2/envs/python3/lib/python3.6/site-packages/lightgbm/engine.py:102: UserWarning: Found `num_iterations` in params. Will use it instead of argument\n",
      "  warnings.warn(\"Found `{}` in params. Will use it instead of argument\".format(alias))\n",
      "/Users/chienan/anaconda2/envs/python3/lib/python3.6/site-packages/lightgbm/engine.py:107: UserWarning: Found `early_stopping_round` in params. Will use it instead of argument\n",
      "  warnings.warn(\"Found `{}` in params. Will use it instead of argument\".format(alias))\n"
     ]
    },
    {
     "name": "stdout",
     "output_type": "stream",
     "text": [
      "Training until validation scores don't improve for 100 rounds.\n",
      "Early stopping, best iteration is:\n",
      "[48]\ttraining's l2: 108.059\tvalid_1's l2: 168.42\n",
      "| \u001b[0m 32      \u001b[0m | \u001b[0m-168.4   \u001b[0m | \u001b[0m 0.7619  \u001b[0m | \u001b[0m 0.3426  \u001b[0m | \u001b[0m 1.101   \u001b[0m | \u001b[0m 2.092   \u001b[0m | \u001b[0m 0.06825 \u001b[0m | \u001b[0m 6.07    \u001b[0m | \u001b[0m 40.73   \u001b[0m | \u001b[0m 0.005085\u001b[0m | \u001b[0m 34.52   \u001b[0m |\n"
     ]
    },
    {
     "name": "stderr",
     "output_type": "stream",
     "text": [
      "/Users/chienan/anaconda2/envs/python3/lib/python3.6/site-packages/lightgbm/engine.py:102: UserWarning: Found `num_iterations` in params. Will use it instead of argument\n",
      "  warnings.warn(\"Found `{}` in params. Will use it instead of argument\".format(alias))\n",
      "/Users/chienan/anaconda2/envs/python3/lib/python3.6/site-packages/lightgbm/engine.py:107: UserWarning: Found `early_stopping_round` in params. Will use it instead of argument\n",
      "  warnings.warn(\"Found `{}` in params. Will use it instead of argument\".format(alias))\n"
     ]
    },
    {
     "name": "stdout",
     "output_type": "stream",
     "text": [
      "Training until validation scores don't improve for 100 rounds.\n",
      "Early stopping, best iteration is:\n",
      "[57]\ttraining's l2: 106.854\tvalid_1's l2: 166.488\n",
      "| \u001b[0m 33      \u001b[0m | \u001b[0m-166.5   \u001b[0m | \u001b[0m 0.8409  \u001b[0m | \u001b[0m 0.1     \u001b[0m | \u001b[0m 1.844   \u001b[0m | \u001b[0m 2.447   \u001b[0m | \u001b[0m 0.0528  \u001b[0m | \u001b[0m 6.751   \u001b[0m | \u001b[0m 37.81   \u001b[0m | \u001b[0m 0.08223 \u001b[0m | \u001b[0m 39.81   \u001b[0m |\n"
     ]
    },
    {
     "name": "stderr",
     "output_type": "stream",
     "text": [
      "/Users/chienan/anaconda2/envs/python3/lib/python3.6/site-packages/lightgbm/engine.py:102: UserWarning: Found `num_iterations` in params. Will use it instead of argument\n",
      "  warnings.warn(\"Found `{}` in params. Will use it instead of argument\".format(alias))\n",
      "/Users/chienan/anaconda2/envs/python3/lib/python3.6/site-packages/lightgbm/engine.py:107: UserWarning: Found `early_stopping_round` in params. Will use it instead of argument\n",
      "  warnings.warn(\"Found `{}` in params. Will use it instead of argument\".format(alias))\n"
     ]
    },
    {
     "name": "stdout",
     "output_type": "stream",
     "text": [
      "Training until validation scores don't improve for 100 rounds.\n",
      "Early stopping, best iteration is:\n",
      "[83]\ttraining's l2: 113.446\tvalid_1's l2: 164.954\n",
      "| \u001b[95m 34      \u001b[0m | \u001b[95m-165.0   \u001b[0m | \u001b[95m 1.0     \u001b[0m | \u001b[95m 0.1063  \u001b[0m | \u001b[95m 1.912   \u001b[0m | \u001b[95m 0.6611  \u001b[0m | \u001b[95m 0.05151 \u001b[0m | \u001b[95m 5.229   \u001b[0m | \u001b[95m 27.46   \u001b[0m | \u001b[95m 0.1     \u001b[0m | \u001b[95m 32.08   \u001b[0m |\n"
     ]
    },
    {
     "name": "stderr",
     "output_type": "stream",
     "text": [
      "/Users/chienan/anaconda2/envs/python3/lib/python3.6/site-packages/lightgbm/engine.py:102: UserWarning: Found `num_iterations` in params. Will use it instead of argument\n",
      "  warnings.warn(\"Found `{}` in params. Will use it instead of argument\".format(alias))\n",
      "/Users/chienan/anaconda2/envs/python3/lib/python3.6/site-packages/lightgbm/engine.py:107: UserWarning: Found `early_stopping_round` in params. Will use it instead of argument\n",
      "  warnings.warn(\"Found `{}` in params. Will use it instead of argument\".format(alias))\n"
     ]
    },
    {
     "name": "stdout",
     "output_type": "stream",
     "text": [
      "Training until validation scores don't improve for 100 rounds.\n",
      "[200]\ttraining's l2: 126.651\tvalid_1's l2: 165.6\n",
      "[400]\ttraining's l2: 110.118\tvalid_1's l2: 164.765\n",
      "Early stopping, best iteration is:\n",
      "[331]\ttraining's l2: 114.422\tvalid_1's l2: 164.616\n",
      "| \u001b[95m 35      \u001b[0m | \u001b[95m-164.6   \u001b[0m | \u001b[95m 0.8706  \u001b[0m | \u001b[95m 0.1     \u001b[0m | \u001b[95m 0.000199\u001b[0m | \u001b[95m 1.083   \u001b[0m | \u001b[95m 0.01095 \u001b[0m | \u001b[95m 4.673   \u001b[0m | \u001b[95m 6.177   \u001b[0m | \u001b[95m 0.03504 \u001b[0m | \u001b[95m 38.48   \u001b[0m |\n"
     ]
    },
    {
     "name": "stderr",
     "output_type": "stream",
     "text": [
      "/Users/chienan/anaconda2/envs/python3/lib/python3.6/site-packages/lightgbm/engine.py:102: UserWarning: Found `num_iterations` in params. Will use it instead of argument\n",
      "  warnings.warn(\"Found `{}` in params. Will use it instead of argument\".format(alias))\n",
      "/Users/chienan/anaconda2/envs/python3/lib/python3.6/site-packages/lightgbm/engine.py:107: UserWarning: Found `early_stopping_round` in params. Will use it instead of argument\n",
      "  warnings.warn(\"Found `{}` in params. Will use it instead of argument\".format(alias))\n"
     ]
    },
    {
     "name": "stdout",
     "output_type": "stream",
     "text": [
      "Training until validation scores don't improve for 100 rounds.\n",
      "[200]\ttraining's l2: 131.266\tvalid_1's l2: 166.186\n",
      "[400]\ttraining's l2: 114.765\tvalid_1's l2: 165.246\n",
      "Early stopping, best iteration is:\n",
      "[369]\ttraining's l2: 116.572\tvalid_1's l2: 165.083\n",
      "| \u001b[0m 36      \u001b[0m | \u001b[0m-165.1   \u001b[0m | \u001b[0m 0.8924  \u001b[0m | \u001b[0m 0.1     \u001b[0m | \u001b[0m 0.07497 \u001b[0m | \u001b[0m 1.034   \u001b[0m | \u001b[0m 0.008995\u001b[0m | \u001b[0m 4.729   \u001b[0m | \u001b[0m 5.992   \u001b[0m | \u001b[0m 0.05923 \u001b[0m | \u001b[0m 38.36   \u001b[0m |\n"
     ]
    },
    {
     "name": "stderr",
     "output_type": "stream",
     "text": [
      "/Users/chienan/anaconda2/envs/python3/lib/python3.6/site-packages/lightgbm/engine.py:102: UserWarning: Found `num_iterations` in params. Will use it instead of argument\n",
      "  warnings.warn(\"Found `{}` in params. Will use it instead of argument\".format(alias))\n",
      "/Users/chienan/anaconda2/envs/python3/lib/python3.6/site-packages/lightgbm/engine.py:107: UserWarning: Found `early_stopping_round` in params. Will use it instead of argument\n",
      "  warnings.warn(\"Found `{}` in params. Will use it instead of argument\".format(alias))\n"
     ]
    },
    {
     "name": "stdout",
     "output_type": "stream",
     "text": [
      "Training until validation scores don't improve for 100 rounds.\n",
      "Early stopping, best iteration is:\n",
      "[72]\ttraining's l2: 110.701\tvalid_1's l2: 167.962\n",
      "| \u001b[0m 37      \u001b[0m | \u001b[0m-168.0   \u001b[0m | \u001b[0m 1.0     \u001b[0m | \u001b[0m 0.3273  \u001b[0m | \u001b[0m 1.884   \u001b[0m | \u001b[0m 0.6676  \u001b[0m | \u001b[0m 0.05666 \u001b[0m | \u001b[0m 5.082   \u001b[0m | \u001b[0m 27.41   \u001b[0m | \u001b[0m 0.1     \u001b[0m | \u001b[0m 32.13   \u001b[0m |\n"
     ]
    },
    {
     "name": "stderr",
     "output_type": "stream",
     "text": [
      "/Users/chienan/anaconda2/envs/python3/lib/python3.6/site-packages/lightgbm/engine.py:102: UserWarning: Found `num_iterations` in params. Will use it instead of argument\n",
      "  warnings.warn(\"Found `{}` in params. Will use it instead of argument\".format(alias))\n",
      "/Users/chienan/anaconda2/envs/python3/lib/python3.6/site-packages/lightgbm/engine.py:107: UserWarning: Found `early_stopping_round` in params. Will use it instead of argument\n",
      "  warnings.warn(\"Found `{}` in params. Will use it instead of argument\".format(alias))\n"
     ]
    },
    {
     "name": "stdout",
     "output_type": "stream",
     "text": [
      "Training until validation scores don't improve for 100 rounds.\n",
      "Early stopping, best iteration is:\n",
      "[68]\ttraining's l2: 116.974\tvalid_1's l2: 166.625\n",
      "| \u001b[0m 38      \u001b[0m | \u001b[0m-166.6   \u001b[0m | \u001b[0m 0.7245  \u001b[0m | \u001b[0m 0.2466  \u001b[0m | \u001b[0m 0.5589  \u001b[0m | \u001b[0m 2.13    \u001b[0m | \u001b[0m 0.04368 \u001b[0m | \u001b[0m 7.606   \u001b[0m | \u001b[0m 47.88   \u001b[0m | \u001b[0m 0.05543 \u001b[0m | \u001b[0m 25.17   \u001b[0m |\n"
     ]
    },
    {
     "name": "stderr",
     "output_type": "stream",
     "text": [
      "/Users/chienan/anaconda2/envs/python3/lib/python3.6/site-packages/lightgbm/engine.py:102: UserWarning: Found `num_iterations` in params. Will use it instead of argument\n",
      "  warnings.warn(\"Found `{}` in params. Will use it instead of argument\".format(alias))\n",
      "/Users/chienan/anaconda2/envs/python3/lib/python3.6/site-packages/lightgbm/engine.py:107: UserWarning: Found `early_stopping_round` in params. Will use it instead of argument\n",
      "  warnings.warn(\"Found `{}` in params. Will use it instead of argument\".format(alias))\n"
     ]
    },
    {
     "name": "stdout",
     "output_type": "stream",
     "text": [
      "Training until validation scores don't improve for 100 rounds.\n",
      "Early stopping, best iteration is:\n",
      "[37]\ttraining's l2: 124.36\tvalid_1's l2: 165.739\n",
      "| \u001b[0m 39      \u001b[0m | \u001b[0m-165.7   \u001b[0m | \u001b[0m 0.8994  \u001b[0m | \u001b[0m 0.1     \u001b[0m | \u001b[0m 0.1705  \u001b[0m | \u001b[0m 1.085   \u001b[0m | \u001b[0m 0.06787 \u001b[0m | \u001b[0m 4.67    \u001b[0m | \u001b[0m 6.131   \u001b[0m | \u001b[0m 0.02581 \u001b[0m | \u001b[0m 38.51   \u001b[0m |\n"
     ]
    },
    {
     "name": "stderr",
     "output_type": "stream",
     "text": [
      "/Users/chienan/anaconda2/envs/python3/lib/python3.6/site-packages/lightgbm/engine.py:102: UserWarning: Found `num_iterations` in params. Will use it instead of argument\n",
      "  warnings.warn(\"Found `{}` in params. Will use it instead of argument\".format(alias))\n",
      "/Users/chienan/anaconda2/envs/python3/lib/python3.6/site-packages/lightgbm/engine.py:107: UserWarning: Found `early_stopping_round` in params. Will use it instead of argument\n",
      "  warnings.warn(\"Found `{}` in params. Will use it instead of argument\".format(alias))\n"
     ]
    },
    {
     "name": "stdout",
     "output_type": "stream",
     "text": [
      "Training until validation scores don't improve for 100 rounds.\n",
      "Early stopping, best iteration is:\n",
      "[68]\ttraining's l2: 117.293\tvalid_1's l2: 165.451\n",
      "| \u001b[0m 40      \u001b[0m | \u001b[0m-165.5   \u001b[0m | \u001b[0m 0.659   \u001b[0m | \u001b[0m 0.1     \u001b[0m | \u001b[0m 0.5594  \u001b[0m | \u001b[0m 2.174   \u001b[0m | \u001b[0m 0.04923 \u001b[0m | \u001b[0m 7.278   \u001b[0m | \u001b[0m 47.96   \u001b[0m | \u001b[0m 0.08008 \u001b[0m | \u001b[0m 25.05   \u001b[0m |\n"
     ]
    },
    {
     "name": "stderr",
     "output_type": "stream",
     "text": [
      "/Users/chienan/anaconda2/envs/python3/lib/python3.6/site-packages/lightgbm/engine.py:102: UserWarning: Found `num_iterations` in params. Will use it instead of argument\n",
      "  warnings.warn(\"Found `{}` in params. Will use it instead of argument\".format(alias))\n",
      "/Users/chienan/anaconda2/envs/python3/lib/python3.6/site-packages/lightgbm/engine.py:107: UserWarning: Found `early_stopping_round` in params. Will use it instead of argument\n",
      "  warnings.warn(\"Found `{}` in params. Will use it instead of argument\".format(alias))\n"
     ]
    },
    {
     "name": "stdout",
     "output_type": "stream",
     "text": [
      "Training until validation scores don't improve for 100 rounds.\n",
      "Early stopping, best iteration is:\n",
      "[26]\ttraining's l2: 125.426\tvalid_1's l2: 166.565\n",
      "| \u001b[0m 41      \u001b[0m | \u001b[0m-166.6   \u001b[0m | \u001b[0m 0.7983  \u001b[0m | \u001b[0m 0.2131  \u001b[0m | \u001b[0m 1.664   \u001b[0m | \u001b[0m 2.239   \u001b[0m | \u001b[0m 0.05752 \u001b[0m | \u001b[0m 6.916   \u001b[0m | \u001b[0m 37.73   \u001b[0m | \u001b[0m 0.06848 \u001b[0m | \u001b[0m 39.7    \u001b[0m |\n"
     ]
    },
    {
     "name": "stderr",
     "output_type": "stream",
     "text": [
      "/Users/chienan/anaconda2/envs/python3/lib/python3.6/site-packages/lightgbm/engine.py:102: UserWarning: Found `num_iterations` in params. Will use it instead of argument\n",
      "  warnings.warn(\"Found `{}` in params. Will use it instead of argument\".format(alias))\n",
      "/Users/chienan/anaconda2/envs/python3/lib/python3.6/site-packages/lightgbm/engine.py:107: UserWarning: Found `early_stopping_round` in params. Will use it instead of argument\n",
      "  warnings.warn(\"Found `{}` in params. Will use it instead of argument\".format(alias))\n"
     ]
    },
    {
     "name": "stdout",
     "output_type": "stream",
     "text": [
      "Training until validation scores don't improve for 100 rounds.\n",
      "[200]\ttraining's l2: 88.0727\tvalid_1's l2: 167.049\n",
      "Early stopping, best iteration is:\n",
      "[147]\ttraining's l2: 99.2993\tvalid_1's l2: 166.316\n",
      "| \u001b[0m 42      \u001b[0m | \u001b[0m-166.3   \u001b[0m | \u001b[0m 0.9217  \u001b[0m | \u001b[0m 0.1112  \u001b[0m | \u001b[0m 2.659   \u001b[0m | \u001b[0m 2.834   \u001b[0m | \u001b[0m 0.02927 \u001b[0m | \u001b[0m 6.877   \u001b[0m | \u001b[0m 45.73   \u001b[0m | \u001b[0m 0.01606 \u001b[0m | \u001b[0m 34.84   \u001b[0m |\n"
     ]
    },
    {
     "name": "stderr",
     "output_type": "stream",
     "text": [
      "/Users/chienan/anaconda2/envs/python3/lib/python3.6/site-packages/lightgbm/engine.py:102: UserWarning: Found `num_iterations` in params. Will use it instead of argument\n",
      "  warnings.warn(\"Found `{}` in params. Will use it instead of argument\".format(alias))\n",
      "/Users/chienan/anaconda2/envs/python3/lib/python3.6/site-packages/lightgbm/engine.py:107: UserWarning: Found `early_stopping_round` in params. Will use it instead of argument\n",
      "  warnings.warn(\"Found `{}` in params. Will use it instead of argument\".format(alias))\n"
     ]
    },
    {
     "name": "stdout",
     "output_type": "stream",
     "text": [
      "Training until validation scores don't improve for 100 rounds.\n",
      "Early stopping, best iteration is:\n",
      "[85]\ttraining's l2: 114.966\tvalid_1's l2: 165.84\n",
      "| \u001b[0m 43      \u001b[0m | \u001b[0m-165.8   \u001b[0m | \u001b[0m 0.8354  \u001b[0m | \u001b[0m 0.1471  \u001b[0m | \u001b[0m 2.816   \u001b[0m | \u001b[0m 2.656   \u001b[0m | \u001b[0m 0.02947 \u001b[0m | \u001b[0m 6.844   \u001b[0m | \u001b[0m 45.58   \u001b[0m | \u001b[0m 0.02928 \u001b[0m | \u001b[0m 35.06   \u001b[0m |\n"
     ]
    },
    {
     "name": "stderr",
     "output_type": "stream",
     "text": [
      "/Users/chienan/anaconda2/envs/python3/lib/python3.6/site-packages/lightgbm/engine.py:102: UserWarning: Found `num_iterations` in params. Will use it instead of argument\n",
      "  warnings.warn(\"Found `{}` in params. Will use it instead of argument\".format(alias))\n",
      "/Users/chienan/anaconda2/envs/python3/lib/python3.6/site-packages/lightgbm/engine.py:107: UserWarning: Found `early_stopping_round` in params. Will use it instead of argument\n",
      "  warnings.warn(\"Found `{}` in params. Will use it instead of argument\".format(alias))\n"
     ]
    },
    {
     "name": "stdout",
     "output_type": "stream",
     "text": [
      "Training until validation scores don't improve for 100 rounds.\n",
      "[200]\ttraining's l2: 121.579\tvalid_1's l2: 165.976\n",
      "Early stopping, best iteration is:\n",
      "[299]\ttraining's l2: 109.14\tvalid_1's l2: 165.348\n",
      "| \u001b[0m 44      \u001b[0m | \u001b[0m-165.3   \u001b[0m | \u001b[0m 0.9668  \u001b[0m | \u001b[0m 0.1     \u001b[0m | \u001b[0m 2.807   \u001b[0m | \u001b[0m 2.861   \u001b[0m | \u001b[0m 0.01066 \u001b[0m | \u001b[0m 6.719   \u001b[0m | \u001b[0m 45.47   \u001b[0m | \u001b[0m 0.01269 \u001b[0m | \u001b[0m 35.02   \u001b[0m |\n"
     ]
    },
    {
     "name": "stderr",
     "output_type": "stream",
     "text": [
      "/Users/chienan/anaconda2/envs/python3/lib/python3.6/site-packages/lightgbm/engine.py:102: UserWarning: Found `num_iterations` in params. Will use it instead of argument\n",
      "  warnings.warn(\"Found `{}` in params. Will use it instead of argument\".format(alias))\n",
      "/Users/chienan/anaconda2/envs/python3/lib/python3.6/site-packages/lightgbm/engine.py:107: UserWarning: Found `early_stopping_round` in params. Will use it instead of argument\n",
      "  warnings.warn(\"Found `{}` in params. Will use it instead of argument\".format(alias))\n"
     ]
    },
    {
     "name": "stdout",
     "output_type": "stream",
     "text": [
      "Training until validation scores don't improve for 100 rounds.\n",
      "Early stopping, best iteration is:\n",
      "[79]\ttraining's l2: 110.427\tvalid_1's l2: 165.645\n",
      "| \u001b[0m 45      \u001b[0m | \u001b[0m-165.6   \u001b[0m | \u001b[0m 0.6516  \u001b[0m | \u001b[0m 0.1199  \u001b[0m | \u001b[0m 0.4863  \u001b[0m | \u001b[0m 2.016   \u001b[0m | \u001b[0m 0.05305 \u001b[0m | \u001b[0m 7.305   \u001b[0m | \u001b[0m 48.12   \u001b[0m | \u001b[0m 0.07588 \u001b[0m | \u001b[0m 24.93   \u001b[0m |\n"
     ]
    },
    {
     "name": "stderr",
     "output_type": "stream",
     "text": [
      "/Users/chienan/anaconda2/envs/python3/lib/python3.6/site-packages/lightgbm/engine.py:102: UserWarning: Found `num_iterations` in params. Will use it instead of argument\n",
      "  warnings.warn(\"Found `{}` in params. Will use it instead of argument\".format(alias))\n",
      "/Users/chienan/anaconda2/envs/python3/lib/python3.6/site-packages/lightgbm/engine.py:107: UserWarning: Found `early_stopping_round` in params. Will use it instead of argument\n",
      "  warnings.warn(\"Found `{}` in params. Will use it instead of argument\".format(alias))\n"
     ]
    },
    {
     "name": "stdout",
     "output_type": "stream",
     "text": [
      "Training until validation scores don't improve for 100 rounds.\n",
      "Early stopping, best iteration is:\n",
      "[41]\ttraining's l2: 111.385\tvalid_1's l2: 170.019\n",
      "| \u001b[0m 46      \u001b[0m | \u001b[0m-170.0   \u001b[0m | \u001b[0m 0.607   \u001b[0m | \u001b[0m 0.291   \u001b[0m | \u001b[0m 0.4526  \u001b[0m | \u001b[0m 2.035   \u001b[0m | \u001b[0m 0.09165 \u001b[0m | \u001b[0m 6.778   \u001b[0m | \u001b[0m 47.86   \u001b[0m | \u001b[0m 0.004769\u001b[0m | \u001b[0m 25.1    \u001b[0m |\n"
     ]
    },
    {
     "name": "stderr",
     "output_type": "stream",
     "text": [
      "/Users/chienan/anaconda2/envs/python3/lib/python3.6/site-packages/lightgbm/engine.py:102: UserWarning: Found `num_iterations` in params. Will use it instead of argument\n",
      "  warnings.warn(\"Found `{}` in params. Will use it instead of argument\".format(alias))\n",
      "/Users/chienan/anaconda2/envs/python3/lib/python3.6/site-packages/lightgbm/engine.py:107: UserWarning: Found `early_stopping_round` in params. Will use it instead of argument\n",
      "  warnings.warn(\"Found `{}` in params. Will use it instead of argument\".format(alias))\n"
     ]
    },
    {
     "name": "stdout",
     "output_type": "stream",
     "text": [
      "Training until validation scores don't improve for 100 rounds.\n",
      "Early stopping, best iteration is:\n",
      "[48]\ttraining's l2: 118.194\tvalid_1's l2: 167.54\n",
      "| \u001b[0m 47      \u001b[0m | \u001b[0m-167.5   \u001b[0m | \u001b[0m 0.9269  \u001b[0m | \u001b[0m 0.2547  \u001b[0m | \u001b[0m 1.866   \u001b[0m | \u001b[0m 0.8684  \u001b[0m | \u001b[0m 0.05936 \u001b[0m | \u001b[0m 5.413   \u001b[0m | \u001b[0m 27.78   \u001b[0m | \u001b[0m 0.04498 \u001b[0m | \u001b[0m 32.6    \u001b[0m |\n"
     ]
    },
    {
     "name": "stderr",
     "output_type": "stream",
     "text": [
      "/Users/chienan/anaconda2/envs/python3/lib/python3.6/site-packages/lightgbm/engine.py:102: UserWarning: Found `num_iterations` in params. Will use it instead of argument\n",
      "  warnings.warn(\"Found `{}` in params. Will use it instead of argument\".format(alias))\n",
      "/Users/chienan/anaconda2/envs/python3/lib/python3.6/site-packages/lightgbm/engine.py:107: UserWarning: Found `early_stopping_round` in params. Will use it instead of argument\n",
      "  warnings.warn(\"Found `{}` in params. Will use it instead of argument\".format(alias))\n"
     ]
    },
    {
     "name": "stdout",
     "output_type": "stream",
     "text": [
      "Training until validation scores don't improve for 100 rounds.\n",
      "[200]\ttraining's l2: 107.808\tvalid_1's l2: 168.242\n",
      "Early stopping, best iteration is:\n",
      "[161]\ttraining's l2: 114.366\tvalid_1's l2: 167.847\n",
      "| \u001b[0m 48      \u001b[0m | \u001b[0m-167.8   \u001b[0m | \u001b[0m 0.9188  \u001b[0m | \u001b[0m 0.3204  \u001b[0m | \u001b[0m 0.6144  \u001b[0m | \u001b[0m 2.214   \u001b[0m | \u001b[0m 0.01879 \u001b[0m | \u001b[0m 7.225   \u001b[0m | \u001b[0m 8.201   \u001b[0m | \u001b[0m 0.00743 \u001b[0m | \u001b[0m 25.32   \u001b[0m |\n"
     ]
    },
    {
     "name": "stderr",
     "output_type": "stream",
     "text": [
      "/Users/chienan/anaconda2/envs/python3/lib/python3.6/site-packages/lightgbm/engine.py:102: UserWarning: Found `num_iterations` in params. Will use it instead of argument\n",
      "  warnings.warn(\"Found `{}` in params. Will use it instead of argument\".format(alias))\n",
      "/Users/chienan/anaconda2/envs/python3/lib/python3.6/site-packages/lightgbm/engine.py:107: UserWarning: Found `early_stopping_round` in params. Will use it instead of argument\n",
      "  warnings.warn(\"Found `{}` in params. Will use it instead of argument\".format(alias))\n"
     ]
    },
    {
     "name": "stdout",
     "output_type": "stream",
     "text": [
      "Training until validation scores don't improve for 100 rounds.\n",
      "Early stopping, best iteration is:\n",
      "[49]\ttraining's l2: 104.713\tvalid_1's l2: 168.82\n",
      "| \u001b[0m 49      \u001b[0m | \u001b[0m-168.8   \u001b[0m | \u001b[0m 0.7752  \u001b[0m | \u001b[0m 0.2626  \u001b[0m | \u001b[0m 1.892   \u001b[0m | \u001b[0m 2.333   \u001b[0m | \u001b[0m 0.05693 \u001b[0m | \u001b[0m 6.971   \u001b[0m | \u001b[0m 38.06   \u001b[0m | \u001b[0m 0.07032 \u001b[0m | \u001b[0m 39.76   \u001b[0m |\n"
     ]
    },
    {
     "name": "stderr",
     "output_type": "stream",
     "text": [
      "/Users/chienan/anaconda2/envs/python3/lib/python3.6/site-packages/lightgbm/engine.py:102: UserWarning: Found `num_iterations` in params. Will use it instead of argument\n",
      "  warnings.warn(\"Found `{}` in params. Will use it instead of argument\".format(alias))\n",
      "/Users/chienan/anaconda2/envs/python3/lib/python3.6/site-packages/lightgbm/engine.py:107: UserWarning: Found `early_stopping_round` in params. Will use it instead of argument\n",
      "  warnings.warn(\"Found `{}` in params. Will use it instead of argument\".format(alias))\n"
     ]
    },
    {
     "name": "stdout",
     "output_type": "stream",
     "text": [
      "Training until validation scores don't improve for 100 rounds.\n",
      "[200]\ttraining's l2: 109.37\tvalid_1's l2: 166.447\n",
      "Early stopping, best iteration is:\n",
      "[250]\ttraining's l2: 101.985\tvalid_1's l2: 166.024\n",
      "| \u001b[0m 50      \u001b[0m | \u001b[0m-166.0   \u001b[0m | \u001b[0m 0.8246  \u001b[0m | \u001b[0m 0.3549  \u001b[0m | \u001b[0m 0.574   \u001b[0m | \u001b[0m 2.219   \u001b[0m | \u001b[0m 0.01825 \u001b[0m | \u001b[0m 7.596   \u001b[0m | \u001b[0m 48.1    \u001b[0m | \u001b[0m 0.08176 \u001b[0m | \u001b[0m 25.2    \u001b[0m |\n"
     ]
    },
    {
     "name": "stderr",
     "output_type": "stream",
     "text": [
      "/Users/chienan/anaconda2/envs/python3/lib/python3.6/site-packages/lightgbm/engine.py:102: UserWarning: Found `num_iterations` in params. Will use it instead of argument\n",
      "  warnings.warn(\"Found `{}` in params. Will use it instead of argument\".format(alias))\n",
      "/Users/chienan/anaconda2/envs/python3/lib/python3.6/site-packages/lightgbm/engine.py:107: UserWarning: Found `early_stopping_round` in params. Will use it instead of argument\n",
      "  warnings.warn(\"Found `{}` in params. Will use it instead of argument\".format(alias))\n"
     ]
    },
    {
     "name": "stdout",
     "output_type": "stream",
     "text": [
      "Training until validation scores don't improve for 100 rounds.\n",
      "[200]\ttraining's l2: 112.022\tvalid_1's l2: 166.429\n",
      "Early stopping, best iteration is:\n",
      "[197]\ttraining's l2: 112.35\tvalid_1's l2: 166.326\n",
      "| \u001b[0m 51      \u001b[0m | \u001b[0m-166.3   \u001b[0m | \u001b[0m 0.8462  \u001b[0m | \u001b[0m 0.1335  \u001b[0m | \u001b[0m 2.125   \u001b[0m | \u001b[0m 0.6167  \u001b[0m | \u001b[0m 0.02126 \u001b[0m | \u001b[0m 5.392   \u001b[0m | \u001b[0m 27.73   \u001b[0m | \u001b[0m 0.04934 \u001b[0m | \u001b[0m 31.9    \u001b[0m |\n"
     ]
    },
    {
     "name": "stderr",
     "output_type": "stream",
     "text": [
      "/Users/chienan/anaconda2/envs/python3/lib/python3.6/site-packages/lightgbm/engine.py:102: UserWarning: Found `num_iterations` in params. Will use it instead of argument\n",
      "  warnings.warn(\"Found `{}` in params. Will use it instead of argument\".format(alias))\n",
      "/Users/chienan/anaconda2/envs/python3/lib/python3.6/site-packages/lightgbm/engine.py:107: UserWarning: Found `early_stopping_round` in params. Will use it instead of argument\n",
      "  warnings.warn(\"Found `{}` in params. Will use it instead of argument\".format(alias))\n"
     ]
    },
    {
     "name": "stdout",
     "output_type": "stream",
     "text": [
      "Training until validation scores don't improve for 100 rounds.\n",
      "[200]\ttraining's l2: 112.078\tvalid_1's l2: 165.971\n",
      "Early stopping, best iteration is:\n",
      "[150]\ttraining's l2: 119.806\tvalid_1's l2: 165.625\n",
      "| \u001b[0m 52      \u001b[0m | \u001b[0m-165.6   \u001b[0m | \u001b[0m 0.7214  \u001b[0m | \u001b[0m 0.1337  \u001b[0m | \u001b[0m 0.6196  \u001b[0m | \u001b[0m 2.229   \u001b[0m | \u001b[0m 0.0194  \u001b[0m | \u001b[0m 7.401   \u001b[0m | \u001b[0m 48.16   \u001b[0m | \u001b[0m 0.1     \u001b[0m | \u001b[0m 25.0    \u001b[0m |\n"
     ]
    },
    {
     "name": "stderr",
     "output_type": "stream",
     "text": [
      "/Users/chienan/anaconda2/envs/python3/lib/python3.6/site-packages/lightgbm/engine.py:102: UserWarning: Found `num_iterations` in params. Will use it instead of argument\n",
      "  warnings.warn(\"Found `{}` in params. Will use it instead of argument\".format(alias))\n",
      "/Users/chienan/anaconda2/envs/python3/lib/python3.6/site-packages/lightgbm/engine.py:107: UserWarning: Found `early_stopping_round` in params. Will use it instead of argument\n",
      "  warnings.warn(\"Found `{}` in params. Will use it instead of argument\".format(alias))\n"
     ]
    },
    {
     "name": "stdout",
     "output_type": "stream",
     "text": [
      "Training until validation scores don't improve for 100 rounds.\n",
      "Early stopping, best iteration is:\n",
      "[68]\ttraining's l2: 118.114\tvalid_1's l2: 165.342\n",
      "| \u001b[0m 53      \u001b[0m | \u001b[0m-165.3   \u001b[0m | \u001b[0m 1.0     \u001b[0m | \u001b[0m 0.1     \u001b[0m | \u001b[0m 2.007   \u001b[0m | \u001b[0m 0.6128  \u001b[0m | \u001b[0m 0.04892 \u001b[0m | \u001b[0m 5.392   \u001b[0m | \u001b[0m 27.42   \u001b[0m | \u001b[0m 0.1     \u001b[0m | \u001b[0m 32.03   \u001b[0m |\n"
     ]
    },
    {
     "name": "stderr",
     "output_type": "stream",
     "text": [
      "/Users/chienan/anaconda2/envs/python3/lib/python3.6/site-packages/lightgbm/engine.py:102: UserWarning: Found `num_iterations` in params. Will use it instead of argument\n",
      "  warnings.warn(\"Found `{}` in params. Will use it instead of argument\".format(alias))\n",
      "/Users/chienan/anaconda2/envs/python3/lib/python3.6/site-packages/lightgbm/engine.py:107: UserWarning: Found `early_stopping_round` in params. Will use it instead of argument\n",
      "  warnings.warn(\"Found `{}` in params. Will use it instead of argument\".format(alias))\n"
     ]
    },
    {
     "name": "stdout",
     "output_type": "stream",
     "text": [
      "Training until validation scores don't improve for 100 rounds.\n",
      "Early stopping, best iteration is:\n",
      "[53]\ttraining's l2: 114.043\tvalid_1's l2: 166.414\n",
      "| \u001b[0m 54      \u001b[0m | \u001b[0m-166.4   \u001b[0m | \u001b[0m 0.87    \u001b[0m | \u001b[0m 0.1     \u001b[0m | \u001b[0m 1.653   \u001b[0m | \u001b[0m 2.421   \u001b[0m | \u001b[0m 0.04627 \u001b[0m | \u001b[0m 6.791   \u001b[0m | \u001b[0m 37.5    \u001b[0m | \u001b[0m 0.08504 \u001b[0m | \u001b[0m 39.89   \u001b[0m |\n"
     ]
    },
    {
     "name": "stderr",
     "output_type": "stream",
     "text": [
      "/Users/chienan/anaconda2/envs/python3/lib/python3.6/site-packages/lightgbm/engine.py:102: UserWarning: Found `num_iterations` in params. Will use it instead of argument\n",
      "  warnings.warn(\"Found `{}` in params. Will use it instead of argument\".format(alias))\n",
      "/Users/chienan/anaconda2/envs/python3/lib/python3.6/site-packages/lightgbm/engine.py:107: UserWarning: Found `early_stopping_round` in params. Will use it instead of argument\n",
      "  warnings.warn(\"Found `{}` in params. Will use it instead of argument\".format(alias))\n"
     ]
    },
    {
     "name": "stdout",
     "output_type": "stream",
     "text": [
      "Training until validation scores don't improve for 100 rounds.\n",
      "[200]\ttraining's l2: 113.654\tvalid_1's l2: 166.49\n",
      "[400]\ttraining's l2: 92.4116\tvalid_1's l2: 166.555\n",
      "Early stopping, best iteration is:\n",
      "[317]\ttraining's l2: 100.074\tvalid_1's l2: 166.143\n",
      "| \u001b[0m 55      \u001b[0m | \u001b[0m-166.1   \u001b[0m | \u001b[0m 0.8538  \u001b[0m | \u001b[0m 0.1499  \u001b[0m | \u001b[0m 2.691   \u001b[0m | \u001b[0m 2.918   \u001b[0m | \u001b[0m 0.01298 \u001b[0m | \u001b[0m 6.749   \u001b[0m | \u001b[0m 45.56   \u001b[0m | \u001b[0m 0.00182 \u001b[0m | \u001b[0m 35.18   \u001b[0m |\n"
     ]
    },
    {
     "name": "stderr",
     "output_type": "stream",
     "text": [
      "/Users/chienan/anaconda2/envs/python3/lib/python3.6/site-packages/lightgbm/engine.py:102: UserWarning: Found `num_iterations` in params. Will use it instead of argument\n",
      "  warnings.warn(\"Found `{}` in params. Will use it instead of argument\".format(alias))\n",
      "/Users/chienan/anaconda2/envs/python3/lib/python3.6/site-packages/lightgbm/engine.py:107: UserWarning: Found `early_stopping_round` in params. Will use it instead of argument\n",
      "  warnings.warn(\"Found `{}` in params. Will use it instead of argument\".format(alias))\n"
     ]
    },
    {
     "name": "stdout",
     "output_type": "stream",
     "text": [
      "Training until validation scores don't improve for 100 rounds.\n",
      "Early stopping, best iteration is:\n",
      "[33]\ttraining's l2: 106.85\tvalid_1's l2: 166.97\n",
      "| \u001b[0m 56      \u001b[0m | \u001b[0m-167.0   \u001b[0m | \u001b[0m 0.5211  \u001b[0m | \u001b[0m 0.1447  \u001b[0m | \u001b[0m 1.72    \u001b[0m | \u001b[0m 2.434   \u001b[0m | \u001b[0m 0.09982 \u001b[0m | \u001b[0m 6.482   \u001b[0m | \u001b[0m 37.58   \u001b[0m | \u001b[0m 0.02869 \u001b[0m | \u001b[0m 40.33   \u001b[0m |\n"
     ]
    },
    {
     "name": "stderr",
     "output_type": "stream",
     "text": [
      "/Users/chienan/anaconda2/envs/python3/lib/python3.6/site-packages/lightgbm/engine.py:102: UserWarning: Found `num_iterations` in params. Will use it instead of argument\n",
      "  warnings.warn(\"Found `{}` in params. Will use it instead of argument\".format(alias))\n",
      "/Users/chienan/anaconda2/envs/python3/lib/python3.6/site-packages/lightgbm/engine.py:107: UserWarning: Found `early_stopping_round` in params. Will use it instead of argument\n",
      "  warnings.warn(\"Found `{}` in params. Will use it instead of argument\".format(alias))\n"
     ]
    },
    {
     "name": "stdout",
     "output_type": "stream",
     "text": [
      "Training until validation scores don't improve for 100 rounds.\n",
      "Early stopping, best iteration is:\n",
      "[41]\ttraining's l2: 122.683\tvalid_1's l2: 166.892\n",
      "| \u001b[0m 57      \u001b[0m | \u001b[0m-166.9   \u001b[0m | \u001b[0m 0.9166  \u001b[0m | \u001b[0m 0.1199  \u001b[0m | \u001b[0m 0.08583 \u001b[0m | \u001b[0m 0.9228  \u001b[0m | \u001b[0m 0.06303 \u001b[0m | \u001b[0m 4.76    \u001b[0m | \u001b[0m 6.66    \u001b[0m | \u001b[0m 0.02716 \u001b[0m | \u001b[0m 38.13   \u001b[0m |\n"
     ]
    },
    {
     "name": "stderr",
     "output_type": "stream",
     "text": [
      "/Users/chienan/anaconda2/envs/python3/lib/python3.6/site-packages/lightgbm/engine.py:102: UserWarning: Found `num_iterations` in params. Will use it instead of argument\n",
      "  warnings.warn(\"Found `{}` in params. Will use it instead of argument\".format(alias))\n",
      "/Users/chienan/anaconda2/envs/python3/lib/python3.6/site-packages/lightgbm/engine.py:107: UserWarning: Found `early_stopping_round` in params. Will use it instead of argument\n",
      "  warnings.warn(\"Found `{}` in params. Will use it instead of argument\".format(alias))\n"
     ]
    },
    {
     "name": "stdout",
     "output_type": "stream",
     "text": [
      "Training until validation scores don't improve for 100 rounds.\n",
      "Early stopping, best iteration is:\n",
      "[25]\ttraining's l2: 121.449\tvalid_1's l2: 168.06\n",
      "| \u001b[0m 58      \u001b[0m | \u001b[0m-168.1   \u001b[0m | \u001b[0m 0.7861  \u001b[0m | \u001b[0m 0.1002  \u001b[0m | \u001b[0m 2.863   \u001b[0m | \u001b[0m 2.834   \u001b[0m | \u001b[0m 0.08877 \u001b[0m | \u001b[0m 6.699   \u001b[0m | \u001b[0m 45.45   \u001b[0m | \u001b[0m 0.09951 \u001b[0m | \u001b[0m 34.89   \u001b[0m |\n"
     ]
    },
    {
     "name": "stderr",
     "output_type": "stream",
     "text": [
      "/Users/chienan/anaconda2/envs/python3/lib/python3.6/site-packages/lightgbm/engine.py:102: UserWarning: Found `num_iterations` in params. Will use it instead of argument\n",
      "  warnings.warn(\"Found `{}` in params. Will use it instead of argument\".format(alias))\n",
      "/Users/chienan/anaconda2/envs/python3/lib/python3.6/site-packages/lightgbm/engine.py:107: UserWarning: Found `early_stopping_round` in params. Will use it instead of argument\n",
      "  warnings.warn(\"Found `{}` in params. Will use it instead of argument\".format(alias))\n"
     ]
    },
    {
     "name": "stdout",
     "output_type": "stream",
     "text": [
      "Training until validation scores don't improve for 100 rounds.\n",
      "Early stopping, best iteration is:\n",
      "[27]\ttraining's l2: 125.041\tvalid_1's l2: 168.2\n",
      "| \u001b[0m 59      \u001b[0m | \u001b[0m-168.2   \u001b[0m | \u001b[0m 0.5551  \u001b[0m | \u001b[0m 0.316   \u001b[0m | \u001b[0m 0.7594  \u001b[0m | \u001b[0m 2.529   \u001b[0m | \u001b[0m 0.07989 \u001b[0m | \u001b[0m 7.612   \u001b[0m | \u001b[0m 48.21   \u001b[0m | \u001b[0m 0.01111 \u001b[0m | \u001b[0m 25.08   \u001b[0m |\n"
     ]
    },
    {
     "name": "stderr",
     "output_type": "stream",
     "text": [
      "/Users/chienan/anaconda2/envs/python3/lib/python3.6/site-packages/lightgbm/engine.py:102: UserWarning: Found `num_iterations` in params. Will use it instead of argument\n",
      "  warnings.warn(\"Found `{}` in params. Will use it instead of argument\".format(alias))\n",
      "/Users/chienan/anaconda2/envs/python3/lib/python3.6/site-packages/lightgbm/engine.py:107: UserWarning: Found `early_stopping_round` in params. Will use it instead of argument\n",
      "  warnings.warn(\"Found `{}` in params. Will use it instead of argument\".format(alias))\n"
     ]
    },
    {
     "name": "stdout",
     "output_type": "stream",
     "text": [
      "Training until validation scores don't improve for 100 rounds.\n",
      "Early stopping, best iteration is:\n",
      "[39]\ttraining's l2: 113.278\tvalid_1's l2: 167.13\n",
      "| \u001b[0m 60      \u001b[0m | \u001b[0m-167.1   \u001b[0m | \u001b[0m 0.5214  \u001b[0m | \u001b[0m 0.1368  \u001b[0m | \u001b[0m 0.6815  \u001b[0m | \u001b[0m 2.1     \u001b[0m | \u001b[0m 0.09931 \u001b[0m | \u001b[0m 7.448   \u001b[0m | \u001b[0m 47.63   \u001b[0m | \u001b[0m 0.07321 \u001b[0m | \u001b[0m 24.95   \u001b[0m |\n"
     ]
    },
    {
     "name": "stderr",
     "output_type": "stream",
     "text": [
      "/Users/chienan/anaconda2/envs/python3/lib/python3.6/site-packages/lightgbm/engine.py:102: UserWarning: Found `num_iterations` in params. Will use it instead of argument\n",
      "  warnings.warn(\"Found `{}` in params. Will use it instead of argument\".format(alias))\n",
      "/Users/chienan/anaconda2/envs/python3/lib/python3.6/site-packages/lightgbm/engine.py:107: UserWarning: Found `early_stopping_round` in params. Will use it instead of argument\n",
      "  warnings.warn(\"Found `{}` in params. Will use it instead of argument\".format(alias))\n"
     ]
    },
    {
     "name": "stdout",
     "output_type": "stream",
     "text": [
      "Training until validation scores don't improve for 100 rounds.\n",
      "Early stopping, best iteration is:\n",
      "[42]\ttraining's l2: 112.833\tvalid_1's l2: 166.124\n",
      "| \u001b[0m 61      \u001b[0m | \u001b[0m-166.1   \u001b[0m | \u001b[0m 0.8301  \u001b[0m | \u001b[0m 0.1202  \u001b[0m | \u001b[0m 1.541   \u001b[0m | \u001b[0m 2.109   \u001b[0m | \u001b[0m 0.05815 \u001b[0m | \u001b[0m 6.769   \u001b[0m | \u001b[0m 37.69   \u001b[0m | \u001b[0m 0.1     \u001b[0m | \u001b[0m 39.93   \u001b[0m |\n"
     ]
    },
    {
     "name": "stderr",
     "output_type": "stream",
     "text": [
      "/Users/chienan/anaconda2/envs/python3/lib/python3.6/site-packages/lightgbm/engine.py:102: UserWarning: Found `num_iterations` in params. Will use it instead of argument\n",
      "  warnings.warn(\"Found `{}` in params. Will use it instead of argument\".format(alias))\n",
      "/Users/chienan/anaconda2/envs/python3/lib/python3.6/site-packages/lightgbm/engine.py:107: UserWarning: Found `early_stopping_round` in params. Will use it instead of argument\n",
      "  warnings.warn(\"Found `{}` in params. Will use it instead of argument\".format(alias))\n"
     ]
    },
    {
     "name": "stdout",
     "output_type": "stream",
     "text": [
      "Training until validation scores don't improve for 100 rounds.\n",
      "[200]\ttraining's l2: 168.507\tvalid_1's l2: 180.787\n",
      "[400]\ttraining's l2: 159.979\tvalid_1's l2: 176.586\n",
      "[600]\ttraining's l2: 152.97\tvalid_1's l2: 173.557\n",
      "[800]\ttraining's l2: 146.999\tvalid_1's l2: 171.314\n",
      "[1000]\ttraining's l2: 141.87\tvalid_1's l2: 169.692\n",
      "Did not meet early stopping. Best iteration is:\n",
      "[1000]\ttraining's l2: 141.87\tvalid_1's l2: 169.692\n",
      "| \u001b[0m 62      \u001b[0m | \u001b[0m-169.7   \u001b[0m | \u001b[0m 1.0     \u001b[0m | \u001b[0m 0.1     \u001b[0m | \u001b[0m 2.719   \u001b[0m | \u001b[0m 2.709   \u001b[0m | \u001b[0m 0.001   \u001b[0m | \u001b[0m 6.715   \u001b[0m | \u001b[0m 45.57   \u001b[0m | \u001b[0m 0.001   \u001b[0m | \u001b[0m 35.1    \u001b[0m |\n"
     ]
    },
    {
     "name": "stderr",
     "output_type": "stream",
     "text": [
      "/Users/chienan/anaconda2/envs/python3/lib/python3.6/site-packages/lightgbm/engine.py:102: UserWarning: Found `num_iterations` in params. Will use it instead of argument\n",
      "  warnings.warn(\"Found `{}` in params. Will use it instead of argument\".format(alias))\n",
      "/Users/chienan/anaconda2/envs/python3/lib/python3.6/site-packages/lightgbm/engine.py:107: UserWarning: Found `early_stopping_round` in params. Will use it instead of argument\n",
      "  warnings.warn(\"Found `{}` in params. Will use it instead of argument\".format(alias))\n"
     ]
    },
    {
     "name": "stdout",
     "output_type": "stream",
     "text": [
      "Training until validation scores don't improve for 100 rounds.\n",
      "Early stopping, best iteration is:\n",
      "[99]\ttraining's l2: 110.62\tvalid_1's l2: 165.415\n",
      "| \u001b[0m 63      \u001b[0m | \u001b[0m-165.4   \u001b[0m | \u001b[0m 0.7077  \u001b[0m | \u001b[0m 0.1952  \u001b[0m | \u001b[0m 0.5444  \u001b[0m | \u001b[0m 2.113   \u001b[0m | \u001b[0m 0.03905 \u001b[0m | \u001b[0m 7.369   \u001b[0m | \u001b[0m 48.06   \u001b[0m | \u001b[0m 0.08373 \u001b[0m | \u001b[0m 25.04   \u001b[0m |\n"
     ]
    },
    {
     "name": "stderr",
     "output_type": "stream",
     "text": [
      "/Users/chienan/anaconda2/envs/python3/lib/python3.6/site-packages/lightgbm/engine.py:102: UserWarning: Found `num_iterations` in params. Will use it instead of argument\n",
      "  warnings.warn(\"Found `{}` in params. Will use it instead of argument\".format(alias))\n",
      "/Users/chienan/anaconda2/envs/python3/lib/python3.6/site-packages/lightgbm/engine.py:107: UserWarning: Found `early_stopping_round` in params. Will use it instead of argument\n",
      "  warnings.warn(\"Found `{}` in params. Will use it instead of argument\".format(alias))\n"
     ]
    },
    {
     "name": "stdout",
     "output_type": "stream",
     "text": [
      "Training until validation scores don't improve for 100 rounds.\n",
      "[200]\ttraining's l2: 116.069\tvalid_1's l2: 167.388\n",
      "Early stopping, best iteration is:\n",
      "[263]\ttraining's l2: 110.344\tvalid_1's l2: 167.13\n",
      "| \u001b[0m 64      \u001b[0m | \u001b[0m-167.1   \u001b[0m | \u001b[0m 0.5117  \u001b[0m | \u001b[0m 0.6354  \u001b[0m | \u001b[0m 0.776   \u001b[0m | \u001b[0m 0.2149  \u001b[0m | \u001b[0m 0.0148  \u001b[0m | \u001b[0m 5.142   \u001b[0m | \u001b[0m 6.734   \u001b[0m | \u001b[0m 0.08337 \u001b[0m | \u001b[0m 24.58   \u001b[0m |\n"
     ]
    },
    {
     "name": "stderr",
     "output_type": "stream",
     "text": [
      "/Users/chienan/anaconda2/envs/python3/lib/python3.6/site-packages/lightgbm/engine.py:102: UserWarning: Found `num_iterations` in params. Will use it instead of argument\n",
      "  warnings.warn(\"Found `{}` in params. Will use it instead of argument\".format(alias))\n",
      "/Users/chienan/anaconda2/envs/python3/lib/python3.6/site-packages/lightgbm/engine.py:107: UserWarning: Found `early_stopping_round` in params. Will use it instead of argument\n",
      "  warnings.warn(\"Found `{}` in params. Will use it instead of argument\".format(alias))\n"
     ]
    },
    {
     "name": "stdout",
     "output_type": "stream",
     "text": [
      "Training until validation scores don't improve for 100 rounds.\n",
      "Early stopping, best iteration is:\n",
      "[43]\ttraining's l2: 118.115\tvalid_1's l2: 166.649\n",
      "| \u001b[0m 65      \u001b[0m | \u001b[0m-166.6   \u001b[0m | \u001b[0m 0.8753  \u001b[0m | \u001b[0m 0.1839  \u001b[0m | \u001b[0m 0.6314  \u001b[0m | \u001b[0m 1.624   \u001b[0m | \u001b[0m 0.07015 \u001b[0m | \u001b[0m 7.449   \u001b[0m | \u001b[0m 48.28   \u001b[0m | \u001b[0m 0.02525 \u001b[0m | \u001b[0m 25.34   \u001b[0m |\n"
     ]
    },
    {
     "name": "stderr",
     "output_type": "stream",
     "text": [
      "/Users/chienan/anaconda2/envs/python3/lib/python3.6/site-packages/lightgbm/engine.py:102: UserWarning: Found `num_iterations` in params. Will use it instead of argument\n",
      "  warnings.warn(\"Found `{}` in params. Will use it instead of argument\".format(alias))\n",
      "/Users/chienan/anaconda2/envs/python3/lib/python3.6/site-packages/lightgbm/engine.py:107: UserWarning: Found `early_stopping_round` in params. Will use it instead of argument\n",
      "  warnings.warn(\"Found `{}` in params. Will use it instead of argument\".format(alias))\n"
     ]
    },
    {
     "name": "stdout",
     "output_type": "stream",
     "text": [
      "Training until validation scores don't improve for 100 rounds.\n",
      "Early stopping, best iteration is:\n",
      "[90]\ttraining's l2: 88.8652\tvalid_1's l2: 167.729\n",
      "| \u001b[0m 66      \u001b[0m | \u001b[0m-167.7   \u001b[0m | \u001b[0m 0.5887  \u001b[0m | \u001b[0m 0.3273  \u001b[0m | \u001b[0m 2.877   \u001b[0m | \u001b[0m 2.835   \u001b[0m | \u001b[0m 0.05813 \u001b[0m | \u001b[0m 7.269   \u001b[0m | \u001b[0m 45.52   \u001b[0m | \u001b[0m 0.06183 \u001b[0m | \u001b[0m 35.28   \u001b[0m |\n"
     ]
    },
    {
     "name": "stderr",
     "output_type": "stream",
     "text": [
      "/Users/chienan/anaconda2/envs/python3/lib/python3.6/site-packages/lightgbm/engine.py:102: UserWarning: Found `num_iterations` in params. Will use it instead of argument\n",
      "  warnings.warn(\"Found `{}` in params. Will use it instead of argument\".format(alias))\n",
      "/Users/chienan/anaconda2/envs/python3/lib/python3.6/site-packages/lightgbm/engine.py:107: UserWarning: Found `early_stopping_round` in params. Will use it instead of argument\n",
      "  warnings.warn(\"Found `{}` in params. Will use it instead of argument\".format(alias))\n"
     ]
    },
    {
     "name": "stdout",
     "output_type": "stream",
     "text": [
      "Training until validation scores don't improve for 100 rounds.\n",
      "Early stopping, best iteration is:\n",
      "[26]\ttraining's l2: 123.583\tvalid_1's l2: 169.057\n",
      "| \u001b[0m 67      \u001b[0m | \u001b[0m-169.1   \u001b[0m | \u001b[0m 0.9773  \u001b[0m | \u001b[0m 0.2987  \u001b[0m | \u001b[0m 0.1871  \u001b[0m | \u001b[0m 0.8773  \u001b[0m | \u001b[0m 0.08298 \u001b[0m | \u001b[0m 4.718   \u001b[0m | \u001b[0m 6.576   \u001b[0m | \u001b[0m 0.03714 \u001b[0m | \u001b[0m 38.5    \u001b[0m |\n"
     ]
    },
    {
     "name": "stderr",
     "output_type": "stream",
     "text": [
      "/Users/chienan/anaconda2/envs/python3/lib/python3.6/site-packages/lightgbm/engine.py:102: UserWarning: Found `num_iterations` in params. Will use it instead of argument\n",
      "  warnings.warn(\"Found `{}` in params. Will use it instead of argument\".format(alias))\n",
      "/Users/chienan/anaconda2/envs/python3/lib/python3.6/site-packages/lightgbm/engine.py:107: UserWarning: Found `early_stopping_round` in params. Will use it instead of argument\n",
      "  warnings.warn(\"Found `{}` in params. Will use it instead of argument\".format(alias))\n"
     ]
    },
    {
     "name": "stdout",
     "output_type": "stream",
     "text": [
      "Training until validation scores don't improve for 100 rounds.\n",
      "[200]\ttraining's l2: 103.461\tvalid_1's l2: 166.371\n",
      "Early stopping, best iteration is:\n",
      "[179]\ttraining's l2: 106.877\tvalid_1's l2: 166.256\n",
      "| \u001b[0m 68      \u001b[0m | \u001b[0m-166.3   \u001b[0m | \u001b[0m 0.5723  \u001b[0m | \u001b[0m 0.1308  \u001b[0m | \u001b[0m 2.904   \u001b[0m | \u001b[0m 2.997   \u001b[0m | \u001b[0m 0.01854 \u001b[0m | \u001b[0m 6.802   \u001b[0m | \u001b[0m 45.48   \u001b[0m | \u001b[0m 0.03125 \u001b[0m | \u001b[0m 35.26   \u001b[0m |\n"
     ]
    },
    {
     "name": "stderr",
     "output_type": "stream",
     "text": [
      "/Users/chienan/anaconda2/envs/python3/lib/python3.6/site-packages/lightgbm/engine.py:102: UserWarning: Found `num_iterations` in params. Will use it instead of argument\n",
      "  warnings.warn(\"Found `{}` in params. Will use it instead of argument\".format(alias))\n",
      "/Users/chienan/anaconda2/envs/python3/lib/python3.6/site-packages/lightgbm/engine.py:107: UserWarning: Found `early_stopping_round` in params. Will use it instead of argument\n",
      "  warnings.warn(\"Found `{}` in params. Will use it instead of argument\".format(alias))\n"
     ]
    },
    {
     "name": "stdout",
     "output_type": "stream",
     "text": [
      "Training until validation scores don't improve for 100 rounds.\n",
      "Early stopping, best iteration is:\n",
      "[57]\ttraining's l2: 114.852\tvalid_1's l2: 168.458\n",
      "| \u001b[0m 69      \u001b[0m | \u001b[0m-168.5   \u001b[0m | \u001b[0m 0.6567  \u001b[0m | \u001b[0m 0.4106  \u001b[0m | \u001b[0m 0.9924  \u001b[0m | \u001b[0m 1.737   \u001b[0m | \u001b[0m 0.05246 \u001b[0m | \u001b[0m 7.557   \u001b[0m | \u001b[0m 48.08   \u001b[0m | \u001b[0m 0.05618 \u001b[0m | \u001b[0m 24.93   \u001b[0m |\n"
     ]
    },
    {
     "name": "stderr",
     "output_type": "stream",
     "text": [
      "/Users/chienan/anaconda2/envs/python3/lib/python3.6/site-packages/lightgbm/engine.py:102: UserWarning: Found `num_iterations` in params. Will use it instead of argument\n",
      "  warnings.warn(\"Found `{}` in params. Will use it instead of argument\".format(alias))\n",
      "/Users/chienan/anaconda2/envs/python3/lib/python3.6/site-packages/lightgbm/engine.py:107: UserWarning: Found `early_stopping_round` in params. Will use it instead of argument\n",
      "  warnings.warn(\"Found `{}` in params. Will use it instead of argument\".format(alias))\n"
     ]
    },
    {
     "name": "stdout",
     "output_type": "stream",
     "text": [
      "Training until validation scores don't improve for 100 rounds.\n",
      "[200]\ttraining's l2: 106.794\tvalid_1's l2: 168.012\n",
      "Early stopping, best iteration is:\n",
      "[112]\ttraining's l2: 122.601\tvalid_1's l2: 167.336\n",
      "| \u001b[0m 70      \u001b[0m | \u001b[0m-167.3   \u001b[0m | \u001b[0m 0.8945  \u001b[0m | \u001b[0m 0.2963  \u001b[0m | \u001b[0m 0.3347  \u001b[0m | \u001b[0m 2.276   \u001b[0m | \u001b[0m 0.02118 \u001b[0m | \u001b[0m 7.116   \u001b[0m | \u001b[0m 48.52   \u001b[0m | \u001b[0m 0.01049 \u001b[0m | \u001b[0m 25.22   \u001b[0m |\n"
     ]
    },
    {
     "name": "stderr",
     "output_type": "stream",
     "text": [
      "/Users/chienan/anaconda2/envs/python3/lib/python3.6/site-packages/lightgbm/engine.py:102: UserWarning: Found `num_iterations` in params. Will use it instead of argument\n",
      "  warnings.warn(\"Found `{}` in params. Will use it instead of argument\".format(alias))\n",
      "/Users/chienan/anaconda2/envs/python3/lib/python3.6/site-packages/lightgbm/engine.py:107: UserWarning: Found `early_stopping_round` in params. Will use it instead of argument\n",
      "  warnings.warn(\"Found `{}` in params. Will use it instead of argument\".format(alias))\n"
     ]
    },
    {
     "name": "stdout",
     "output_type": "stream",
     "text": [
      "Training until validation scores don't improve for 100 rounds.\n",
      "[200]\ttraining's l2: 106.653\tvalid_1's l2: 167.853\n",
      "Early stopping, best iteration is:\n",
      "[232]\ttraining's l2: 101.691\tvalid_1's l2: 167.404\n",
      "| \u001b[0m 71      \u001b[0m | \u001b[0m-167.4   \u001b[0m | \u001b[0m 0.6289  \u001b[0m | \u001b[0m 0.8001  \u001b[0m | \u001b[0m 3.758   \u001b[0m | \u001b[0m 0.9148  \u001b[0m | \u001b[0m 0.01372 \u001b[0m | \u001b[0m 6.844   \u001b[0m | \u001b[0m 12.47   \u001b[0m | \u001b[0m 0.02255 \u001b[0m | \u001b[0m 32.19   \u001b[0m |\n"
     ]
    },
    {
     "name": "stderr",
     "output_type": "stream",
     "text": [
      "/Users/chienan/anaconda2/envs/python3/lib/python3.6/site-packages/lightgbm/engine.py:102: UserWarning: Found `num_iterations` in params. Will use it instead of argument\n",
      "  warnings.warn(\"Found `{}` in params. Will use it instead of argument\".format(alias))\n",
      "/Users/chienan/anaconda2/envs/python3/lib/python3.6/site-packages/lightgbm/engine.py:107: UserWarning: Found `early_stopping_round` in params. Will use it instead of argument\n",
      "  warnings.warn(\"Found `{}` in params. Will use it instead of argument\".format(alias))\n"
     ]
    },
    {
     "name": "stdout",
     "output_type": "stream",
     "text": [
      "Training until validation scores don't improve for 100 rounds.\n",
      "Early stopping, best iteration is:\n",
      "[50]\ttraining's l2: 99.0464\tvalid_1's l2: 168.596\n",
      "| \u001b[0m 72      \u001b[0m | \u001b[0m-168.6   \u001b[0m | \u001b[0m 0.9207  \u001b[0m | \u001b[0m 0.2435  \u001b[0m | \u001b[0m 3.213   \u001b[0m | \u001b[0m 2.443   \u001b[0m | \u001b[0m 0.08178 \u001b[0m | \u001b[0m 7.106   \u001b[0m | \u001b[0m 45.76   \u001b[0m | \u001b[0m 0.01049 \u001b[0m | \u001b[0m 35.07   \u001b[0m |\n"
     ]
    },
    {
     "name": "stderr",
     "output_type": "stream",
     "text": [
      "/Users/chienan/anaconda2/envs/python3/lib/python3.6/site-packages/lightgbm/engine.py:102: UserWarning: Found `num_iterations` in params. Will use it instead of argument\n",
      "  warnings.warn(\"Found `{}` in params. Will use it instead of argument\".format(alias))\n",
      "/Users/chienan/anaconda2/envs/python3/lib/python3.6/site-packages/lightgbm/engine.py:107: UserWarning: Found `early_stopping_round` in params. Will use it instead of argument\n",
      "  warnings.warn(\"Found `{}` in params. Will use it instead of argument\".format(alias))\n"
     ]
    },
    {
     "name": "stdout",
     "output_type": "stream",
     "text": [
      "Training until validation scores don't improve for 100 rounds.\n",
      "Early stopping, best iteration is:\n",
      "[36]\ttraining's l2: 129.968\tvalid_1's l2: 168.539\n",
      "| \u001b[0m 73      \u001b[0m | \u001b[0m-168.5   \u001b[0m | \u001b[0m 0.8225  \u001b[0m | \u001b[0m 0.2742  \u001b[0m | \u001b[0m 2.384   \u001b[0m | \u001b[0m 0.5569  \u001b[0m | \u001b[0m 0.04686 \u001b[0m | \u001b[0m 5.466   \u001b[0m | \u001b[0m 27.64   \u001b[0m | \u001b[0m 0.02338 \u001b[0m | \u001b[0m 31.64   \u001b[0m |\n"
     ]
    },
    {
     "name": "stderr",
     "output_type": "stream",
     "text": [
      "/Users/chienan/anaconda2/envs/python3/lib/python3.6/site-packages/lightgbm/engine.py:102: UserWarning: Found `num_iterations` in params. Will use it instead of argument\n",
      "  warnings.warn(\"Found `{}` in params. Will use it instead of argument\".format(alias))\n",
      "/Users/chienan/anaconda2/envs/python3/lib/python3.6/site-packages/lightgbm/engine.py:107: UserWarning: Found `early_stopping_round` in params. Will use it instead of argument\n",
      "  warnings.warn(\"Found `{}` in params. Will use it instead of argument\".format(alias))\n"
     ]
    },
    {
     "name": "stdout",
     "output_type": "stream",
     "text": [
      "Training until validation scores don't improve for 100 rounds.\n",
      "Early stopping, best iteration is:\n",
      "[41]\ttraining's l2: 118.396\tvalid_1's l2: 168.943\n",
      "| \u001b[0m 74      \u001b[0m | \u001b[0m-168.9   \u001b[0m | \u001b[0m 0.9381  \u001b[0m | \u001b[0m 0.3363  \u001b[0m | \u001b[0m 2.996   \u001b[0m | \u001b[0m 2.648   \u001b[0m | \u001b[0m 0.04959 \u001b[0m | \u001b[0m 6.686   \u001b[0m | \u001b[0m 45.04   \u001b[0m | \u001b[0m 0.007183\u001b[0m | \u001b[0m 35.14   \u001b[0m |\n"
     ]
    },
    {
     "name": "stderr",
     "output_type": "stream",
     "text": [
      "/Users/chienan/anaconda2/envs/python3/lib/python3.6/site-packages/lightgbm/engine.py:102: UserWarning: Found `num_iterations` in params. Will use it instead of argument\n",
      "  warnings.warn(\"Found `{}` in params. Will use it instead of argument\".format(alias))\n",
      "/Users/chienan/anaconda2/envs/python3/lib/python3.6/site-packages/lightgbm/engine.py:107: UserWarning: Found `early_stopping_round` in params. Will use it instead of argument\n",
      "  warnings.warn(\"Found `{}` in params. Will use it instead of argument\".format(alias))\n"
     ]
    },
    {
     "name": "stdout",
     "output_type": "stream",
     "text": [
      "Training until validation scores don't improve for 100 rounds.\n",
      "Early stopping, best iteration is:\n",
      "[56]\ttraining's l2: 112.613\tvalid_1's l2: 166.614\n",
      "| \u001b[0m 75      \u001b[0m | \u001b[0m-166.6   \u001b[0m | \u001b[0m 0.9056  \u001b[0m | \u001b[0m 0.2167  \u001b[0m | \u001b[0m 2.603   \u001b[0m | \u001b[0m 2.994   \u001b[0m | \u001b[0m 0.04691 \u001b[0m | \u001b[0m 7.236   \u001b[0m | \u001b[0m 46.0    \u001b[0m | \u001b[0m 0.06817 \u001b[0m | \u001b[0m 34.95   \u001b[0m |\n"
     ]
    },
    {
     "name": "stderr",
     "output_type": "stream",
     "text": [
      "/Users/chienan/anaconda2/envs/python3/lib/python3.6/site-packages/lightgbm/engine.py:102: UserWarning: Found `num_iterations` in params. Will use it instead of argument\n",
      "  warnings.warn(\"Found `{}` in params. Will use it instead of argument\".format(alias))\n",
      "/Users/chienan/anaconda2/envs/python3/lib/python3.6/site-packages/lightgbm/engine.py:107: UserWarning: Found `early_stopping_round` in params. Will use it instead of argument\n",
      "  warnings.warn(\"Found `{}` in params. Will use it instead of argument\".format(alias))\n"
     ]
    },
    {
     "name": "stdout",
     "output_type": "stream",
     "text": [
      "Training until validation scores don't improve for 100 rounds.\n",
      "[200]\ttraining's l2: 159.796\tvalid_1's l2: 176.94\n",
      "[400]\ttraining's l2: 147.505\tvalid_1's l2: 172.294\n",
      "[600]\ttraining's l2: 138.593\tvalid_1's l2: 170.27\n",
      "[800]\ttraining's l2: 131.672\tvalid_1's l2: 169.134\n",
      "[1000]\ttraining's l2: 125.857\tvalid_1's l2: 168.38\n",
      "Did not meet early stopping. Best iteration is:\n",
      "[1000]\ttraining's l2: 125.857\tvalid_1's l2: 168.38\n",
      "| \u001b[0m 76      \u001b[0m | \u001b[0m-168.4   \u001b[0m | \u001b[0m 0.7913  \u001b[0m | \u001b[0m 0.4684  \u001b[0m | \u001b[0m 0.8115  \u001b[0m | \u001b[0m 1.678   \u001b[0m | \u001b[0m 0.0019  \u001b[0m | \u001b[0m 7.674   \u001b[0m | \u001b[0m 48.49   \u001b[0m | \u001b[0m 0.0773  \u001b[0m | \u001b[0m 25.59   \u001b[0m |\n"
     ]
    },
    {
     "name": "stderr",
     "output_type": "stream",
     "text": [
      "/Users/chienan/anaconda2/envs/python3/lib/python3.6/site-packages/lightgbm/engine.py:102: UserWarning: Found `num_iterations` in params. Will use it instead of argument\n",
      "  warnings.warn(\"Found `{}` in params. Will use it instead of argument\".format(alias))\n",
      "/Users/chienan/anaconda2/envs/python3/lib/python3.6/site-packages/lightgbm/engine.py:107: UserWarning: Found `early_stopping_round` in params. Will use it instead of argument\n",
      "  warnings.warn(\"Found `{}` in params. Will use it instead of argument\".format(alias))\n"
     ]
    },
    {
     "name": "stdout",
     "output_type": "stream",
     "text": [
      "Training until validation scores don't improve for 100 rounds.\n",
      "[200]\ttraining's l2: 168.063\tvalid_1's l2: 180.68\n",
      "[400]\ttraining's l2: 159.252\tvalid_1's l2: 176.499\n",
      "[600]\ttraining's l2: 152.05\tvalid_1's l2: 173.553\n",
      "[800]\ttraining's l2: 145.933\tvalid_1's l2: 171.338\n",
      "[1000]\ttraining's l2: 140.666\tvalid_1's l2: 169.821\n",
      "Did not meet early stopping. Best iteration is:\n",
      "[1000]\ttraining's l2: 140.666\tvalid_1's l2: 169.821\n",
      "| \u001b[0m 77      \u001b[0m | \u001b[0m-169.8   \u001b[0m | \u001b[0m 0.9163  \u001b[0m | \u001b[0m 0.138   \u001b[0m | \u001b[0m 2.847   \u001b[0m | \u001b[0m 2.953   \u001b[0m | \u001b[0m 0.001   \u001b[0m | \u001b[0m 6.793   \u001b[0m | \u001b[0m 45.52   \u001b[0m | \u001b[0m 0.001   \u001b[0m | \u001b[0m 35.04   \u001b[0m |\n"
     ]
    },
    {
     "name": "stderr",
     "output_type": "stream",
     "text": [
      "/Users/chienan/anaconda2/envs/python3/lib/python3.6/site-packages/lightgbm/engine.py:102: UserWarning: Found `num_iterations` in params. Will use it instead of argument\n",
      "  warnings.warn(\"Found `{}` in params. Will use it instead of argument\".format(alias))\n",
      "/Users/chienan/anaconda2/envs/python3/lib/python3.6/site-packages/lightgbm/engine.py:107: UserWarning: Found `early_stopping_round` in params. Will use it instead of argument\n",
      "  warnings.warn(\"Found `{}` in params. Will use it instead of argument\".format(alias))\n"
     ]
    },
    {
     "name": "stdout",
     "output_type": "stream",
     "text": [
      "Training until validation scores don't improve for 100 rounds.\n",
      "Early stopping, best iteration is:\n",
      "[94]\ttraining's l2: 105.458\tvalid_1's l2: 165.697\n",
      "| \u001b[0m 78      \u001b[0m | \u001b[0m-165.7   \u001b[0m | \u001b[0m 0.8705  \u001b[0m | \u001b[0m 0.1048  \u001b[0m | \u001b[0m 2.564   \u001b[0m | \u001b[0m 2.383   \u001b[0m | \u001b[0m 0.03818 \u001b[0m | \u001b[0m 7.014   \u001b[0m | \u001b[0m 46.07   \u001b[0m | \u001b[0m 0.06456 \u001b[0m | \u001b[0m 34.51   \u001b[0m |\n"
     ]
    },
    {
     "name": "stderr",
     "output_type": "stream",
     "text": [
      "/Users/chienan/anaconda2/envs/python3/lib/python3.6/site-packages/lightgbm/engine.py:102: UserWarning: Found `num_iterations` in params. Will use it instead of argument\n",
      "  warnings.warn(\"Found `{}` in params. Will use it instead of argument\".format(alias))\n",
      "/Users/chienan/anaconda2/envs/python3/lib/python3.6/site-packages/lightgbm/engine.py:107: UserWarning: Found `early_stopping_round` in params. Will use it instead of argument\n",
      "  warnings.warn(\"Found `{}` in params. Will use it instead of argument\".format(alias))\n"
     ]
    },
    {
     "name": "stdout",
     "output_type": "stream",
     "text": [
      "Training until validation scores don't improve for 100 rounds.\n",
      "Early stopping, best iteration is:\n",
      "[55]\ttraining's l2: 105.483\tvalid_1's l2: 169.588\n",
      "| \u001b[0m 79      \u001b[0m | \u001b[0m-169.6   \u001b[0m | \u001b[0m 0.8073  \u001b[0m | \u001b[0m 0.4513  \u001b[0m | \u001b[0m 2.049   \u001b[0m | \u001b[0m 2.847   \u001b[0m | \u001b[0m 0.04362 \u001b[0m | \u001b[0m 6.887   \u001b[0m | \u001b[0m 11.14   \u001b[0m | \u001b[0m 0.09662 \u001b[0m | \u001b[0m 40.74   \u001b[0m |\n"
     ]
    },
    {
     "name": "stderr",
     "output_type": "stream",
     "text": [
      "/Users/chienan/anaconda2/envs/python3/lib/python3.6/site-packages/lightgbm/engine.py:102: UserWarning: Found `num_iterations` in params. Will use it instead of argument\n",
      "  warnings.warn(\"Found `{}` in params. Will use it instead of argument\".format(alias))\n",
      "/Users/chienan/anaconda2/envs/python3/lib/python3.6/site-packages/lightgbm/engine.py:107: UserWarning: Found `early_stopping_round` in params. Will use it instead of argument\n",
      "  warnings.warn(\"Found `{}` in params. Will use it instead of argument\".format(alias))\n"
     ]
    },
    {
     "name": "stdout",
     "output_type": "stream",
     "text": [
      "Training until validation scores don't improve for 100 rounds.\n",
      "Early stopping, best iteration is:\n",
      "[96]\ttraining's l2: 112.021\tvalid_1's l2: 167.33\n",
      "| \u001b[0m 80      \u001b[0m | \u001b[0m-167.3   \u001b[0m | \u001b[0m 0.5755  \u001b[0m | \u001b[0m 0.6237  \u001b[0m | \u001b[0m 3.515   \u001b[0m | \u001b[0m 2.433   \u001b[0m | \u001b[0m 0.03779 \u001b[0m | \u001b[0m 5.237   \u001b[0m | \u001b[0m 12.91   \u001b[0m | \u001b[0m 0.07933 \u001b[0m | \u001b[0m 27.3    \u001b[0m |\n"
     ]
    },
    {
     "name": "stderr",
     "output_type": "stream",
     "text": [
      "/Users/chienan/anaconda2/envs/python3/lib/python3.6/site-packages/lightgbm/engine.py:102: UserWarning: Found `num_iterations` in params. Will use it instead of argument\n",
      "  warnings.warn(\"Found `{}` in params. Will use it instead of argument\".format(alias))\n",
      "/Users/chienan/anaconda2/envs/python3/lib/python3.6/site-packages/lightgbm/engine.py:107: UserWarning: Found `early_stopping_round` in params. Will use it instead of argument\n",
      "  warnings.warn(\"Found `{}` in params. Will use it instead of argument\".format(alias))\n"
     ]
    },
    {
     "name": "stdout",
     "output_type": "stream",
     "text": [
      "Training until validation scores don't improve for 100 rounds.\n",
      "Early stopping, best iteration is:\n",
      "[45]\ttraining's l2: 115.806\tvalid_1's l2: 168.501\n",
      "| \u001b[0m 81      \u001b[0m | \u001b[0m-168.5   \u001b[0m | \u001b[0m 0.8382  \u001b[0m | \u001b[0m 0.59    \u001b[0m | \u001b[0m 0.2338  \u001b[0m | \u001b[0m 1.455   \u001b[0m | \u001b[0m 0.04895 \u001b[0m | \u001b[0m 8.12    \u001b[0m | \u001b[0m 28.47   \u001b[0m | \u001b[0m 0.03689 \u001b[0m | \u001b[0m 31.36   \u001b[0m |\n"
     ]
    },
    {
     "name": "stderr",
     "output_type": "stream",
     "text": [
      "/Users/chienan/anaconda2/envs/python3/lib/python3.6/site-packages/lightgbm/engine.py:102: UserWarning: Found `num_iterations` in params. Will use it instead of argument\n",
      "  warnings.warn(\"Found `{}` in params. Will use it instead of argument\".format(alias))\n",
      "/Users/chienan/anaconda2/envs/python3/lib/python3.6/site-packages/lightgbm/engine.py:107: UserWarning: Found `early_stopping_round` in params. Will use it instead of argument\n",
      "  warnings.warn(\"Found `{}` in params. Will use it instead of argument\".format(alias))\n"
     ]
    },
    {
     "name": "stdout",
     "output_type": "stream",
     "text": [
      "Training until validation scores don't improve for 100 rounds.\n",
      "[200]\ttraining's l2: 86.664\tvalid_1's l2: 167.808\n",
      "Early stopping, best iteration is:\n",
      "[155]\ttraining's l2: 94.1805\tvalid_1's l2: 167.628\n",
      "| \u001b[0m 82      \u001b[0m | \u001b[0m-167.6   \u001b[0m | \u001b[0m 0.687   \u001b[0m | \u001b[0m 0.2474  \u001b[0m | \u001b[0m 1.994   \u001b[0m | \u001b[0m 2.547   \u001b[0m | \u001b[0m 0.0254  \u001b[0m | \u001b[0m 6.655   \u001b[0m | \u001b[0m 37.54   \u001b[0m | \u001b[0m 0.04768 \u001b[0m | \u001b[0m 40.03   \u001b[0m |\n"
     ]
    },
    {
     "name": "stderr",
     "output_type": "stream",
     "text": [
      "/Users/chienan/anaconda2/envs/python3/lib/python3.6/site-packages/lightgbm/engine.py:102: UserWarning: Found `num_iterations` in params. Will use it instead of argument\n",
      "  warnings.warn(\"Found `{}` in params. Will use it instead of argument\".format(alias))\n",
      "/Users/chienan/anaconda2/envs/python3/lib/python3.6/site-packages/lightgbm/engine.py:107: UserWarning: Found `early_stopping_round` in params. Will use it instead of argument\n",
      "  warnings.warn(\"Found `{}` in params. Will use it instead of argument\".format(alias))\n"
     ]
    },
    {
     "name": "stdout",
     "output_type": "stream",
     "text": [
      "Training until validation scores don't improve for 100 rounds.\n",
      "Early stopping, best iteration is:\n",
      "[38]\ttraining's l2: 100.474\tvalid_1's l2: 169.968\n",
      "| \u001b[0m 83      \u001b[0m | \u001b[0m-170.0   \u001b[0m | \u001b[0m 0.5927  \u001b[0m | \u001b[0m 0.4305  \u001b[0m | \u001b[0m 3.846   \u001b[0m | \u001b[0m 0.1689  \u001b[0m | \u001b[0m 0.0816  \u001b[0m | \u001b[0m 5.873   \u001b[0m | \u001b[0m 22.12   \u001b[0m | \u001b[0m 0.05996 \u001b[0m | \u001b[0m 43.22   \u001b[0m |\n"
     ]
    },
    {
     "name": "stderr",
     "output_type": "stream",
     "text": [
      "/Users/chienan/anaconda2/envs/python3/lib/python3.6/site-packages/lightgbm/engine.py:102: UserWarning: Found `num_iterations` in params. Will use it instead of argument\n",
      "  warnings.warn(\"Found `{}` in params. Will use it instead of argument\".format(alias))\n",
      "/Users/chienan/anaconda2/envs/python3/lib/python3.6/site-packages/lightgbm/engine.py:107: UserWarning: Found `early_stopping_round` in params. Will use it instead of argument\n",
      "  warnings.warn(\"Found `{}` in params. Will use it instead of argument\".format(alias))\n"
     ]
    },
    {
     "name": "stdout",
     "output_type": "stream",
     "text": [
      "Training until validation scores don't improve for 100 rounds.\n",
      "Early stopping, best iteration is:\n",
      "[44]\ttraining's l2: 104.339\tvalid_1's l2: 167.456\n",
      "| \u001b[0m 84      \u001b[0m | \u001b[0m-167.5   \u001b[0m | \u001b[0m 0.8223  \u001b[0m | \u001b[0m 0.2346  \u001b[0m | \u001b[0m 2.662   \u001b[0m | \u001b[0m 2.731   \u001b[0m | \u001b[0m 0.09017 \u001b[0m | \u001b[0m 6.481   \u001b[0m | \u001b[0m 46.05   \u001b[0m | \u001b[0m 0.05867 \u001b[0m | \u001b[0m 34.84   \u001b[0m |\n"
     ]
    },
    {
     "name": "stderr",
     "output_type": "stream",
     "text": [
      "/Users/chienan/anaconda2/envs/python3/lib/python3.6/site-packages/lightgbm/engine.py:102: UserWarning: Found `num_iterations` in params. Will use it instead of argument\n",
      "  warnings.warn(\"Found `{}` in params. Will use it instead of argument\".format(alias))\n",
      "/Users/chienan/anaconda2/envs/python3/lib/python3.6/site-packages/lightgbm/engine.py:107: UserWarning: Found `early_stopping_round` in params. Will use it instead of argument\n",
      "  warnings.warn(\"Found `{}` in params. Will use it instead of argument\".format(alias))\n"
     ]
    },
    {
     "name": "stdout",
     "output_type": "stream",
     "text": [
      "Training until validation scores don't improve for 100 rounds.\n",
      "Early stopping, best iteration is:\n",
      "[28]\ttraining's l2: 134.859\tvalid_1's l2: 166.162\n",
      "| \u001b[0m 85      \u001b[0m | \u001b[0m-166.2   \u001b[0m | \u001b[0m 0.8123  \u001b[0m | \u001b[0m 0.2002  \u001b[0m | \u001b[0m 0.1094  \u001b[0m | \u001b[0m 0.996   \u001b[0m | \u001b[0m 0.08762 \u001b[0m | \u001b[0m 4.342   \u001b[0m | \u001b[0m 5.575   \u001b[0m | \u001b[0m 0.09959 \u001b[0m | \u001b[0m 38.45   \u001b[0m |\n"
     ]
    },
    {
     "name": "stderr",
     "output_type": "stream",
     "text": [
      "/Users/chienan/anaconda2/envs/python3/lib/python3.6/site-packages/lightgbm/engine.py:102: UserWarning: Found `num_iterations` in params. Will use it instead of argument\n",
      "  warnings.warn(\"Found `{}` in params. Will use it instead of argument\".format(alias))\n",
      "/Users/chienan/anaconda2/envs/python3/lib/python3.6/site-packages/lightgbm/engine.py:107: UserWarning: Found `early_stopping_round` in params. Will use it instead of argument\n",
      "  warnings.warn(\"Found `{}` in params. Will use it instead of argument\".format(alias))\n"
     ]
    },
    {
     "name": "stdout",
     "output_type": "stream",
     "text": [
      "Training until validation scores don't improve for 100 rounds.\n",
      "Early stopping, best iteration is:\n",
      "[34]\ttraining's l2: 123.316\tvalid_1's l2: 170.177\n",
      "| \u001b[0m 86      \u001b[0m | \u001b[0m-170.2   \u001b[0m | \u001b[0m 0.8994  \u001b[0m | \u001b[0m 0.3317  \u001b[0m | \u001b[0m 0.3305  \u001b[0m | \u001b[0m 1.114   \u001b[0m | \u001b[0m 0.06343 \u001b[0m | \u001b[0m 4.77    \u001b[0m | \u001b[0m 5.629   \u001b[0m | \u001b[0m 0.04024 \u001b[0m | \u001b[0m 38.56   \u001b[0m |\n"
     ]
    },
    {
     "name": "stderr",
     "output_type": "stream",
     "text": [
      "/Users/chienan/anaconda2/envs/python3/lib/python3.6/site-packages/lightgbm/engine.py:102: UserWarning: Found `num_iterations` in params. Will use it instead of argument\n",
      "  warnings.warn(\"Found `{}` in params. Will use it instead of argument\".format(alias))\n",
      "/Users/chienan/anaconda2/envs/python3/lib/python3.6/site-packages/lightgbm/engine.py:107: UserWarning: Found `early_stopping_round` in params. Will use it instead of argument\n",
      "  warnings.warn(\"Found `{}` in params. Will use it instead of argument\".format(alias))\n"
     ]
    },
    {
     "name": "stdout",
     "output_type": "stream",
     "text": [
      "Training until validation scores don't improve for 100 rounds.\n",
      "Early stopping, best iteration is:\n",
      "[45]\ttraining's l2: 133.103\tvalid_1's l2: 167.85\n",
      "| \u001b[0m 87      \u001b[0m | \u001b[0m-167.8   \u001b[0m | \u001b[0m 0.9915  \u001b[0m | \u001b[0m 0.4521  \u001b[0m | \u001b[0m 0.004775\u001b[0m | \u001b[0m 1.019   \u001b[0m | \u001b[0m 0.05409 \u001b[0m | \u001b[0m 4.426   \u001b[0m | \u001b[0m 6.205   \u001b[0m | \u001b[0m 0.04737 \u001b[0m | \u001b[0m 38.76   \u001b[0m |\n"
     ]
    },
    {
     "name": "stderr",
     "output_type": "stream",
     "text": [
      "/Users/chienan/anaconda2/envs/python3/lib/python3.6/site-packages/lightgbm/engine.py:102: UserWarning: Found `num_iterations` in params. Will use it instead of argument\n",
      "  warnings.warn(\"Found `{}` in params. Will use it instead of argument\".format(alias))\n",
      "/Users/chienan/anaconda2/envs/python3/lib/python3.6/site-packages/lightgbm/engine.py:107: UserWarning: Found `early_stopping_round` in params. Will use it instead of argument\n",
      "  warnings.warn(\"Found `{}` in params. Will use it instead of argument\".format(alias))\n"
     ]
    },
    {
     "name": "stdout",
     "output_type": "stream",
     "text": [
      "Training until validation scores don't improve for 100 rounds.\n",
      "[200]\ttraining's l2: 132.78\tvalid_1's l2: 168.464\n",
      "[400]\ttraining's l2: 114.311\tvalid_1's l2: 167.117\n",
      "Early stopping, best iteration is:\n",
      "[432]\ttraining's l2: 112.173\tvalid_1's l2: 167.041\n",
      "| \u001b[0m 88      \u001b[0m | \u001b[0m-167.0   \u001b[0m | \u001b[0m 0.9153  \u001b[0m | \u001b[0m 0.3062  \u001b[0m | \u001b[0m 0.6176  \u001b[0m | \u001b[0m 2.187   \u001b[0m | \u001b[0m 0.007796\u001b[0m | \u001b[0m 7.579   \u001b[0m | \u001b[0m 48.08   \u001b[0m | \u001b[0m 0.0801  \u001b[0m | \u001b[0m 24.61   \u001b[0m |\n"
     ]
    },
    {
     "name": "stderr",
     "output_type": "stream",
     "text": [
      "/Users/chienan/anaconda2/envs/python3/lib/python3.6/site-packages/lightgbm/engine.py:102: UserWarning: Found `num_iterations` in params. Will use it instead of argument\n",
      "  warnings.warn(\"Found `{}` in params. Will use it instead of argument\".format(alias))\n",
      "/Users/chienan/anaconda2/envs/python3/lib/python3.6/site-packages/lightgbm/engine.py:107: UserWarning: Found `early_stopping_round` in params. Will use it instead of argument\n",
      "  warnings.warn(\"Found `{}` in params. Will use it instead of argument\".format(alias))\n"
     ]
    },
    {
     "name": "stdout",
     "output_type": "stream",
     "text": [
      "Training until validation scores don't improve for 100 rounds.\n",
      "Early stopping, best iteration is:\n",
      "[37]\ttraining's l2: 119.306\tvalid_1's l2: 168.291\n",
      "| \u001b[0m 89      \u001b[0m | \u001b[0m-168.3   \u001b[0m | \u001b[0m 0.6884  \u001b[0m | \u001b[0m 0.3371  \u001b[0m | \u001b[0m 0.4452  \u001b[0m | \u001b[0m 1.812   \u001b[0m | \u001b[0m 0.07127 \u001b[0m | \u001b[0m 7.973   \u001b[0m | \u001b[0m 48.24   \u001b[0m | \u001b[0m 0.07212 \u001b[0m | \u001b[0m 24.52   \u001b[0m |\n"
     ]
    },
    {
     "name": "stderr",
     "output_type": "stream",
     "text": [
      "/Users/chienan/anaconda2/envs/python3/lib/python3.6/site-packages/lightgbm/engine.py:102: UserWarning: Found `num_iterations` in params. Will use it instead of argument\n",
      "  warnings.warn(\"Found `{}` in params. Will use it instead of argument\".format(alias))\n",
      "/Users/chienan/anaconda2/envs/python3/lib/python3.6/site-packages/lightgbm/engine.py:107: UserWarning: Found `early_stopping_round` in params. Will use it instead of argument\n",
      "  warnings.warn(\"Found `{}` in params. Will use it instead of argument\".format(alias))\n"
     ]
    },
    {
     "name": "stdout",
     "output_type": "stream",
     "text": [
      "Training until validation scores don't improve for 100 rounds.\n",
      "[200]\ttraining's l2: 105.381\tvalid_1's l2: 167.516\n",
      "Early stopping, best iteration is:\n",
      "[184]\ttraining's l2: 108\tvalid_1's l2: 167.09\n",
      "| \u001b[0m 90      \u001b[0m | \u001b[0m-167.1   \u001b[0m | \u001b[0m 0.743   \u001b[0m | \u001b[0m 0.4704  \u001b[0m | \u001b[0m 0.4358  \u001b[0m | \u001b[0m 2.273   \u001b[0m | \u001b[0m 0.02125 \u001b[0m | \u001b[0m 7.217   \u001b[0m | \u001b[0m 48.19   \u001b[0m | \u001b[0m 0.08612 \u001b[0m | \u001b[0m 24.52   \u001b[0m |\n"
     ]
    },
    {
     "name": "stderr",
     "output_type": "stream",
     "text": [
      "/Users/chienan/anaconda2/envs/python3/lib/python3.6/site-packages/lightgbm/engine.py:102: UserWarning: Found `num_iterations` in params. Will use it instead of argument\n",
      "  warnings.warn(\"Found `{}` in params. Will use it instead of argument\".format(alias))\n",
      "/Users/chienan/anaconda2/envs/python3/lib/python3.6/site-packages/lightgbm/engine.py:107: UserWarning: Found `early_stopping_round` in params. Will use it instead of argument\n",
      "  warnings.warn(\"Found `{}` in params. Will use it instead of argument\".format(alias))\n"
     ]
    },
    {
     "name": "stdout",
     "output_type": "stream",
     "text": [
      "Training until validation scores don't improve for 100 rounds.\n",
      "[200]\ttraining's l2: 106.211\tvalid_1's l2: 166.858\n",
      "Early stopping, best iteration is:\n",
      "[156]\ttraining's l2: 112.281\tvalid_1's l2: 166.066\n",
      "| \u001b[0m 91      \u001b[0m | \u001b[0m-166.1   \u001b[0m | \u001b[0m 0.8444  \u001b[0m | \u001b[0m 0.123   \u001b[0m | \u001b[0m 0.3173  \u001b[0m | \u001b[0m 1.299   \u001b[0m | \u001b[0m 0.02582 \u001b[0m | \u001b[0m 5.29    \u001b[0m | \u001b[0m 6.397   \u001b[0m | \u001b[0m 0.08405 \u001b[0m | \u001b[0m 31.2    \u001b[0m |\n"
     ]
    },
    {
     "name": "stderr",
     "output_type": "stream",
     "text": [
      "/Users/chienan/anaconda2/envs/python3/lib/python3.6/site-packages/lightgbm/engine.py:102: UserWarning: Found `num_iterations` in params. Will use it instead of argument\n",
      "  warnings.warn(\"Found `{}` in params. Will use it instead of argument\".format(alias))\n",
      "/Users/chienan/anaconda2/envs/python3/lib/python3.6/site-packages/lightgbm/engine.py:107: UserWarning: Found `early_stopping_round` in params. Will use it instead of argument\n",
      "  warnings.warn(\"Found `{}` in params. Will use it instead of argument\".format(alias))\n"
     ]
    },
    {
     "name": "stdout",
     "output_type": "stream",
     "text": [
      "Training until validation scores don't improve for 100 rounds.\n",
      "Early stopping, best iteration is:\n",
      "[29]\ttraining's l2: 123.546\tvalid_1's l2: 170.795\n",
      "| \u001b[0m 92      \u001b[0m | \u001b[0m-170.8   \u001b[0m | \u001b[0m 0.8335  \u001b[0m | \u001b[0m 0.8066  \u001b[0m | \u001b[0m 3.262   \u001b[0m | \u001b[0m 0.08361 \u001b[0m | \u001b[0m 0.05627 \u001b[0m | \u001b[0m 7.991   \u001b[0m | \u001b[0m 23.73   \u001b[0m | \u001b[0m 0.03389 \u001b[0m | \u001b[0m 31.07   \u001b[0m |\n"
     ]
    },
    {
     "name": "stderr",
     "output_type": "stream",
     "text": [
      "/Users/chienan/anaconda2/envs/python3/lib/python3.6/site-packages/lightgbm/engine.py:102: UserWarning: Found `num_iterations` in params. Will use it instead of argument\n",
      "  warnings.warn(\"Found `{}` in params. Will use it instead of argument\".format(alias))\n",
      "/Users/chienan/anaconda2/envs/python3/lib/python3.6/site-packages/lightgbm/engine.py:107: UserWarning: Found `early_stopping_round` in params. Will use it instead of argument\n",
      "  warnings.warn(\"Found `{}` in params. Will use it instead of argument\".format(alias))\n"
     ]
    },
    {
     "name": "stdout",
     "output_type": "stream",
     "text": [
      "Training until validation scores don't improve for 100 rounds.\n",
      "Early stopping, best iteration is:\n",
      "[36]\ttraining's l2: 126.094\tvalid_1's l2: 167.672\n",
      "| \u001b[0m 93      \u001b[0m | \u001b[0m-167.7   \u001b[0m | \u001b[0m 0.6134  \u001b[0m | \u001b[0m 0.1164  \u001b[0m | \u001b[0m 0.5244  \u001b[0m | \u001b[0m 1.257   \u001b[0m | \u001b[0m 0.06202 \u001b[0m | \u001b[0m 5.119   \u001b[0m | \u001b[0m 6.409   \u001b[0m | \u001b[0m 0.04686 \u001b[0m | \u001b[0m 31.23   \u001b[0m |\n"
     ]
    },
    {
     "name": "stderr",
     "output_type": "stream",
     "text": [
      "/Users/chienan/anaconda2/envs/python3/lib/python3.6/site-packages/lightgbm/engine.py:102: UserWarning: Found `num_iterations` in params. Will use it instead of argument\n",
      "  warnings.warn(\"Found `{}` in params. Will use it instead of argument\".format(alias))\n",
      "/Users/chienan/anaconda2/envs/python3/lib/python3.6/site-packages/lightgbm/engine.py:107: UserWarning: Found `early_stopping_round` in params. Will use it instead of argument\n",
      "  warnings.warn(\"Found `{}` in params. Will use it instead of argument\".format(alias))\n"
     ]
    },
    {
     "name": "stdout",
     "output_type": "stream",
     "text": [
      "Training until validation scores don't improve for 100 rounds.\n",
      "Early stopping, best iteration is:\n",
      "[92]\ttraining's l2: 102.475\tvalid_1's l2: 168.48\n",
      "| \u001b[0m 94      \u001b[0m | \u001b[0m-168.5   \u001b[0m | \u001b[0m 0.9115  \u001b[0m | \u001b[0m 0.6287  \u001b[0m | \u001b[0m 3.677   \u001b[0m | \u001b[0m 0.2316  \u001b[0m | \u001b[0m 0.03923 \u001b[0m | \u001b[0m 5.886   \u001b[0m | \u001b[0m 43.73   \u001b[0m | \u001b[0m 0.0265  \u001b[0m | \u001b[0m 37.09   \u001b[0m |\n"
     ]
    },
    {
     "name": "stderr",
     "output_type": "stream",
     "text": [
      "/Users/chienan/anaconda2/envs/python3/lib/python3.6/site-packages/lightgbm/engine.py:102: UserWarning: Found `num_iterations` in params. Will use it instead of argument\n",
      "  warnings.warn(\"Found `{}` in params. Will use it instead of argument\".format(alias))\n",
      "/Users/chienan/anaconda2/envs/python3/lib/python3.6/site-packages/lightgbm/engine.py:107: UserWarning: Found `early_stopping_round` in params. Will use it instead of argument\n",
      "  warnings.warn(\"Found `{}` in params. Will use it instead of argument\".format(alias))\n"
     ]
    },
    {
     "name": "stdout",
     "output_type": "stream",
     "text": [
      "Training until validation scores don't improve for 100 rounds.\n",
      "Early stopping, best iteration is:\n",
      "[30]\ttraining's l2: 117.792\tvalid_1's l2: 168.256\n",
      "| \u001b[0m 95      \u001b[0m | \u001b[0m-168.3   \u001b[0m | \u001b[0m 0.7094  \u001b[0m | \u001b[0m 0.443   \u001b[0m | \u001b[0m 0.555   \u001b[0m | \u001b[0m 1.955   \u001b[0m | \u001b[0m 0.09037 \u001b[0m | \u001b[0m 7.454   \u001b[0m | \u001b[0m 48.44   \u001b[0m | \u001b[0m 0.003101\u001b[0m | \u001b[0m 25.3    \u001b[0m |\n"
     ]
    },
    {
     "name": "stderr",
     "output_type": "stream",
     "text": [
      "/Users/chienan/anaconda2/envs/python3/lib/python3.6/site-packages/lightgbm/engine.py:102: UserWarning: Found `num_iterations` in params. Will use it instead of argument\n",
      "  warnings.warn(\"Found `{}` in params. Will use it instead of argument\".format(alias))\n",
      "/Users/chienan/anaconda2/envs/python3/lib/python3.6/site-packages/lightgbm/engine.py:107: UserWarning: Found `early_stopping_round` in params. Will use it instead of argument\n",
      "  warnings.warn(\"Found `{}` in params. Will use it instead of argument\".format(alias))\n"
     ]
    },
    {
     "name": "stdout",
     "output_type": "stream",
     "text": [
      "Training until validation scores don't improve for 100 rounds.\n",
      "[200]\ttraining's l2: 92.5277\tvalid_1's l2: 167.308\n",
      "Early stopping, best iteration is:\n",
      "[126]\ttraining's l2: 105.31\tvalid_1's l2: 166.66\n",
      "| \u001b[0m 96      \u001b[0m | \u001b[0m-166.7   \u001b[0m | \u001b[0m 0.8201  \u001b[0m | \u001b[0m 0.2526  \u001b[0m | \u001b[0m 1.702   \u001b[0m | \u001b[0m 2.572   \u001b[0m | \u001b[0m 0.02158 \u001b[0m | \u001b[0m 6.788   \u001b[0m | \u001b[0m 36.95   \u001b[0m | \u001b[0m 0.08404 \u001b[0m | \u001b[0m 39.85   \u001b[0m |\n"
     ]
    },
    {
     "name": "stderr",
     "output_type": "stream",
     "text": [
      "/Users/chienan/anaconda2/envs/python3/lib/python3.6/site-packages/lightgbm/engine.py:102: UserWarning: Found `num_iterations` in params. Will use it instead of argument\n",
      "  warnings.warn(\"Found `{}` in params. Will use it instead of argument\".format(alias))\n",
      "/Users/chienan/anaconda2/envs/python3/lib/python3.6/site-packages/lightgbm/engine.py:107: UserWarning: Found `early_stopping_round` in params. Will use it instead of argument\n",
      "  warnings.warn(\"Found `{}` in params. Will use it instead of argument\".format(alias))\n"
     ]
    },
    {
     "name": "stdout",
     "output_type": "stream",
     "text": [
      "Training until validation scores don't improve for 100 rounds.\n",
      "Early stopping, best iteration is:\n",
      "[68]\ttraining's l2: 118.997\tvalid_1's l2: 164.666\n",
      "| \u001b[0m 97      \u001b[0m | \u001b[0m-164.7   \u001b[0m | \u001b[0m 0.6655  \u001b[0m | \u001b[0m 0.1     \u001b[0m | \u001b[0m 0.5262  \u001b[0m | \u001b[0m 2.155   \u001b[0m | \u001b[0m 0.04652 \u001b[0m | \u001b[0m 7.362   \u001b[0m | \u001b[0m 48.07   \u001b[0m | \u001b[0m 0.07954 \u001b[0m | \u001b[0m 25.0    \u001b[0m |\n"
     ]
    },
    {
     "name": "stderr",
     "output_type": "stream",
     "text": [
      "/Users/chienan/anaconda2/envs/python3/lib/python3.6/site-packages/lightgbm/engine.py:102: UserWarning: Found `num_iterations` in params. Will use it instead of argument\n",
      "  warnings.warn(\"Found `{}` in params. Will use it instead of argument\".format(alias))\n",
      "/Users/chienan/anaconda2/envs/python3/lib/python3.6/site-packages/lightgbm/engine.py:107: UserWarning: Found `early_stopping_round` in params. Will use it instead of argument\n",
      "  warnings.warn(\"Found `{}` in params. Will use it instead of argument\".format(alias))\n"
     ]
    },
    {
     "name": "stdout",
     "output_type": "stream",
     "text": [
      "Training until validation scores don't improve for 100 rounds.\n",
      "Early stopping, best iteration is:\n",
      "[90]\ttraining's l2: 117.272\tvalid_1's l2: 165.484\n",
      "| \u001b[0m 98      \u001b[0m | \u001b[0m-165.5   \u001b[0m | \u001b[0m 0.7     \u001b[0m | \u001b[0m 0.1     \u001b[0m | \u001b[0m 0.573   \u001b[0m | \u001b[0m 2.186   \u001b[0m | \u001b[0m 0.03737 \u001b[0m | \u001b[0m 7.4     \u001b[0m | \u001b[0m 48.03   \u001b[0m | \u001b[0m 0.08172 \u001b[0m | \u001b[0m 25.06   \u001b[0m |\n"
     ]
    },
    {
     "name": "stderr",
     "output_type": "stream",
     "text": [
      "/Users/chienan/anaconda2/envs/python3/lib/python3.6/site-packages/lightgbm/engine.py:102: UserWarning: Found `num_iterations` in params. Will use it instead of argument\n",
      "  warnings.warn(\"Found `{}` in params. Will use it instead of argument\".format(alias))\n",
      "/Users/chienan/anaconda2/envs/python3/lib/python3.6/site-packages/lightgbm/engine.py:107: UserWarning: Found `early_stopping_round` in params. Will use it instead of argument\n",
      "  warnings.warn(\"Found `{}` in params. Will use it instead of argument\".format(alias))\n"
     ]
    },
    {
     "name": "stdout",
     "output_type": "stream",
     "text": [
      "Training until validation scores don't improve for 100 rounds.\n",
      "Early stopping, best iteration is:\n",
      "[36]\ttraining's l2: 120.258\tvalid_1's l2: 167.054\n",
      "| \u001b[0m 99      \u001b[0m | \u001b[0m-167.1   \u001b[0m | \u001b[0m 0.5767  \u001b[0m | \u001b[0m 0.1233  \u001b[0m | \u001b[0m 0.1782  \u001b[0m | \u001b[0m 0.9062  \u001b[0m | \u001b[0m 0.08046 \u001b[0m | \u001b[0m 4.581   \u001b[0m | \u001b[0m 5.786   \u001b[0m | \u001b[0m 0.003666\u001b[0m | \u001b[0m 38.21   \u001b[0m |\n"
     ]
    },
    {
     "name": "stderr",
     "output_type": "stream",
     "text": [
      "/Users/chienan/anaconda2/envs/python3/lib/python3.6/site-packages/lightgbm/engine.py:102: UserWarning: Found `num_iterations` in params. Will use it instead of argument\n",
      "  warnings.warn(\"Found `{}` in params. Will use it instead of argument\".format(alias))\n",
      "/Users/chienan/anaconda2/envs/python3/lib/python3.6/site-packages/lightgbm/engine.py:107: UserWarning: Found `early_stopping_round` in params. Will use it instead of argument\n",
      "  warnings.warn(\"Found `{}` in params. Will use it instead of argument\".format(alias))\n"
     ]
    },
    {
     "name": "stdout",
     "output_type": "stream",
     "text": [
      "Training until validation scores don't improve for 100 rounds.\n",
      "Early stopping, best iteration is:\n",
      "[32]\ttraining's l2: 118.145\tvalid_1's l2: 168.801\n",
      "| \u001b[0m 100     \u001b[0m | \u001b[0m-168.8   \u001b[0m | \u001b[0m 0.8526  \u001b[0m | \u001b[0m 0.3161  \u001b[0m | \u001b[0m 0.2489  \u001b[0m | \u001b[0m 1.24    \u001b[0m | \u001b[0m 0.08615 \u001b[0m | \u001b[0m 4.551   \u001b[0m | \u001b[0m 5.949   \u001b[0m | \u001b[0m 0.01737 \u001b[0m | \u001b[0m 38.78   \u001b[0m |\n",
      "=====================================================================================================================================\n",
      "CPU times: user 25min 47s, sys: 4min 38s, total: 30min 26s\n",
      "Wall time: 9min 50s\n"
     ]
    }
   ],
   "source": [
    "%%time\n",
    "lgbBO.maximize(init_points=25, n_iter=75)"
   ]
  },
  {
   "cell_type": "code",
   "execution_count": 23,
   "metadata": {},
   "outputs": [
    {
     "data": {
      "text/plain": [
       "{'params': {'bagging_fraction': 0.8706187283316725,\n",
       "  'feature_fraction': 0.1,\n",
       "  'lambda_l1': 0.00019934555725044367,\n",
       "  'lambda_l2': 1.0830676860368973,\n",
       "  'learning_rate': 0.010947383797439775,\n",
       "  'max_depth': 4.673263585901005,\n",
       "  'min_child_weight': 6.177336281660579,\n",
       "  'min_split_gain': 0.035035585082948205,\n",
       "  'num_leaves': 38.47712277120209},\n",
       " 'target': -164.61567653589103}"
      ]
     },
     "execution_count": 23,
     "metadata": {},
     "output_type": "execute_result"
    }
   ],
   "source": [
    " lgbBO.res[np.argmax([i[\"target\"] for i in lgbBO.res])]"
   ]
  },
  {
   "cell_type": "code",
   "execution_count": 21,
   "metadata": {
    "collapsed": true
   },
   "outputs": [],
   "source": [
    "best_params = lgbBO.res[np.argmax([i[\"target\"] for i in lgbBO.res])][\"params\"]"
   ]
  },
  {
   "cell_type": "code",
   "execution_count": 22,
   "metadata": {},
   "outputs": [
    {
     "data": {
      "text/plain": [
       "{'bagging_fraction': 0.8706187283316725,\n",
       " 'feature_fraction': 0.1,\n",
       " 'lambda_l1': 0.00019934555725044367,\n",
       " 'lambda_l2': 1.0830676860368973,\n",
       " 'learning_rate': 0.010947383797439775,\n",
       " 'max_depth': 4.673263585901005,\n",
       " 'min_child_weight': 6.177336281660579,\n",
       " 'min_split_gain': 0.035035585082948205,\n",
       " 'num_leaves': 38.47712277120209}"
      ]
     },
     "execution_count": 22,
     "metadata": {},
     "output_type": "execute_result"
    }
   ],
   "source": [
    "best_params"
   ]
  },
  {
   "cell_type": "code",
   "execution_count": null,
   "metadata": {
    "collapsed": true
   },
   "outputs": [],
   "source": [
    "best_params[\"num_leaves\"] = int(round(best_params[\"num_leaves\"]))\n",
    "best_params[\"max_depth\"] = int(round(best_params[\"max_depth\"]))"
   ]
  },
  {
   "cell_type": "code",
   "execution_count": null,
   "metadata": {
    "collapsed": true
   },
   "outputs": [],
   "source": [
    "best_params.update({'num_iterations': 1000,\n",
    "                    'early_stopping_round':100,\n",
    "                    \"metric\": \"mean_squared_error\"})"
   ]
  },
  {
   "cell_type": "code",
   "execution_count": null,
   "metadata": {},
   "outputs": [],
   "source": [
    "best_params"
   ]
  },
  {
   "cell_type": "code",
   "execution_count": null,
   "metadata": {
    "collapsed": true
   },
   "outputs": [],
   "source": [
    "import pickle"
   ]
  },
  {
   "cell_type": "code",
   "execution_count": null,
   "metadata": {
    "collapsed": true
   },
   "outputs": [],
   "source": [
    "pickle.dump(best_params, open(\"/Users/chienan/Pycon/github/SportLottery/model/model_params.pkl\",\"wb\"),protocol=-1)"
   ]
  },
  {
   "cell_type": "code",
   "execution_count": null,
   "metadata": {},
   "outputs": [],
   "source": [
    "%%time \n",
    "print(\"start training...\")\n",
    "model = lgb.train(train_set=train_dataset,\n",
    "                  valid_sets=[train_dataset, test_dataset] ,\n",
    "                  verbose_eval=20,\n",
    "                  params=best_params,\n",
    "                  evals_result=evals_result)"
   ]
  },
  {
   "cell_type": "code",
   "execution_count": null,
   "metadata": {
    "collapsed": true
   },
   "outputs": [],
   "source": [
    "# model.save_model('/Users/chienan/Pycon/github/SportLottery/model/model_agg_v1.txt')"
   ]
  },
  {
   "cell_type": "code",
   "execution_count": null,
   "metadata": {
    "collapsed": true
   },
   "outputs": [],
   "source": [
    "lgb.plot_importance(booster=model,max_num_features=20,importance_type=\"split\")\n",
    "plt.show()"
   ]
  },
  {
   "cell_type": "code",
   "execution_count": null,
   "metadata": {
    "collapsed": true
   },
   "outputs": [],
   "source": [
    "sum(model.predict(x_val)>0.5), sum(y_val)"
   ]
  },
  {
   "cell_type": "code",
   "execution_count": null,
   "metadata": {
    "collapsed": true
   },
   "outputs": [],
   "source": [
    "# accuracy \n",
    "# 0.6365638766519823\n",
    "sum((model.predict(x_val)>0.5).astype(int)==y_val)/len(y_val)"
   ]
  },
  {
   "cell_type": "code",
   "execution_count": null,
   "metadata": {
    "collapsed": true
   },
   "outputs": [],
   "source": [
    "from sklearn.metrics import f1_score,precision_score,recall_score,precision_recall_curve"
   ]
  },
  {
   "cell_type": "code",
   "execution_count": null,
   "metadata": {
    "collapsed": true
   },
   "outputs": [],
   "source": [
    "f1_score(y_pred=(model.predict(x_val)>0.5).astype(int),y_true=y_val)"
   ]
  },
  {
   "cell_type": "code",
   "execution_count": null,
   "metadata": {
    "collapsed": true
   },
   "outputs": [],
   "source": [
    "precision_score(y_pred=(model.predict(x_val)>0.5).astype(int),y_true=y_val)"
   ]
  },
  {
   "cell_type": "code",
   "execution_count": null,
   "metadata": {
    "collapsed": true
   },
   "outputs": [],
   "source": [
    "recall_score(y_pred=(model.predict(x_val)>0.5).astype(int),y_true=y_val)"
   ]
  },
  {
   "cell_type": "code",
   "execution_count": null,
   "metadata": {
    "collapsed": true
   },
   "outputs": [],
   "source": [
    "precision_recall_curve(probas_pred=model.predict(x_val),y_true=y_val)"
   ]
  },
  {
   "cell_type": "code",
   "execution_count": null,
   "metadata": {
    "collapsed": true
   },
   "outputs": [],
   "source": [
    "data_lst = [col for col in x_train.columns[model.feature_importance().argsort()][::-1] if \"TEAM_ID\" not in col]"
   ]
  },
  {
   "cell_type": "code",
   "execution_count": null,
   "metadata": {
    "collapsed": true
   },
   "outputs": [],
   "source": [
    "data_lst = [col for col in x_train.columns[model.feature_importance().argsort()][::-1] if \"TEAM_ID\" not in col]\n",
    "lst = []\n",
    "\n",
    "while data_lst:\n",
    "    add_item = list(set([data_lst[0] for i in column if (i in data_lst[0])&(\"_H\" in data_lst[0])] + \n",
    "                        [data_lst[0] for i in column if (i in data_lst[0])&(\"_A\" in data_lst[0])]))\n",
    "    lst += add_item\n",
    "    data_lst = [col for col in data_lst if \"_\".join(lst[-1].split(\"_\")[3:]) != \"_\".join(col.split(\"_\")[3:])]"
   ]
  },
  {
   "cell_type": "code",
   "execution_count": null,
   "metadata": {
    "collapsed": true
   },
   "outputs": [],
   "source": [
    "x_train = df_train.loc[:,lst]\n",
    "x_test = df_test.loc[:,lst]"
   ]
  },
  {
   "cell_type": "code",
   "execution_count": null,
   "metadata": {
    "collapsed": true
   },
   "outputs": [],
   "source": [
    "%%time\n",
    "print(\"start training...\")\n",
    "model_v2 = lgb.train(train_set=train_dataset, params=param)"
   ]
  },
  {
   "cell_type": "code",
   "execution_count": null,
   "metadata": {
    "collapsed": true
   },
   "outputs": [],
   "source": [
    "lgb.plot_importance(booster=model_v2,max_num_features=20,importance_type=\"split\")\n",
    "plt.show()"
   ]
  },
  {
   "cell_type": "code",
   "execution_count": null,
   "metadata": {
    "collapsed": true
   },
   "outputs": [],
   "source": [
    "sum((model_v2.predict(x_test)>0.4).astype(int)==y_test)/len(y_test)"
   ]
  },
  {
   "cell_type": "code",
   "execution_count": null,
   "metadata": {
    "collapsed": true
   },
   "outputs": [],
   "source": [
    "model_v2.predict(x_test)"
   ]
  },
  {
   "cell_type": "code",
   "execution_count": null,
   "metadata": {
    "collapsed": true
   },
   "outputs": [],
   "source": [
    "sum(y_test[model_v2.predict(x_test)>0.4])/sum((model_v2.predict(x_test)>0.4))"
   ]
  },
  {
   "cell_type": "code",
   "execution_count": null,
   "metadata": {
    "collapsed": true
   },
   "outputs": [],
   "source": [
    "sum(model_v2.predict(x_test)[y_test.astype(bool)]>0.4)/sum(y_test)"
   ]
  },
  {
   "cell_type": "code",
   "execution_count": null,
   "metadata": {
    "collapsed": true
   },
   "outputs": [],
   "source": [
    "sum(model_v2.predict(x_test)>0.4)"
   ]
  },
  {
   "cell_type": "code",
   "execution_count": null,
   "metadata": {
    "collapsed": true
   },
   "outputs": [],
   "source": [
    "sum(y_test),len(y_test)"
   ]
  },
  {
   "cell_type": "code",
   "execution_count": null,
   "metadata": {
    "collapsed": true
   },
   "outputs": [],
   "source": []
  }
 ],
 "metadata": {
  "kernelspec": {
   "display_name": "Python 3",
   "language": "python",
   "name": "python3"
  },
  "language_info": {
   "codemirror_mode": {
    "name": "ipython",
    "version": 3
   },
   "file_extension": ".py",
   "mimetype": "text/x-python",
   "name": "python",
   "nbconvert_exporter": "python",
   "pygments_lexer": "ipython3",
   "version": "3.6.2"
  }
 },
 "nbformat": 4,
 "nbformat_minor": 2
}
