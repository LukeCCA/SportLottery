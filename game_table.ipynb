{
 "cells": [
  {
   "cell_type": "code",
   "execution_count": 59,
   "metadata": {
    "collapsed": true
   },
   "outputs": [],
   "source": [
    "from bs4 import BeautifulSoup\n",
    "import requests\n",
    "import datetime\n",
    "import pandas as pd\n",
    "import numpy as np\n",
    "import json\n",
    "import lightgbm as lgb\n",
    "import pickle"
   ]
  },
  {
   "cell_type": "markdown",
   "metadata": {},
   "source": [
    "# query game date"
   ]
  },
  {
   "cell_type": "code",
   "execution_count": 60,
   "metadata": {
    "collapsed": true
   },
   "outputs": [],
   "source": [
    "def get_web_page(url):\n",
    "    resp = requests.get(url=url)\n",
    "    if resp.status_code != 200:\n",
    "        print('Invalid url:', resp.url)\n",
    "        return None\n",
    "    else:\n",
    "        resp.encoding='utf-8'\n",
    "        return resp.text    "
   ]
  },
  {
   "cell_type": "code",
   "execution_count": 61,
   "metadata": {
    "collapsed": true
   },
   "outputs": [],
   "source": [
    "doc = get_web_page(\"https://www.basketball-reference.com/leagues/NBA_2019_games-january.html\")"
   ]
  },
  {
   "cell_type": "code",
   "execution_count": 62,
   "metadata": {
    "collapsed": true
   },
   "outputs": [],
   "source": [
    "teams = json.loads(open(\"/Users/chienan/Pycon/github/SportLottery/nbastat/teamId_mpt\").read())\n",
    "teams = dict((v,k) for k,v in teams.items())"
   ]
  },
  {
   "cell_type": "code",
   "execution_count": 63,
   "metadata": {
    "collapsed": true
   },
   "outputs": [],
   "source": [
    "soup = BeautifulSoup(doc, \"lxml\")"
   ]
  },
  {
   "cell_type": "code",
   "execution_count": 64,
   "metadata": {
    "collapsed": true
   },
   "outputs": [],
   "source": [
    "data = soup.find('table',attrs={'class':'suppress_glossary sortable stats_table'})"
   ]
  },
  {
   "cell_type": "code",
   "execution_count": 65,
   "metadata": {
    "collapsed": true
   },
   "outputs": [],
   "source": [
    "row = data.find('tbody')"
   ]
  },
  {
   "cell_type": "code",
   "execution_count": 66,
   "metadata": {
    "collapsed": true
   },
   "outputs": [],
   "source": [
    "data_date = row.find_all('th',attrs={\"data-stat\": \"date_game\"})\n",
    "data_row_home = row.find_all('td',attrs={\"data-stat\": \"home_team_name\"})\n",
    "data_row_visitor = row.find_all('td',attrs={\"data-stat\": \"visitor_team_name\"})"
   ]
  },
  {
   "cell_type": "code",
   "execution_count": 67,
   "metadata": {
    "collapsed": true
   },
   "outputs": [],
   "source": [
    "data_date = np.array([r.text for r in data_date]).reshape(-1,1)\n",
    "data_row_home = np.array([r.text for r in data_row_home]).reshape(-1,1)\n",
    "data_row_visitor = np.array([r.text for r in data_row_visitor]).reshape(-1,1)"
   ]
  },
  {
   "cell_type": "code",
   "execution_count": 68,
   "metadata": {
    "collapsed": true
   },
   "outputs": [],
   "source": [
    "df = pd.DataFrame(np.append(np.append(data_date,data_row_home,axis=1),data_row_visitor,axis=1),\n",
    "                  columns=[\"GAME_DATE\",\"HOME_TEAM\",\"AWAY_TEAM\"])"
   ]
  },
  {
   "cell_type": "code",
   "execution_count": 69,
   "metadata": {
    "collapsed": true
   },
   "outputs": [],
   "source": [
    "df[\"GAME_DATE\"] = df.GAME_DATE.apply(lambda dt : datetime.datetime.strptime(dt,\"%a, %b %d, %Y\").date())"
   ]
  },
  {
   "cell_type": "code",
   "execution_count": 70,
   "metadata": {
    "collapsed": true
   },
   "outputs": [],
   "source": [
    "df[\"TEAM_ID_HOME\"] = df.HOME_TEAM.apply(lambda x : teams[x])\n",
    "df[\"TEAM_ID_AWAY\"] = df.AWAY_TEAM.apply(lambda x : teams[x])"
   ]
  },
  {
   "cell_type": "code",
   "execution_count": 71,
   "metadata": {},
   "outputs": [
    {
     "data": {
      "text/plain": [
       "datetime.date(2019, 1, 23)"
      ]
     },
     "execution_count": 71,
     "metadata": {},
     "output_type": "execute_result"
    }
   ],
   "source": [
    "(datetime.datetime.now() + datetime.timedelta(1)).date()"
   ]
  },
  {
   "cell_type": "code",
   "execution_count": 72,
   "metadata": {},
   "outputs": [],
   "source": [
    "df = df[df.GAME_DATE==(datetime.datetime.now()).date()].reset_index(drop=True)"
   ]
  },
  {
   "cell_type": "code",
   "execution_count": 73,
   "metadata": {},
   "outputs": [
    {
     "data": {
      "text/html": [
       "<div>\n",
       "<style scoped>\n",
       "    .dataframe tbody tr th:only-of-type {\n",
       "        vertical-align: middle;\n",
       "    }\n",
       "\n",
       "    .dataframe tbody tr th {\n",
       "        vertical-align: top;\n",
       "    }\n",
       "\n",
       "    .dataframe thead th {\n",
       "        text-align: right;\n",
       "    }\n",
       "</style>\n",
       "<table border=\"1\" class=\"dataframe\">\n",
       "  <thead>\n",
       "    <tr style=\"text-align: right;\">\n",
       "      <th></th>\n",
       "      <th>GAME_DATE</th>\n",
       "      <th>HOME_TEAM</th>\n",
       "      <th>AWAY_TEAM</th>\n",
       "      <th>TEAM_ID_HOME</th>\n",
       "      <th>TEAM_ID_AWAY</th>\n",
       "    </tr>\n",
       "  </thead>\n",
       "  <tbody>\n",
       "    <tr>\n",
       "      <th>0</th>\n",
       "      <td>2019-01-22</td>\n",
       "      <td>Dallas Mavericks</td>\n",
       "      <td>Los Angeles Clippers</td>\n",
       "      <td>1610612742</td>\n",
       "      <td>1610612746</td>\n",
       "    </tr>\n",
       "    <tr>\n",
       "      <th>1</th>\n",
       "      <td>2019-01-22</td>\n",
       "      <td>Oklahoma City Thunder</td>\n",
       "      <td>Portland Trail Blazers</td>\n",
       "      <td>1610612760</td>\n",
       "      <td>1610612757</td>\n",
       "    </tr>\n",
       "    <tr>\n",
       "      <th>2</th>\n",
       "      <td>2019-01-22</td>\n",
       "      <td>Phoenix Suns</td>\n",
       "      <td>Minnesota Timberwolves</td>\n",
       "      <td>1610612756</td>\n",
       "      <td>1610612750</td>\n",
       "    </tr>\n",
       "    <tr>\n",
       "      <th>3</th>\n",
       "      <td>2019-01-22</td>\n",
       "      <td>Toronto Raptors</td>\n",
       "      <td>Sacramento Kings</td>\n",
       "      <td>1610612761</td>\n",
       "      <td>1610612758</td>\n",
       "    </tr>\n",
       "  </tbody>\n",
       "</table>\n",
       "</div>"
      ],
      "text/plain": [
       "    GAME_DATE              HOME_TEAM               AWAY_TEAM TEAM_ID_HOME  \\\n",
       "0  2019-01-22       Dallas Mavericks    Los Angeles Clippers   1610612742   \n",
       "1  2019-01-22  Oklahoma City Thunder  Portland Trail Blazers   1610612760   \n",
       "2  2019-01-22           Phoenix Suns  Minnesota Timberwolves   1610612756   \n",
       "3  2019-01-22        Toronto Raptors        Sacramento Kings   1610612761   \n",
       "\n",
       "  TEAM_ID_AWAY  \n",
       "0   1610612746  \n",
       "1   1610612757  \n",
       "2   1610612750  \n",
       "3   1610612758  "
      ]
     },
     "execution_count": 73,
     "metadata": {},
     "output_type": "execute_result"
    }
   ],
   "source": [
    "df"
   ]
  },
  {
   "cell_type": "markdown",
   "metadata": {},
   "source": [
    "# create query data"
   ]
  },
  {
   "cell_type": "code",
   "execution_count": 74,
   "metadata": {
    "collapsed": true
   },
   "outputs": [],
   "source": [
    "team = pd.read_pickle(\"/Users/chienan/Pycon/github/SportLottery/input/FEATURE_AGG_2012TO2019.pkl\")\n",
    "home = team[[\"GAME_ID\",\"GAME_DATE\"]+sorted(list(set([col for col in team.columns if \"_H\" in col])))[::-1]]\n",
    "away = team.loc[:,[\"GAME_ID\",\"GAME_DATE\"]+sorted(list(set([col for col in team.columns if (\"_A\" in col) & (\"_H\" not in col)])))[::-1]]"
   ]
  },
  {
   "cell_type": "code",
   "execution_count": 75,
   "metadata": {
    "collapsed": true
   },
   "outputs": [],
   "source": [
    "home = home.drop(\"TEAM_ID_HOME\",axis=1)\n",
    "away = away.drop(\"TEAM_ID_AWAY\",axis=1)"
   ]
  },
  {
   "cell_type": "code",
   "execution_count": 76,
   "metadata": {
    "collapsed": true
   },
   "outputs": [],
   "source": [
    "home.columns = [\"GAME_ID\",\"GAME_DATE\"]+[column[:-2] for column in home.loc[:,\"TEAM_ID_H\":].columns]\n",
    "away.columns = [\"GAME_ID\",\"GAME_DATE\"]+[column[:-2] for column in away.loc[:,\"TEAM_ID_A\":].columns]"
   ]
  },
  {
   "cell_type": "code",
   "execution_count": 77,
   "metadata": {
    "collapsed": true
   },
   "outputs": [],
   "source": [
    "team = pd.concat([home,away],axis=0).reset_index(drop=True)"
   ]
  },
  {
   "cell_type": "code",
   "execution_count": 78,
   "metadata": {
    "collapsed": true
   },
   "outputs": [],
   "source": [
    "team = team.sort_values(\"GAME_DATE\").reset_index(drop=True)"
   ]
  },
  {
   "cell_type": "markdown",
   "metadata": {},
   "source": [
    "# query data"
   ]
  },
  {
   "cell_type": "code",
   "execution_count": 79,
   "metadata": {},
   "outputs": [
    {
     "data": {
      "text/html": [
       "<div>\n",
       "<style scoped>\n",
       "    .dataframe tbody tr th:only-of-type {\n",
       "        vertical-align: middle;\n",
       "    }\n",
       "\n",
       "    .dataframe tbody tr th {\n",
       "        vertical-align: top;\n",
       "    }\n",
       "\n",
       "    .dataframe thead th {\n",
       "        text-align: right;\n",
       "    }\n",
       "</style>\n",
       "<table border=\"1\" class=\"dataframe\">\n",
       "  <thead>\n",
       "    <tr style=\"text-align: right;\">\n",
       "      <th></th>\n",
       "      <th>GAME_DATE</th>\n",
       "      <th>HOME_TEAM</th>\n",
       "      <th>AWAY_TEAM</th>\n",
       "      <th>TEAM_ID_HOME</th>\n",
       "      <th>TEAM_ID_AWAY</th>\n",
       "    </tr>\n",
       "  </thead>\n",
       "  <tbody>\n",
       "    <tr>\n",
       "      <th>0</th>\n",
       "      <td>2019-01-22</td>\n",
       "      <td>Dallas Mavericks</td>\n",
       "      <td>Los Angeles Clippers</td>\n",
       "      <td>1610612742</td>\n",
       "      <td>1610612746</td>\n",
       "    </tr>\n",
       "    <tr>\n",
       "      <th>1</th>\n",
       "      <td>2019-01-22</td>\n",
       "      <td>Oklahoma City Thunder</td>\n",
       "      <td>Portland Trail Blazers</td>\n",
       "      <td>1610612760</td>\n",
       "      <td>1610612757</td>\n",
       "    </tr>\n",
       "    <tr>\n",
       "      <th>2</th>\n",
       "      <td>2019-01-22</td>\n",
       "      <td>Phoenix Suns</td>\n",
       "      <td>Minnesota Timberwolves</td>\n",
       "      <td>1610612756</td>\n",
       "      <td>1610612750</td>\n",
       "    </tr>\n",
       "    <tr>\n",
       "      <th>3</th>\n",
       "      <td>2019-01-22</td>\n",
       "      <td>Toronto Raptors</td>\n",
       "      <td>Sacramento Kings</td>\n",
       "      <td>1610612761</td>\n",
       "      <td>1610612758</td>\n",
       "    </tr>\n",
       "  </tbody>\n",
       "</table>\n",
       "</div>"
      ],
      "text/plain": [
       "    GAME_DATE              HOME_TEAM               AWAY_TEAM TEAM_ID_HOME  \\\n",
       "0  2019-01-22       Dallas Mavericks    Los Angeles Clippers   1610612742   \n",
       "1  2019-01-22  Oklahoma City Thunder  Portland Trail Blazers   1610612760   \n",
       "2  2019-01-22           Phoenix Suns  Minnesota Timberwolves   1610612756   \n",
       "3  2019-01-22        Toronto Raptors        Sacramento Kings   1610612761   \n",
       "\n",
       "  TEAM_ID_AWAY  \n",
       "0   1610612746  \n",
       "1   1610612757  \n",
       "2   1610612750  \n",
       "3   1610612758  "
      ]
     },
     "execution_count": 79,
     "metadata": {},
     "output_type": "execute_result"
    }
   ],
   "source": [
    "df"
   ]
  },
  {
   "cell_type": "code",
   "execution_count": 83,
   "metadata": {
    "collapsed": true
   },
   "outputs": [],
   "source": [
    "team[\"TEAM_ID\"] = team.TEAM_ID.astype(str)"
   ]
  },
  {
   "cell_type": "code",
   "execution_count": 84,
   "metadata": {
    "collapsed": true
   },
   "outputs": [],
   "source": [
    "df = df.set_index(\"TEAM_ID_HOME\")\n",
    "team_h = pd.DataFrame()\n",
    "for t_id in df.index:\n",
    "    team_i = team.loc[team[team.TEAM_ID==t_id].index[-1]:team[team.TEAM_ID==t_id].index[-1],:]\n",
    "    team_i = team_i.drop([\"GAME_ID\",\"GAME_DATE\"],axis=1)\n",
    "    team_i.columns=[\"TEAM_ID_HOME\"]+[\"%s_H\"%col for col in team.loc[:,\"LAST_9_GAME_WL\":].columns]\n",
    "    team_i = team_i.set_index(\"TEAM_ID_HOME\")\n",
    "    team_h = pd.concat([team_h,team_i],axis=0)\n",
    "df = pd.concat([df,team_h],axis=1).reset_index()\n",
    "\n",
    "df = df.set_index(\"TEAM_ID_AWAY\")\n",
    "team_v = pd.DataFrame()\n",
    "for t_id in df.index:\n",
    "    team_i = team.loc[team[team.TEAM_ID==t_id].index[-1]:team[team.TEAM_ID==t_id].index[-1],:]\n",
    "    team_i = team_i.drop([\"GAME_ID\",\"GAME_DATE\"],axis=1)\n",
    "    team_i.columns=[\"TEAM_ID_AWAY\"]+[\"%s_A\"%col for col in team.loc[:,\"LAST_9_GAME_WL\":].columns]\n",
    "    team_i = team_i.set_index(\"TEAM_ID_AWAY\")\n",
    "    team_v = pd.concat([team_v,team_i],axis=0)\n",
    "df = pd.concat([df,team_v],axis=1).reset_index()"
   ]
  },
  {
   "cell_type": "code",
   "execution_count": 85,
   "metadata": {
    "collapsed": true
   },
   "outputs": [],
   "source": [
    "team = pd.read_pickle(\"/Users/chienan/Pycon/github/SportLottery/input/FEATURE_AGG_2012TO2019.pkl\")"
   ]
  },
  {
   "cell_type": "code",
   "execution_count": 86,
   "metadata": {
    "collapsed": true
   },
   "outputs": [],
   "source": [
    "team.drop(list(set(team.columns)-set(df.columns)),axis=1,inplace=True)"
   ]
  },
  {
   "cell_type": "code",
   "execution_count": 87,
   "metadata": {
    "collapsed": true
   },
   "outputs": [],
   "source": [
    "column = pickle.load(open(\"/Users/chienan/Pycon/github/SportLottery/model/columns.pkl\",\"rb\"))"
   ]
  },
  {
   "cell_type": "code",
   "execution_count": 88,
   "metadata": {
    "collapsed": true
   },
   "outputs": [],
   "source": [
    "x_input = df[column]"
   ]
  },
  {
   "cell_type": "code",
   "execution_count": 89,
   "metadata": {
    "collapsed": true
   },
   "outputs": [],
   "source": [
    "model = lgb.Booster(model_file=\"/Users/chienan/Pycon/github/SportLottery/model/model_agg_20190114.txt\")"
   ]
  },
  {
   "cell_type": "code",
   "execution_count": 90,
   "metadata": {
    "collapsed": true
   },
   "outputs": [],
   "source": [
    "pred = model.predict(x_input)"
   ]
  },
  {
   "cell_type": "code",
   "execution_count": 91,
   "metadata": {},
   "outputs": [
    {
     "data": {
      "text/plain": [
       "array([0.66230116, 0.61956761, 0.26134593, 0.6501226 ])"
      ]
     },
     "execution_count": 91,
     "metadata": {},
     "output_type": "execute_result"
    }
   ],
   "source": [
    "pred"
   ]
  },
  {
   "cell_type": "code",
   "execution_count": 92,
   "metadata": {},
   "outputs": [
    {
     "data": {
      "text/html": [
       "<div>\n",
       "<style scoped>\n",
       "    .dataframe tbody tr th:only-of-type {\n",
       "        vertical-align: middle;\n",
       "    }\n",
       "\n",
       "    .dataframe tbody tr th {\n",
       "        vertical-align: top;\n",
       "    }\n",
       "\n",
       "    .dataframe thead th {\n",
       "        text-align: right;\n",
       "    }\n",
       "</style>\n",
       "<table border=\"1\" class=\"dataframe\">\n",
       "  <thead>\n",
       "    <tr style=\"text-align: right;\">\n",
       "      <th></th>\n",
       "      <th>TEAM_ID_AWAY</th>\n",
       "      <th>TEAM_ID_HOME</th>\n",
       "      <th>GAME_DATE</th>\n",
       "      <th>HOME_TEAM</th>\n",
       "      <th>AWAY_TEAM</th>\n",
       "      <th>LAST_9_GAME_WL_H</th>\n",
       "      <th>LAST_9_GAME_TOV_H</th>\n",
       "      <th>LAST_9_GAME_STL_H</th>\n",
       "      <th>LAST_9_GAME_REB_H</th>\n",
       "      <th>LAST_9_GAME_PTS_H</th>\n",
       "      <th>...</th>\n",
       "      <th>LAST_10_GAME_FTA_A</th>\n",
       "      <th>LAST_10_GAME_FG_PCT_A</th>\n",
       "      <th>LAST_10_GAME_FGM_A</th>\n",
       "      <th>LAST_10_GAME_FGA_A</th>\n",
       "      <th>LAST_10_GAME_FG3_PCT_A</th>\n",
       "      <th>LAST_10_GAME_FG3M_A</th>\n",
       "      <th>LAST_10_GAME_FG3A_A</th>\n",
       "      <th>LAST_10_GAME_DREB_A</th>\n",
       "      <th>LAST_10_GAME_BLK_A</th>\n",
       "      <th>LAST_10_GAME_AST_A</th>\n",
       "    </tr>\n",
       "  </thead>\n",
       "  <tbody>\n",
       "    <tr>\n",
       "      <th>0</th>\n",
       "      <td>1610612746</td>\n",
       "      <td>1610612742</td>\n",
       "      <td>2019-01-22</td>\n",
       "      <td>Dallas Mavericks</td>\n",
       "      <td>Los Angeles Clippers</td>\n",
       "      <td>3.0</td>\n",
       "      <td>13.444444</td>\n",
       "      <td>6.888889</td>\n",
       "      <td>47.666667</td>\n",
       "      <td>105.444444</td>\n",
       "      <td>...</td>\n",
       "      <td>27.6</td>\n",
       "      <td>0.4583</td>\n",
       "      <td>40.0</td>\n",
       "      <td>87.3</td>\n",
       "      <td>0.3763</td>\n",
       "      <td>9.3</td>\n",
       "      <td>24.6</td>\n",
       "      <td>34.3</td>\n",
       "      <td>4.8</td>\n",
       "      <td>23.4</td>\n",
       "    </tr>\n",
       "    <tr>\n",
       "      <th>1</th>\n",
       "      <td>1610612757</td>\n",
       "      <td>1610612760</td>\n",
       "      <td>2019-01-22</td>\n",
       "      <td>Oklahoma City Thunder</td>\n",
       "      <td>Portland Trail Blazers</td>\n",
       "      <td>4.0</td>\n",
       "      <td>12.000000</td>\n",
       "      <td>9.111111</td>\n",
       "      <td>46.888889</td>\n",
       "      <td>119.222222</td>\n",
       "      <td>...</td>\n",
       "      <td>23.0</td>\n",
       "      <td>0.4769</td>\n",
       "      <td>43.4</td>\n",
       "      <td>91.2</td>\n",
       "      <td>0.3597</td>\n",
       "      <td>11.3</td>\n",
       "      <td>31.6</td>\n",
       "      <td>36.3</td>\n",
       "      <td>5.8</td>\n",
       "      <td>26.8</td>\n",
       "    </tr>\n",
       "    <tr>\n",
       "      <th>2</th>\n",
       "      <td>1610612750</td>\n",
       "      <td>1610612756</td>\n",
       "      <td>2019-01-22</td>\n",
       "      <td>Phoenix Suns</td>\n",
       "      <td>Minnesota Timberwolves</td>\n",
       "      <td>2.0</td>\n",
       "      <td>14.555556</td>\n",
       "      <td>10.444444</td>\n",
       "      <td>37.333333</td>\n",
       "      <td>109.222222</td>\n",
       "      <td>...</td>\n",
       "      <td>27.4</td>\n",
       "      <td>0.4461</td>\n",
       "      <td>40.6</td>\n",
       "      <td>91.0</td>\n",
       "      <td>0.3319</td>\n",
       "      <td>9.1</td>\n",
       "      <td>27.6</td>\n",
       "      <td>32.8</td>\n",
       "      <td>5.6</td>\n",
       "      <td>24.4</td>\n",
       "    </tr>\n",
       "    <tr>\n",
       "      <th>3</th>\n",
       "      <td>1610612758</td>\n",
       "      <td>1610612761</td>\n",
       "      <td>2019-01-22</td>\n",
       "      <td>Toronto Raptors</td>\n",
       "      <td>Sacramento Kings</td>\n",
       "      <td>7.0</td>\n",
       "      <td>13.000000</td>\n",
       "      <td>10.222222</td>\n",
       "      <td>44.111111</td>\n",
       "      <td>117.555556</td>\n",
       "      <td>...</td>\n",
       "      <td>17.7</td>\n",
       "      <td>0.4603</td>\n",
       "      <td>42.5</td>\n",
       "      <td>92.9</td>\n",
       "      <td>0.4024</td>\n",
       "      <td>12.3</td>\n",
       "      <td>30.6</td>\n",
       "      <td>34.2</td>\n",
       "      <td>4.3</td>\n",
       "      <td>27.1</td>\n",
       "    </tr>\n",
       "  </tbody>\n",
       "</table>\n",
       "<p>4 rows × 725 columns</p>\n",
       "</div>"
      ],
      "text/plain": [
       "  TEAM_ID_AWAY TEAM_ID_HOME   GAME_DATE              HOME_TEAM  \\\n",
       "0   1610612746   1610612742  2019-01-22       Dallas Mavericks   \n",
       "1   1610612757   1610612760  2019-01-22  Oklahoma City Thunder   \n",
       "2   1610612750   1610612756  2019-01-22           Phoenix Suns   \n",
       "3   1610612758   1610612761  2019-01-22        Toronto Raptors   \n",
       "\n",
       "                AWAY_TEAM  LAST_9_GAME_WL_H  LAST_9_GAME_TOV_H  \\\n",
       "0    Los Angeles Clippers               3.0          13.444444   \n",
       "1  Portland Trail Blazers               4.0          12.000000   \n",
       "2  Minnesota Timberwolves               2.0          14.555556   \n",
       "3        Sacramento Kings               7.0          13.000000   \n",
       "\n",
       "   LAST_9_GAME_STL_H  LAST_9_GAME_REB_H  LAST_9_GAME_PTS_H  \\\n",
       "0           6.888889          47.666667         105.444444   \n",
       "1           9.111111          46.888889         119.222222   \n",
       "2          10.444444          37.333333         109.222222   \n",
       "3          10.222222          44.111111         117.555556   \n",
       "\n",
       "          ...          LAST_10_GAME_FTA_A  LAST_10_GAME_FG_PCT_A  \\\n",
       "0         ...                        27.6                 0.4583   \n",
       "1         ...                        23.0                 0.4769   \n",
       "2         ...                        27.4                 0.4461   \n",
       "3         ...                        17.7                 0.4603   \n",
       "\n",
       "   LAST_10_GAME_FGM_A  LAST_10_GAME_FGA_A  LAST_10_GAME_FG3_PCT_A  \\\n",
       "0                40.0                87.3                  0.3763   \n",
       "1                43.4                91.2                  0.3597   \n",
       "2                40.6                91.0                  0.3319   \n",
       "3                42.5                92.9                  0.4024   \n",
       "\n",
       "   LAST_10_GAME_FG3M_A  LAST_10_GAME_FG3A_A  LAST_10_GAME_DREB_A  \\\n",
       "0                  9.3                 24.6                 34.3   \n",
       "1                 11.3                 31.6                 36.3   \n",
       "2                  9.1                 27.6                 32.8   \n",
       "3                 12.3                 30.6                 34.2   \n",
       "\n",
       "   LAST_10_GAME_BLK_A  LAST_10_GAME_AST_A  \n",
       "0                 4.8                23.4  \n",
       "1                 5.8                26.8  \n",
       "2                 5.6                24.4  \n",
       "3                 4.3                27.1  \n",
       "\n",
       "[4 rows x 725 columns]"
      ]
     },
     "execution_count": 92,
     "metadata": {},
     "output_type": "execute_result"
    }
   ],
   "source": [
    "df"
   ]
  },
  {
   "cell_type": "code",
   "execution_count": 93,
   "metadata": {},
   "outputs": [
    {
     "data": {
      "text/plain": [
       "array([0.        , 0.        , 0.70563402, 0.        ])"
      ]
     },
     "execution_count": 93,
     "metadata": {},
     "output_type": "execute_result"
    }
   ],
   "source": [
    "#home\n",
    "home_exp = np.zeros(pred.shape)\n",
    "home_exp[2] = 2.7\n",
    "\n",
    "\n",
    "home_exp*pred"
   ]
  },
  {
   "cell_type": "code",
   "execution_count": 58,
   "metadata": {},
   "outputs": [
    {
     "data": {
      "text/plain": [
       "array([0.        , 1.1075751 , 1.00682761, 0.72221268, 0.        ,\n",
       "       0.        , 0.        , 0.88953013, 0.        , 0.        ,\n",
       "       0.        ])"
      ]
     },
     "execution_count": 58,
     "metadata": {},
     "output_type": "execute_result"
    }
   ],
   "source": [
    "#away\n",
    "away_exp = np.zeros(pred.shape)\n",
    "away_exp[7] = 1.1\n",
    "away_exp[3] = 1.55\n",
    "away_exp[2] = 2.3\n",
    "away_exp[1] = 3.5\n",
    "\n",
    "away_exp*(1-pred)"
   ]
  },
  {
   "cell_type": "code",
   "execution_count": null,
   "metadata": {
    "collapsed": true
   },
   "outputs": [],
   "source": []
  },
  {
   "cell_type": "code",
   "execution_count": null,
   "metadata": {
    "collapsed": true
   },
   "outputs": [],
   "source": []
  }
 ],
 "metadata": {
  "kernelspec": {
   "display_name": "Python 3",
   "language": "python",
   "name": "python3"
  },
  "language_info": {
   "codemirror_mode": {
    "name": "ipython",
    "version": 3
   },
   "file_extension": ".py",
   "mimetype": "text/x-python",
   "name": "python",
   "nbconvert_exporter": "python",
   "pygments_lexer": "ipython3",
   "version": "3.6.2"
  }
 },
 "nbformat": 4,
 "nbformat_minor": 2
}
