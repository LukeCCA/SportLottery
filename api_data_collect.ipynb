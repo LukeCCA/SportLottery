{
 "cells": [
  {
   "cell_type": "code",
   "execution_count": null,
   "metadata": {
    "collapsed": true
   },
   "outputs": [],
   "source": [
    "from nbastat import nbastatapi\n",
    "import pandas as pd\n",
    "import time"
   ]
  },
  {
   "cell_type": "code",
   "execution_count": null,
   "metadata": {
    "collapsed": true
   },
   "outputs": [],
   "source": [
    "stat = nbastatapi.NbaStatApi()"
   ]
  },
  {
   "cell_type": "markdown",
   "metadata": {},
   "source": [
    "# LEAGUEGAMEFINDER"
   ]
  },
  {
   "cell_type": "code",
   "execution_count": null,
   "metadata": {},
   "outputs": [],
   "source": [
    "# Home Team Player Stat\n",
    "data = stat.leaguegamefinder(save_pickle_file_dir=\"/Users/chienan/Pycon/github/SportLottery/input/LEAGUEFINDER_PLAYER_HOME_2019.pkl\"\n",
    "                             ,start=2019\n",
    "                             ,end=2019\n",
    "                             ,playerOrTeam=\"P\"\n",
    "                             ,location=\"H\")"
   ]
  },
  {
   "cell_type": "code",
   "execution_count": null,
   "metadata": {
    "collapsed": true
   },
   "outputs": [],
   "source": [
    "df = pd.read_pickle(\"/Users/chienan/Pycon/github/SportLottery/input/LEAGUEFINDER_PLAYER_HOME_2012to2019.pkl\")\n",
    "df = df[df.GAME_ID<\"0021800000\"].reset_index(drop=True)"
   ]
  },
  {
   "cell_type": "code",
   "execution_count": null,
   "metadata": {
    "collapsed": true
   },
   "outputs": [],
   "source": [
    "df = pd.concat([df,\n",
    "                pd.read_pickle(\"/Users/chienan/Pycon/github/SportLottery/input/LEAGUEFINDER_PLAYER_HOME_2019.pkl\")]\n",
    "               ,axis=0).drop_duplicates().reset_index(drop=True)"
   ]
  },
  {
   "cell_type": "code",
   "execution_count": null,
   "metadata": {
    "collapsed": true
   },
   "outputs": [],
   "source": [
    "df.to_pickle(\"/Users/chienan/Pycon/github/SportLottery/input/LEAGUEFINDER_PLAYER_HOME_2012to2019.pkl\")"
   ]
  },
  {
   "cell_type": "code",
   "execution_count": null,
   "metadata": {},
   "outputs": [],
   "source": [
    "# Away Team Player Stat\n",
    "data = stat.leaguegamefinder(save_pickle_file_dir=\"/Users/chienan/Pycon/github/SportLottery/input/LEAGUEFINDER_PLAYER_AWAY_2019.pkl\",\n",
    "                             start=2019,end=2019,playerOrTeam=\"P\",location=\"A\")"
   ]
  },
  {
   "cell_type": "code",
   "execution_count": null,
   "metadata": {
    "collapsed": true
   },
   "outputs": [],
   "source": [
    "df = pd.read_pickle(\"/Users/chienan/Pycon/github/SportLottery/input/LEAGUEFINDER_PLAYER_AWAY_2012to2019.pkl\")\n",
    "df = df[df.GAME_ID<\"0021800000\"].reset_index(drop=True)"
   ]
  },
  {
   "cell_type": "code",
   "execution_count": null,
   "metadata": {
    "collapsed": true
   },
   "outputs": [],
   "source": [
    "df = pd.concat([df,\n",
    "                pd.read_pickle(\"/Users/chienan/Pycon/github/SportLottery/input/LEAGUEFINDER_PLAYER_AWAY_2019.pkl\")]\n",
    "               ,axis=0).drop_duplicates().reset_index(drop=True)"
   ]
  },
  {
   "cell_type": "code",
   "execution_count": null,
   "metadata": {
    "collapsed": true
   },
   "outputs": [],
   "source": [
    "df.to_pickle(\"/Users/chienan/Pycon/github/SportLottery/input/LEAGUEFINDER_PLAYER_AWAY_2012to2019.pkl\")"
   ]
  },
  {
   "cell_type": "code",
   "execution_count": null,
   "metadata": {},
   "outputs": [],
   "source": [
    "# Home Team Team Stat\n",
    "data = stat.leaguegamefinder(save_pickle_file_dir=\"/Users/chienan/Pycon/github/SportLottery/input/LEAGUEFINDER_TEAM_HOME_2019.pkl\",\n",
    "                             start=2019,end=2019,playerOrTeam=\"T\",location=\"H\")"
   ]
  },
  {
   "cell_type": "code",
   "execution_count": null,
   "metadata": {
    "collapsed": true
   },
   "outputs": [],
   "source": [
    "df = pd.read_pickle(\"/Users/chienan/Pycon/github/SportLottery/input/LEAGUEFINDER_TEAM_HOME_2012to2019.pkl\")\n",
    "df = df[df.GAME_ID<\"0021800000\"].reset_index(drop=True)"
   ]
  },
  {
   "cell_type": "code",
   "execution_count": null,
   "metadata": {
    "collapsed": true
   },
   "outputs": [],
   "source": [
    "df = pd.concat([df,\n",
    "                pd.read_pickle(\"/Users/chienan/Pycon/github/SportLottery/input/LEAGUEFINDER_TEAM_HOME_2019.pkl\")]\n",
    "               ,axis=0).drop_duplicates().reset_index(drop=True)"
   ]
  },
  {
   "cell_type": "code",
   "execution_count": null,
   "metadata": {
    "collapsed": true
   },
   "outputs": [],
   "source": [
    "df.to_pickle(\"/Users/chienan/Pycon/github/SportLottery/input/LEAGUEFINDER_TEAM_HOME_2012to2019.pkl\")"
   ]
  },
  {
   "cell_type": "code",
   "execution_count": null,
   "metadata": {
    "scrolled": true
   },
   "outputs": [],
   "source": [
    "# Away Team Team Stat\n",
    "data = stat.leaguegamefinder(save_pickle_file_dir=\"/Users/chienan/Pycon/github/SportLottery/input/LEAGUEFINDER_TEAM_AWAY_2019.pkl\",\n",
    "                             start=2019,end=2019,playerOrTeam=\"T\",location=\"A\")"
   ]
  },
  {
   "cell_type": "code",
   "execution_count": null,
   "metadata": {
    "collapsed": true
   },
   "outputs": [],
   "source": [
    "df = pd.read_pickle(\"/Users/chienan/Pycon/github/SportLottery/input/LEAGUEFINDER_TEAM_AWAY_2012to2019.pkl\")\n",
    "df = df[df.GAME_ID<\"0021800000\"].reset_index(drop=True)"
   ]
  },
  {
   "cell_type": "code",
   "execution_count": null,
   "metadata": {
    "collapsed": true
   },
   "outputs": [],
   "source": [
    "df = pd.concat([df,\n",
    "                pd.read_pickle(\"/Users/chienan/Pycon/github/SportLottery/input/LEAGUEFINDER_TEAM_AWAY_2019.pkl\")]\n",
    "               ,axis=0).drop_duplicates().reset_index(drop=True)"
   ]
  },
  {
   "cell_type": "code",
   "execution_count": null,
   "metadata": {
    "collapsed": true
   },
   "outputs": [],
   "source": [
    "df.to_pickle(\"/Users/chienan/Pycon/github/SportLottery/input/LEAGUEFINDER_TEAM_AWAY_2012to2019.pkl\")"
   ]
  },
  {
   "cell_type": "markdown",
   "metadata": {},
   "source": [
    "## TEAMGAMELOG"
   ]
  },
  {
   "cell_type": "code",
   "execution_count": null,
   "metadata": {},
   "outputs": [],
   "source": [
    "# Teamlog stat\n",
    "data = stat.teamgamelog(save_pickle_file_dir=\"/Users/chienan/Pycon/github/SportLottery/input/TEAMGAMELOG_2019.pkl\",\n",
    "                        start=2019,end=2019)"
   ]
  },
  {
   "cell_type": "code",
   "execution_count": null,
   "metadata": {
    "collapsed": true
   },
   "outputs": [],
   "source": [
    "df = pd.read_pickle(\"/Users/chienan/Pycon/github/SportLottery/input/TEAMGAMELOG_2012to2019.pkl\")\n",
    "df = df.sort_values(\"Game_ID\").reset_index(drop=True)\n",
    "df = df[df.Game_ID<\"0021800000\"].reset_index(drop=True)"
   ]
  },
  {
   "cell_type": "code",
   "execution_count": null,
   "metadata": {
    "collapsed": true
   },
   "outputs": [],
   "source": [
    "df = pd.concat([df,\n",
    "                pd.read_pickle(\"/Users/chienan/Pycon/github/SportLottery/input/TEAMGAMELOG_2019.pkl\")],axis=0).drop_duplicates().reset_index(drop=True)"
   ]
  },
  {
   "cell_type": "code",
   "execution_count": null,
   "metadata": {
    "collapsed": true
   },
   "outputs": [],
   "source": [
    "df = df.sort_values(\"Game_ID\").reset_index(drop=True)"
   ]
  },
  {
   "cell_type": "code",
   "execution_count": null,
   "metadata": {
    "collapsed": true
   },
   "outputs": [],
   "source": [
    "df.to_pickle(\"/Users/chienan/Pycon/github/SportLottery/input/TEAMGAMELOG_2012to2019.pkl\")"
   ]
  },
  {
   "cell_type": "markdown",
   "metadata": {},
   "source": [
    "# Adv Boxscore"
   ]
  },
  {
   "cell_type": "code",
   "execution_count": null,
   "metadata": {
    "collapsed": true,
    "scrolled": false
   },
   "outputs": [],
   "source": [
    "start_game_id = int(pd.read_pickle(\"/Users/chienan/Pycon/github/SportLottery/input/BOXSCOREADVANCE_TEAM_2012to2019.pkl\").GAME_ID.max()[2:])"
   ]
  },
  {
   "cell_type": "code",
   "execution_count": null,
   "metadata": {
    "collapsed": true
   },
   "outputs": [],
   "source": [
    "end_game_id= int(pd.read_pickle(\"/Users/chienan/Pycon/github/SportLottery/input/TEAMGAMELOG_2012to2019.pkl\").Game_ID.max()[2:])"
   ]
  },
  {
   "cell_type": "code",
   "execution_count": null,
   "metadata": {},
   "outputs": [],
   "source": [
    "start_game_id,end_game_id"
   ]
  },
  {
   "cell_type": "code",
   "execution_count": null,
   "metadata": {
    "scrolled": true
   },
   "outputs": [],
   "source": [
    "data = stat.boxscoreadvanced(start_year=2012,\n",
    "                             end_year=2019,\n",
    "                             start_gameid=start_game_id,\n",
    "                             end_gameid=end_game_id,\n",
    "                             save_team_pickle_file_dir=\"/Users/chienan/Pycon/github/SportLottery/input/BOXSCOREADVANCE_TEAM_UPDATE.pkl\",\n",
    "                             save_player_pickle_file_dir=\"/Users/chienan/Pycon/github/SportLottery/input/BOXSCOREADVANCE_PLAYER_UPDATE.pkl\")"
   ]
  },
  {
   "cell_type": "code",
   "execution_count": null,
   "metadata": {
    "collapsed": true
   },
   "outputs": [],
   "source": [
    "team_data = pd.read_pickle(\"/Users/chienan/Pycon/github/SportLottery/input/BOXSCOREADVANCE_TEAM_2012to2019.pkl\")\n",
    "player_data = pd.read_pickle(\"/Users/chienan/Pycon/github/SportLottery/input/BOXSCOREADVANCE_PLAYER_2012to2019.pkl\")\n",
    "team_data_update = pd.read_pickle(\"/Users/chienan/Pycon/github/SportLottery/input/BOXSCOREADVANCE_TEAM_UPDATE.pkl\")\n",
    "player_data_update = pd.read_pickle(\"/Users/chienan/Pycon/github/SportLottery/input/BOXSCOREADVANCE_PLAYER_UPDATE.pkl\")\n",
    "player_data = pd.concat([player_data,player_data_update],axis=0).drop_duplicates().reset_index(drop=True)\n",
    "team_data = pd.concat([team_data,team_data_update],axis=0).drop_duplicates().reset_index(drop=True)"
   ]
  },
  {
   "cell_type": "code",
   "execution_count": null,
   "metadata": {
    "collapsed": true
   },
   "outputs": [],
   "source": [
    "player_data.to_pickle(\"/Users/chienan/Pycon/github/SportLottery/input/BOXSCOREADVANCE_PLAYER_2012to2019.pkl\")\n",
    "team_data.to_pickle(\"/Users/chienan/Pycon/github/SportLottery/input/BOXSCOREADVANCE_TEAM_2012to2019.pkl\")"
   ]
  },
  {
   "cell_type": "markdown",
   "metadata": {},
   "source": [
    "# TEST"
   ]
  },
  {
   "cell_type": "code",
   "execution_count": null,
   "metadata": {
    "collapsed": true
   },
   "outputs": [],
   "source": [
    "import requests\n",
    "import numpy as np\n",
    "import pandas as pd\n",
    "import json\n",
    "from datetime import datetime"
   ]
  },
  {
   "cell_type": "code",
   "execution_count": null,
   "metadata": {
    "collapsed": true
   },
   "outputs": [],
   "source": [
    "HEADERS = {'user-agent': ('Mozilla/5.0 (Windows NT 6.2; WOW64) AppleWebKit/537.36 (KHTML, like Gecko) Chrome/57.0.2987.133 Safari/537.36'),\n",
    "           'Dnt': ('1'),\n",
    "           'Accept-Encoding': ('gzip, deflate'),\n",
    "           'Accept-Language': ('en'),\n",
    "           'origin': ('http://stats.nba.com')\n",
    "          }"
   ]
  },
  {
   "cell_type": "code",
   "execution_count": null,
   "metadata": {
    "collapsed": true
   },
   "outputs": [],
   "source": [
    "url = \"http://stats.nba.com/stats/boxscoreadvancedv2/\"\n",
    "\n",
    "years = [str(i) for i in range(2012, 2012+1)]\n",
    "seasons =  [int('2' + str(i)[2:] + '00000') for i in range(2012-1, 2012)]\n",
    "playerData = []\n",
    "teamData = []\n",
    "for season in seasons:\n",
    "    for gameId in [i for i in range(season + 1, season+83+1)]:\n",
    "        querystring = {\"gameId\": '00'+str(gameId),\"startPeriod\":\"0\",\"endPeriod\":\"14\",\n",
    "                       \"startRange\":\"0\",\"endRange\":\"2147483647\",\"rangeType\":\"0\"}\n",
    "        response = requests.request(\"GET\", url, params=querystring,headers=HEADERS)\n",
    "        if response.status_code != 200:\n",
    "            print(\"Don't got \" + str(gameId) + \" data!\")\n",
    "            response = requests.request(\"GET\", url, \n",
    "                                        params={\"gameId\": '00'+str(gameId-1),\"startPeriod\":\"0\",\"endPeriod\":\"14\",\n",
    "                                                \"startRange\":\"0\",\"endRange\":\"2147483647\",\"rangeType\":\"0\"},\n",
    "                                        headers=HEADERS)\n",
    "            break\n",
    "        response = json.loads(response.content)               \n",
    "        playerData += response['resultSets'][0]['rowSet']\n",
    "        teamData += response['resultSets'][1]['rowSet']\n",
    "        print('Finish '+str(gameId))"
   ]
  },
  {
   "cell_type": "code",
   "execution_count": null,
   "metadata": {
    "collapsed": true
   },
   "outputs": [],
   "source": [
    "pd.DataFrame(playerData,columns=response['resultSets'][0]['headers']).info()"
   ]
  },
  {
   "cell_type": "code",
   "execution_count": null,
   "metadata": {
    "collapsed": true
   },
   "outputs": [],
   "source": [
    "team = pd.read_pickle(\"/Users/chienan/Pycon/github/SportLottery/input/BOXSCOREPLAYERTRACK_TEAM_2012to2019.pkl\")"
   ]
  },
  {
   "cell_type": "code",
   "execution_count": null,
   "metadata": {
    "collapsed": true
   },
   "outputs": [],
   "source": [
    "pd.DataFrame(playerData,columns=response['resultSets'][0]['headers'])\n",
    "pd.DataFrame(teamData,columns=response['resultSets'][1]['headers'])"
   ]
  },
  {
   "cell_type": "code",
   "execution_count": null,
   "metadata": {
    "collapsed": true
   },
   "outputs": [],
   "source": [
    "url = \"http://stats.nba.com/stats/boxscoreadvancedv2/\"\n",
    "\n",
    "querystring = {\"gameId\": '00'+str(21100992),\"startPeriod\":\"0\",\"endPeriod\":\"14\",\"startRange\":\"0\",\"endRange\":\"2147483647\",\"rangeType\":\"0\"}\n",
    "response = requests.request(\"GET\", url, params=querystring,headers=HEADERS)\n",
    "times = 0\n",
    "while response.status_code != 200:\n",
    "    response = requests.request(\"GET\", url, params=querystring,headers=HEADERS)\n",
    "    times += 1\n",
    "    if times > 5:\n",
    "        print(\"Error in gameid: \" + str(21100991))\n",
    "        response = requests.request(\"GET\", url, \n",
    "                                    params={\"gameId\": '00'+str(21100992-1),\"startPeriod\":\"0\",\"endPeriod\":\"14\",\n",
    "                                                    \"startRange\":\"0\",\"endRange\":\"2147483647\",\"rangeType\":\"0\"},\n",
    "                                    headers=HEADERS)\n",
    "        break\n",
    "response = json.loads(response.content)"
   ]
  },
  {
   "cell_type": "code",
   "execution_count": null,
   "metadata": {
    "collapsed": true
   },
   "outputs": [],
   "source": [
    "url = \"http://stats.nba.com/stats/boxscoreadvancedv2/\"\n",
    "\n",
    "years = [str(i) for i in range(2012, 2012+1)]\n",
    "seasons =  [int('2' + str(i)[2:] + '00000') for i in range(2012-1, 2012)]\n",
    "playerData = []\n",
    "teamData = []\n",
    "for season in seasons:\n",
    "\n",
    "    for gameId in [i for i in range(season + 1, season+83+1)]:\n",
    "        querystring = {\"gameId\": '00'+str(gameId),\"startPeriod\":\"0\",\"endPeriod\":\"14\",\n",
    "                       \"startRange\":\"0\",\"endRange\":\"2147483647\",\"rangeType\":\"0\"}\n",
    "        response = requests.request(\"GET\", url, params=querystring,headers=HEADERS)\n",
    "        times = 0\n",
    "        while response.status_code != 200:\n",
    "            response = requests.request(\"GET\", url, params=querystring,headers=HEADERS)\n",
    "            times += 1\n",
    "            if times > 5:\n",
    "                print(\"Error in gameid: \" + str(gameId))\n",
    "                response = requests.request(\"GET\", url, \n",
    "                                            params={\"gameId\": '00'+str(gameId-1),\"startPeriod\":\"0\",\"endPeriod\":\"14\",\n",
    "                                                    \"startRange\":\"0\",\"endRange\":\"2147483647\",\"rangeType\":\"0\"},\n",
    "                                            headers=HEADERS)\n",
    "                break\n",
    "        response = json.loads(response.content)               \n",
    "        playerData += response['resultSets'][0]['rowSet']\n",
    "        teamData += response['resultSets'][1]['rowSet']\n",
    "        print('Finish '+str(gameId))"
   ]
  },
  {
   "cell_type": "code",
   "execution_count": null,
   "metadata": {
    "collapsed": true
   },
   "outputs": [],
   "source": []
  },
  {
   "cell_type": "code",
   "execution_count": null,
   "metadata": {
    "collapsed": true
   },
   "outputs": [],
   "source": []
  }
 ],
 "metadata": {
  "kernelspec": {
   "display_name": "Python 3",
   "language": "python",
   "name": "python3"
  },
  "language_info": {
   "codemirror_mode": {
    "name": "ipython",
    "version": 3
   },
   "file_extension": ".py",
   "mimetype": "text/x-python",
   "name": "python",
   "nbconvert_exporter": "python",
   "pygments_lexer": "ipython3",
   "version": "3.6.2"
  }
 },
 "nbformat": 4,
 "nbformat_minor": 2
}
