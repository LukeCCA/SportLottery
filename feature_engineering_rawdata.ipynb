{
 "cells": [
  {
   "cell_type": "code",
   "execution_count": 1,
   "metadata": {
    "collapsed": true
   },
   "outputs": [],
   "source": [
    "import numpy as np\n",
    "import pandas as pd\n",
    "import json\n",
    "from datetime import datetime\n",
    "from datetime import timedelta\n",
    "import gc"
   ]
  },
  {
   "cell_type": "code",
   "execution_count": 2,
   "metadata": {
    "collapsed": true
   },
   "outputs": [],
   "source": [
    "teams = json.loads(open(\"/Users/chienan/Pycon/github/SportLottery/nbastat/teamId_mpt\").read())"
   ]
  },
  {
   "cell_type": "code",
   "execution_count": 3,
   "metadata": {
    "collapsed": true
   },
   "outputs": [],
   "source": [
    "df = pd.read_pickle(\"/Users/chienan/Pycon/github/SportLottery/input/TEAMGAMELOG_2012to2019.pkl\").sort_values(\"Game_ID\").reset_index(drop=True)"
   ]
  },
  {
   "cell_type": "code",
   "execution_count": 4,
   "metadata": {
    "collapsed": true
   },
   "outputs": [],
   "source": [
    "df.WL = df.WL.replace({\"W\":1,\"L\":0})"
   ]
  },
  {
   "cell_type": "code",
   "execution_count": 5,
   "metadata": {},
   "outputs": [
    {
     "data": {
      "text/plain": [
       "{'1610612737': 'Atlanta Hawks',\n",
       " '1610612738': 'Boston Celtics',\n",
       " '1610612739': 'Cleveland Cavaliers',\n",
       " '1610612740': 'New Orleans Pelicans',\n",
       " '1610612741': 'Chicago Bulls',\n",
       " '1610612742': 'Dallas Mavericks',\n",
       " '1610612743': 'Denver Nuggets',\n",
       " '1610612744': 'Golden State Warriors',\n",
       " '1610612745': 'Houston Rockets',\n",
       " '1610612746': 'Los Angeles Clippers',\n",
       " '1610612747': 'Los Angeles Lakers',\n",
       " '1610612748': 'Miami Heat',\n",
       " '1610612749': 'Milwaukee Bucks',\n",
       " '1610612750': 'Minnesota Timberwolves',\n",
       " '1610612751': 'Brooklyn Nets',\n",
       " '1610612752': 'New York Knicks',\n",
       " '1610612753': 'Orlando Magic',\n",
       " '1610612754': 'Indiana Pacers',\n",
       " '1610612755': 'Philadelphia 76ers',\n",
       " '1610612756': 'Phoenix Suns',\n",
       " '1610612757': 'Portland Trail Blazers',\n",
       " '1610612758': 'Sacramento Kings',\n",
       " '1610612759': 'San Antonio Spurs',\n",
       " '1610612760': 'Oklahoma City Thunder',\n",
       " '1610612761': 'Toronto Raptors',\n",
       " '1610612762': 'Utah Jazz',\n",
       " '1610612763': 'Memphis Grizzlies',\n",
       " '1610612764': 'Washington Wizards',\n",
       " '1610612765': 'Detroit Pistons',\n",
       " '1610612766': 'Charlotte Hornets'}"
      ]
     },
     "execution_count": 5,
     "metadata": {},
     "output_type": "execute_result"
    }
   ],
   "source": [
    "teams"
   ]
  },
  {
   "cell_type": "code",
   "execution_count": 6,
   "metadata": {
    "collapsed": true
   },
   "outputs": [],
   "source": [
    "lastNgames = 10 "
   ]
  },
  {
   "cell_type": "code",
   "execution_count": 7,
   "metadata": {
    "collapsed": true
   },
   "outputs": [],
   "source": [
    "# Raw Data\n",
    "df_ = pd.DataFrame()\n",
    "for key in teams.keys():\n",
    "    df_i = df[df.Team_ID==int(key)].reset_index(drop=True)\n",
    "    df_team = pd.DataFrame()\n",
    "    for time in range(1,lastNgames+1):\n",
    "        df_team = pd.concat([df_team,pd.DataFrame(df_i.shift(time).loc[:,\"FGM\":\"PTS\"].values,\n",
    "                                                  columns=[\"LAST_\"+str(time)+\"_GAME_\"+col for col in df_i.loc[:,\"FGM\":\"PTS\"].columns]),\n",
    "                             pd.DataFrame(df_i.shift(time).loc[:,\"WL\":\"WL\"].values,\n",
    "                                          columns=[\"LAST_\"+str(time)+\"_GAME_WL\"])],axis=1)\n",
    "    df_team = pd.concat([df_i.loc[:,\"Team_ID\":\"MATCHUP\"],df_team],axis=1)\n",
    "    df_ = pd.concat([df_, df_team],axis=0).reset_index(drop=True)"
   ]
  },
  {
   "cell_type": "code",
   "execution_count": 8,
   "metadata": {
    "collapsed": true
   },
   "outputs": [],
   "source": [
    "df_.to_pickle(\"/Users/chienan/Pycon/github/SportLottery/input/TEAMGAMELOG_LAST_10_GAEMS_RAW_2012to2019.pkl\")"
   ]
  },
  {
   "cell_type": "markdown",
   "metadata": {},
   "source": [
    "# Team Data Combine"
   ]
  },
  {
   "cell_type": "code",
   "execution_count": 9,
   "metadata": {
    "collapsed": true
   },
   "outputs": [],
   "source": [
    "teams = json.loads(open(\"/Users/chienan/Pycon/github/SportLottery/nbastat/teamId_mpt\").read())"
   ]
  },
  {
   "cell_type": "code",
   "execution_count": 10,
   "metadata": {
    "collapsed": true
   },
   "outputs": [],
   "source": [
    "# Raw Data\n",
    "df_ = pd.read_pickle(\"/Users/chienan/Pycon/github/SportLottery/input/TEAMGAMELOG_LAST_10_GAEMS_RAW_2012to2019.pkl\")"
   ]
  },
  {
   "cell_type": "code",
   "execution_count": 11,
   "metadata": {
    "collapsed": true
   },
   "outputs": [],
   "source": [
    "plus_minus = pd.concat([pd.read_pickle(\"/Users/chienan/Pycon/github/SportLottery/input/LEAGUEFINDER_TEAM_AWAY_2012to2019.pkl\"),\n",
    "                        pd.read_pickle(\"/Users/chienan/Pycon/github/SportLottery/input/LEAGUEFINDER_TEAM_HOME_2012to2019.pkl\")],\n",
    "                       axis=0).reset_index(drop=True)"
   ]
  },
  {
   "cell_type": "code",
   "execution_count": 12,
   "metadata": {
    "collapsed": true
   },
   "outputs": [],
   "source": [
    "plus_minus = plus_minus[['GAME_ID', 'TEAM_ID', 'GAME_DATE', 'PLUS_MINUS']]"
   ]
  },
  {
   "cell_type": "code",
   "execution_count": 13,
   "metadata": {},
   "outputs": [
    {
     "data": {
      "text/html": [
       "<div>\n",
       "<style scoped>\n",
       "    .dataframe tbody tr th:only-of-type {\n",
       "        vertical-align: middle;\n",
       "    }\n",
       "\n",
       "    .dataframe tbody tr th {\n",
       "        vertical-align: top;\n",
       "    }\n",
       "\n",
       "    .dataframe thead th {\n",
       "        text-align: right;\n",
       "    }\n",
       "</style>\n",
       "<table border=\"1\" class=\"dataframe\">\n",
       "  <thead>\n",
       "    <tr style=\"text-align: right;\">\n",
       "      <th></th>\n",
       "      <th>GAME_ID</th>\n",
       "      <th>TEAM_ID</th>\n",
       "      <th>GAME_DATE</th>\n",
       "      <th>PLUS_MINUS</th>\n",
       "    </tr>\n",
       "  </thead>\n",
       "  <tbody>\n",
       "    <tr>\n",
       "      <th>0</th>\n",
       "      <td>0021100001</td>\n",
       "      <td>1610612738</td>\n",
       "      <td>2011-12-25</td>\n",
       "      <td>-2.0</td>\n",
       "    </tr>\n",
       "    <tr>\n",
       "      <th>1</th>\n",
       "      <td>0021100002</td>\n",
       "      <td>1610612748</td>\n",
       "      <td>2011-12-25</td>\n",
       "      <td>11.0</td>\n",
       "    </tr>\n",
       "    <tr>\n",
       "      <th>2</th>\n",
       "      <td>0021100003</td>\n",
       "      <td>1610612741</td>\n",
       "      <td>2011-12-25</td>\n",
       "      <td>1.0</td>\n",
       "    </tr>\n",
       "    <tr>\n",
       "      <th>3</th>\n",
       "      <td>0021100004</td>\n",
       "      <td>1610612753</td>\n",
       "      <td>2011-12-25</td>\n",
       "      <td>-8.0</td>\n",
       "    </tr>\n",
       "    <tr>\n",
       "      <th>4</th>\n",
       "      <td>0021100005</td>\n",
       "      <td>1610612746</td>\n",
       "      <td>2011-12-25</td>\n",
       "      <td>19.0</td>\n",
       "    </tr>\n",
       "  </tbody>\n",
       "</table>\n",
       "</div>"
      ],
      "text/plain": [
       "      GAME_ID     TEAM_ID   GAME_DATE  PLUS_MINUS\n",
       "0  0021100001  1610612738  2011-12-25        -2.0\n",
       "1  0021100002  1610612748  2011-12-25        11.0\n",
       "2  0021100003  1610612741  2011-12-25         1.0\n",
       "3  0021100004  1610612753  2011-12-25        -8.0\n",
       "4  0021100005  1610612746  2011-12-25        19.0"
      ]
     },
     "execution_count": 13,
     "metadata": {},
     "output_type": "execute_result"
    }
   ],
   "source": [
    "plus_minus.head()"
   ]
  },
  {
   "cell_type": "code",
   "execution_count": 14,
   "metadata": {
    "collapsed": true
   },
   "outputs": [],
   "source": [
    "lastNgames = 10 "
   ]
  },
  {
   "cell_type": "code",
   "execution_count": 15,
   "metadata": {
    "collapsed": true
   },
   "outputs": [],
   "source": [
    "# Raw Data\n",
    "plus_minus_ = pd.DataFrame()\n",
    "for key in teams.keys():\n",
    "    df_i = plus_minus[plus_minus.TEAM_ID==int(key)].reset_index(drop=True)\n",
    "    df_team = pd.DataFrame()\n",
    "    for time in range(1,lastNgames+1):\n",
    "    \n",
    "        df_team = pd.concat([df_team,pd.DataFrame(df_i.shift(time).loc[:,\"PLUS_MINUS\":\"PLUS_MINUS\"].values,\n",
    "                                                  columns=[\"LAST_\"+str(time)+\"_GAME_PLUS_MINUS\"])],axis=1)\n",
    "        \n",
    "    df_team = pd.concat([df_i.loc[:,\"GAME_ID\":\"TEAM_ID\"],df_team],axis=1)\n",
    "    plus_minus_ = pd.concat([plus_minus_, df_team],axis=0).reset_index(drop=True)"
   ]
  },
  {
   "cell_type": "code",
   "execution_count": 16,
   "metadata": {},
   "outputs": [
    {
     "data": {
      "text/html": [
       "<div>\n",
       "<style scoped>\n",
       "    .dataframe tbody tr th:only-of-type {\n",
       "        vertical-align: middle;\n",
       "    }\n",
       "\n",
       "    .dataframe tbody tr th {\n",
       "        vertical-align: top;\n",
       "    }\n",
       "\n",
       "    .dataframe thead th {\n",
       "        text-align: right;\n",
       "    }\n",
       "</style>\n",
       "<table border=\"1\" class=\"dataframe\">\n",
       "  <thead>\n",
       "    <tr style=\"text-align: right;\">\n",
       "      <th></th>\n",
       "      <th>GAME_ID</th>\n",
       "      <th>TEAM_ID_HOME</th>\n",
       "      <th>TEAM_ID_AWAY</th>\n",
       "      <th>PLUS_MINUS</th>\n",
       "    </tr>\n",
       "  </thead>\n",
       "  <tbody>\n",
       "    <tr>\n",
       "      <th>0</th>\n",
       "      <td>0021100001</td>\n",
       "      <td>1610612752</td>\n",
       "      <td>1610612738</td>\n",
       "      <td>2.0</td>\n",
       "    </tr>\n",
       "    <tr>\n",
       "      <th>1</th>\n",
       "      <td>0021100002</td>\n",
       "      <td>1610612742</td>\n",
       "      <td>1610612748</td>\n",
       "      <td>-11.0</td>\n",
       "    </tr>\n",
       "    <tr>\n",
       "      <th>2</th>\n",
       "      <td>0021100003</td>\n",
       "      <td>1610612747</td>\n",
       "      <td>1610612741</td>\n",
       "      <td>-1.0</td>\n",
       "    </tr>\n",
       "    <tr>\n",
       "      <th>3</th>\n",
       "      <td>0021100004</td>\n",
       "      <td>1610612760</td>\n",
       "      <td>1610612753</td>\n",
       "      <td>8.0</td>\n",
       "    </tr>\n",
       "    <tr>\n",
       "      <th>4</th>\n",
       "      <td>0021100005</td>\n",
       "      <td>1610612744</td>\n",
       "      <td>1610612746</td>\n",
       "      <td>-19.0</td>\n",
       "    </tr>\n",
       "  </tbody>\n",
       "</table>\n",
       "</div>"
      ],
      "text/plain": [
       "      GAME_ID  TEAM_ID_HOME  TEAM_ID_AWAY  PLUS_MINUS\n",
       "0  0021100001    1610612752    1610612738         2.0\n",
       "1  0021100002    1610612742    1610612748       -11.0\n",
       "2  0021100003    1610612747    1610612741        -1.0\n",
       "3  0021100004    1610612760    1610612753         8.0\n",
       "4  0021100005    1610612744    1610612746       -19.0"
      ]
     },
     "execution_count": 16,
     "metadata": {},
     "output_type": "execute_result"
    }
   ],
   "source": [
    "# Home Team Data\n",
    "nba_home_df = pd.read_pickle(\"/Users/chienan/Pycon/github/SportLottery/input/LEAGUEFINDER_TEAM_HOME_2012to2019.pkl\")\n",
    "nba_home_df = nba_home_df[['TEAM_ID','GAME_ID','PLUS_MINUS']]\n",
    "\n",
    "# Away Team Data\n",
    "nba_away_df = pd.read_pickle('/Users/chienan/Pycon/github/SportLottery/input/LEAGUEFINDER_TEAM_AWAY_2012to2019.pkl')\n",
    "nba_away_df = nba_away_df[['TEAM_ID','GAME_ID']]\n",
    "\n",
    "# Join Two Table\n",
    "nba_df = nba_home_df.merge(nba_away_df, on='GAME_ID', suffixes=['_HOME','_AWAY'],how='inner')\n",
    "nba_df = nba_df[['GAME_ID','TEAM_ID_HOME','TEAM_ID_AWAY','PLUS_MINUS']]\n",
    "nba_df.head()"
   ]
  },
  {
   "cell_type": "code",
   "execution_count": 17,
   "metadata": {
    "collapsed": true,
    "scrolled": true
   },
   "outputs": [],
   "source": [
    "nba_df = nba_df.merge(df_,left_on=['TEAM_ID_HOME','GAME_ID'],right_on=['Team_ID','Game_ID'],how='inner')\n",
    "nba_df = nba_df.merge(df_,left_on=['TEAM_ID_AWAY','GAME_ID'],right_on=['Team_ID','Game_ID'],\n",
    "                      suffixes=['_H','_A'],how='inner')\n",
    "nba_df['GAME_DATE']=nba_df['GAME_DATE_H']"
   ]
  },
  {
   "cell_type": "code",
   "execution_count": 18,
   "metadata": {
    "collapsed": true
   },
   "outputs": [],
   "source": [
    "for col in [col for col in nba_df.columns if (\"Team_\" in col)|(\"Game_ID\" in col)|(\"MATCHUP\" in col)|(\"GAME_DATE_\" in col)]:\n",
    "    del nba_df[col]"
   ]
  },
  {
   "cell_type": "code",
   "execution_count": 19,
   "metadata": {},
   "outputs": [
    {
     "data": {
      "text/plain": [
       "415"
      ]
     },
     "execution_count": 19,
     "metadata": {},
     "output_type": "execute_result"
    }
   ],
   "source": [
    "gc.collect()"
   ]
  },
  {
   "cell_type": "code",
   "execution_count": 20,
   "metadata": {
    "collapsed": true
   },
   "outputs": [],
   "source": [
    "nba_df.GAME_DATE = nba_df.GAME_DATE.apply(lambda dt : datetime.strptime(dt, \"%b %d, %Y\"))"
   ]
  },
  {
   "cell_type": "code",
   "execution_count": 21,
   "metadata": {
    "collapsed": true
   },
   "outputs": [],
   "source": [
    "nba_df = nba_df.merge(plus_minus_,left_on=['TEAM_ID_HOME','GAME_ID'],right_on=['TEAM_ID','GAME_ID'],how='inner')\n",
    "nba_df = nba_df.merge(plus_minus_,left_on=['TEAM_ID_AWAY','GAME_ID'],right_on=['TEAM_ID','GAME_ID'],\n",
    "                      suffixes=['_H','_A'],how='inner')"
   ]
  },
  {
   "cell_type": "code",
   "execution_count": 22,
   "metadata": {},
   "outputs": [
    {
     "data": {
      "text/html": [
       "<div>\n",
       "<style scoped>\n",
       "    .dataframe tbody tr th:only-of-type {\n",
       "        vertical-align: middle;\n",
       "    }\n",
       "\n",
       "    .dataframe tbody tr th {\n",
       "        vertical-align: top;\n",
       "    }\n",
       "\n",
       "    .dataframe thead th {\n",
       "        text-align: right;\n",
       "    }\n",
       "</style>\n",
       "<table border=\"1\" class=\"dataframe\">\n",
       "  <thead>\n",
       "    <tr style=\"text-align: right;\">\n",
       "      <th></th>\n",
       "      <th>GAME_ID</th>\n",
       "      <th>TEAM_ID_HOME</th>\n",
       "      <th>TEAM_ID_AWAY</th>\n",
       "      <th>PLUS_MINUS</th>\n",
       "      <th>LAST_1_GAME_FGM_H</th>\n",
       "      <th>LAST_1_GAME_FGA_H</th>\n",
       "      <th>LAST_1_GAME_FG_PCT_H</th>\n",
       "      <th>LAST_1_GAME_FG3M_H</th>\n",
       "      <th>LAST_1_GAME_FG3A_H</th>\n",
       "      <th>LAST_1_GAME_FG3_PCT_H</th>\n",
       "      <th>...</th>\n",
       "      <th>LAST_1_GAME_PLUS_MINUS_A</th>\n",
       "      <th>LAST_2_GAME_PLUS_MINUS_A</th>\n",
       "      <th>LAST_3_GAME_PLUS_MINUS_A</th>\n",
       "      <th>LAST_4_GAME_PLUS_MINUS_A</th>\n",
       "      <th>LAST_5_GAME_PLUS_MINUS_A</th>\n",
       "      <th>LAST_6_GAME_PLUS_MINUS_A</th>\n",
       "      <th>LAST_7_GAME_PLUS_MINUS_A</th>\n",
       "      <th>LAST_8_GAME_PLUS_MINUS_A</th>\n",
       "      <th>LAST_9_GAME_PLUS_MINUS_A</th>\n",
       "      <th>LAST_10_GAME_PLUS_MINUS_A</th>\n",
       "    </tr>\n",
       "  </thead>\n",
       "  <tbody>\n",
       "    <tr>\n",
       "      <th>13413</th>\n",
       "      <td>0021800586</td>\n",
       "      <td>1610612746</td>\n",
       "      <td>1610612753</td>\n",
       "      <td>10.0</td>\n",
       "      <td>43.0</td>\n",
       "      <td>84.0</td>\n",
       "      <td>0.512</td>\n",
       "      <td>10.0</td>\n",
       "      <td>24.0</td>\n",
       "      <td>0.417</td>\n",
       "      <td>...</td>\n",
       "      <td>-17.0</td>\n",
       "      <td>28.0</td>\n",
       "      <td>-25.0</td>\n",
       "      <td>-10.0</td>\n",
       "      <td>-25.0</td>\n",
       "      <td>15.0</td>\n",
       "      <td>14.0</td>\n",
       "      <td>-3.0</td>\n",
       "      <td>-6.0</td>\n",
       "      <td>4.0</td>\n",
       "    </tr>\n",
       "    <tr>\n",
       "      <th>13414</th>\n",
       "      <td>0021800587</td>\n",
       "      <td>1610612737</td>\n",
       "      <td>1610612748</td>\n",
       "      <td>24.0</td>\n",
       "      <td>37.0</td>\n",
       "      <td>85.0</td>\n",
       "      <td>0.435</td>\n",
       "      <td>14.0</td>\n",
       "      <td>41.0</td>\n",
       "      <td>0.341</td>\n",
       "      <td>...</td>\n",
       "      <td>25.0</td>\n",
       "      <td>24.0</td>\n",
       "      <td>6.0</td>\n",
       "      <td>3.0</td>\n",
       "      <td>-27.0</td>\n",
       "      <td>-3.0</td>\n",
       "      <td>23.0</td>\n",
       "      <td>17.0</td>\n",
       "      <td>-10.0</td>\n",
       "      <td>7.0</td>\n",
       "    </tr>\n",
       "    <tr>\n",
       "      <th>13415</th>\n",
       "      <td>0021800588</td>\n",
       "      <td>1610612760</td>\n",
       "      <td>1610612764</td>\n",
       "      <td>-18.0</td>\n",
       "      <td>40.0</td>\n",
       "      <td>94.0</td>\n",
       "      <td>0.426</td>\n",
       "      <td>8.0</td>\n",
       "      <td>25.0</td>\n",
       "      <td>0.320</td>\n",
       "      <td>...</td>\n",
       "      <td>-6.0</td>\n",
       "      <td>-11.0</td>\n",
       "      <td>-16.0</td>\n",
       "      <td>-18.0</td>\n",
       "      <td>-8.0</td>\n",
       "      <td>-7.0</td>\n",
       "      <td>-7.0</td>\n",
       "      <td>-8.0</td>\n",
       "      <td>-15.0</td>\n",
       "      <td>14.0</td>\n",
       "    </tr>\n",
       "    <tr>\n",
       "      <th>13416</th>\n",
       "      <td>0021800589</td>\n",
       "      <td>1610612761</td>\n",
       "      <td>1610612754</td>\n",
       "      <td>16.0</td>\n",
       "      <td>42.0</td>\n",
       "      <td>82.0</td>\n",
       "      <td>0.512</td>\n",
       "      <td>14.0</td>\n",
       "      <td>31.0</td>\n",
       "      <td>0.452</td>\n",
       "      <td>...</td>\n",
       "      <td>3.0</td>\n",
       "      <td>8.0</td>\n",
       "      <td>8.0</td>\n",
       "      <td>-3.0</td>\n",
       "      <td>12.0</td>\n",
       "      <td>22.0</td>\n",
       "      <td>-1.0</td>\n",
       "      <td>-8.0</td>\n",
       "      <td>5.0</td>\n",
       "      <td>33.0</td>\n",
       "    </tr>\n",
       "    <tr>\n",
       "      <th>13417</th>\n",
       "      <td>0021800590</td>\n",
       "      <td>1610612756</td>\n",
       "      <td>1610612766</td>\n",
       "      <td>-6.0</td>\n",
       "      <td>41.0</td>\n",
       "      <td>77.0</td>\n",
       "      <td>0.532</td>\n",
       "      <td>9.0</td>\n",
       "      <td>19.0</td>\n",
       "      <td>0.474</td>\n",
       "      <td>...</td>\n",
       "      <td>-13.0</td>\n",
       "      <td>-4.0</td>\n",
       "      <td>-2.0</td>\n",
       "      <td>-2.0</td>\n",
       "      <td>-16.0</td>\n",
       "      <td>12.0</td>\n",
       "      <td>-17.0</td>\n",
       "      <td>-1.0</td>\n",
       "      <td>-5.0</td>\n",
       "      <td>-24.0</td>\n",
       "    </tr>\n",
       "  </tbody>\n",
       "</table>\n",
       "<p>5 rows × 407 columns</p>\n",
       "</div>"
      ],
      "text/plain": [
       "          GAME_ID  TEAM_ID_HOME  TEAM_ID_AWAY  PLUS_MINUS  LAST_1_GAME_FGM_H  \\\n",
       "13413  0021800586    1610612746    1610612753        10.0               43.0   \n",
       "13414  0021800587    1610612737    1610612748        24.0               37.0   \n",
       "13415  0021800588    1610612760    1610612764       -18.0               40.0   \n",
       "13416  0021800589    1610612761    1610612754        16.0               42.0   \n",
       "13417  0021800590    1610612756    1610612766        -6.0               41.0   \n",
       "\n",
       "       LAST_1_GAME_FGA_H  LAST_1_GAME_FG_PCT_H  LAST_1_GAME_FG3M_H  \\\n",
       "13413               84.0                 0.512                10.0   \n",
       "13414               85.0                 0.435                14.0   \n",
       "13415               94.0                 0.426                 8.0   \n",
       "13416               82.0                 0.512                14.0   \n",
       "13417               77.0                 0.532                 9.0   \n",
       "\n",
       "       LAST_1_GAME_FG3A_H  LAST_1_GAME_FG3_PCT_H            ...              \\\n",
       "13413                24.0                  0.417            ...               \n",
       "13414                41.0                  0.341            ...               \n",
       "13415                25.0                  0.320            ...               \n",
       "13416                31.0                  0.452            ...               \n",
       "13417                19.0                  0.474            ...               \n",
       "\n",
       "       LAST_1_GAME_PLUS_MINUS_A  LAST_2_GAME_PLUS_MINUS_A  \\\n",
       "13413                     -17.0                      28.0   \n",
       "13414                      25.0                      24.0   \n",
       "13415                      -6.0                     -11.0   \n",
       "13416                       3.0                       8.0   \n",
       "13417                     -13.0                      -4.0   \n",
       "\n",
       "       LAST_3_GAME_PLUS_MINUS_A  LAST_4_GAME_PLUS_MINUS_A  \\\n",
       "13413                     -25.0                     -10.0   \n",
       "13414                       6.0                       3.0   \n",
       "13415                     -16.0                     -18.0   \n",
       "13416                       8.0                      -3.0   \n",
       "13417                      -2.0                      -2.0   \n",
       "\n",
       "       LAST_5_GAME_PLUS_MINUS_A  LAST_6_GAME_PLUS_MINUS_A  \\\n",
       "13413                     -25.0                      15.0   \n",
       "13414                     -27.0                      -3.0   \n",
       "13415                      -8.0                      -7.0   \n",
       "13416                      12.0                      22.0   \n",
       "13417                     -16.0                      12.0   \n",
       "\n",
       "       LAST_7_GAME_PLUS_MINUS_A  LAST_8_GAME_PLUS_MINUS_A  \\\n",
       "13413                      14.0                      -3.0   \n",
       "13414                      23.0                      17.0   \n",
       "13415                      -7.0                      -8.0   \n",
       "13416                      -1.0                      -8.0   \n",
       "13417                     -17.0                      -1.0   \n",
       "\n",
       "       LAST_9_GAME_PLUS_MINUS_A  LAST_10_GAME_PLUS_MINUS_A  \n",
       "13413                      -6.0                        4.0  \n",
       "13414                     -10.0                        7.0  \n",
       "13415                     -15.0                       14.0  \n",
       "13416                       5.0                       33.0  \n",
       "13417                      -5.0                      -24.0  \n",
       "\n",
       "[5 rows x 407 columns]"
      ]
     },
     "execution_count": 22,
     "metadata": {},
     "output_type": "execute_result"
    }
   ],
   "source": [
    "nba_df.tail()"
   ]
  },
  {
   "cell_type": "markdown",
   "metadata": {},
   "source": [
    "# Player Data Combine"
   ]
  },
  {
   "cell_type": "code",
   "execution_count": 23,
   "metadata": {
    "collapsed": true
   },
   "outputs": [],
   "source": [
    "playerBoxScoreAdv = pd.read_pickle(\"/Users/chienan/Pycon/github/SportLottery/input/BOXSCOREADVANCE_PLAYER_2012to2019.pkl\")"
   ]
  },
  {
   "cell_type": "code",
   "execution_count": 24,
   "metadata": {
    "collapsed": true
   },
   "outputs": [],
   "source": [
    "playerBoxScoreAdv = playerBoxScoreAdv[~playerBoxScoreAdv.MIN.isnull()]\n",
    "playerBoxScoreAdv['MIN'] = playerBoxScoreAdv.MIN.apply(lambda x : float(x.split(':')[0]) + float(x.split(':')[1])/60.0)"
   ]
  },
  {
   "cell_type": "code",
   "execution_count": 25,
   "metadata": {
    "collapsed": true
   },
   "outputs": [],
   "source": [
    "playerBoxScoreAdv = playerBoxScoreAdv.loc[:,['GAME_ID','PLAYER_ID','TEAM_ID','MIN', 'OFF_RATING','DEF_RATING', \n",
    "                                             'NET_RATING', 'AST_PCT', 'AST_TOV', 'AST_RATIO','OREB_PCT', 'DREB_PCT',\n",
    "                                             'REB_PCT', 'TM_TOV_PCT', 'EFG_PCT', 'TS_PCT','USG_PCT', 'PACE', 'PIE']]"
   ]
  },
  {
   "cell_type": "code",
   "execution_count": 26,
   "metadata": {
    "collapsed": true
   },
   "outputs": [],
   "source": [
    "playerBoxScoreAdv = playerBoxScoreAdv.fillna(0)"
   ]
  },
  {
   "cell_type": "code",
   "execution_count": 27,
   "metadata": {
    "collapsed": true
   },
   "outputs": [],
   "source": [
    "playerBoxScoreAdv[\"TEAM_ID\"] = playerBoxScoreAdv[\"TEAM_ID\"].astype(str)\n",
    "playerBoxScoreAdv[\"PLAYER_ID\"] = playerBoxScoreAdv[\"PLAYER_ID\"].astype(str)"
   ]
  },
  {
   "cell_type": "code",
   "execution_count": 28,
   "metadata": {
    "collapsed": true
   },
   "outputs": [],
   "source": [
    "playerBoxScoreAdv = playerBoxScoreAdv.sort_index()"
   ]
  },
  {
   "cell_type": "code",
   "execution_count": 29,
   "metadata": {
    "collapsed": true
   },
   "outputs": [],
   "source": [
    "player_id = playerBoxScoreAdv.PLAYER_ID.unique()"
   ]
  },
  {
   "cell_type": "code",
   "execution_count": 30,
   "metadata": {
    "collapsed": true
   },
   "outputs": [],
   "source": [
    "playerBoxScoreAdv.index = [playerBoxScoreAdv.PLAYER_ID.values,playerBoxScoreAdv.GAME_ID.values]\n",
    "playerBoxScoreAdv = playerBoxScoreAdv.sort_index()"
   ]
  },
  {
   "cell_type": "code",
   "execution_count": 31,
   "metadata": {},
   "outputs": [
    {
     "data": {
      "text/plain": [
       "array(['708', '2562', '979', ..., '1628518', '1629122', '1629022'],\n",
       "      dtype=object)"
      ]
     },
     "execution_count": 31,
     "metadata": {},
     "output_type": "execute_result"
    }
   ],
   "source": [
    "player_id"
   ]
  },
  {
   "cell_type": "code",
   "execution_count": 32,
   "metadata": {
    "collapsed": true
   },
   "outputs": [],
   "source": [
    "# Raw Data\n",
    "lastNgames = 10 \n",
    "df_ = pd.DataFrame()\n",
    "for player in player_id:\n",
    "    player_i = playerBoxScoreAdv.loc[player]\n",
    "    df_player = pd.DataFrame()\n",
    "    \n",
    "    for time in range(1,lastNgames+1):            \n",
    "        df_player = pd.concat([df_player,\n",
    "                               pd.DataFrame(player_i.shift(time).loc[:,\"MIN\":].values,\n",
    "                                            columns=[\"LAST_\"+str(time)+\"_GAME_PLAYER_\"+col for col in player_i.loc[:,\"MIN\":].columns])\n",
    "                              ],axis=1)\n",
    "        \n",
    "    df_player = pd.concat([player_i.loc[:,\"GAME_ID\":\"TEAM_ID\"].reset_index(drop=True),df_player],axis=1)\n",
    "    df_ = pd.concat([df_, df_player],axis=0).reset_index(drop=True)"
   ]
  },
  {
   "cell_type": "code",
   "execution_count": 33,
   "metadata": {
    "collapsed": true
   },
   "outputs": [],
   "source": [
    "df_.to_pickle(\"/Users/chienan/Pycon/github/SportLottery/input/BOXSCOREADVANCE_PLAYER_LAST_10_GAEMS_RAW_2012to2019.pkl\")"
   ]
  },
  {
   "cell_type": "markdown",
   "metadata": {},
   "source": [
    "# Add Player Data to Team"
   ]
  },
  {
   "cell_type": "code",
   "execution_count": 34,
   "metadata": {
    "collapsed": true
   },
   "outputs": [],
   "source": [
    "# raw data\n",
    "df_ = pd.read_pickle(\"/Users/chienan/Pycon/github/SportLottery/input/BOXSCOREADVANCE_PLAYER_LAST_10_GAEMS_RAW_2012to2019.pkl\")"
   ]
  },
  {
   "cell_type": "code",
   "execution_count": 35,
   "metadata": {
    "collapsed": true
   },
   "outputs": [],
   "source": [
    "playerBoxScoreAdv = playerBoxScoreAdv.reset_index(drop=True)"
   ]
  },
  {
   "cell_type": "code",
   "execution_count": 36,
   "metadata": {
    "collapsed": true
   },
   "outputs": [],
   "source": [
    "playerBoxScoreAdv = playerBoxScoreAdv.sort_values([\"PLAYER_ID\",\"GAME_ID\"]).reset_index(drop=True)"
   ]
  },
  {
   "cell_type": "code",
   "execution_count": 37,
   "metadata": {
    "collapsed": true
   },
   "outputs": [],
   "source": [
    "game_shift = playerBoxScoreAdv.groupby([\"PLAYER_ID\"])[\"GAME_ID\"].shift().to_frame(\"GAME_ID_LAST\")"
   ]
  },
  {
   "cell_type": "code",
   "execution_count": 38,
   "metadata": {
    "collapsed": true
   },
   "outputs": [],
   "source": [
    "game_shift = pd.concat([game_shift,playerBoxScoreAdv[[\"GAME_ID\",\"PLAYER_ID\"]]],axis=1)"
   ]
  },
  {
   "cell_type": "code",
   "execution_count": 39,
   "metadata": {
    "collapsed": true
   },
   "outputs": [],
   "source": [
    "df_[\"PLAYER_ID\"] = df_.PLAYER_ID.astype(str)"
   ]
  },
  {
   "cell_type": "code",
   "execution_count": 40,
   "metadata": {
    "collapsed": true
   },
   "outputs": [],
   "source": [
    "game_shift = game_shift.merge(df_, left_on=[\"GAME_ID_LAST\",\"PLAYER_ID\"], right_on=[\"GAME_ID\",\"PLAYER_ID\"],suffixes=[\"\",\"_LAST\"], how=\"left\")"
   ]
  },
  {
   "cell_type": "code",
   "execution_count": 41,
   "metadata": {
    "collapsed": true
   },
   "outputs": [],
   "source": [
    "game_shift.drop(\"GAME_ID_LAST\",axis=1,inplace=True)"
   ]
  },
  {
   "cell_type": "code",
   "execution_count": 42,
   "metadata": {
    "collapsed": true
   },
   "outputs": [],
   "source": [
    "game_shift = game_shift[~game_shift.TEAM_ID.isna()].reset_index(drop=True)"
   ]
  },
  {
   "cell_type": "code",
   "execution_count": 43,
   "metadata": {
    "collapsed": true
   },
   "outputs": [],
   "source": [
    "game_shift = game_shift.fillna(0)"
   ]
  },
  {
   "cell_type": "code",
   "execution_count": 44,
   "metadata": {
    "collapsed": true
   },
   "outputs": [],
   "source": [
    "game_shift[\"TEAM_ID\"] = game_shift.TEAM_ID.astype(int)\n",
    "game_shift[\"TEAM_ID\"] = game_shift.TEAM_ID.astype(str)"
   ]
  },
  {
   "cell_type": "code",
   "execution_count": 45,
   "metadata": {
    "collapsed": true
   },
   "outputs": [],
   "source": [
    "game_shift = game_shift.sort_values([\"GAME_ID\",\"TEAM_ID\",\"PLAYER_ID\"]).reset_index(drop=True)"
   ]
  },
  {
   "cell_type": "code",
   "execution_count": 46,
   "metadata": {
    "collapsed": true
   },
   "outputs": [],
   "source": [
    "game_shift[\"PLAYER_MIN_RATIO\"] = game_shift.groupby([\"GAME_ID\",\"TEAM_ID\"]).apply(lambda x : x[\"LAST_1_GAME_PLAYER_MIN\"]/sum(x[\"LAST_1_GAME_PLAYER_MIN\"])).values"
   ]
  },
  {
   "cell_type": "code",
   "execution_count": 47,
   "metadata": {
    "collapsed": true
   },
   "outputs": [],
   "source": [
    "game_shift = game_shift[~game_shift.PLAYER_MIN_RATIO.isna()].reset_index(drop=True)"
   ]
  },
  {
   "cell_type": "code",
   "execution_count": 48,
   "metadata": {
    "collapsed": true
   },
   "outputs": [],
   "source": [
    "game_shift.loc[:,\"LAST_1_GAME_PLAYER_MIN\":] = game_shift.loc[:,\"LAST_1_GAME_PLAYER_MIN\":].apply(lambda x : (x * x[\"LAST_1_GAME_PLAYER_MIN\"])/240.0,axis=1)"
   ]
  },
  {
   "cell_type": "code",
   "execution_count": 49,
   "metadata": {
    "collapsed": true
   },
   "outputs": [],
   "source": [
    "game_shift = game_shift.groupby([\"GAME_ID\",\"TEAM_ID\"]).sum().reset_index()"
   ]
  },
  {
   "cell_type": "code",
   "execution_count": 50,
   "metadata": {},
   "outputs": [
    {
     "data": {
      "text/html": [
       "<div>\n",
       "<style scoped>\n",
       "    .dataframe tbody tr th:only-of-type {\n",
       "        vertical-align: middle;\n",
       "    }\n",
       "\n",
       "    .dataframe tbody tr th {\n",
       "        vertical-align: top;\n",
       "    }\n",
       "\n",
       "    .dataframe thead th {\n",
       "        text-align: right;\n",
       "    }\n",
       "</style>\n",
       "<table border=\"1\" class=\"dataframe\">\n",
       "  <thead>\n",
       "    <tr style=\"text-align: right;\">\n",
       "      <th></th>\n",
       "      <th>GAME_ID</th>\n",
       "      <th>TEAM_ID</th>\n",
       "      <th>LAST_1_GAME_PLAYER_MIN</th>\n",
       "      <th>LAST_1_GAME_PLAYER_OFF_RATING</th>\n",
       "      <th>LAST_1_GAME_PLAYER_DEF_RATING</th>\n",
       "      <th>LAST_1_GAME_PLAYER_NET_RATING</th>\n",
       "      <th>LAST_1_GAME_PLAYER_AST_PCT</th>\n",
       "      <th>LAST_1_GAME_PLAYER_AST_TOV</th>\n",
       "      <th>LAST_1_GAME_PLAYER_AST_RATIO</th>\n",
       "      <th>LAST_1_GAME_PLAYER_OREB_PCT</th>\n",
       "      <th>...</th>\n",
       "      <th>LAST_10_GAME_PLAYER_OREB_PCT</th>\n",
       "      <th>LAST_10_GAME_PLAYER_DREB_PCT</th>\n",
       "      <th>LAST_10_GAME_PLAYER_REB_PCT</th>\n",
       "      <th>LAST_10_GAME_PLAYER_TM_TOV_PCT</th>\n",
       "      <th>LAST_10_GAME_PLAYER_EFG_PCT</th>\n",
       "      <th>LAST_10_GAME_PLAYER_TS_PCT</th>\n",
       "      <th>LAST_10_GAME_PLAYER_USG_PCT</th>\n",
       "      <th>LAST_10_GAME_PLAYER_PACE</th>\n",
       "      <th>LAST_10_GAME_PLAYER_PIE</th>\n",
       "      <th>PLAYER_MIN_RATIO</th>\n",
       "    </tr>\n",
       "  </thead>\n",
       "  <tbody>\n",
       "    <tr>\n",
       "      <th>0</th>\n",
       "      <td>0021100022</td>\n",
       "      <td>1610612747</td>\n",
       "      <td>28.808736</td>\n",
       "      <td>95.758729</td>\n",
       "      <td>99.478361</td>\n",
       "      <td>-3.729979</td>\n",
       "      <td>0.165185</td>\n",
       "      <td>1.128056</td>\n",
       "      <td>18.783562</td>\n",
       "      <td>0.035987</td>\n",
       "      <td>...</td>\n",
       "      <td>0.0</td>\n",
       "      <td>0.0</td>\n",
       "      <td>0.0</td>\n",
       "      <td>0.0</td>\n",
       "      <td>0.0</td>\n",
       "      <td>0.0</td>\n",
       "      <td>0.0</td>\n",
       "      <td>0.0</td>\n",
       "      <td>0.0</td>\n",
       "      <td>0.120036</td>\n",
       "    </tr>\n",
       "    <tr>\n",
       "      <th>1</th>\n",
       "      <td>0021100024</td>\n",
       "      <td>1610612748</td>\n",
       "      <td>26.501701</td>\n",
       "      <td>104.601938</td>\n",
       "      <td>87.774542</td>\n",
       "      <td>16.826146</td>\n",
       "      <td>0.123284</td>\n",
       "      <td>0.772721</td>\n",
       "      <td>12.838507</td>\n",
       "      <td>0.039480</td>\n",
       "      <td>...</td>\n",
       "      <td>0.0</td>\n",
       "      <td>0.0</td>\n",
       "      <td>0.0</td>\n",
       "      <td>0.0</td>\n",
       "      <td>0.0</td>\n",
       "      <td>0.0</td>\n",
       "      <td>0.0</td>\n",
       "      <td>0.0</td>\n",
       "      <td>0.0</td>\n",
       "      <td>0.114627</td>\n",
       "    </tr>\n",
       "    <tr>\n",
       "      <th>2</th>\n",
       "      <td>0021100027</td>\n",
       "      <td>1610612760</td>\n",
       "      <td>26.982500</td>\n",
       "      <td>103.898368</td>\n",
       "      <td>92.068965</td>\n",
       "      <td>11.851618</td>\n",
       "      <td>0.176137</td>\n",
       "      <td>0.697593</td>\n",
       "      <td>14.458326</td>\n",
       "      <td>0.022754</td>\n",
       "      <td>...</td>\n",
       "      <td>0.0</td>\n",
       "      <td>0.0</td>\n",
       "      <td>0.0</td>\n",
       "      <td>0.0</td>\n",
       "      <td>0.0</td>\n",
       "      <td>0.0</td>\n",
       "      <td>0.0</td>\n",
       "      <td>0.0</td>\n",
       "      <td>0.0</td>\n",
       "      <td>0.112427</td>\n",
       "    </tr>\n",
       "    <tr>\n",
       "      <th>3</th>\n",
       "      <td>0021100028</td>\n",
       "      <td>1610612738</td>\n",
       "      <td>28.657603</td>\n",
       "      <td>101.719889</td>\n",
       "      <td>103.282500</td>\n",
       "      <td>-1.573576</td>\n",
       "      <td>0.181557</td>\n",
       "      <td>0.790389</td>\n",
       "      <td>22.506146</td>\n",
       "      <td>0.009162</td>\n",
       "      <td>...</td>\n",
       "      <td>0.0</td>\n",
       "      <td>0.0</td>\n",
       "      <td>0.0</td>\n",
       "      <td>0.0</td>\n",
       "      <td>0.0</td>\n",
       "      <td>0.0</td>\n",
       "      <td>0.0</td>\n",
       "      <td>0.0</td>\n",
       "      <td>0.0</td>\n",
       "      <td>0.126850</td>\n",
       "    </tr>\n",
       "    <tr>\n",
       "      <th>4</th>\n",
       "      <td>0021100032</td>\n",
       "      <td>1610612744</td>\n",
       "      <td>24.392160</td>\n",
       "      <td>77.093799</td>\n",
       "      <td>95.293104</td>\n",
       "      <td>-18.199306</td>\n",
       "      <td>0.099826</td>\n",
       "      <td>0.468785</td>\n",
       "      <td>7.394035</td>\n",
       "      <td>0.027391</td>\n",
       "      <td>...</td>\n",
       "      <td>0.0</td>\n",
       "      <td>0.0</td>\n",
       "      <td>0.0</td>\n",
       "      <td>0.0</td>\n",
       "      <td>0.0</td>\n",
       "      <td>0.0</td>\n",
       "      <td>0.0</td>\n",
       "      <td>0.0</td>\n",
       "      <td>0.0</td>\n",
       "      <td>0.118870</td>\n",
       "    </tr>\n",
       "  </tbody>\n",
       "</table>\n",
       "<p>5 rows × 163 columns</p>\n",
       "</div>"
      ],
      "text/plain": [
       "      GAME_ID     TEAM_ID  LAST_1_GAME_PLAYER_MIN  \\\n",
       "0  0021100022  1610612747               28.808736   \n",
       "1  0021100024  1610612748               26.501701   \n",
       "2  0021100027  1610612760               26.982500   \n",
       "3  0021100028  1610612738               28.657603   \n",
       "4  0021100032  1610612744               24.392160   \n",
       "\n",
       "   LAST_1_GAME_PLAYER_OFF_RATING  LAST_1_GAME_PLAYER_DEF_RATING  \\\n",
       "0                      95.758729                      99.478361   \n",
       "1                     104.601938                      87.774542   \n",
       "2                     103.898368                      92.068965   \n",
       "3                     101.719889                     103.282500   \n",
       "4                      77.093799                      95.293104   \n",
       "\n",
       "   LAST_1_GAME_PLAYER_NET_RATING  LAST_1_GAME_PLAYER_AST_PCT  \\\n",
       "0                      -3.729979                    0.165185   \n",
       "1                      16.826146                    0.123284   \n",
       "2                      11.851618                    0.176137   \n",
       "3                      -1.573576                    0.181557   \n",
       "4                     -18.199306                    0.099826   \n",
       "\n",
       "   LAST_1_GAME_PLAYER_AST_TOV  LAST_1_GAME_PLAYER_AST_RATIO  \\\n",
       "0                    1.128056                     18.783562   \n",
       "1                    0.772721                     12.838507   \n",
       "2                    0.697593                     14.458326   \n",
       "3                    0.790389                     22.506146   \n",
       "4                    0.468785                      7.394035   \n",
       "\n",
       "   LAST_1_GAME_PLAYER_OREB_PCT        ...         \\\n",
       "0                     0.035987        ...          \n",
       "1                     0.039480        ...          \n",
       "2                     0.022754        ...          \n",
       "3                     0.009162        ...          \n",
       "4                     0.027391        ...          \n",
       "\n",
       "   LAST_10_GAME_PLAYER_OREB_PCT  LAST_10_GAME_PLAYER_DREB_PCT  \\\n",
       "0                           0.0                           0.0   \n",
       "1                           0.0                           0.0   \n",
       "2                           0.0                           0.0   \n",
       "3                           0.0                           0.0   \n",
       "4                           0.0                           0.0   \n",
       "\n",
       "   LAST_10_GAME_PLAYER_REB_PCT  LAST_10_GAME_PLAYER_TM_TOV_PCT  \\\n",
       "0                          0.0                             0.0   \n",
       "1                          0.0                             0.0   \n",
       "2                          0.0                             0.0   \n",
       "3                          0.0                             0.0   \n",
       "4                          0.0                             0.0   \n",
       "\n",
       "   LAST_10_GAME_PLAYER_EFG_PCT  LAST_10_GAME_PLAYER_TS_PCT  \\\n",
       "0                          0.0                         0.0   \n",
       "1                          0.0                         0.0   \n",
       "2                          0.0                         0.0   \n",
       "3                          0.0                         0.0   \n",
       "4                          0.0                         0.0   \n",
       "\n",
       "   LAST_10_GAME_PLAYER_USG_PCT  LAST_10_GAME_PLAYER_PACE  \\\n",
       "0                          0.0                       0.0   \n",
       "1                          0.0                       0.0   \n",
       "2                          0.0                       0.0   \n",
       "3                          0.0                       0.0   \n",
       "4                          0.0                       0.0   \n",
       "\n",
       "   LAST_10_GAME_PLAYER_PIE  PLAYER_MIN_RATIO  \n",
       "0                      0.0          0.120036  \n",
       "1                      0.0          0.114627  \n",
       "2                      0.0          0.112427  \n",
       "3                      0.0          0.126850  \n",
       "4                      0.0          0.118870  \n",
       "\n",
       "[5 rows x 163 columns]"
      ]
     },
     "execution_count": 50,
     "metadata": {},
     "output_type": "execute_result"
    }
   ],
   "source": [
    "game_shift.head()"
   ]
  },
  {
   "cell_type": "markdown",
   "metadata": {},
   "source": [
    "# Combine Player and Team infomation"
   ]
  },
  {
   "cell_type": "code",
   "execution_count": 51,
   "metadata": {
    "collapsed": true,
    "scrolled": false
   },
   "outputs": [],
   "source": [
    "nba_df = nba_df[~nba_df.LAST_10_GAME_PLUS_MINUS_A.isna()].reset_index(drop=True)"
   ]
  },
  {
   "cell_type": "code",
   "execution_count": 52,
   "metadata": {},
   "outputs": [
    {
     "data": {
      "text/html": [
       "<div>\n",
       "<style scoped>\n",
       "    .dataframe tbody tr th:only-of-type {\n",
       "        vertical-align: middle;\n",
       "    }\n",
       "\n",
       "    .dataframe tbody tr th {\n",
       "        vertical-align: top;\n",
       "    }\n",
       "\n",
       "    .dataframe thead th {\n",
       "        text-align: right;\n",
       "    }\n",
       "</style>\n",
       "<table border=\"1\" class=\"dataframe\">\n",
       "  <thead>\n",
       "    <tr style=\"text-align: right;\">\n",
       "      <th></th>\n",
       "      <th>GAME_ID</th>\n",
       "      <th>TEAM_ID_HOME</th>\n",
       "      <th>TEAM_ID_AWAY</th>\n",
       "      <th>PLUS_MINUS</th>\n",
       "      <th>LAST_1_GAME_FGM_H</th>\n",
       "      <th>LAST_1_GAME_FGA_H</th>\n",
       "      <th>LAST_1_GAME_FG_PCT_H</th>\n",
       "      <th>LAST_1_GAME_FG3M_H</th>\n",
       "      <th>LAST_1_GAME_FG3A_H</th>\n",
       "      <th>LAST_1_GAME_FG3_PCT_H</th>\n",
       "      <th>...</th>\n",
       "      <th>LAST_1_GAME_PLUS_MINUS_A</th>\n",
       "      <th>LAST_2_GAME_PLUS_MINUS_A</th>\n",
       "      <th>LAST_3_GAME_PLUS_MINUS_A</th>\n",
       "      <th>LAST_4_GAME_PLUS_MINUS_A</th>\n",
       "      <th>LAST_5_GAME_PLUS_MINUS_A</th>\n",
       "      <th>LAST_6_GAME_PLUS_MINUS_A</th>\n",
       "      <th>LAST_7_GAME_PLUS_MINUS_A</th>\n",
       "      <th>LAST_8_GAME_PLUS_MINUS_A</th>\n",
       "      <th>LAST_9_GAME_PLUS_MINUS_A</th>\n",
       "      <th>LAST_10_GAME_PLUS_MINUS_A</th>\n",
       "    </tr>\n",
       "  </thead>\n",
       "  <tbody>\n",
       "    <tr>\n",
       "      <th>0</th>\n",
       "      <td>0021100222</td>\n",
       "      <td>1610612739</td>\n",
       "      <td>1610612741</td>\n",
       "      <td>-39.0</td>\n",
       "      <td>35.0</td>\n",
       "      <td>82.0</td>\n",
       "      <td>0.427</td>\n",
       "      <td>5.0</td>\n",
       "      <td>15.0</td>\n",
       "      <td>0.333</td>\n",
       "      <td>...</td>\n",
       "      <td>-16.0</td>\n",
       "      <td>9.0</td>\n",
       "      <td>11.0</td>\n",
       "      <td>-15.0</td>\n",
       "      <td>14.0</td>\n",
       "      <td>16.0</td>\n",
       "      <td>13.0</td>\n",
       "      <td>10.0</td>\n",
       "      <td>-8.0</td>\n",
       "      <td>1.0</td>\n",
       "    </tr>\n",
       "    <tr>\n",
       "      <th>1</th>\n",
       "      <td>0021100244</td>\n",
       "      <td>1610612741</td>\n",
       "      <td>1610612751</td>\n",
       "      <td>15.0</td>\n",
       "      <td>40.0</td>\n",
       "      <td>85.0</td>\n",
       "      <td>0.471</td>\n",
       "      <td>6.0</td>\n",
       "      <td>15.0</td>\n",
       "      <td>0.400</td>\n",
       "      <td>...</td>\n",
       "      <td>-10.0</td>\n",
       "      <td>-13.0</td>\n",
       "      <td>7.0</td>\n",
       "      <td>-8.0</td>\n",
       "      <td>12.0</td>\n",
       "      <td>-19.0</td>\n",
       "      <td>-16.0</td>\n",
       "      <td>-7.0</td>\n",
       "      <td>-16.0</td>\n",
       "      <td>6.0</td>\n",
       "    </tr>\n",
       "    <tr>\n",
       "      <th>2</th>\n",
       "      <td>0021100250</td>\n",
       "      <td>1610612757</td>\n",
       "      <td>1610612758</td>\n",
       "      <td>12.0</td>\n",
       "      <td>34.0</td>\n",
       "      <td>81.0</td>\n",
       "      <td>0.420</td>\n",
       "      <td>3.0</td>\n",
       "      <td>20.0</td>\n",
       "      <td>0.150</td>\n",
       "      <td>...</td>\n",
       "      <td>-33.0</td>\n",
       "      <td>2.0</td>\n",
       "      <td>-13.0</td>\n",
       "      <td>-39.0</td>\n",
       "      <td>-14.0</td>\n",
       "      <td>7.0</td>\n",
       "      <td>-27.0</td>\n",
       "      <td>-27.0</td>\n",
       "      <td>-17.0</td>\n",
       "      <td>-22.0</td>\n",
       "    </tr>\n",
       "    <tr>\n",
       "      <th>3</th>\n",
       "      <td>0021100254</td>\n",
       "      <td>1610612748</td>\n",
       "      <td>1610612739</td>\n",
       "      <td>7.0</td>\n",
       "      <td>25.0</td>\n",
       "      <td>67.0</td>\n",
       "      <td>0.373</td>\n",
       "      <td>3.0</td>\n",
       "      <td>12.0</td>\n",
       "      <td>0.250</td>\n",
       "      <td>...</td>\n",
       "      <td>-27.0</td>\n",
       "      <td>8.0</td>\n",
       "      <td>-5.0</td>\n",
       "      <td>11.0</td>\n",
       "      <td>-8.0</td>\n",
       "      <td>-20.0</td>\n",
       "      <td>11.0</td>\n",
       "      <td>-15.0</td>\n",
       "      <td>-7.0</td>\n",
       "      <td>16.0</td>\n",
       "    </tr>\n",
       "    <tr>\n",
       "      <th>4</th>\n",
       "      <td>0021100255</td>\n",
       "      <td>1610612756</td>\n",
       "      <td>1610612761</td>\n",
       "      <td>-3.0</td>\n",
       "      <td>31.0</td>\n",
       "      <td>83.0</td>\n",
       "      <td>0.373</td>\n",
       "      <td>6.0</td>\n",
       "      <td>20.0</td>\n",
       "      <td>0.300</td>\n",
       "      <td>...</td>\n",
       "      <td>-12.0</td>\n",
       "      <td>-23.0</td>\n",
       "      <td>-9.0</td>\n",
       "      <td>-13.0</td>\n",
       "      <td>-15.0</td>\n",
       "      <td>-35.0</td>\n",
       "      <td>5.0</td>\n",
       "      <td>-6.0</td>\n",
       "      <td>-13.0</td>\n",
       "      <td>8.0</td>\n",
       "    </tr>\n",
       "  </tbody>\n",
       "</table>\n",
       "<p>5 rows × 407 columns</p>\n",
       "</div>"
      ],
      "text/plain": [
       "      GAME_ID  TEAM_ID_HOME  TEAM_ID_AWAY  PLUS_MINUS  LAST_1_GAME_FGM_H  \\\n",
       "0  0021100222    1610612739    1610612741       -39.0               35.0   \n",
       "1  0021100244    1610612741    1610612751        15.0               40.0   \n",
       "2  0021100250    1610612757    1610612758        12.0               34.0   \n",
       "3  0021100254    1610612748    1610612739         7.0               25.0   \n",
       "4  0021100255    1610612756    1610612761        -3.0               31.0   \n",
       "\n",
       "   LAST_1_GAME_FGA_H  LAST_1_GAME_FG_PCT_H  LAST_1_GAME_FG3M_H  \\\n",
       "0               82.0                 0.427                 5.0   \n",
       "1               85.0                 0.471                 6.0   \n",
       "2               81.0                 0.420                 3.0   \n",
       "3               67.0                 0.373                 3.0   \n",
       "4               83.0                 0.373                 6.0   \n",
       "\n",
       "   LAST_1_GAME_FG3A_H  LAST_1_GAME_FG3_PCT_H            ...              \\\n",
       "0                15.0                  0.333            ...               \n",
       "1                15.0                  0.400            ...               \n",
       "2                20.0                  0.150            ...               \n",
       "3                12.0                  0.250            ...               \n",
       "4                20.0                  0.300            ...               \n",
       "\n",
       "   LAST_1_GAME_PLUS_MINUS_A  LAST_2_GAME_PLUS_MINUS_A  \\\n",
       "0                     -16.0                       9.0   \n",
       "1                     -10.0                     -13.0   \n",
       "2                     -33.0                       2.0   \n",
       "3                     -27.0                       8.0   \n",
       "4                     -12.0                     -23.0   \n",
       "\n",
       "   LAST_3_GAME_PLUS_MINUS_A  LAST_4_GAME_PLUS_MINUS_A  \\\n",
       "0                      11.0                     -15.0   \n",
       "1                       7.0                      -8.0   \n",
       "2                     -13.0                     -39.0   \n",
       "3                      -5.0                      11.0   \n",
       "4                      -9.0                     -13.0   \n",
       "\n",
       "   LAST_5_GAME_PLUS_MINUS_A  LAST_6_GAME_PLUS_MINUS_A  \\\n",
       "0                      14.0                      16.0   \n",
       "1                      12.0                     -19.0   \n",
       "2                     -14.0                       7.0   \n",
       "3                      -8.0                     -20.0   \n",
       "4                     -15.0                     -35.0   \n",
       "\n",
       "   LAST_7_GAME_PLUS_MINUS_A  LAST_8_GAME_PLUS_MINUS_A  \\\n",
       "0                      13.0                      10.0   \n",
       "1                     -16.0                      -7.0   \n",
       "2                     -27.0                     -27.0   \n",
       "3                      11.0                     -15.0   \n",
       "4                       5.0                      -6.0   \n",
       "\n",
       "   LAST_9_GAME_PLUS_MINUS_A  LAST_10_GAME_PLUS_MINUS_A  \n",
       "0                      -8.0                        1.0  \n",
       "1                     -16.0                        6.0  \n",
       "2                     -17.0                      -22.0  \n",
       "3                      -7.0                       16.0  \n",
       "4                     -13.0                        8.0  \n",
       "\n",
       "[5 rows x 407 columns]"
      ]
     },
     "execution_count": 52,
     "metadata": {},
     "output_type": "execute_result"
    }
   ],
   "source": [
    "nba_df.head()"
   ]
  },
  {
   "cell_type": "code",
   "execution_count": 53,
   "metadata": {},
   "outputs": [
    {
     "data": {
      "text/html": [
       "<div>\n",
       "<style scoped>\n",
       "    .dataframe tbody tr th:only-of-type {\n",
       "        vertical-align: middle;\n",
       "    }\n",
       "\n",
       "    .dataframe tbody tr th {\n",
       "        vertical-align: top;\n",
       "    }\n",
       "\n",
       "    .dataframe thead th {\n",
       "        text-align: right;\n",
       "    }\n",
       "</style>\n",
       "<table border=\"1\" class=\"dataframe\">\n",
       "  <thead>\n",
       "    <tr style=\"text-align: right;\">\n",
       "      <th></th>\n",
       "      <th>GAME_ID</th>\n",
       "      <th>TEAM_ID</th>\n",
       "      <th>LAST_1_GAME_PLAYER_MIN</th>\n",
       "      <th>LAST_1_GAME_PLAYER_OFF_RATING</th>\n",
       "      <th>LAST_1_GAME_PLAYER_DEF_RATING</th>\n",
       "      <th>LAST_1_GAME_PLAYER_NET_RATING</th>\n",
       "      <th>LAST_1_GAME_PLAYER_AST_PCT</th>\n",
       "      <th>LAST_1_GAME_PLAYER_AST_TOV</th>\n",
       "      <th>LAST_1_GAME_PLAYER_AST_RATIO</th>\n",
       "      <th>LAST_1_GAME_PLAYER_OREB_PCT</th>\n",
       "      <th>...</th>\n",
       "      <th>LAST_10_GAME_PLAYER_OREB_PCT</th>\n",
       "      <th>LAST_10_GAME_PLAYER_DREB_PCT</th>\n",
       "      <th>LAST_10_GAME_PLAYER_REB_PCT</th>\n",
       "      <th>LAST_10_GAME_PLAYER_TM_TOV_PCT</th>\n",
       "      <th>LAST_10_GAME_PLAYER_EFG_PCT</th>\n",
       "      <th>LAST_10_GAME_PLAYER_TS_PCT</th>\n",
       "      <th>LAST_10_GAME_PLAYER_USG_PCT</th>\n",
       "      <th>LAST_10_GAME_PLAYER_PACE</th>\n",
       "      <th>LAST_10_GAME_PLAYER_PIE</th>\n",
       "      <th>PLAYER_MIN_RATIO</th>\n",
       "    </tr>\n",
       "  </thead>\n",
       "  <tbody>\n",
       "    <tr>\n",
       "      <th>0</th>\n",
       "      <td>0021100022</td>\n",
       "      <td>1610612747</td>\n",
       "      <td>28.808736</td>\n",
       "      <td>95.758729</td>\n",
       "      <td>99.478361</td>\n",
       "      <td>-3.729979</td>\n",
       "      <td>0.165185</td>\n",
       "      <td>1.128056</td>\n",
       "      <td>18.783562</td>\n",
       "      <td>0.035987</td>\n",
       "      <td>...</td>\n",
       "      <td>0.0</td>\n",
       "      <td>0.0</td>\n",
       "      <td>0.0</td>\n",
       "      <td>0.0</td>\n",
       "      <td>0.0</td>\n",
       "      <td>0.0</td>\n",
       "      <td>0.0</td>\n",
       "      <td>0.0</td>\n",
       "      <td>0.0</td>\n",
       "      <td>0.120036</td>\n",
       "    </tr>\n",
       "    <tr>\n",
       "      <th>1</th>\n",
       "      <td>0021100024</td>\n",
       "      <td>1610612748</td>\n",
       "      <td>26.501701</td>\n",
       "      <td>104.601938</td>\n",
       "      <td>87.774542</td>\n",
       "      <td>16.826146</td>\n",
       "      <td>0.123284</td>\n",
       "      <td>0.772721</td>\n",
       "      <td>12.838507</td>\n",
       "      <td>0.039480</td>\n",
       "      <td>...</td>\n",
       "      <td>0.0</td>\n",
       "      <td>0.0</td>\n",
       "      <td>0.0</td>\n",
       "      <td>0.0</td>\n",
       "      <td>0.0</td>\n",
       "      <td>0.0</td>\n",
       "      <td>0.0</td>\n",
       "      <td>0.0</td>\n",
       "      <td>0.0</td>\n",
       "      <td>0.114627</td>\n",
       "    </tr>\n",
       "    <tr>\n",
       "      <th>2</th>\n",
       "      <td>0021100027</td>\n",
       "      <td>1610612760</td>\n",
       "      <td>26.982500</td>\n",
       "      <td>103.898368</td>\n",
       "      <td>92.068965</td>\n",
       "      <td>11.851618</td>\n",
       "      <td>0.176137</td>\n",
       "      <td>0.697593</td>\n",
       "      <td>14.458326</td>\n",
       "      <td>0.022754</td>\n",
       "      <td>...</td>\n",
       "      <td>0.0</td>\n",
       "      <td>0.0</td>\n",
       "      <td>0.0</td>\n",
       "      <td>0.0</td>\n",
       "      <td>0.0</td>\n",
       "      <td>0.0</td>\n",
       "      <td>0.0</td>\n",
       "      <td>0.0</td>\n",
       "      <td>0.0</td>\n",
       "      <td>0.112427</td>\n",
       "    </tr>\n",
       "    <tr>\n",
       "      <th>3</th>\n",
       "      <td>0021100028</td>\n",
       "      <td>1610612738</td>\n",
       "      <td>28.657603</td>\n",
       "      <td>101.719889</td>\n",
       "      <td>103.282500</td>\n",
       "      <td>-1.573576</td>\n",
       "      <td>0.181557</td>\n",
       "      <td>0.790389</td>\n",
       "      <td>22.506146</td>\n",
       "      <td>0.009162</td>\n",
       "      <td>...</td>\n",
       "      <td>0.0</td>\n",
       "      <td>0.0</td>\n",
       "      <td>0.0</td>\n",
       "      <td>0.0</td>\n",
       "      <td>0.0</td>\n",
       "      <td>0.0</td>\n",
       "      <td>0.0</td>\n",
       "      <td>0.0</td>\n",
       "      <td>0.0</td>\n",
       "      <td>0.126850</td>\n",
       "    </tr>\n",
       "    <tr>\n",
       "      <th>4</th>\n",
       "      <td>0021100032</td>\n",
       "      <td>1610612744</td>\n",
       "      <td>24.392160</td>\n",
       "      <td>77.093799</td>\n",
       "      <td>95.293104</td>\n",
       "      <td>-18.199306</td>\n",
       "      <td>0.099826</td>\n",
       "      <td>0.468785</td>\n",
       "      <td>7.394035</td>\n",
       "      <td>0.027391</td>\n",
       "      <td>...</td>\n",
       "      <td>0.0</td>\n",
       "      <td>0.0</td>\n",
       "      <td>0.0</td>\n",
       "      <td>0.0</td>\n",
       "      <td>0.0</td>\n",
       "      <td>0.0</td>\n",
       "      <td>0.0</td>\n",
       "      <td>0.0</td>\n",
       "      <td>0.0</td>\n",
       "      <td>0.118870</td>\n",
       "    </tr>\n",
       "  </tbody>\n",
       "</table>\n",
       "<p>5 rows × 163 columns</p>\n",
       "</div>"
      ],
      "text/plain": [
       "      GAME_ID     TEAM_ID  LAST_1_GAME_PLAYER_MIN  \\\n",
       "0  0021100022  1610612747               28.808736   \n",
       "1  0021100024  1610612748               26.501701   \n",
       "2  0021100027  1610612760               26.982500   \n",
       "3  0021100028  1610612738               28.657603   \n",
       "4  0021100032  1610612744               24.392160   \n",
       "\n",
       "   LAST_1_GAME_PLAYER_OFF_RATING  LAST_1_GAME_PLAYER_DEF_RATING  \\\n",
       "0                      95.758729                      99.478361   \n",
       "1                     104.601938                      87.774542   \n",
       "2                     103.898368                      92.068965   \n",
       "3                     101.719889                     103.282500   \n",
       "4                      77.093799                      95.293104   \n",
       "\n",
       "   LAST_1_GAME_PLAYER_NET_RATING  LAST_1_GAME_PLAYER_AST_PCT  \\\n",
       "0                      -3.729979                    0.165185   \n",
       "1                      16.826146                    0.123284   \n",
       "2                      11.851618                    0.176137   \n",
       "3                      -1.573576                    0.181557   \n",
       "4                     -18.199306                    0.099826   \n",
       "\n",
       "   LAST_1_GAME_PLAYER_AST_TOV  LAST_1_GAME_PLAYER_AST_RATIO  \\\n",
       "0                    1.128056                     18.783562   \n",
       "1                    0.772721                     12.838507   \n",
       "2                    0.697593                     14.458326   \n",
       "3                    0.790389                     22.506146   \n",
       "4                    0.468785                      7.394035   \n",
       "\n",
       "   LAST_1_GAME_PLAYER_OREB_PCT        ...         \\\n",
       "0                     0.035987        ...          \n",
       "1                     0.039480        ...          \n",
       "2                     0.022754        ...          \n",
       "3                     0.009162        ...          \n",
       "4                     0.027391        ...          \n",
       "\n",
       "   LAST_10_GAME_PLAYER_OREB_PCT  LAST_10_GAME_PLAYER_DREB_PCT  \\\n",
       "0                           0.0                           0.0   \n",
       "1                           0.0                           0.0   \n",
       "2                           0.0                           0.0   \n",
       "3                           0.0                           0.0   \n",
       "4                           0.0                           0.0   \n",
       "\n",
       "   LAST_10_GAME_PLAYER_REB_PCT  LAST_10_GAME_PLAYER_TM_TOV_PCT  \\\n",
       "0                          0.0                             0.0   \n",
       "1                          0.0                             0.0   \n",
       "2                          0.0                             0.0   \n",
       "3                          0.0                             0.0   \n",
       "4                          0.0                             0.0   \n",
       "\n",
       "   LAST_10_GAME_PLAYER_EFG_PCT  LAST_10_GAME_PLAYER_TS_PCT  \\\n",
       "0                          0.0                         0.0   \n",
       "1                          0.0                         0.0   \n",
       "2                          0.0                         0.0   \n",
       "3                          0.0                         0.0   \n",
       "4                          0.0                         0.0   \n",
       "\n",
       "   LAST_10_GAME_PLAYER_USG_PCT  LAST_10_GAME_PLAYER_PACE  \\\n",
       "0                          0.0                       0.0   \n",
       "1                          0.0                       0.0   \n",
       "2                          0.0                       0.0   \n",
       "3                          0.0                       0.0   \n",
       "4                          0.0                       0.0   \n",
       "\n",
       "   LAST_10_GAME_PLAYER_PIE  PLAYER_MIN_RATIO  \n",
       "0                      0.0          0.120036  \n",
       "1                      0.0          0.114627  \n",
       "2                      0.0          0.112427  \n",
       "3                      0.0          0.126850  \n",
       "4                      0.0          0.118870  \n",
       "\n",
       "[5 rows x 163 columns]"
      ]
     },
     "execution_count": 53,
     "metadata": {},
     "output_type": "execute_result"
    }
   ],
   "source": [
    "game_shift.head()"
   ]
  },
  {
   "cell_type": "code",
   "execution_count": 54,
   "metadata": {
    "collapsed": true
   },
   "outputs": [],
   "source": [
    "nba_df[\"TEAM_ID_HOME\"] = nba_df[\"TEAM_ID_HOME\"].astype(str)\n",
    "nba_df[\"TEAM_ID_AWAY\"] = nba_df[\"TEAM_ID_AWAY\"].astype(str)\n",
    "game_shift[\"TEAM_ID\"] = game_shift[\"TEAM_ID\"].astype(str)"
   ]
  },
  {
   "cell_type": "code",
   "execution_count": 55,
   "metadata": {
    "collapsed": true,
    "scrolled": true
   },
   "outputs": [],
   "source": [
    "game_shift = (nba_df[[\"GAME_ID\", \"TEAM_ID_HOME\", \"TEAM_ID_AWAY\"]].merge(game_shift,left_on=[\"GAME_ID\",\"TEAM_ID_HOME\"],right_on=[\"GAME_ID\",\"TEAM_ID\"],how=\"left\")\n",
    "              .merge(game_shift,left_on=[\"GAME_ID\",\"TEAM_ID_AWAY\"],right_on=[\"GAME_ID\",\"TEAM_ID\"],how=\"left\",suffixes=['_H','_A']))"
   ]
  },
  {
   "cell_type": "code",
   "execution_count": 56,
   "metadata": {
    "collapsed": true
   },
   "outputs": [],
   "source": [
    "game_shift.drop([\"TEAM_ID_H\",\"TEAM_ID_A\",\"PLAYER_MIN_RATIO_A\",\"PLAYER_MIN_RATIO_H\"],axis=1,inplace=True)"
   ]
  },
  {
   "cell_type": "code",
   "execution_count": 57,
   "metadata": {},
   "outputs": [
    {
     "data": {
      "text/plain": [
       "84"
      ]
     },
     "execution_count": 57,
     "metadata": {},
     "output_type": "execute_result"
    }
   ],
   "source": [
    "gc.collect()"
   ]
  },
  {
   "cell_type": "code",
   "execution_count": 58,
   "metadata": {
    "collapsed": true
   },
   "outputs": [],
   "source": [
    "nba_df = nba_df.merge(game_shift, on=[\"GAME_ID\", \"TEAM_ID_HOME\", \"TEAM_ID_AWAY\"],how=\"inner\" )"
   ]
  },
  {
   "cell_type": "code",
   "execution_count": 59,
   "metadata": {
    "collapsed": true
   },
   "outputs": [],
   "source": [
    "nba_df.drop([\"TEAM_ID_H\",\"TEAM_ID_A\"],axis=1,inplace=True)"
   ]
  },
  {
   "cell_type": "code",
   "execution_count": 60,
   "metadata": {
    "collapsed": true
   },
   "outputs": [],
   "source": [
    "nba_df.to_pickle(\"/Users/chienan/Pycon/github/SportLottery/input/FEATURE_RAW_2012TO2019.pkl\")"
   ]
  },
  {
   "cell_type": "markdown",
   "metadata": {},
   "source": [
    "# Lottery Data"
   ]
  },
  {
   "cell_type": "code",
   "execution_count": 66,
   "metadata": {
    "collapsed": true
   },
   "outputs": [],
   "source": [
    "lottery_df = pd.read_pickle(\"LOTTERY_2012to2019.pkl\")"
   ]
  },
  {
   "cell_type": "code",
   "execution_count": null,
   "metadata": {
    "collapsed": true
   },
   "outputs": [],
   "source": [
    "team = pd.read_pickle(\"/Users/chienan/Pycon/github/SportLottery/input/LEAGUEFINDER_TEAM_HOME_2012to2019.pkl\")[['GAME_ID', 'TEAM_ID', 'GAME_DATE']].reset_index(drop=True)\n",
    "team = team.merge(pd.read_pickle(\"/Users/chienan/Pycon/github/SportLottery/input/LEAGUEFINDER_TEAM_AWAY_2012to2019.pkl\")[['GAME_ID', 'TEAM_ID', 'GAME_DATE']].reset_index(drop=True),\n",
    "                 on=[\"GAME_ID\",\"GAME_DATE\"],how=\"inner\",suffixes=[\"_HOME\",\"_AWAY\"])"
   ]
  },
  {
   "cell_type": "code",
   "execution_count": null,
   "metadata": {
    "collapsed": true
   },
   "outputs": [],
   "source": [
    "team[\"GAME_DATE\"] = team.GAME_DATE.apply(lambda dt : datetime.strptime(dt,\"%Y-%m-%d\").date())"
   ]
  },
  {
   "cell_type": "code",
   "execution_count": null,
   "metadata": {
    "collapsed": true
   },
   "outputs": [],
   "source": [
    "lottery_with_gameid = lottery_df.merge(team, on=[\"TEAM_ID_HOME\",\"TEAM_ID_AWAY\",\"GAME_DATE\"], how=\"inner\")"
   ]
  },
  {
   "cell_type": "code",
   "execution_count": null,
   "metadata": {
    "collapsed": true
   },
   "outputs": [],
   "source": [
    "lottery_df[\"GAME_DATE\"] = lottery_df.GAME_DATE.apply(lambda dt : dt + timedelta(days=-1))\n",
    "lottery_with_gameid = pd.concat([lottery_with_gameid,lottery_df.merge(team, on=[\"TEAM_ID_HOME\",\"TEAM_ID_AWAY\",\"GAME_DATE\"], how=\"inner\")],\n",
    "                                axis=0).reset_index(drop=True)"
   ]
  },
  {
   "cell_type": "code",
   "execution_count": null,
   "metadata": {
    "collapsed": true
   },
   "outputs": [],
   "source": [
    "lottery_with_gameid = lottery_with_gameid.loc[:,[col for col in lottery_with_gameid.columns if col not in \n",
    "                                                 ['AWAY','HOME','TEAM_CH_NAME_HOME', 'TEAM_EN_NAME_HOME', \n",
    "                                                  'TEAM_CH_NAME_AWAY', 'TEAM_EN_NAME_AWAY','GAME_DATE']]]"
   ]
  },
  {
   "cell_type": "code",
   "execution_count": null,
   "metadata": {
    "collapsed": true
   },
   "outputs": [],
   "source": [
    "lottery_with_gameid.to_pickle(\"GAMEID_LOTTERY_2012to2019.pkl\")"
   ]
  },
  {
   "cell_type": "code",
   "execution_count": null,
   "metadata": {
    "collapsed": true
   },
   "outputs": [],
   "source": [
    "lottery_df"
   ]
  },
  {
   "cell_type": "code",
   "execution_count": null,
   "metadata": {
    "collapsed": true
   },
   "outputs": [],
   "source": []
  }
 ],
 "metadata": {
  "kernelspec": {
   "display_name": "Python 3",
   "language": "python",
   "name": "python3"
  },
  "language_info": {
   "codemirror_mode": {
    "name": "ipython",
    "version": 3
   },
   "file_extension": ".py",
   "mimetype": "text/x-python",
   "name": "python",
   "nbconvert_exporter": "python",
   "pygments_lexer": "ipython3",
   "version": "3.6.2"
  }
 },
 "nbformat": 4,
 "nbformat_minor": 2
}
