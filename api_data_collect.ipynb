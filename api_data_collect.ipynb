{
 "cells": [
  {
   "cell_type": "code",
   "execution_count": 1,
   "metadata": {
    "collapsed": true
   },
   "outputs": [],
   "source": [
    "from nbastat import nbastatapi\n",
    "import pandas as pd\n",
    "import time"
   ]
  },
  {
   "cell_type": "code",
   "execution_count": 2,
   "metadata": {
    "collapsed": true
   },
   "outputs": [],
   "source": [
    "stat = nbastatapi.NbaStatApi()"
   ]
  },
  {
   "cell_type": "markdown",
   "metadata": {},
   "source": [
    "# LEAGUEGAMEFINDER"
   ]
  },
  {
   "cell_type": "code",
   "execution_count": 3,
   "metadata": {},
   "outputs": [
    {
     "name": "stdout",
     "output_type": "stream",
     "text": [
      "Finish 2018-19 season!!\n",
      "Number of data: 7575\n"
     ]
    }
   ],
   "source": [
    "# Home Team Player Stat\n",
    "data = stat.leaguegamefinder(save_pickle_file_dir=\"/Users/chienan/Pycon/github/SportLottery/input/LEAGUEFINDER_PLAYER_HOME_2019.pkl\"\n",
    "                             ,start=2019,end=2019,playerOrTeam=\"P\",location=\"H\")"
   ]
  },
  {
   "cell_type": "code",
   "execution_count": 4,
   "metadata": {
    "collapsed": true
   },
   "outputs": [],
   "source": [
    "df = pd.read_pickle(\"/Users/chienan/Pycon/github/SportLottery/input/LEAGUEFINDER_PLAYER_HOME_2012to2019.pkl\")\n",
    "df = df[df.GAME_ID<\"0021800000\"].reset_index(drop=True)"
   ]
  },
  {
   "cell_type": "code",
   "execution_count": 5,
   "metadata": {
    "collapsed": true
   },
   "outputs": [],
   "source": [
    "df = pd.concat([df,\n",
    "                pd.read_pickle(\"/Users/chienan/Pycon/github/SportLottery/input/LEAGUEFINDER_PLAYER_HOME_2019.pkl\")]\n",
    "               ,axis=0).drop_duplicates().reset_index(drop=True)"
   ]
  },
  {
   "cell_type": "code",
   "execution_count": 6,
   "metadata": {
    "collapsed": true
   },
   "outputs": [],
   "source": [
    "df.to_pickle(\"/Users/chienan/Pycon/github/SportLottery/input/LEAGUEFINDER_PLAYER_HOME_2012to2019.pkl\")"
   ]
  },
  {
   "cell_type": "code",
   "execution_count": 7,
   "metadata": {},
   "outputs": [
    {
     "name": "stdout",
     "output_type": "stream",
     "text": [
      "Finish 2018-19 season!!\n",
      "Number of data: 7582\n"
     ]
    }
   ],
   "source": [
    "# Away Team Player Stat\n",
    "data = stat.leaguegamefinder(save_pickle_file_dir=\"/Users/chienan/Pycon/github/SportLottery/input/LEAGUEFINDER_PLAYER_AWAY_2019.pkl\",\n",
    "                             start=2019,end=2019,playerOrTeam=\"P\",location=\"A\")"
   ]
  },
  {
   "cell_type": "code",
   "execution_count": 8,
   "metadata": {
    "collapsed": true
   },
   "outputs": [],
   "source": [
    "df = pd.read_pickle(\"/Users/chienan/Pycon/github/SportLottery/input/LEAGUEFINDER_PLAYER_AWAY_2012to2019.pkl\")\n",
    "df = df[df.GAME_ID<\"0021800000\"].reset_index(drop=True)"
   ]
  },
  {
   "cell_type": "code",
   "execution_count": 9,
   "metadata": {
    "collapsed": true
   },
   "outputs": [],
   "source": [
    "df = pd.concat([df,\n",
    "                pd.read_pickle(\"/Users/chienan/Pycon/github/SportLottery/input/LEAGUEFINDER_PLAYER_AWAY_2019.pkl\")]\n",
    "               ,axis=0).drop_duplicates().reset_index(drop=True)"
   ]
  },
  {
   "cell_type": "code",
   "execution_count": 10,
   "metadata": {
    "collapsed": true
   },
   "outputs": [],
   "source": [
    "df.to_pickle(\"/Users/chienan/Pycon/github/SportLottery/input/LEAGUEFINDER_PLAYER_AWAY_2012to2019.pkl\")"
   ]
  },
  {
   "cell_type": "code",
   "execution_count": 11,
   "metadata": {},
   "outputs": [
    {
     "name": "stdout",
     "output_type": "stream",
     "text": [
      "Finish 2018-19 season!!\n",
      "Number of data: 710\n"
     ]
    }
   ],
   "source": [
    "# Home Team Team Stat\n",
    "data = stat.leaguegamefinder(save_pickle_file_dir=\"/Users/chienan/Pycon/github/SportLottery/input/LEAGUEFINDER_TEAM_HOME_2019.pkl\",\n",
    "                             start=2019,end=2019,playerOrTeam=\"T\",location=\"H\")"
   ]
  },
  {
   "cell_type": "code",
   "execution_count": 12,
   "metadata": {
    "collapsed": true
   },
   "outputs": [],
   "source": [
    "df = pd.read_pickle(\"/Users/chienan/Pycon/github/SportLottery/input/LEAGUEFINDER_TEAM_HOME_2012to2019.pkl\")\n",
    "df = df[df.GAME_ID<\"0021800000\"].reset_index(drop=True)"
   ]
  },
  {
   "cell_type": "code",
   "execution_count": 13,
   "metadata": {
    "collapsed": true
   },
   "outputs": [],
   "source": [
    "df = pd.concat([df,\n",
    "                pd.read_pickle(\"/Users/chienan/Pycon/github/SportLottery/input/LEAGUEFINDER_TEAM_HOME_2019.pkl\")]\n",
    "               ,axis=0).drop_duplicates().reset_index(drop=True)"
   ]
  },
  {
   "cell_type": "code",
   "execution_count": 14,
   "metadata": {
    "collapsed": true
   },
   "outputs": [],
   "source": [
    "df.to_pickle(\"/Users/chienan/Pycon/github/SportLottery/input/LEAGUEFINDER_TEAM_HOME_2012to2019.pkl\")"
   ]
  },
  {
   "cell_type": "code",
   "execution_count": 15,
   "metadata": {
    "scrolled": true
   },
   "outputs": [
    {
     "name": "stdout",
     "output_type": "stream",
     "text": [
      "Finish 2018-19 season!!\n",
      "Number of data: 710\n"
     ]
    }
   ],
   "source": [
    "# Away Team Team Stat\n",
    "data = stat.leaguegamefinder(save_pickle_file_dir=\"/Users/chienan/Pycon/github/SportLottery/input/LEAGUEFINDER_TEAM_AWAY_2019.pkl\",\n",
    "                             start=2019,end=2019,playerOrTeam=\"T\",location=\"A\")"
   ]
  },
  {
   "cell_type": "code",
   "execution_count": 16,
   "metadata": {
    "collapsed": true
   },
   "outputs": [],
   "source": [
    "df = pd.read_pickle(\"/Users/chienan/Pycon/github/SportLottery/input/LEAGUEFINDER_TEAM_AWAY_2012to2019.pkl\")\n",
    "df = df[df.GAME_ID<\"0021800000\"].reset_index(drop=True)"
   ]
  },
  {
   "cell_type": "code",
   "execution_count": 17,
   "metadata": {
    "collapsed": true
   },
   "outputs": [],
   "source": [
    "df = pd.concat([df,\n",
    "                pd.read_pickle(\"/Users/chienan/Pycon/github/SportLottery/input/LEAGUEFINDER_TEAM_AWAY_2019.pkl\")]\n",
    "               ,axis=0).drop_duplicates().reset_index(drop=True)"
   ]
  },
  {
   "cell_type": "code",
   "execution_count": 18,
   "metadata": {
    "collapsed": true
   },
   "outputs": [],
   "source": [
    "df.to_pickle(\"/Users/chienan/Pycon/github/SportLottery/input/LEAGUEFINDER_TEAM_AWAY_2012to2019.pkl\")"
   ]
  },
  {
   "cell_type": "markdown",
   "metadata": {},
   "source": [
    "## TEAMGAMELOG"
   ]
  },
  {
   "cell_type": "code",
   "execution_count": 19,
   "metadata": {},
   "outputs": [
    {
     "name": "stdout",
     "output_type": "stream",
     "text": [
      "2018-19\n",
      "Atlanta Hawks parse finish...\n",
      "2018-19\n",
      "Boston Celtics parse finish...\n",
      "2018-19\n",
      "Brooklyn Nets parse finish...\n",
      "2018-19\n",
      "Charlotte Hornets parse finish...\n",
      "2018-19\n",
      "Chicago Bulls parse finish...\n",
      "2018-19\n",
      "Cleveland Cavaliers parse finish...\n",
      "2018-19\n",
      "Dallas Mavericks parse finish...\n",
      "2018-19\n",
      "Denver Nuggets parse finish...\n",
      "2018-19\n",
      "Detroit Pistons parse finish...\n",
      "2018-19\n",
      "Golden State Warriors parse finish...\n",
      "2018-19\n",
      "Houston Rockets parse finish...\n",
      "2018-19\n",
      "Indiana Pacers parse finish...\n",
      "2018-19\n",
      "Los Angeles Clippers parse finish...\n",
      "2018-19\n",
      "Los Angeles Lakers parse finish...\n",
      "2018-19\n",
      "Memphis Grizzlies parse finish...\n",
      "2018-19\n",
      "Miami Heat parse finish...\n",
      "2018-19\n",
      "Milwaukee Bucks parse finish...\n",
      "2018-19\n",
      "Minnesota Timberwolves parse finish...\n",
      "2018-19\n",
      "New Orleans Pelicans parse finish...\n",
      "2018-19\n",
      "New York Knicks parse finish...\n",
      "2018-19\n",
      "Oklahoma City Thunder parse finish...\n",
      "2018-19\n",
      "Orlando Magic parse finish...\n",
      "2018-19\n",
      "Philadelphia 76ers parse finish...\n",
      "2018-19\n",
      "Phoenix Suns parse finish...\n",
      "2018-19\n",
      "Portland Trail Blazers parse finish...\n",
      "2018-19\n",
      "Sacramento Kings parse finish...\n",
      "2018-19\n",
      "San Antonio Spurs parse finish...\n",
      "2018-19\n",
      "Toronto Raptors parse finish...\n",
      "2018-19\n",
      "Utah Jazz parse finish...\n",
      "2018-19\n",
      "Washington Wizards parse finish...\n"
     ]
    }
   ],
   "source": [
    "# Teamlog stat\n",
    "data = stat.teamgamelog(save_pickle_file_dir=\"/Users/chienan/Pycon/github/SportLottery/input/TEAMGAMELOG_2019.pkl\",\n",
    "                        start=2019,end=2019)"
   ]
  },
  {
   "cell_type": "code",
   "execution_count": 20,
   "metadata": {
    "collapsed": true
   },
   "outputs": [],
   "source": [
    "df = pd.read_pickle(\"/Users/chienan/Pycon/github/SportLottery/input/TEAMGAMELOG_2012to2019.pkl\")\n",
    "df = df.sort_values(\"Game_ID\").reset_index(drop=True)\n",
    "df = df[df.Game_ID<\"0021800000\"].reset_index(drop=True)"
   ]
  },
  {
   "cell_type": "code",
   "execution_count": 21,
   "metadata": {
    "collapsed": true
   },
   "outputs": [],
   "source": [
    "df = pd.concat([df,\n",
    "                pd.read_pickle(\"/Users/chienan/Pycon/github/SportLottery/input/TEAMGAMELOG_2019.pkl\")],axis=0).drop_duplicates().reset_index(drop=True)"
   ]
  },
  {
   "cell_type": "code",
   "execution_count": 22,
   "metadata": {
    "collapsed": true
   },
   "outputs": [],
   "source": [
    "df = df.sort_values(\"Game_ID\").reset_index(drop=True)"
   ]
  },
  {
   "cell_type": "code",
   "execution_count": 23,
   "metadata": {
    "collapsed": true
   },
   "outputs": [],
   "source": [
    "df.to_pickle(\"/Users/chienan/Pycon/github/SportLottery/input/TEAMGAMELOG_2012to2019.pkl\")"
   ]
  },
  {
   "cell_type": "markdown",
   "metadata": {},
   "source": [
    "# Adv Boxscore"
   ]
  },
  {
   "cell_type": "code",
   "execution_count": 24,
   "metadata": {
    "collapsed": true,
    "scrolled": false
   },
   "outputs": [],
   "source": [
    "start_game_id = int(pd.read_pickle(\"/Users/chienan/Pycon/github/SportLottery/input/BOXSCOREADVANCE_TEAM_2012to2019.pkl\").GAME_ID.max()[2:])"
   ]
  },
  {
   "cell_type": "code",
   "execution_count": 25,
   "metadata": {
    "collapsed": true
   },
   "outputs": [],
   "source": [
    "end_game_id= int(pd.read_pickle(\"/Users/chienan/Pycon/github/SportLottery/input/TEAMGAMELOG_2012to2019.pkl\").Game_ID.max()[2:])"
   ]
  },
  {
   "cell_type": "code",
   "execution_count": 26,
   "metadata": {},
   "outputs": [
    {
     "data": {
      "text/plain": [
       "(21800701, 21800710)"
      ]
     },
     "execution_count": 26,
     "metadata": {},
     "output_type": "execute_result"
    }
   ],
   "source": [
    "start_game_id,end_game_id"
   ]
  },
  {
   "cell_type": "code",
   "execution_count": 27,
   "metadata": {
    "scrolled": true
   },
   "outputs": [
    {
     "name": "stdout",
     "output_type": "stream",
     "text": [
      "finish 21800702\n",
      "finish 21800703\n",
      "finish 21800704\n",
      "finish 21800705\n",
      "finish 21800706\n",
      "finish 21800707\n",
      "finish 21800708\n",
      "finish 21800709\n",
      "finish 21800710\n"
     ]
    }
   ],
   "source": [
    "data = stat.boxscoreadvanced(start_year=2012,\n",
    "                             end_year=2019,\n",
    "                             start_gameid=start_game_id,\n",
    "                             end_gameid=end_game_id,\n",
    "                             save_team_pickle_file_dir=\"/Users/chienan/Pycon/github/SportLottery/input/BOXSCOREADVANCE_TEAM_UPDATE.pkl\",\n",
    "                             save_player_pickle_file_dir=\"/Users/chienan/Pycon/github/SportLottery/input/BOXSCOREADVANCE_PLAYER_UPDATE.pkl\")"
   ]
  },
  {
   "cell_type": "code",
   "execution_count": 28,
   "metadata": {
    "collapsed": true
   },
   "outputs": [],
   "source": [
    "team_data = pd.read_pickle(\"/Users/chienan/Pycon/github/SportLottery/input/BOXSCOREADVANCE_TEAM_2012to2019.pkl\")\n",
    "player_data = pd.read_pickle(\"/Users/chienan/Pycon/github/SportLottery/input/BOXSCOREADVANCE_PLAYER_2012to2019.pkl\")\n",
    "team_data_update = pd.read_pickle(\"/Users/chienan/Pycon/github/SportLottery/input/BOXSCOREADVANCE_TEAM_UPDATE.pkl\")\n",
    "player_data_update = pd.read_pickle(\"/Users/chienan/Pycon/github/SportLottery/input/BOXSCOREADVANCE_PLAYER_UPDATE.pkl\")\n",
    "player_data = pd.concat([player_data,player_data_update],axis=0).drop_duplicates().reset_index(drop=True)\n",
    "team_data = pd.concat([team_data,team_data_update],axis=0).drop_duplicates().reset_index(drop=True)\n",
    "player_data.to_pickle(\"/Users/chienan/Pycon/github/SportLottery/input/BOXSCOREADVANCE_PLAYER_2012to2019.pkl\")\n",
    "team_data.to_pickle(\"/Users/chienan/Pycon/github/SportLottery/input/BOXSCOREADVANCE_TEAM_2012to2019.pkl\")"
   ]
  },
  {
   "cell_type": "markdown",
   "metadata": {},
   "source": [
    "# TEST"
   ]
  },
  {
   "cell_type": "code",
   "execution_count": null,
   "metadata": {
    "collapsed": true
   },
   "outputs": [],
   "source": [
    "import requests\n",
    "import numpy as np\n",
    "import pandas as pd\n",
    "import json\n",
    "from datetime import datetime"
   ]
  },
  {
   "cell_type": "code",
   "execution_count": null,
   "metadata": {
    "collapsed": true
   },
   "outputs": [],
   "source": [
    "HEADERS = {'user-agent': ('Mozilla/5.0 (Windows NT 6.2; WOW64) AppleWebKit/537.36 (KHTML, like Gecko) Chrome/57.0.2987.133 Safari/537.36'),\n",
    "           'Dnt': ('1'),\n",
    "           'Accept-Encoding': ('gzip, deflate'),\n",
    "           'Accept-Language': ('en'),\n",
    "           'origin': ('http://stats.nba.com')\n",
    "          }"
   ]
  },
  {
   "cell_type": "code",
   "execution_count": null,
   "metadata": {
    "collapsed": true
   },
   "outputs": [],
   "source": [
    "url = \"http://stats.nba.com/stats/boxscoreadvancedv2/\"\n",
    "\n",
    "years = [str(i) for i in range(2012, 2012+1)]\n",
    "seasons =  [int('2' + str(i)[2:] + '00000') for i in range(2012-1, 2012)]\n",
    "playerData = []\n",
    "teamData = []\n",
    "for season in seasons:\n",
    "    for gameId in [i for i in range(season + 1, season+83+1)]:\n",
    "        querystring = {\"gameId\": '00'+str(gameId),\"startPeriod\":\"0\",\"endPeriod\":\"14\",\n",
    "                       \"startRange\":\"0\",\"endRange\":\"2147483647\",\"rangeType\":\"0\"}\n",
    "        response = requests.request(\"GET\", url, params=querystring,headers=HEADERS)\n",
    "        if response.status_code != 200:\n",
    "            print(\"Don't got \" + str(gameId) + \" data!\")\n",
    "            response = requests.request(\"GET\", url, \n",
    "                                        params={\"gameId\": '00'+str(gameId-1),\"startPeriod\":\"0\",\"endPeriod\":\"14\",\n",
    "                                                \"startRange\":\"0\",\"endRange\":\"2147483647\",\"rangeType\":\"0\"},\n",
    "                                        headers=HEADERS)\n",
    "            break\n",
    "        response = json.loads(response.content)               \n",
    "        playerData += response['resultSets'][0]['rowSet']\n",
    "        teamData += response['resultSets'][1]['rowSet']\n",
    "        print('Finish '+str(gameId))"
   ]
  },
  {
   "cell_type": "code",
   "execution_count": null,
   "metadata": {
    "collapsed": true
   },
   "outputs": [],
   "source": [
    "pd.DataFrame(playerData,columns=response['resultSets'][0]['headers']).info()"
   ]
  },
  {
   "cell_type": "code",
   "execution_count": null,
   "metadata": {
    "collapsed": true
   },
   "outputs": [],
   "source": [
    "team = pd.read_pickle(\"/Users/chienan/Pycon/github/SportLottery/input/BOXSCOREPLAYERTRACK_TEAM_2012to2019.pkl\")"
   ]
  },
  {
   "cell_type": "code",
   "execution_count": null,
   "metadata": {
    "collapsed": true
   },
   "outputs": [],
   "source": [
    "pd.DataFrame(playerData,columns=response['resultSets'][0]['headers'])\n",
    "pd.DataFrame(teamData,columns=response['resultSets'][1]['headers'])"
   ]
  },
  {
   "cell_type": "code",
   "execution_count": null,
   "metadata": {
    "collapsed": true
   },
   "outputs": [],
   "source": [
    "url = \"http://stats.nba.com/stats/boxscoreadvancedv2/\"\n",
    "\n",
    "querystring = {\"gameId\": '00'+str(21100992),\"startPeriod\":\"0\",\"endPeriod\":\"14\",\"startRange\":\"0\",\"endRange\":\"2147483647\",\"rangeType\":\"0\"}\n",
    "response = requests.request(\"GET\", url, params=querystring,headers=HEADERS)\n",
    "times = 0\n",
    "while response.status_code != 200:\n",
    "    response = requests.request(\"GET\", url, params=querystring,headers=HEADERS)\n",
    "    times += 1\n",
    "    if times > 5:\n",
    "        print(\"Error in gameid: \" + str(21100991))\n",
    "        response = requests.request(\"GET\", url, \n",
    "                                    params={\"gameId\": '00'+str(21100992-1),\"startPeriod\":\"0\",\"endPeriod\":\"14\",\n",
    "                                                    \"startRange\":\"0\",\"endRange\":\"2147483647\",\"rangeType\":\"0\"},\n",
    "                                    headers=HEADERS)\n",
    "        break\n",
    "response = json.loads(response.content)"
   ]
  },
  {
   "cell_type": "code",
   "execution_count": null,
   "metadata": {
    "collapsed": true
   },
   "outputs": [],
   "source": [
    "url = \"http://stats.nba.com/stats/boxscoreadvancedv2/\"\n",
    "\n",
    "years = [str(i) for i in range(2012, 2012+1)]\n",
    "seasons =  [int('2' + str(i)[2:] + '00000') for i in range(2012-1, 2012)]\n",
    "playerData = []\n",
    "teamData = []\n",
    "for season in seasons:\n",
    "\n",
    "    for gameId in [i for i in range(season + 1, season+83+1)]:\n",
    "        querystring = {\"gameId\": '00'+str(gameId),\"startPeriod\":\"0\",\"endPeriod\":\"14\",\n",
    "                       \"startRange\":\"0\",\"endRange\":\"2147483647\",\"rangeType\":\"0\"}\n",
    "        response = requests.request(\"GET\", url, params=querystring,headers=HEADERS)\n",
    "        times = 0\n",
    "        while response.status_code != 200:\n",
    "            response = requests.request(\"GET\", url, params=querystring,headers=HEADERS)\n",
    "            times += 1\n",
    "            if times > 5:\n",
    "                print(\"Error in gameid: \" + str(gameId))\n",
    "                response = requests.request(\"GET\", url, \n",
    "                                            params={\"gameId\": '00'+str(gameId-1),\"startPeriod\":\"0\",\"endPeriod\":\"14\",\n",
    "                                                    \"startRange\":\"0\",\"endRange\":\"2147483647\",\"rangeType\":\"0\"},\n",
    "                                            headers=HEADERS)\n",
    "                break\n",
    "        response = json.loads(response.content)               \n",
    "        playerData += response['resultSets'][0]['rowSet']\n",
    "        teamData += response['resultSets'][1]['rowSet']\n",
    "        print('Finish '+str(gameId))"
   ]
  },
  {
   "cell_type": "code",
   "execution_count": null,
   "metadata": {
    "collapsed": true
   },
   "outputs": [],
   "source": []
  },
  {
   "cell_type": "code",
   "execution_count": null,
   "metadata": {
    "collapsed": true
   },
   "outputs": [],
   "source": []
  }
 ],
 "metadata": {
  "kernelspec": {
   "display_name": "Python 3",
   "language": "python",
   "name": "python3"
  },
  "language_info": {
   "codemirror_mode": {
    "name": "ipython",
    "version": 3
   },
   "file_extension": ".py",
   "mimetype": "text/x-python",
   "name": "python",
   "nbconvert_exporter": "python",
   "pygments_lexer": "ipython3",
   "version": "3.6.2"
  }
 },
 "nbformat": 4,
 "nbformat_minor": 2
}
