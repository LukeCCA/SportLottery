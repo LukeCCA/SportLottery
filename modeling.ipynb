{
 "cells": [
  {
   "cell_type": "code",
   "execution_count": 1,
   "metadata": {
    "collapsed": true
   },
   "outputs": [],
   "source": [
    "import numpy as np\n",
    "import pandas as pd\n",
    "import gc\n",
    "import time\n",
    "import lightgbm as lgb\n",
    "import matplotlib.pyplot as plt"
   ]
  },
  {
   "cell_type": "code",
   "execution_count": 2,
   "metadata": {
    "collapsed": true
   },
   "outputs": [],
   "source": [
    "df = pd.read_pickle(\"/Users/chienan/Pycon/github/SportLottery/input/FEATURE_AGG_2012TO2019.pkl\")"
   ]
  },
  {
   "cell_type": "code",
   "execution_count": 3,
   "metadata": {},
   "outputs": [
    {
     "data": {
      "text/plain": [
       "['GAME_ID',\n",
       " 'TEAM_ID_HOME',\n",
       " 'TEAM_ID_AWAY',\n",
       " 'PLUS_MINUS',\n",
       " 'GAME_DATE',\n",
       " 'TEAM_ID_H',\n",
       " 'TEAM_ID_A']"
      ]
     },
     "execution_count": 3,
     "metadata": {},
     "output_type": "execute_result"
    }
   ],
   "source": [
    "[col for col in df.columns if \"LAST_\" not in col]"
   ]
  },
  {
   "cell_type": "code",
   "execution_count": 4,
   "metadata": {
    "scrolled": true
   },
   "outputs": [
    {
     "data": {
      "text/plain": [
       "362"
      ]
     },
     "execution_count": 4,
     "metadata": {},
     "output_type": "execute_result"
    }
   ],
   "source": [
    "len([col for col in df.columns if \"_H\" in col])"
   ]
  },
  {
   "cell_type": "code",
   "execution_count": 5,
   "metadata": {},
   "outputs": [
    {
     "data": {
      "text/plain": [
       "362"
      ]
     },
     "execution_count": 5,
     "metadata": {},
     "output_type": "execute_result"
    }
   ],
   "source": [
    "len([col for col in df.columns if (\"_A\" in col) & (\"_H\" not in col)])"
   ]
  },
  {
   "cell_type": "code",
   "execution_count": 6,
   "metadata": {},
   "outputs": [
    {
     "data": {
      "text/plain": [
       "{'GAME_DATE', 'GAME_ID', 'PLUS_MINUS'}"
      ]
     },
     "execution_count": 6,
     "metadata": {},
     "output_type": "execute_result"
    }
   ],
   "source": [
    "set(df.columns) - set([col for col in df.columns if \"_H\" in col]) - set([col for col in df.columns if (\"_A\" in col) & (\"_H\" not in col)])"
   ]
  },
  {
   "cell_type": "code",
   "execution_count": 7,
   "metadata": {
    "collapsed": true
   },
   "outputs": [],
   "source": [
    "df[\"TEAM_ID_AWAY\"] = df[\"TEAM_ID_AWAY\"].astype(\"category\")\n",
    "df[\"TEAM_ID_HOME\"] = df[\"TEAM_ID_HOME\"].astype(\"category\")"
   ]
  },
  {
   "cell_type": "code",
   "execution_count": 8,
   "metadata": {},
   "outputs": [
    {
     "data": {
      "text/plain": [
       "(array([-14.,   4.,  13.]), 2.697501146263182)"
      ]
     },
     "execution_count": 8,
     "metadata": {},
     "output_type": "execute_result"
    }
   ],
   "source": [
    "np.percentile(df.loc[:, \"PLUS_MINUS\"].values, [10, 50, 80]), np.mean(df.loc[:, \"PLUS_MINUS\"].values)"
   ]
  },
  {
   "cell_type": "code",
   "execution_count": 9,
   "metadata": {
    "collapsed": true
   },
   "outputs": [],
   "source": [
    "column = [\"_\".join(col.split(\"_\")[2:-1]) for col in df.columns if (\"LAST_1_\" in col)&(\"_H\" in col)]"
   ]
  },
  {
   "cell_type": "code",
   "execution_count": 10,
   "metadata": {
    "collapsed": true
   },
   "outputs": [],
   "source": [
    "df.loc[df[df.loc[:,\"PLUS_MINUS\"]>=13].index,\"PLUS_MINUS\"] = 13\n",
    "df.loc[df[df.loc[:,\"PLUS_MINUS\"]<=-14].index,\"PLUS_MINUS\"] = -14"
   ]
  },
  {
   "cell_type": "code",
   "execution_count": 11,
   "metadata": {
    "collapsed": true
   },
   "outputs": [],
   "source": [
    "df.loc[df[df.loc[:,\"PLUS_MINUS\"]>0].index,\"PLUS_MINUS\"] = 1\n",
    "df.loc[df[df.loc[:,\"PLUS_MINUS\"]<0].index,\"PLUS_MINUS\"] = 0"
   ]
  },
  {
   "cell_type": "code",
   "execution_count": 12,
   "metadata": {
    "collapsed": true
   },
   "outputs": [],
   "source": [
    "new_col = []\n",
    "for col_i in column:\n",
    "    new_col += [col for col in df.columns if col_i in col]"
   ]
  },
  {
   "cell_type": "code",
   "execution_count": 13,
   "metadata": {
    "collapsed": true
   },
   "outputs": [],
   "source": [
    "new_col = list(set(df.columns)-set(new_col))+list(new_col)"
   ]
  },
  {
   "cell_type": "code",
   "execution_count": 14,
   "metadata": {},
   "outputs": [
    {
     "data": {
      "text/plain": [
       "727"
      ]
     },
     "execution_count": 14,
     "metadata": {},
     "output_type": "execute_result"
    }
   ],
   "source": [
    "len(set(new_col))"
   ]
  },
  {
   "cell_type": "code",
   "execution_count": 15,
   "metadata": {
    "collapsed": true
   },
   "outputs": [],
   "source": [
    "df = df[new_col]"
   ]
  },
  {
   "cell_type": "code",
   "execution_count": 16,
   "metadata": {
    "collapsed": true
   },
   "outputs": [],
   "source": [
    "df_train = df[df.GAME_ID<\"0021700000\"].reset_index(drop=True)\n",
    "df_val = df[(df.GAME_ID<\"0021800000\")&(df.GAME_ID>\"0021700000\")].reset_index(drop=True)"
   ]
  },
  {
   "cell_type": "code",
   "execution_count": 17,
   "metadata": {
    "collapsed": true
   },
   "outputs": [],
   "source": [
    "x_train = df_train.loc[:, [col for col in df_train.columns if (col not in [\"GAME_ID\",\"GAME_DATE\",\"PLUS_MINUS\"])&\n",
    "                          (\"TEAM_ID\" not in col)]]\n",
    "x_val = df_val.loc[:, [col for col in df_val.columns if (col not in [\"GAME_ID\",\"GAME_DATE\",\"PLUS_MINUS\"])&\n",
    "                        (\"TEAM_ID\" not in col)]]"
   ]
  },
  {
   "cell_type": "code",
   "execution_count": 18,
   "metadata": {
    "collapsed": true
   },
   "outputs": [],
   "source": [
    "y_train = df_train.loc[:, \"PLUS_MINUS\"]\n",
    "y_val = df_val.loc[:, \"PLUS_MINUS\"]"
   ]
  },
  {
   "cell_type": "code",
   "execution_count": 19,
   "metadata": {
    "collapsed": true
   },
   "outputs": [],
   "source": [
    "train_dataset = lgb.Dataset(x_train, y_train)\n",
    "test_dataset = lgb.Dataset(x_val, y_val)"
   ]
  },
  {
   "cell_type": "code",
   "execution_count": 20,
   "metadata": {
    "collapsed": true
   },
   "outputs": [],
   "source": [
    "param = {\"metric\": (\"l1\",\"l2\"),\n",
    "        \"objective\": \"regression_l2\"}"
   ]
  },
  {
   "cell_type": "code",
   "execution_count": 21,
   "metadata": {
    "collapsed": true
   },
   "outputs": [],
   "source": [
    "param = {\"metric\": (\"binary_error\",\"auc\"),\n",
    "        \"objective\": \"binary\"}"
   ]
  },
  {
   "cell_type": "code",
   "execution_count": 36,
   "metadata": {
    "collapsed": true
   },
   "outputs": [],
   "source": [
    "evals_result = {}\n",
    "from bayes_opt import BayesianOptimization\n"
   ]
  },
  {
   "cell_type": "code",
   "execution_count": 46,
   "metadata": {
    "collapsed": true
   },
   "outputs": [],
   "source": [
    "def lgb_eval(learning_rate, num_leaves, feature_fraction, bagging_fraction, max_depth, lambda_l1, lambda_l2, min_split_gain, min_child_weight):\n",
    "    evals_result = {}\n",
    "    params = {'application':'binary','num_iterations': 1000, 'early_stopping_round':100, 'metric':'binary_error'}\n",
    "    \n",
    "    params[\"num_leaves\"] = int(round(num_leaves))\n",
    "    params[\"learning_rate\"] = max(learning_rate, 0)\n",
    "    params['feature_fraction'] = max(min(feature_fraction, 1), 0)\n",
    "    params['bagging_fraction'] = max(min(bagging_fraction, 1), 0)\n",
    "    params['max_depth'] = int(round(max_depth))\n",
    "    params['lambda_l1'] = max(lambda_l1, 0)\n",
    "    params['lambda_l2'] = max(lambda_l2, 0)\n",
    "    params['min_split_gain'] = min_split_gain\n",
    "    params['min_child_weight'] = min_child_weight\n",
    "    result = lgb.train(train_set=train_dataset,valid_sets=[train_dataset, test_dataset] ,evals_result=evals_result,\n",
    "                       params=params,verbose_eval =200)\n",
    "    return -min(evals_result['valid_1']['binary_error'])\n",
    "\n",
    "lgbBO = BayesianOptimization(lgb_eval, {'learning_rate': (0.001, 0.1),\n",
    "                                        'num_leaves': (24, 45),\n",
    "                                        'feature_fraction': (0.1, 0.9),\n",
    "                                        'bagging_fraction': (0.5, 1),\n",
    "                                        'max_depth': (4, 9),\n",
    "                                        'lambda_l1': (0, 5),\n",
    "                                        'lambda_l2': (0, 3),\n",
    "                                        'min_split_gain': (0.001, 0.1),\n",
    "                                        'min_child_weight': (5, 50)}, random_state=7)"
   ]
  },
  {
   "cell_type": "code",
   "execution_count": 47,
   "metadata": {},
   "outputs": [
    {
     "name": "stdout",
     "output_type": "stream",
     "text": [
      "|   iter    |  target   | baggin... | featur... | lambda_l1 | lambda_l2 | learni... | max_depth | min_ch... | min_sp... | num_le... |\n",
      "-------------------------------------------------------------------------------------------------------------------------------------\n",
      "Training until validation scores don't improve for 100 rounds.\n"
     ]
    },
    {
     "name": "stderr",
     "output_type": "stream",
     "text": [
      "/Users/chienan/anaconda2/envs/python3/lib/python3.6/site-packages/lightgbm/engine.py:102: UserWarning: Found `num_iterations` in params. Will use it instead of argument\n",
      "  warnings.warn(\"Found `{}` in params. Will use it instead of argument\".format(alias))\n",
      "/Users/chienan/anaconda2/envs/python3/lib/python3.6/site-packages/lightgbm/engine.py:107: UserWarning: Found `early_stopping_round` in params. Will use it instead of argument\n",
      "  warnings.warn(\"Found `{}` in params. Will use it instead of argument\".format(alias))\n"
     ]
    },
    {
     "name": "stdout",
     "output_type": "stream",
     "text": [
      "[200]\ttraining's binary_error: 0.0150607\tvalid_1's binary_error: 0.365041\n",
      "Early stopping, best iteration is:\n",
      "[129]\ttraining's binary_error: 0.062436\tvalid_1's binary_error: 0.355285\n",
      "| \u001b[0m 1       \u001b[0m | \u001b[0m-0.3553  \u001b[0m | \u001b[0m 0.5382  \u001b[0m | \u001b[0m 0.7239  \u001b[0m | \u001b[0m 2.192   \u001b[0m | \u001b[0m 2.17    \u001b[0m | \u001b[0m 0.09782 \u001b[0m | \u001b[0m 6.692   \u001b[0m | \u001b[0m 27.55   \u001b[0m | \u001b[0m 0.008133\u001b[0m | \u001b[0m 29.64   \u001b[0m |\n",
      "Training until validation scores don't improve for 100 rounds.\n",
      "[200]\ttraining's binary_error: 0.294341\tvalid_1's binary_error: 0.36748\n",
      "Early stopping, best iteration is:\n",
      "[278]\ttraining's binary_error: 0.284691\tvalid_1's binary_error: 0.358537\n",
      "| \u001b[0m 2       \u001b[0m | \u001b[0m-0.3585  \u001b[0m | \u001b[0m 0.7499  \u001b[0m | \u001b[0m 0.6434  \u001b[0m | \u001b[0m 4.019   \u001b[0m | \u001b[0m 1.143   \u001b[0m | \u001b[0m 0.007528\u001b[0m | \u001b[0m 5.441   \u001b[0m | \u001b[0m 45.93   \u001b[0m | \u001b[0m 0.02213 \u001b[0m | \u001b[0m 33.49   \u001b[0m |\n",
      "Training until validation scores don't improve for 100 rounds.\n",
      "[200]\ttraining's binary_error: 0.234537\tvalid_1's binary_error: 0.369106\n",
      "Early stopping, best iteration is:\n",
      "[228]\ttraining's binary_error: 0.222547\tvalid_1's binary_error: 0.360163\n",
      "| \u001b[0m 3       \u001b[0m | \u001b[0m-0.3602  \u001b[0m | \u001b[0m 0.9656  \u001b[0m | \u001b[0m 0.1199  \u001b[0m | \u001b[0m 3.003   \u001b[0m | \u001b[0m 2.85    \u001b[0m | \u001b[0m 0.0238  \u001b[0m | \u001b[0m 6.742   \u001b[0m | \u001b[0m 45.91   \u001b[0m | \u001b[0m 0.01418 \u001b[0m | \u001b[0m 34.99   \u001b[0m |\n",
      "Training until validation scores don't improve for 100 rounds.\n",
      "Early stopping, best iteration is:\n",
      "[84]\ttraining's binary_error: 0.208656\tvalid_1's binary_error: 0.352033\n",
      "| \u001b[95m 4       \u001b[0m | \u001b[95m-0.352   \u001b[0m | \u001b[95m 0.8752  \u001b[0m | \u001b[95m 0.6352  \u001b[0m | \u001b[95m 2.339   \u001b[0m | \u001b[95m 0.6145  \u001b[0m | \u001b[95m 0.04959 \u001b[0m | \u001b[95m 5.862   \u001b[0m | \u001b[95m 26.48   \u001b[0m | \u001b[95m 0.03722 \u001b[0m | \u001b[95m 41.6    \u001b[0m |\n",
      "Training until validation scores don't improve for 100 rounds.\n",
      "[200]\ttraining's binary_error: 0.148414\tvalid_1's binary_error: 0.357724\n",
      "Early stopping, best iteration is:\n",
      "[123]\ttraining's binary_error: 0.203539\tvalid_1's binary_error: 0.353659\n",
      "| \u001b[0m 5       \u001b[0m | \u001b[0m-0.3537  \u001b[0m | \u001b[0m 0.8843  \u001b[0m | \u001b[0m 0.3512  \u001b[0m | \u001b[0m 2.863   \u001b[0m | \u001b[0m 0.8281  \u001b[0m | \u001b[0m 0.04583 \u001b[0m | \u001b[0m 5.765   \u001b[0m | \u001b[0m 34.58   \u001b[0m | \u001b[0m 0.03766 \u001b[0m | \u001b[0m 33.64   \u001b[0m |\n",
      "Training until validation scores don't improve for 100 rounds.\n",
      "Early stopping, best iteration is:\n",
      "[59]\ttraining's binary_error: 0.207925\tvalid_1's binary_error: 0.356911\n",
      "| \u001b[0m 6       \u001b[0m | \u001b[0m-0.3569  \u001b[0m | \u001b[0m 0.8597  \u001b[0m | \u001b[0m 0.4304  \u001b[0m | \u001b[0m 4.532   \u001b[0m | \u001b[0m 0.5414  \u001b[0m | \u001b[0m 0.07437 \u001b[0m | \u001b[0m 6.112   \u001b[0m | \u001b[0m 24.19   \u001b[0m | \u001b[0m 0.0638  \u001b[0m | \u001b[0m 34.98   \u001b[0m |\n",
      "Training until validation scores don't improve for 100 rounds.\n",
      "Early stopping, best iteration is:\n",
      "[60]\ttraining's binary_error: 0.261149\tvalid_1's binary_error: 0.34878\n",
      "| \u001b[95m 7       \u001b[0m | \u001b[95m-0.3488  \u001b[0m | \u001b[95m 0.7074  \u001b[0m | \u001b[95m 0.1011  \u001b[0m | \u001b[95m 0.4613  \u001b[0m | \u001b[95m 2.128   \u001b[0m | \u001b[95m 0.05291 \u001b[0m | \u001b[95m 7.481   \u001b[0m | \u001b[95m 48.0    \u001b[0m | \u001b[95m 0.06861 \u001b[0m | \u001b[95m 25.12   \u001b[0m |\n",
      "Training until validation scores don't improve for 100 rounds.\n",
      "Early stopping, best iteration is:\n",
      "[52]\ttraining's binary_error: 0.179997\tvalid_1's binary_error: 0.356098\n",
      "| \u001b[0m 8       \u001b[0m | \u001b[0m-0.3561  \u001b[0m | \u001b[0m 0.6544  \u001b[0m | \u001b[0m 0.5741  \u001b[0m | \u001b[0m 1.176   \u001b[0m | \u001b[0m 2.895   \u001b[0m | \u001b[0m 0.09456 \u001b[0m | \u001b[0m 8.242   \u001b[0m | \u001b[0m 26.25   \u001b[0m | \u001b[0m 0.08431 \u001b[0m | \u001b[0m 26.75   \u001b[0m |\n",
      "Training until validation scores don't improve for 100 rounds.\n",
      "[200]\ttraining's binary_error: 0.233367\tvalid_1's binary_error: 0.356911\n",
      "Early stopping, best iteration is:\n",
      "[231]\ttraining's binary_error: 0.22474\tvalid_1's binary_error: 0.35122\n",
      "| \u001b[0m 9       \u001b[0m | \u001b[0m-0.3512  \u001b[0m | \u001b[0m 0.6544  \u001b[0m | \u001b[0m 0.4704  \u001b[0m | \u001b[0m 3.709   \u001b[0m | \u001b[0m 1.457   \u001b[0m | \u001b[0m 0.01455 \u001b[0m | \u001b[0m 5.718   \u001b[0m | \u001b[0m 19.6    \u001b[0m | \u001b[0m 0.03074 \u001b[0m | \u001b[0m 27.48   \u001b[0m |\n",
      "Training until validation scores don't improve for 100 rounds.\n",
      "[200]\ttraining's binary_error: 0.142857\tvalid_1's binary_error: 0.35935\n",
      "Early stopping, best iteration is:\n",
      "[235]\ttraining's binary_error: 0.123556\tvalid_1's binary_error: 0.35122\n",
      "| \u001b[0m 10      \u001b[0m | \u001b[0m-0.3512  \u001b[0m | \u001b[0m 0.7075  \u001b[0m | \u001b[0m 0.4585  \u001b[0m | \u001b[0m 3.875   \u001b[0m | \u001b[0m 2.389   \u001b[0m | \u001b[0m 0.05272 \u001b[0m | \u001b[0m 6.303   \u001b[0m | \u001b[0m 40.02   \u001b[0m | \u001b[0m 0.08884 \u001b[0m | \u001b[0m 38.17   \u001b[0m |\n",
      "Training until validation scores don't improve for 100 rounds.\n",
      "[200]\ttraining's binary_error: 0.202076\tvalid_1's binary_error: 0.365041\n",
      "Early stopping, best iteration is:\n",
      "[219]\ttraining's binary_error: 0.193449\tvalid_1's binary_error: 0.358537\n",
      "| \u001b[0m 11      \u001b[0m | \u001b[0m-0.3585  \u001b[0m | \u001b[0m 0.9002  \u001b[0m | \u001b[0m 0.8513  \u001b[0m | \u001b[0m 0.2033  \u001b[0m | \u001b[0m 2.627   \u001b[0m | \u001b[0m 0.02838 \u001b[0m | \u001b[0m 6.379   \u001b[0m | \u001b[0m 40.85   \u001b[0m | \u001b[0m 0.07201 \u001b[0m | \u001b[0m 27.09   \u001b[0m |\n",
      "Training until validation scores don't improve for 100 rounds.\n",
      "[200]\ttraining's binary_error: 0.151484\tvalid_1's binary_error: 0.362602\n",
      "Early stopping, best iteration is:\n",
      "[236]\ttraining's binary_error: 0.127943\tvalid_1's binary_error: 0.35122\n",
      "| \u001b[0m 12      \u001b[0m | \u001b[0m-0.3512  \u001b[0m | \u001b[0m 0.8294  \u001b[0m | \u001b[0m 0.1554  \u001b[0m | \u001b[0m 1.785   \u001b[0m | \u001b[0m 2.438   \u001b[0m | \u001b[0m 0.04334 \u001b[0m | \u001b[0m 6.999   \u001b[0m | \u001b[0m 37.77   \u001b[0m | \u001b[0m 0.0823  \u001b[0m | \u001b[0m 39.97   \u001b[0m |\n",
      "Training until validation scores don't improve for 100 rounds.\n",
      "[200]\ttraining's binary_error: 0.118585\tvalid_1's binary_error: 0.362602\n",
      "[400]\ttraining's binary_error: 0.0298289\tvalid_1's binary_error: 0.363415\n",
      "Early stopping, best iteration is:\n",
      "[303]\ttraining's binary_error: 0.0600965\tvalid_1's binary_error: 0.353659\n",
      "| \u001b[0m 13      \u001b[0m | \u001b[0m-0.3537  \u001b[0m | \u001b[0m 0.5036  \u001b[0m | \u001b[0m 0.4362  \u001b[0m | \u001b[0m 2.316   \u001b[0m | \u001b[0m 0.1665  \u001b[0m | \u001b[0m 0.0546  \u001b[0m | \u001b[0m 7.039   \u001b[0m | \u001b[0m 42.28   \u001b[0m | \u001b[0m 0.09424 \u001b[0m | \u001b[0m 26.69   \u001b[0m |\n",
      "Training until validation scores don't improve for 100 rounds.\n",
      "[200]\ttraining's binary_error: 0.160842\tvalid_1's binary_error: 0.362602\n",
      "Early stopping, best iteration is:\n",
      "[103]\ttraining's binary_error: 0.228104\tvalid_1's binary_error: 0.356098\n",
      "| \u001b[0m 14      \u001b[0m | \u001b[0m-0.3561  \u001b[0m | \u001b[0m 0.6152  \u001b[0m | \u001b[0m 0.6273  \u001b[0m | \u001b[0m 0.6624  \u001b[0m | \u001b[0m 0.6722  \u001b[0m | \u001b[0m 0.05791 \u001b[0m | \u001b[0m 4.848   \u001b[0m | \u001b[0m 40.2    \u001b[0m | \u001b[0m 0.08584 \u001b[0m | \u001b[0m 24.71   \u001b[0m |\n",
      "Training until validation scores don't improve for 100 rounds.\n",
      "[200]\ttraining's binary_error: 0.235268\tvalid_1's binary_error: 0.363415\n",
      "[400]\ttraining's binary_error: 0.166691\tvalid_1's binary_error: 0.347967\n",
      "Early stopping, best iteration is:\n",
      "[371]\ttraining's binary_error: 0.175757\tvalid_1's binary_error: 0.344715\n",
      "| \u001b[95m 15      \u001b[0m | \u001b[95m-0.3447  \u001b[0m | \u001b[95m 0.7663  \u001b[0m | \u001b[95m 0.7376  \u001b[0m | \u001b[95m 4.876   \u001b[0m | \u001b[95m 0.8228  \u001b[0m | \u001b[95m 0.01774 \u001b[0m | \u001b[95m 8.384   \u001b[0m | \u001b[95m 45.91   \u001b[0m | \u001b[95m 0.02056 \u001b[0m | \u001b[95m 33.27   \u001b[0m |\n",
      "Training until validation scores don't improve for 100 rounds.\n",
      "[200]\ttraining's binary_error: 0.00906565\tvalid_1's binary_error: 0.370732\n",
      "Early stopping, best iteration is:\n",
      "[103]\ttraining's binary_error: 0.0837842\tvalid_1's binary_error: 0.357724\n",
      "| \u001b[0m 16      \u001b[0m | \u001b[0m-0.3577  \u001b[0m | \u001b[0m 0.8596  \u001b[0m | \u001b[0m 0.7763  \u001b[0m | \u001b[0m 0.8414  \u001b[0m | \u001b[0m 1.995   \u001b[0m | \u001b[0m 0.08098 \u001b[0m | \u001b[0m 6.749   \u001b[0m | \u001b[0m 12.41   \u001b[0m | \u001b[0m 0.004517\u001b[0m | \u001b[0m 29.91   \u001b[0m |\n",
      "Training until validation scores don't improve for 100 rounds.\n",
      "[200]\ttraining's binary_error: 0.272408\tvalid_1's binary_error: 0.368293\n",
      "Early stopping, best iteration is:\n",
      "[269]\ttraining's binary_error: 0.256763\tvalid_1's binary_error: 0.357724\n",
      "| \u001b[0m 17      \u001b[0m | \u001b[0m-0.3577  \u001b[0m | \u001b[0m 0.9039  \u001b[0m | \u001b[0m 0.1358  \u001b[0m | \u001b[0m 0.04108 \u001b[0m | \u001b[0m 1.085   \u001b[0m | \u001b[0m 0.007299\u001b[0m | \u001b[0m 4.747   \u001b[0m | \u001b[0m 6.044   \u001b[0m | \u001b[0m 0.05295 \u001b[0m | \u001b[0m 38.63   \u001b[0m |\n",
      "Training until validation scores don't improve for 100 rounds.\n",
      "[200]\ttraining's binary_error: 0.00131598\tvalid_1's binary_error: 0.356911\n",
      "Early stopping, best iteration is:\n",
      "[158]\ttraining's binary_error: 0.00672613\tvalid_1's binary_error: 0.346341\n",
      "| \u001b[0m 18      \u001b[0m | \u001b[0m-0.3463  \u001b[0m | \u001b[0m 0.7135  \u001b[0m | \u001b[0m 0.2077  \u001b[0m | \u001b[0m 1.657   \u001b[0m | \u001b[0m 1.771   \u001b[0m | \u001b[0m 0.09413 \u001b[0m | \u001b[0m 8.963   \u001b[0m | \u001b[0m 15.87   \u001b[0m | \u001b[0m 0.002047\u001b[0m | \u001b[0m 41.44   \u001b[0m |\n",
      "Training until validation scores don't improve for 100 rounds.\n"
     ]
    },
    {
     "name": "stdout",
     "output_type": "stream",
     "text": [
      "[200]\ttraining's binary_error: 0.0383097\tvalid_1's binary_error: 0.368293\n",
      "Early stopping, best iteration is:\n",
      "[144]\ttraining's binary_error: 0.0839304\tvalid_1's binary_error: 0.358537\n",
      "| \u001b[0m 19      \u001b[0m | \u001b[0m-0.3585  \u001b[0m | \u001b[0m 0.9633  \u001b[0m | \u001b[0m 0.4669  \u001b[0m | \u001b[0m 3.857   \u001b[0m | \u001b[0m 2.599   \u001b[0m | \u001b[0m 0.06135 \u001b[0m | \u001b[0m 8.363   \u001b[0m | \u001b[0m 6.076   \u001b[0m | \u001b[0m 0.02789 \u001b[0m | \u001b[0m 29.82   \u001b[0m |\n",
      "Training until validation scores don't improve for 100 rounds.\n",
      "[200]\ttraining's binary_error: 0.244042\tvalid_1's binary_error: 0.373171\n",
      "Early stopping, best iteration is:\n",
      "[113]\ttraining's binary_error: 0.27387\tvalid_1's binary_error: 0.371545\n",
      "| \u001b[0m 20      \u001b[0m | \u001b[0m-0.3715  \u001b[0m | \u001b[0m 0.5603  \u001b[0m | \u001b[0m 0.8286  \u001b[0m | \u001b[0m 0.1522  \u001b[0m | \u001b[0m 2.018   \u001b[0m | \u001b[0m 0.008063\u001b[0m | \u001b[0m 5.804   \u001b[0m | \u001b[0m 23.81   \u001b[0m | \u001b[0m 0.01896 \u001b[0m | \u001b[0m 34.94   \u001b[0m |\n"
     ]
    },
    {
     "name": "stderr",
     "output_type": "stream",
     "text": [
      "/Users/chienan/anaconda2/envs/python3/lib/python3.6/site-packages/lightgbm/engine.py:102: UserWarning: Found `num_iterations` in params. Will use it instead of argument\n",
      "  warnings.warn(\"Found `{}` in params. Will use it instead of argument\".format(alias))\n",
      "/Users/chienan/anaconda2/envs/python3/lib/python3.6/site-packages/lightgbm/engine.py:107: UserWarning: Found `early_stopping_round` in params. Will use it instead of argument\n",
      "  warnings.warn(\"Found `{}` in params. Will use it instead of argument\".format(alias))\n"
     ]
    },
    {
     "name": "stdout",
     "output_type": "stream",
     "text": [
      "Training until validation scores don't improve for 100 rounds.\n",
      "Early stopping, best iteration is:\n",
      "[1]\ttraining's binary_error: 0.413511\tvalid_1's binary_error: 0.423577\n",
      "| \u001b[0m 21      \u001b[0m | \u001b[0m-0.4236  \u001b[0m | \u001b[0m 0.6611  \u001b[0m | \u001b[0m 0.7402  \u001b[0m | \u001b[0m 1.237   \u001b[0m | \u001b[0m 0.09023 \u001b[0m | \u001b[0m 0.001608\u001b[0m | \u001b[0m 8.746   \u001b[0m | \u001b[0m 49.93   \u001b[0m | \u001b[0m 0.03097 \u001b[0m | \u001b[0m 44.72   \u001b[0m |\n"
     ]
    },
    {
     "name": "stderr",
     "output_type": "stream",
     "text": [
      "/Users/chienan/anaconda2/envs/python3/lib/python3.6/site-packages/lightgbm/engine.py:102: UserWarning: Found `num_iterations` in params. Will use it instead of argument\n",
      "  warnings.warn(\"Found `{}` in params. Will use it instead of argument\".format(alias))\n",
      "/Users/chienan/anaconda2/envs/python3/lib/python3.6/site-packages/lightgbm/engine.py:107: UserWarning: Found `early_stopping_round` in params. Will use it instead of argument\n",
      "  warnings.warn(\"Found `{}` in params. Will use it instead of argument\".format(alias))\n"
     ]
    },
    {
     "name": "stdout",
     "output_type": "stream",
     "text": [
      "Training until validation scores don't improve for 100 rounds.\n",
      "[200]\ttraining's binary_error: 0.244919\tvalid_1's binary_error: 0.35935\n",
      "[400]\ttraining's binary_error: 0.178827\tvalid_1's binary_error: 0.354472\n",
      "Early stopping, best iteration is:\n",
      "[355]\ttraining's binary_error: 0.191695\tvalid_1's binary_error: 0.34878\n",
      "| \u001b[0m 22      \u001b[0m | \u001b[0m-0.3488  \u001b[0m | \u001b[0m 0.7946  \u001b[0m | \u001b[0m 0.547   \u001b[0m | \u001b[0m 4.754   \u001b[0m | \u001b[0m 2.791   \u001b[0m | \u001b[0m 0.01809 \u001b[0m | \u001b[0m 7.917   \u001b[0m | \u001b[0m 48.51   \u001b[0m | \u001b[0m 0.08038 \u001b[0m | \u001b[0m 24.03   \u001b[0m |\n"
     ]
    },
    {
     "name": "stderr",
     "output_type": "stream",
     "text": [
      "/Users/chienan/anaconda2/envs/python3/lib/python3.6/site-packages/lightgbm/engine.py:102: UserWarning: Found `num_iterations` in params. Will use it instead of argument\n",
      "  warnings.warn(\"Found `{}` in params. Will use it instead of argument\".format(alias))\n",
      "/Users/chienan/anaconda2/envs/python3/lib/python3.6/site-packages/lightgbm/engine.py:107: UserWarning: Found `early_stopping_round` in params. Will use it instead of argument\n",
      "  warnings.warn(\"Found `{}` in params. Will use it instead of argument\".format(alias))\n"
     ]
    },
    {
     "name": "stdout",
     "output_type": "stream",
     "text": [
      "Training until validation scores don't improve for 100 rounds.\n",
      "[200]\ttraining's binary_error: 0.176926\tvalid_1's binary_error: 0.361789\n",
      "Early stopping, best iteration is:\n",
      "[116]\ttraining's binary_error: 0.229712\tvalid_1's binary_error: 0.352846\n",
      "| \u001b[0m 23      \u001b[0m | \u001b[0m-0.3528  \u001b[0m | \u001b[0m 0.5474  \u001b[0m | \u001b[0m 0.5936  \u001b[0m | \u001b[0m 1.075   \u001b[0m | \u001b[0m 0.0668  \u001b[0m | \u001b[0m 0.05077 \u001b[0m | \u001b[0m 4.122   \u001b[0m | \u001b[0m 5.014   \u001b[0m | \u001b[0m 0.07865 \u001b[0m | \u001b[0m 24.01   \u001b[0m |\n"
     ]
    },
    {
     "name": "stderr",
     "output_type": "stream",
     "text": [
      "/Users/chienan/anaconda2/envs/python3/lib/python3.6/site-packages/lightgbm/engine.py:102: UserWarning: Found `num_iterations` in params. Will use it instead of argument\n",
      "  warnings.warn(\"Found `{}` in params. Will use it instead of argument\".format(alias))\n",
      "/Users/chienan/anaconda2/envs/python3/lib/python3.6/site-packages/lightgbm/engine.py:107: UserWarning: Found `early_stopping_round` in params. Will use it instead of argument\n",
      "  warnings.warn(\"Found `{}` in params. Will use it instead of argument\".format(alias))\n"
     ]
    },
    {
     "name": "stdout",
     "output_type": "stream",
     "text": [
      "Training until validation scores don't improve for 100 rounds.\n",
      "Early stopping, best iteration is:\n",
      "[28]\ttraining's binary_error: 0.211873\tvalid_1's binary_error: 0.356911\n",
      "| \u001b[0m 24      \u001b[0m | \u001b[0m-0.3569  \u001b[0m | \u001b[0m 0.6749  \u001b[0m | \u001b[0m 0.8248  \u001b[0m | \u001b[0m 4.229   \u001b[0m | \u001b[0m 2.882   \u001b[0m | \u001b[0m 0.09061 \u001b[0m | \u001b[0m 5.902   \u001b[0m | \u001b[0m 5.26    \u001b[0m | \u001b[0m 0.02695 \u001b[0m | \u001b[0m 44.8    \u001b[0m |\n"
     ]
    },
    {
     "name": "stderr",
     "output_type": "stream",
     "text": [
      "/Users/chienan/anaconda2/envs/python3/lib/python3.6/site-packages/lightgbm/engine.py:102: UserWarning: Found `num_iterations` in params. Will use it instead of argument\n",
      "  warnings.warn(\"Found `{}` in params. Will use it instead of argument\".format(alias))\n",
      "/Users/chienan/anaconda2/envs/python3/lib/python3.6/site-packages/lightgbm/engine.py:107: UserWarning: Found `early_stopping_round` in params. Will use it instead of argument\n",
      "  warnings.warn(\"Found `{}` in params. Will use it instead of argument\".format(alias))\n"
     ]
    },
    {
     "name": "stdout",
     "output_type": "stream",
     "text": [
      "Training until validation scores don't improve for 100 rounds.\n",
      "[200]\ttraining's binary_error: 0.0168153\tvalid_1's binary_error: 0.360163\n",
      "Early stopping, best iteration is:\n",
      "[194]\ttraining's binary_error: 0.0188624\tvalid_1's binary_error: 0.352846\n",
      "| \u001b[0m 25      \u001b[0m | \u001b[0m-0.3528  \u001b[0m | \u001b[0m 0.7537  \u001b[0m | \u001b[0m 0.3165  \u001b[0m | \u001b[0m 1.795   \u001b[0m | \u001b[0m 0.2406  \u001b[0m | \u001b[0m 0.04331 \u001b[0m | \u001b[0m 8.823   \u001b[0m | \u001b[0m 5.055   \u001b[0m | \u001b[0m 0.05056 \u001b[0m | \u001b[0m 44.95   \u001b[0m |\n"
     ]
    },
    {
     "name": "stderr",
     "output_type": "stream",
     "text": [
      "/Users/chienan/anaconda2/envs/python3/lib/python3.6/site-packages/lightgbm/engine.py:102: UserWarning: Found `num_iterations` in params. Will use it instead of argument\n",
      "  warnings.warn(\"Found `{}` in params. Will use it instead of argument\".format(alias))\n",
      "/Users/chienan/anaconda2/envs/python3/lib/python3.6/site-packages/lightgbm/engine.py:107: UserWarning: Found `early_stopping_round` in params. Will use it instead of argument\n",
      "  warnings.warn(\"Found `{}` in params. Will use it instead of argument\".format(alias))\n"
     ]
    },
    {
     "name": "stdout",
     "output_type": "stream",
     "text": [
      "Training until validation scores don't improve for 100 rounds.\n",
      "[200]\ttraining's binary_error: 0.0595116\tvalid_1's binary_error: 0.357724\n",
      "Early stopping, best iteration is:\n",
      "[133]\ttraining's binary_error: 0.115953\tvalid_1's binary_error: 0.34878\n",
      "| \u001b[0m 26      \u001b[0m | \u001b[0m-0.3488  \u001b[0m | \u001b[0m 0.6273  \u001b[0m | \u001b[0m 0.2867  \u001b[0m | \u001b[0m 4.737   \u001b[0m | \u001b[0m 2.339   \u001b[0m | \u001b[0m 0.05549 \u001b[0m | \u001b[0m 8.864   \u001b[0m | \u001b[0m 26.71   \u001b[0m | \u001b[0m 0.008048\u001b[0m | \u001b[0m 44.91   \u001b[0m |\n"
     ]
    },
    {
     "name": "stderr",
     "output_type": "stream",
     "text": [
      "/Users/chienan/anaconda2/envs/python3/lib/python3.6/site-packages/lightgbm/engine.py:102: UserWarning: Found `num_iterations` in params. Will use it instead of argument\n",
      "  warnings.warn(\"Found `{}` in params. Will use it instead of argument\".format(alias))\n",
      "/Users/chienan/anaconda2/envs/python3/lib/python3.6/site-packages/lightgbm/engine.py:107: UserWarning: Found `early_stopping_round` in params. Will use it instead of argument\n",
      "  warnings.warn(\"Found `{}` in params. Will use it instead of argument\".format(alias))\n"
     ]
    },
    {
     "name": "stdout",
     "output_type": "stream",
     "text": [
      "Training until validation scores don't improve for 100 rounds.\n",
      "[200]\ttraining's binary_error: 0.11683\tvalid_1's binary_error: 0.352033\n",
      "Early stopping, best iteration is:\n",
      "[144]\ttraining's binary_error: 0.164498\tvalid_1's binary_error: 0.342276\n",
      "| \u001b[95m 27      \u001b[0m | \u001b[95m-0.3423  \u001b[0m | \u001b[95m 0.6102  \u001b[0m | \u001b[95m 0.3081  \u001b[0m | \u001b[95m 4.702   \u001b[0m | \u001b[95m 0.2046  \u001b[0m | \u001b[95m 0.09412 \u001b[0m | \u001b[95m 4.05    \u001b[0m | \u001b[95m 12.13   \u001b[0m | \u001b[95m 0.05686 \u001b[0m | \u001b[95m 44.38   \u001b[0m |\n"
     ]
    },
    {
     "name": "stderr",
     "output_type": "stream",
     "text": [
      "/Users/chienan/anaconda2/envs/python3/lib/python3.6/site-packages/lightgbm/engine.py:102: UserWarning: Found `num_iterations` in params. Will use it instead of argument\n",
      "  warnings.warn(\"Found `{}` in params. Will use it instead of argument\".format(alias))\n",
      "/Users/chienan/anaconda2/envs/python3/lib/python3.6/site-packages/lightgbm/engine.py:107: UserWarning: Found `early_stopping_round` in params. Will use it instead of argument\n",
      "  warnings.warn(\"Found `{}` in params. Will use it instead of argument\".format(alias))\n"
     ]
    },
    {
     "name": "stdout",
     "output_type": "stream",
     "text": [
      "Training until validation scores don't improve for 100 rounds.\n",
      "[200]\ttraining's binary_error: 0.243018\tvalid_1's binary_error: 0.352033\n",
      "Early stopping, best iteration is:\n",
      "[200]\ttraining's binary_error: 0.243018\tvalid_1's binary_error: 0.352033\n",
      "| \u001b[0m 28      \u001b[0m | \u001b[0m-0.352   \u001b[0m | \u001b[0m 0.6735  \u001b[0m | \u001b[0m 0.8786  \u001b[0m | \u001b[0m 4.514   \u001b[0m | \u001b[0m 0.2003  \u001b[0m | \u001b[0m 0.01252 \u001b[0m | \u001b[0m 8.648   \u001b[0m | \u001b[0m 16.73   \u001b[0m | \u001b[0m 0.03819 \u001b[0m | \u001b[0m 24.16   \u001b[0m |\n"
     ]
    },
    {
     "name": "stderr",
     "output_type": "stream",
     "text": [
      "/Users/chienan/anaconda2/envs/python3/lib/python3.6/site-packages/lightgbm/engine.py:102: UserWarning: Found `num_iterations` in params. Will use it instead of argument\n",
      "  warnings.warn(\"Found `{}` in params. Will use it instead of argument\".format(alias))\n",
      "/Users/chienan/anaconda2/envs/python3/lib/python3.6/site-packages/lightgbm/engine.py:107: UserWarning: Found `early_stopping_round` in params. Will use it instead of argument\n",
      "  warnings.warn(\"Found `{}` in params. Will use it instead of argument\".format(alias))\n"
     ]
    },
    {
     "name": "stdout",
     "output_type": "stream",
     "text": [
      "Training until validation scores don't improve for 100 rounds.\n",
      "[200]\ttraining's binary_error: 0.12224\tvalid_1's binary_error: 0.361789\n",
      "Early stopping, best iteration is:\n",
      "[108]\ttraining's binary_error: 0.200029\tvalid_1's binary_error: 0.354472\n",
      "| \u001b[0m 29      \u001b[0m | \u001b[0m-0.3545  \u001b[0m | \u001b[0m 0.7754  \u001b[0m | \u001b[0m 0.2159  \u001b[0m | \u001b[0m 4.992   \u001b[0m | \u001b[0m 2.914   \u001b[0m | \u001b[0m 0.09836 \u001b[0m | \u001b[0m 4.036   \u001b[0m | \u001b[0m 5.659   \u001b[0m | \u001b[0m 0.02391 \u001b[0m | \u001b[0m 24.61   \u001b[0m |\n"
     ]
    },
    {
     "name": "stderr",
     "output_type": "stream",
     "text": [
      "/Users/chienan/anaconda2/envs/python3/lib/python3.6/site-packages/lightgbm/engine.py:102: UserWarning: Found `num_iterations` in params. Will use it instead of argument\n",
      "  warnings.warn(\"Found `{}` in params. Will use it instead of argument\".format(alias))\n",
      "/Users/chienan/anaconda2/envs/python3/lib/python3.6/site-packages/lightgbm/engine.py:107: UserWarning: Found `early_stopping_round` in params. Will use it instead of argument\n",
      "  warnings.warn(\"Found `{}` in params. Will use it instead of argument\".format(alias))\n"
     ]
    },
    {
     "name": "stdout",
     "output_type": "stream",
     "text": [
      "Training until validation scores don't improve for 100 rounds.\n",
      "[200]\ttraining's binary_error: 0.30911\tvalid_1's binary_error: 0.365854\n",
      "[400]\ttraining's binary_error: 0.283813\tvalid_1's binary_error: 0.35935\n",
      "Early stopping, best iteration is:\n",
      "[375]\ttraining's binary_error: 0.287615\tvalid_1's binary_error: 0.356911\n",
      "| \u001b[0m 30      \u001b[0m | \u001b[0m-0.3569  \u001b[0m | \u001b[0m 0.9093  \u001b[0m | \u001b[0m 0.1078  \u001b[0m | \u001b[0m 0.01532 \u001b[0m | \u001b[0m 2.932   \u001b[0m | \u001b[0m 0.007647\u001b[0m | \u001b[0m 4.125   \u001b[0m | \u001b[0m 16.86   \u001b[0m | \u001b[0m 0.05178 \u001b[0m | \u001b[0m 44.88   \u001b[0m |\n"
     ]
    },
    {
     "name": "stderr",
     "output_type": "stream",
     "text": [
      "/Users/chienan/anaconda2/envs/python3/lib/python3.6/site-packages/lightgbm/engine.py:102: UserWarning: Found `num_iterations` in params. Will use it instead of argument\n",
      "  warnings.warn(\"Found `{}` in params. Will use it instead of argument\".format(alias))\n",
      "/Users/chienan/anaconda2/envs/python3/lib/python3.6/site-packages/lightgbm/engine.py:107: UserWarning: Found `early_stopping_round` in params. Will use it instead of argument\n",
      "  warnings.warn(\"Found `{}` in params. Will use it instead of argument\".format(alias))\n"
     ]
    },
    {
     "name": "stdout",
     "output_type": "stream",
     "text": [
      "Training until validation scores don't improve for 100 rounds.\n",
      "Early stopping, best iteration is:\n",
      "[58]\ttraining's binary_error: 0.177073\tvalid_1's binary_error: 0.343902\n",
      "| \u001b[0m 31      \u001b[0m | \u001b[0m-0.3439  \u001b[0m | \u001b[0m 0.9953  \u001b[0m | \u001b[0m 0.6244  \u001b[0m | \u001b[0m 4.929   \u001b[0m | \u001b[0m 0.1663  \u001b[0m | \u001b[0m 0.09387 \u001b[0m | \u001b[0m 8.754   \u001b[0m | \u001b[0m 36.91   \u001b[0m | \u001b[0m 0.0918  \u001b[0m | \u001b[0m 44.87   \u001b[0m |\n"
     ]
    },
    {
     "name": "stderr",
     "output_type": "stream",
     "text": [
      "/Users/chienan/anaconda2/envs/python3/lib/python3.6/site-packages/lightgbm/engine.py:102: UserWarning: Found `num_iterations` in params. Will use it instead of argument\n",
      "  warnings.warn(\"Found `{}` in params. Will use it instead of argument\".format(alias))\n",
      "/Users/chienan/anaconda2/envs/python3/lib/python3.6/site-packages/lightgbm/engine.py:107: UserWarning: Found `early_stopping_round` in params. Will use it instead of argument\n",
      "  warnings.warn(\"Found `{}` in params. Will use it instead of argument\".format(alias))\n"
     ]
    },
    {
     "name": "stdout",
     "output_type": "stream",
     "text": [
      "Training until validation scores don't improve for 100 rounds.\n",
      "Early stopping, best iteration is:\n",
      "[38]\ttraining's binary_error: 0.228104\tvalid_1's binary_error: 0.354472\n",
      "| \u001b[0m 32      \u001b[0m | \u001b[0m-0.3545  \u001b[0m | \u001b[0m 0.9454  \u001b[0m | \u001b[0m 0.8875  \u001b[0m | \u001b[0m 2.343   \u001b[0m | \u001b[0m 0.08259 \u001b[0m | \u001b[0m 0.09845 \u001b[0m | \u001b[0m 8.602   \u001b[0m | \u001b[0m 49.52   \u001b[0m | \u001b[0m 0.06573 \u001b[0m | \u001b[0m 24.62   \u001b[0m |\n"
     ]
    },
    {
     "name": "stderr",
     "output_type": "stream",
     "text": [
      "/Users/chienan/anaconda2/envs/python3/lib/python3.6/site-packages/lightgbm/engine.py:102: UserWarning: Found `num_iterations` in params. Will use it instead of argument\n",
      "  warnings.warn(\"Found `{}` in params. Will use it instead of argument\".format(alias))\n",
      "/Users/chienan/anaconda2/envs/python3/lib/python3.6/site-packages/lightgbm/engine.py:107: UserWarning: Found `early_stopping_round` in params. Will use it instead of argument\n",
      "  warnings.warn(\"Found `{}` in params. Will use it instead of argument\".format(alias))\n"
     ]
    },
    {
     "name": "stdout",
     "output_type": "stream",
     "text": [
      "Training until validation scores don't improve for 100 rounds.\n",
      "[200]\ttraining's binary_error: 0.219769\tvalid_1's binary_error: 0.352033\n",
      "Early stopping, best iteration is:\n",
      "[211]\ttraining's binary_error: 0.212166\tvalid_1's binary_error: 0.343902\n",
      "| \u001b[0m 33      \u001b[0m | \u001b[0m-0.3439  \u001b[0m | \u001b[0m 0.7355  \u001b[0m | \u001b[0m 0.4822  \u001b[0m | \u001b[0m 4.705   \u001b[0m | \u001b[0m 2.013   \u001b[0m | \u001b[0m 0.05075 \u001b[0m | \u001b[0m 4.086   \u001b[0m | \u001b[0m 29.06   \u001b[0m | \u001b[0m 0.05315 \u001b[0m | \u001b[0m 24.05   \u001b[0m |\n"
     ]
    },
    {
     "name": "stderr",
     "output_type": "stream",
     "text": [
      "/Users/chienan/anaconda2/envs/python3/lib/python3.6/site-packages/lightgbm/engine.py:102: UserWarning: Found `num_iterations` in params. Will use it instead of argument\n",
      "  warnings.warn(\"Found `{}` in params. Will use it instead of argument\".format(alias))\n",
      "/Users/chienan/anaconda2/envs/python3/lib/python3.6/site-packages/lightgbm/engine.py:107: UserWarning: Found `early_stopping_round` in params. Will use it instead of argument\n",
      "  warnings.warn(\"Found `{}` in params. Will use it instead of argument\".format(alias))\n"
     ]
    },
    {
     "name": "stdout",
     "output_type": "stream",
     "text": [
      "Training until validation scores don't improve for 100 rounds.\n",
      "[200]\ttraining's binary_error: 0.0402106\tvalid_1's binary_error: 0.352846\n",
      "Early stopping, best iteration is:\n",
      "[185]\ttraining's binary_error: 0.0495687\tvalid_1's binary_error: 0.343089\n",
      "| \u001b[0m 34      \u001b[0m | \u001b[0m-0.3431  \u001b[0m | \u001b[0m 0.9485  \u001b[0m | \u001b[0m 0.747   \u001b[0m | \u001b[0m 4.143   \u001b[0m | \u001b[0m 0.358   \u001b[0m | \u001b[0m 0.04149 \u001b[0m | \u001b[0m 8.862   \u001b[0m | \u001b[0m 15.7    \u001b[0m | \u001b[0m 0.05929 \u001b[0m | \u001b[0m 44.78   \u001b[0m |\n"
     ]
    },
    {
     "name": "stderr",
     "output_type": "stream",
     "text": [
      "/Users/chienan/anaconda2/envs/python3/lib/python3.6/site-packages/lightgbm/engine.py:102: UserWarning: Found `num_iterations` in params. Will use it instead of argument\n",
      "  warnings.warn(\"Found `{}` in params. Will use it instead of argument\".format(alias))\n",
      "/Users/chienan/anaconda2/envs/python3/lib/python3.6/site-packages/lightgbm/engine.py:107: UserWarning: Found `early_stopping_round` in params. Will use it instead of argument\n",
      "  warnings.warn(\"Found `{}` in params. Will use it instead of argument\".format(alias))\n"
     ]
    },
    {
     "name": "stdout",
     "output_type": "stream",
     "text": [
      "Training until validation scores don't improve for 100 rounds.\n",
      "Early stopping, best iteration is:\n",
      "[32]\ttraining's binary_error: 0.2553\tvalid_1's binary_error: 0.358537\n",
      "| \u001b[0m 35      \u001b[0m | \u001b[0m-0.3585  \u001b[0m | \u001b[0m 0.5912  \u001b[0m | \u001b[0m 0.1846  \u001b[0m | \u001b[0m 4.273   \u001b[0m | \u001b[0m 0.2698  \u001b[0m | \u001b[0m 0.08481 \u001b[0m | \u001b[0m 8.764   \u001b[0m | \u001b[0m 37.5    \u001b[0m | \u001b[0m 0.08426 \u001b[0m | \u001b[0m 37.89   \u001b[0m |\n"
     ]
    },
    {
     "name": "stderr",
     "output_type": "stream",
     "text": [
      "/Users/chienan/anaconda2/envs/python3/lib/python3.6/site-packages/lightgbm/engine.py:102: UserWarning: Found `num_iterations` in params. Will use it instead of argument\n",
      "  warnings.warn(\"Found `{}` in params. Will use it instead of argument\".format(alias))\n",
      "/Users/chienan/anaconda2/envs/python3/lib/python3.6/site-packages/lightgbm/engine.py:107: UserWarning: Found `early_stopping_round` in params. Will use it instead of argument\n",
      "  warnings.warn(\"Found `{}` in params. Will use it instead of argument\".format(alias))\n"
     ]
    },
    {
     "name": "stdout",
     "output_type": "stream",
     "text": [
      "Training until validation scores don't improve for 100 rounds.\n",
      "Early stopping, best iteration is:\n",
      "[28]\ttraining's binary_error: 0.286007\tvalid_1's binary_error: 0.353659\n",
      "| \u001b[0m 36      \u001b[0m | \u001b[0m-0.3537  \u001b[0m | \u001b[0m 1.0     \u001b[0m | \u001b[0m 0.9     \u001b[0m | \u001b[0m 5.0     \u001b[0m | \u001b[0m 3.0     \u001b[0m | \u001b[0m 0.1     \u001b[0m | \u001b[0m 4.0     \u001b[0m | \u001b[0m 30.28   \u001b[0m | \u001b[0m 0.001   \u001b[0m | \u001b[0m 45.0    \u001b[0m |\n"
     ]
    },
    {
     "name": "stderr",
     "output_type": "stream",
     "text": [
      "/Users/chienan/anaconda2/envs/python3/lib/python3.6/site-packages/lightgbm/engine.py:102: UserWarning: Found `num_iterations` in params. Will use it instead of argument\n",
      "  warnings.warn(\"Found `{}` in params. Will use it instead of argument\".format(alias))\n",
      "/Users/chienan/anaconda2/envs/python3/lib/python3.6/site-packages/lightgbm/engine.py:107: UserWarning: Found `early_stopping_round` in params. Will use it instead of argument\n",
      "  warnings.warn(\"Found `{}` in params. Will use it instead of argument\".format(alias))\n"
     ]
    },
    {
     "name": "stdout",
     "output_type": "stream",
     "text": [
      "Training until validation scores don't improve for 100 rounds.\n",
      "Early stopping, best iteration is:\n",
      "[65]\ttraining's binary_error: 0.257786\tvalid_1's binary_error: 0.356098\n",
      "| \u001b[0m 37      \u001b[0m | \u001b[0m-0.3561  \u001b[0m | \u001b[0m 0.9812  \u001b[0m | \u001b[0m 0.4905  \u001b[0m | \u001b[0m 4.723   \u001b[0m | \u001b[0m 0.04386 \u001b[0m | \u001b[0m 0.07732 \u001b[0m | \u001b[0m 4.39    \u001b[0m | \u001b[0m 5.625   \u001b[0m | \u001b[0m 0.02764 \u001b[0m | \u001b[0m 32.03   \u001b[0m |\n"
     ]
    },
    {
     "name": "stderr",
     "output_type": "stream",
     "text": [
      "/Users/chienan/anaconda2/envs/python3/lib/python3.6/site-packages/lightgbm/engine.py:102: UserWarning: Found `num_iterations` in params. Will use it instead of argument\n",
      "  warnings.warn(\"Found `{}` in params. Will use it instead of argument\".format(alias))\n",
      "/Users/chienan/anaconda2/envs/python3/lib/python3.6/site-packages/lightgbm/engine.py:107: UserWarning: Found `early_stopping_round` in params. Will use it instead of argument\n",
      "  warnings.warn(\"Found `{}` in params. Will use it instead of argument\".format(alias))\n"
     ]
    },
    {
     "name": "stdout",
     "output_type": "stream",
     "text": [
      "Training until validation scores don't improve for 100 rounds.\n",
      "Early stopping, best iteration is:\n",
      "[1]\ttraining's binary_error: 0.413511\tvalid_1's binary_error: 0.423577\n",
      "| \u001b[0m 38      \u001b[0m | \u001b[0m-0.4236  \u001b[0m | \u001b[0m 0.6092  \u001b[0m | \u001b[0m 0.1     \u001b[0m | \u001b[0m 1.925   \u001b[0m | \u001b[0m 4.482e-0\u001b[0m | \u001b[0m 0.001   \u001b[0m | \u001b[0m 4.0     \u001b[0m | \u001b[0m 15.79   \u001b[0m | \u001b[0m 0.05109 \u001b[0m | \u001b[0m 24.0    \u001b[0m |\n"
     ]
    },
    {
     "name": "stderr",
     "output_type": "stream",
     "text": [
      "/Users/chienan/anaconda2/envs/python3/lib/python3.6/site-packages/lightgbm/engine.py:102: UserWarning: Found `num_iterations` in params. Will use it instead of argument\n",
      "  warnings.warn(\"Found `{}` in params. Will use it instead of argument\".format(alias))\n",
      "/Users/chienan/anaconda2/envs/python3/lib/python3.6/site-packages/lightgbm/engine.py:107: UserWarning: Found `early_stopping_round` in params. Will use it instead of argument\n",
      "  warnings.warn(\"Found `{}` in params. Will use it instead of argument\".format(alias))\n"
     ]
    },
    {
     "name": "stdout",
     "output_type": "stream",
     "text": [
      "Training until validation scores don't improve for 100 rounds.\n",
      "Early stopping, best iteration is:\n",
      "[42]\ttraining's binary_error: 0.206902\tvalid_1's binary_error: 0.353659\n",
      "| \u001b[0m 39      \u001b[0m | \u001b[0m-0.3537  \u001b[0m | \u001b[0m 0.7962  \u001b[0m | \u001b[0m 0.8997  \u001b[0m | \u001b[0m 4.854   \u001b[0m | \u001b[0m 2.956   \u001b[0m | \u001b[0m 0.0939  \u001b[0m | \u001b[0m 8.989   \u001b[0m | \u001b[0m 21.77   \u001b[0m | \u001b[0m 0.06215 \u001b[0m | \u001b[0m 26.39   \u001b[0m |\n"
     ]
    },
    {
     "name": "stderr",
     "output_type": "stream",
     "text": [
      "/Users/chienan/anaconda2/envs/python3/lib/python3.6/site-packages/lightgbm/engine.py:102: UserWarning: Found `num_iterations` in params. Will use it instead of argument\n",
      "  warnings.warn(\"Found `{}` in params. Will use it instead of argument\".format(alias))\n",
      "/Users/chienan/anaconda2/envs/python3/lib/python3.6/site-packages/lightgbm/engine.py:107: UserWarning: Found `early_stopping_round` in params. Will use it instead of argument\n",
      "  warnings.warn(\"Found `{}` in params. Will use it instead of argument\".format(alias))\n"
     ]
    },
    {
     "name": "stdout",
     "output_type": "stream",
     "text": [
      "Training until validation scores don't improve for 100 rounds.\n",
      "Early stopping, best iteration is:\n",
      "[83]\ttraining's binary_error: 0.153239\tvalid_1's binary_error: 0.346341\n",
      "| \u001b[0m 40      \u001b[0m | \u001b[0m-0.3463  \u001b[0m | \u001b[0m 0.9193  \u001b[0m | \u001b[0m 0.52    \u001b[0m | \u001b[0m 3.801   \u001b[0m | \u001b[0m 0.2637  \u001b[0m | \u001b[0m 0.07435 \u001b[0m | \u001b[0m 8.514   \u001b[0m | \u001b[0m 5.223   \u001b[0m | \u001b[0m 0.01045 \u001b[0m | \u001b[0m 24.25   \u001b[0m |\n"
     ]
    },
    {
     "name": "stderr",
     "output_type": "stream",
     "text": [
      "/Users/chienan/anaconda2/envs/python3/lib/python3.6/site-packages/lightgbm/engine.py:102: UserWarning: Found `num_iterations` in params. Will use it instead of argument\n",
      "  warnings.warn(\"Found `{}` in params. Will use it instead of argument\".format(alias))\n",
      "/Users/chienan/anaconda2/envs/python3/lib/python3.6/site-packages/lightgbm/engine.py:107: UserWarning: Found `early_stopping_round` in params. Will use it instead of argument\n",
      "  warnings.warn(\"Found `{}` in params. Will use it instead of argument\".format(alias))\n"
     ]
    },
    {
     "name": "stdout",
     "output_type": "stream",
     "text": [
      "Training until validation scores don't improve for 100 rounds.\n",
      "Early stopping, best iteration is:\n",
      "[1]\ttraining's binary_error: 0.413511\tvalid_1's binary_error: 0.423577\n",
      "| \u001b[0m 41      \u001b[0m | \u001b[0m-0.4236  \u001b[0m | \u001b[0m 0.5     \u001b[0m | \u001b[0m 0.7564  \u001b[0m | \u001b[0m 0.003142\u001b[0m | \u001b[0m 2.754e-0\u001b[0m | \u001b[0m 0.001   \u001b[0m | \u001b[0m 8.998   \u001b[0m | \u001b[0m 22.06   \u001b[0m | \u001b[0m 0.09167 \u001b[0m | \u001b[0m 45.0    \u001b[0m |\n"
     ]
    },
    {
     "name": "stderr",
     "output_type": "stream",
     "text": [
      "/Users/chienan/anaconda2/envs/python3/lib/python3.6/site-packages/lightgbm/engine.py:102: UserWarning: Found `num_iterations` in params. Will use it instead of argument\n",
      "  warnings.warn(\"Found `{}` in params. Will use it instead of argument\".format(alias))\n",
      "/Users/chienan/anaconda2/envs/python3/lib/python3.6/site-packages/lightgbm/engine.py:107: UserWarning: Found `early_stopping_round` in params. Will use it instead of argument\n",
      "  warnings.warn(\"Found `{}` in params. Will use it instead of argument\".format(alias))\n"
     ]
    },
    {
     "name": "stdout",
     "output_type": "stream",
     "text": [
      "Training until validation scores don't improve for 100 rounds.\n",
      "Early stopping, best iteration is:\n",
      "[1]\ttraining's binary_error: 0.413511\tvalid_1's binary_error: 0.423577\n",
      "| \u001b[0m 42      \u001b[0m | \u001b[0m-0.4236  \u001b[0m | \u001b[0m 1.0     \u001b[0m | \u001b[0m 0.8159  \u001b[0m | \u001b[0m 5.0     \u001b[0m | \u001b[0m 3.0     \u001b[0m | \u001b[0m 0.001   \u001b[0m | \u001b[0m 4.163   \u001b[0m | \u001b[0m 13.38   \u001b[0m | \u001b[0m 0.1     \u001b[0m | \u001b[0m 36.61   \u001b[0m |\n"
     ]
    },
    {
     "name": "stderr",
     "output_type": "stream",
     "text": [
      "/Users/chienan/anaconda2/envs/python3/lib/python3.6/site-packages/lightgbm/engine.py:102: UserWarning: Found `num_iterations` in params. Will use it instead of argument\n",
      "  warnings.warn(\"Found `{}` in params. Will use it instead of argument\".format(alias))\n",
      "/Users/chienan/anaconda2/envs/python3/lib/python3.6/site-packages/lightgbm/engine.py:107: UserWarning: Found `early_stopping_round` in params. Will use it instead of argument\n",
      "  warnings.warn(\"Found `{}` in params. Will use it instead of argument\".format(alias))\n"
     ]
    },
    {
     "name": "stdout",
     "output_type": "stream",
     "text": [
      "Training until validation scores don't improve for 100 rounds.\n",
      "Early stopping, best iteration is:\n",
      "[72]\ttraining's binary_error: 0.271823\tvalid_1's binary_error: 0.356098\n",
      "| \u001b[0m 43      \u001b[0m | \u001b[0m-0.3561  \u001b[0m | \u001b[0m 0.7873  \u001b[0m | \u001b[0m 0.1812  \u001b[0m | \u001b[0m 4.839   \u001b[0m | \u001b[0m 0.2281  \u001b[0m | \u001b[0m 0.07404 \u001b[0m | \u001b[0m 4.071   \u001b[0m | \u001b[0m 44.07   \u001b[0m | \u001b[0m 0.06013 \u001b[0m | \u001b[0m 44.59   \u001b[0m |\n"
     ]
    },
    {
     "name": "stderr",
     "output_type": "stream",
     "text": [
      "/Users/chienan/anaconda2/envs/python3/lib/python3.6/site-packages/lightgbm/engine.py:102: UserWarning: Found `num_iterations` in params. Will use it instead of argument\n",
      "  warnings.warn(\"Found `{}` in params. Will use it instead of argument\".format(alias))\n",
      "/Users/chienan/anaconda2/envs/python3/lib/python3.6/site-packages/lightgbm/engine.py:107: UserWarning: Found `early_stopping_round` in params. Will use it instead of argument\n",
      "  warnings.warn(\"Found `{}` in params. Will use it instead of argument\".format(alias))\n"
     ]
    },
    {
     "name": "stdout",
     "output_type": "stream",
     "text": [
      "Training until validation scores don't improve for 100 rounds.\n",
      "[200]\ttraining's binary_error: 0.199298\tvalid_1's binary_error: 0.366667\n",
      "[400]\ttraining's binary_error: 0.105425\tvalid_1's binary_error: 0.352033\n",
      "Early stopping, best iteration is:\n",
      "[388]\ttraining's binary_error: 0.11025\tvalid_1's binary_error: 0.346341\n",
      "| \u001b[0m 44      \u001b[0m | \u001b[0m-0.3463  \u001b[0m | \u001b[0m 0.8592  \u001b[0m | \u001b[0m 0.1778  \u001b[0m | \u001b[0m 4.509   \u001b[0m | \u001b[0m 0.005478\u001b[0m | \u001b[0m 0.02813 \u001b[0m | \u001b[0m 8.919   \u001b[0m | \u001b[0m 35.64   \u001b[0m | \u001b[0m 0.02433 \u001b[0m | \u001b[0m 24.09   \u001b[0m |\n"
     ]
    },
    {
     "name": "stderr",
     "output_type": "stream",
     "text": [
      "/Users/chienan/anaconda2/envs/python3/lib/python3.6/site-packages/lightgbm/engine.py:102: UserWarning: Found `num_iterations` in params. Will use it instead of argument\n",
      "  warnings.warn(\"Found `{}` in params. Will use it instead of argument\".format(alias))\n",
      "/Users/chienan/anaconda2/envs/python3/lib/python3.6/site-packages/lightgbm/engine.py:107: UserWarning: Found `early_stopping_round` in params. Will use it instead of argument\n",
      "  warnings.warn(\"Found `{}` in params. Will use it instead of argument\".format(alias))\n"
     ]
    },
    {
     "name": "stdout",
     "output_type": "stream",
     "text": [
      "Training until validation scores don't improve for 100 rounds.\n",
      "Early stopping, best iteration is:\n",
      "[23]\ttraining's binary_error: 0.282351\tvalid_1's binary_error: 0.355285\n",
      "| \u001b[0m 45      \u001b[0m | \u001b[0m-0.3553  \u001b[0m | \u001b[0m 0.5536  \u001b[0m | \u001b[0m 0.1002  \u001b[0m | \u001b[0m 5.0     \u001b[0m | \u001b[0m 3.0     \u001b[0m | \u001b[0m 0.1     \u001b[0m | \u001b[0m 8.999   \u001b[0m | \u001b[0m 42.91   \u001b[0m | \u001b[0m 0.1     \u001b[0m | \u001b[0m 45.0    \u001b[0m |\n"
     ]
    },
    {
     "name": "stderr",
     "output_type": "stream",
     "text": [
      "/Users/chienan/anaconda2/envs/python3/lib/python3.6/site-packages/lightgbm/engine.py:102: UserWarning: Found `num_iterations` in params. Will use it instead of argument\n",
      "  warnings.warn(\"Found `{}` in params. Will use it instead of argument\".format(alias))\n",
      "/Users/chienan/anaconda2/envs/python3/lib/python3.6/site-packages/lightgbm/engine.py:107: UserWarning: Found `early_stopping_round` in params. Will use it instead of argument\n",
      "  warnings.warn(\"Found `{}` in params. Will use it instead of argument\".format(alias))\n"
     ]
    },
    {
     "name": "stdout",
     "output_type": "stream",
     "text": [
      "Training until validation scores don't improve for 100 rounds.\n",
      "Early stopping, best iteration is:\n",
      "[1]\ttraining's binary_error: 0.413511\tvalid_1's binary_error: 0.423577\n",
      "| \u001b[0m 46      \u001b[0m | \u001b[0m-0.4236  \u001b[0m | \u001b[0m 0.5     \u001b[0m | \u001b[0m 0.9     \u001b[0m | \u001b[0m 1.304e-0\u001b[0m | \u001b[0m 3.0     \u001b[0m | \u001b[0m 0.001   \u001b[0m | \u001b[0m 4.0     \u001b[0m | \u001b[0m 50.0    \u001b[0m | \u001b[0m 0.001   \u001b[0m | \u001b[0m 24.0    \u001b[0m |\n"
     ]
    },
    {
     "name": "stderr",
     "output_type": "stream",
     "text": [
      "/Users/chienan/anaconda2/envs/python3/lib/python3.6/site-packages/lightgbm/engine.py:102: UserWarning: Found `num_iterations` in params. Will use it instead of argument\n",
      "  warnings.warn(\"Found `{}` in params. Will use it instead of argument\".format(alias))\n",
      "/Users/chienan/anaconda2/envs/python3/lib/python3.6/site-packages/lightgbm/engine.py:107: UserWarning: Found `early_stopping_round` in params. Will use it instead of argument\n",
      "  warnings.warn(\"Found `{}` in params. Will use it instead of argument\".format(alias))\n"
     ]
    },
    {
     "name": "stdout",
     "output_type": "stream",
     "text": [
      "Training until validation scores don't improve for 100 rounds.\n",
      "Early stopping, best iteration is:\n",
      "[18]\ttraining's binary_error: 0.299751\tvalid_1's binary_error: 0.350407\n",
      "| \u001b[0m 47      \u001b[0m | \u001b[0m-0.3504  \u001b[0m | \u001b[0m 1.0     \u001b[0m | \u001b[0m 0.1     \u001b[0m | \u001b[0m 5.0     \u001b[0m | \u001b[0m 0.0     \u001b[0m | \u001b[0m 0.1     \u001b[0m | \u001b[0m 9.0     \u001b[0m | \u001b[0m 50.0    \u001b[0m | \u001b[0m 0.1     \u001b[0m | \u001b[0m 31.75   \u001b[0m |\n"
     ]
    },
    {
     "name": "stderr",
     "output_type": "stream",
     "text": [
      "/Users/chienan/anaconda2/envs/python3/lib/python3.6/site-packages/lightgbm/engine.py:102: UserWarning: Found `num_iterations` in params. Will use it instead of argument\n",
      "  warnings.warn(\"Found `{}` in params. Will use it instead of argument\".format(alias))\n",
      "/Users/chienan/anaconda2/envs/python3/lib/python3.6/site-packages/lightgbm/engine.py:107: UserWarning: Found `early_stopping_round` in params. Will use it instead of argument\n",
      "  warnings.warn(\"Found `{}` in params. Will use it instead of argument\".format(alias))\n"
     ]
    },
    {
     "name": "stdout",
     "output_type": "stream",
     "text": [
      "Training until validation scores don't improve for 100 rounds.\n",
      "[200]\ttraining's binary_error: 0.160404\tvalid_1's binary_error: 0.352846\n",
      "Early stopping, best iteration is:\n",
      "[140]\ttraining's binary_error: 0.202954\tvalid_1's binary_error: 0.347154\n",
      "| \u001b[0m 48      \u001b[0m | \u001b[0m-0.3472  \u001b[0m | \u001b[0m 0.5     \u001b[0m | \u001b[0m 0.1     \u001b[0m | \u001b[0m 3.519   \u001b[0m | \u001b[0m 0.0     \u001b[0m | \u001b[0m 0.1     \u001b[0m | \u001b[0m 4.0     \u001b[0m | \u001b[0m 32.04   \u001b[0m | \u001b[0m 0.001   \u001b[0m | \u001b[0m 43.72   \u001b[0m |\n"
     ]
    },
    {
     "name": "stderr",
     "output_type": "stream",
     "text": [
      "/Users/chienan/anaconda2/envs/python3/lib/python3.6/site-packages/lightgbm/engine.py:102: UserWarning: Found `num_iterations` in params. Will use it instead of argument\n",
      "  warnings.warn(\"Found `{}` in params. Will use it instead of argument\".format(alias))\n",
      "/Users/chienan/anaconda2/envs/python3/lib/python3.6/site-packages/lightgbm/engine.py:107: UserWarning: Found `early_stopping_round` in params. Will use it instead of argument\n",
      "  warnings.warn(\"Found `{}` in params. Will use it instead of argument\".format(alias))\n"
     ]
    },
    {
     "name": "stdout",
     "output_type": "stream",
     "text": [
      "Training until validation scores don't improve for 100 rounds.\n",
      "[200]\ttraining's binary_error: 0.250475\tvalid_1's binary_error: 0.355285\n",
      "Early stopping, best iteration is:\n",
      "[291]\ttraining's binary_error: 0.218307\tvalid_1's binary_error: 0.343902\n",
      "| \u001b[0m 49      \u001b[0m | \u001b[0m-0.3439  \u001b[0m | \u001b[0m 0.8132  \u001b[0m | \u001b[0m 0.3712  \u001b[0m | \u001b[0m 4.767   \u001b[0m | \u001b[0m 0.06149 \u001b[0m | \u001b[0m 0.02668 \u001b[0m | \u001b[0m 4.472   \u001b[0m | \u001b[0m 5.01    \u001b[0m | \u001b[0m 0.0177  \u001b[0m | \u001b[0m 44.41   \u001b[0m |\n"
     ]
    },
    {
     "name": "stderr",
     "output_type": "stream",
     "text": [
      "/Users/chienan/anaconda2/envs/python3/lib/python3.6/site-packages/lightgbm/engine.py:102: UserWarning: Found `num_iterations` in params. Will use it instead of argument\n",
      "  warnings.warn(\"Found `{}` in params. Will use it instead of argument\".format(alias))\n",
      "/Users/chienan/anaconda2/envs/python3/lib/python3.6/site-packages/lightgbm/engine.py:107: UserWarning: Found `early_stopping_round` in params. Will use it instead of argument\n",
      "  warnings.warn(\"Found `{}` in params. Will use it instead of argument\".format(alias))\n"
     ]
    },
    {
     "name": "stdout",
     "output_type": "stream",
     "text": [
      "Training until validation scores don't improve for 100 rounds.\n",
      "[200]\ttraining's binary_error: 0.0421114\tvalid_1's binary_error: 0.356098\n",
      "Early stopping, best iteration is:\n",
      "[228]\ttraining's binary_error: 0.0254423\tvalid_1's binary_error: 0.347154\n",
      "| \u001b[0m 50      \u001b[0m | \u001b[0m-0.3472  \u001b[0m | \u001b[0m 0.8347  \u001b[0m | \u001b[0m 0.1954  \u001b[0m | \u001b[0m 0.03462 \u001b[0m | \u001b[0m 2.797   \u001b[0m | \u001b[0m 0.06886 \u001b[0m | \u001b[0m 8.586   \u001b[0m | \u001b[0m 5.415   \u001b[0m | \u001b[0m 0.07283 \u001b[0m | \u001b[0m 24.75   \u001b[0m |\n"
     ]
    },
    {
     "name": "stderr",
     "output_type": "stream",
     "text": [
      "/Users/chienan/anaconda2/envs/python3/lib/python3.6/site-packages/lightgbm/engine.py:102: UserWarning: Found `num_iterations` in params. Will use it instead of argument\n",
      "  warnings.warn(\"Found `{}` in params. Will use it instead of argument\".format(alias))\n",
      "/Users/chienan/anaconda2/envs/python3/lib/python3.6/site-packages/lightgbm/engine.py:107: UserWarning: Found `early_stopping_round` in params. Will use it instead of argument\n",
      "  warnings.warn(\"Found `{}` in params. Will use it instead of argument\".format(alias))\n"
     ]
    },
    {
     "name": "stdout",
     "output_type": "stream",
     "text": [
      "Training until validation scores don't improve for 100 rounds.\n",
      "Early stopping, best iteration is:\n",
      "[48]\ttraining's binary_error: 0.262758\tvalid_1's binary_error: 0.355285\n",
      "| \u001b[0m 51      \u001b[0m | \u001b[0m-0.3553  \u001b[0m | \u001b[0m 1.0     \u001b[0m | \u001b[0m 0.1     \u001b[0m | \u001b[0m 0.0     \u001b[0m | \u001b[0m 0.09818 \u001b[0m | \u001b[0m 0.1     \u001b[0m | \u001b[0m 4.0     \u001b[0m | \u001b[0m 5.0     \u001b[0m | \u001b[0m 0.001   \u001b[0m | \u001b[0m 45.0    \u001b[0m |\n"
     ]
    },
    {
     "name": "stderr",
     "output_type": "stream",
     "text": [
      "/Users/chienan/anaconda2/envs/python3/lib/python3.6/site-packages/lightgbm/engine.py:102: UserWarning: Found `num_iterations` in params. Will use it instead of argument\n",
      "  warnings.warn(\"Found `{}` in params. Will use it instead of argument\".format(alias))\n",
      "/Users/chienan/anaconda2/envs/python3/lib/python3.6/site-packages/lightgbm/engine.py:107: UserWarning: Found `early_stopping_round` in params. Will use it instead of argument\n",
      "  warnings.warn(\"Found `{}` in params. Will use it instead of argument\".format(alias))\n"
     ]
    },
    {
     "name": "stdout",
     "output_type": "stream",
     "text": [
      "Training until validation scores don't improve for 100 rounds.\n",
      "[200]\ttraining's binary_error: 0.191695\tvalid_1's binary_error: 0.358537\n",
      "Early stopping, best iteration is:\n",
      "[266]\ttraining's binary_error: 0.157041\tvalid_1's binary_error: 0.347967\n",
      "| \u001b[0m 52      \u001b[0m | \u001b[0m-0.348   \u001b[0m | \u001b[0m 0.5063  \u001b[0m | \u001b[0m 0.1291  \u001b[0m | \u001b[0m 4.958   \u001b[0m | \u001b[0m 2.956   \u001b[0m | \u001b[0m 0.05348 \u001b[0m | \u001b[0m 5.123   \u001b[0m | \u001b[0m 37.98   \u001b[0m | \u001b[0m 0.02495 \u001b[0m | \u001b[0m 24.65   \u001b[0m |\n"
     ]
    },
    {
     "name": "stderr",
     "output_type": "stream",
     "text": [
      "/Users/chienan/anaconda2/envs/python3/lib/python3.6/site-packages/lightgbm/engine.py:102: UserWarning: Found `num_iterations` in params. Will use it instead of argument\n",
      "  warnings.warn(\"Found `{}` in params. Will use it instead of argument\".format(alias))\n",
      "/Users/chienan/anaconda2/envs/python3/lib/python3.6/site-packages/lightgbm/engine.py:107: UserWarning: Found `early_stopping_round` in params. Will use it instead of argument\n",
      "  warnings.warn(\"Found `{}` in params. Will use it instead of argument\".format(alias))\n"
     ]
    },
    {
     "name": "stdout",
     "output_type": "stream",
     "text": [
      "Training until validation scores don't improve for 100 rounds.\n",
      "[200]\ttraining's binary_error: 0.20968\tvalid_1's binary_error: 0.363415\n",
      "Early stopping, best iteration is:\n",
      "[100]\ttraining's binary_error: 0.26188\tvalid_1's binary_error: 0.360163\n",
      "| \u001b[0m 53      \u001b[0m | \u001b[0m-0.3602  \u001b[0m | \u001b[0m 0.963   \u001b[0m | \u001b[0m 0.1291  \u001b[0m | \u001b[0m 4.785   \u001b[0m | \u001b[0m 0.7215  \u001b[0m | \u001b[0m 0.03219 \u001b[0m | \u001b[0m 5.031   \u001b[0m | \u001b[0m 20.24   \u001b[0m | \u001b[0m 0.0428  \u001b[0m | \u001b[0m 44.94   \u001b[0m |\n"
     ]
    },
    {
     "name": "stderr",
     "output_type": "stream",
     "text": [
      "/Users/chienan/anaconda2/envs/python3/lib/python3.6/site-packages/lightgbm/engine.py:102: UserWarning: Found `num_iterations` in params. Will use it instead of argument\n",
      "  warnings.warn(\"Found `{}` in params. Will use it instead of argument\".format(alias))\n",
      "/Users/chienan/anaconda2/envs/python3/lib/python3.6/site-packages/lightgbm/engine.py:107: UserWarning: Found `early_stopping_round` in params. Will use it instead of argument\n",
      "  warnings.warn(\"Found `{}` in params. Will use it instead of argument\".format(alias))\n"
     ]
    },
    {
     "name": "stdout",
     "output_type": "stream",
     "text": [
      "Training until validation scores don't improve for 100 rounds.\n",
      "Early stopping, best iteration is:\n",
      "[46]\ttraining's binary_error: 0.217722\tvalid_1's binary_error: 0.337398\n",
      "| \u001b[95m 54      \u001b[0m | \u001b[95m-0.3374  \u001b[0m | \u001b[95m 0.866   \u001b[0m | \u001b[95m 0.1299  \u001b[0m | \u001b[95m 4.933   \u001b[0m | \u001b[95m 0.23    \u001b[0m | \u001b[95m 0.08796 \u001b[0m | \u001b[95m 8.824   \u001b[0m | \u001b[95m 16.49   \u001b[0m | \u001b[95m 0.04994 \u001b[0m | \u001b[95m 30.05   \u001b[0m |\n"
     ]
    },
    {
     "name": "stderr",
     "output_type": "stream",
     "text": [
      "/Users/chienan/anaconda2/envs/python3/lib/python3.6/site-packages/lightgbm/engine.py:102: UserWarning: Found `num_iterations` in params. Will use it instead of argument\n",
      "  warnings.warn(\"Found `{}` in params. Will use it instead of argument\".format(alias))\n",
      "/Users/chienan/anaconda2/envs/python3/lib/python3.6/site-packages/lightgbm/engine.py:107: UserWarning: Found `early_stopping_round` in params. Will use it instead of argument\n",
      "  warnings.warn(\"Found `{}` in params. Will use it instead of argument\".format(alias))\n"
     ]
    },
    {
     "name": "stdout",
     "output_type": "stream",
     "text": [
      "Training until validation scores don't improve for 100 rounds.\n",
      "Early stopping, best iteration is:\n",
      "[56]\ttraining's binary_error: 0.187893\tvalid_1's binary_error: 0.360976\n",
      "| \u001b[0m 55      \u001b[0m | \u001b[0m-0.361   \u001b[0m | \u001b[0m 0.6865  \u001b[0m | \u001b[0m 0.1666  \u001b[0m | \u001b[0m 4.385   \u001b[0m | \u001b[0m 1.945   \u001b[0m | \u001b[0m 0.05862 \u001b[0m | \u001b[0m 8.967   \u001b[0m | \u001b[0m 10.85   \u001b[0m | \u001b[0m 0.03816 \u001b[0m | \u001b[0m 44.67   \u001b[0m |\n"
     ]
    },
    {
     "name": "stderr",
     "output_type": "stream",
     "text": [
      "/Users/chienan/anaconda2/envs/python3/lib/python3.6/site-packages/lightgbm/engine.py:102: UserWarning: Found `num_iterations` in params. Will use it instead of argument\n",
      "  warnings.warn(\"Found `{}` in params. Will use it instead of argument\".format(alias))\n",
      "/Users/chienan/anaconda2/envs/python3/lib/python3.6/site-packages/lightgbm/engine.py:107: UserWarning: Found `early_stopping_round` in params. Will use it instead of argument\n",
      "  warnings.warn(\"Found `{}` in params. Will use it instead of argument\".format(alias))\n"
     ]
    },
    {
     "name": "stdout",
     "output_type": "stream",
     "text": [
      "Training until validation scores don't improve for 100 rounds.\n",
      "[200]\ttraining's binary_error: 0.165229\tvalid_1's binary_error: 0.362602\n",
      "Early stopping, best iteration is:\n",
      "[195]\ttraining's binary_error: 0.168153\tvalid_1's binary_error: 0.35935\n",
      "| \u001b[0m 56      \u001b[0m | \u001b[0m-0.3593  \u001b[0m | \u001b[0m 0.8225  \u001b[0m | \u001b[0m 0.8688  \u001b[0m | \u001b[0m 0.1338  \u001b[0m | \u001b[0m 1.021   \u001b[0m | \u001b[0m 0.01589 \u001b[0m | \u001b[0m 8.824   \u001b[0m | \u001b[0m 5.016   \u001b[0m | \u001b[0m 0.04247 \u001b[0m | \u001b[0m 32.14   \u001b[0m |\n"
     ]
    },
    {
     "name": "stderr",
     "output_type": "stream",
     "text": [
      "/Users/chienan/anaconda2/envs/python3/lib/python3.6/site-packages/lightgbm/engine.py:102: UserWarning: Found `num_iterations` in params. Will use it instead of argument\n",
      "  warnings.warn(\"Found `{}` in params. Will use it instead of argument\".format(alias))\n",
      "/Users/chienan/anaconda2/envs/python3/lib/python3.6/site-packages/lightgbm/engine.py:107: UserWarning: Found `early_stopping_round` in params. Will use it instead of argument\n",
      "  warnings.warn(\"Found `{}` in params. Will use it instead of argument\".format(alias))\n"
     ]
    },
    {
     "name": "stdout",
     "output_type": "stream",
     "text": [
      "Training until validation scores don't improve for 100 rounds.\n",
      "[200]\ttraining's binary_error: 0.101915\tvalid_1's binary_error: 0.360976\n",
      "Early stopping, best iteration is:\n",
      "[156]\ttraining's binary_error: 0.137739\tvalid_1's binary_error: 0.349593\n",
      "| \u001b[0m 57      \u001b[0m | \u001b[0m-0.3496  \u001b[0m | \u001b[0m 0.9689  \u001b[0m | \u001b[0m 0.2687  \u001b[0m | \u001b[0m 0.9631  \u001b[0m | \u001b[0m 2.679   \u001b[0m | \u001b[0m 0.05384 \u001b[0m | \u001b[0m 8.901   \u001b[0m | \u001b[0m 41.32   \u001b[0m | \u001b[0m 0.08586 \u001b[0m | \u001b[0m 24.19   \u001b[0m |\n"
     ]
    },
    {
     "name": "stderr",
     "output_type": "stream",
     "text": [
      "/Users/chienan/anaconda2/envs/python3/lib/python3.6/site-packages/lightgbm/engine.py:102: UserWarning: Found `num_iterations` in params. Will use it instead of argument\n",
      "  warnings.warn(\"Found `{}` in params. Will use it instead of argument\".format(alias))\n",
      "/Users/chienan/anaconda2/envs/python3/lib/python3.6/site-packages/lightgbm/engine.py:107: UserWarning: Found `early_stopping_round` in params. Will use it instead of argument\n",
      "  warnings.warn(\"Found `{}` in params. Will use it instead of argument\".format(alias))\n"
     ]
    },
    {
     "name": "stdout",
     "output_type": "stream",
     "text": [
      "Training until validation scores don't improve for 100 rounds.\n",
      "Early stopping, best iteration is:\n",
      "[1]\ttraining's binary_error: 0.413511\tvalid_1's binary_error: 0.423577\n",
      "| \u001b[0m 58      \u001b[0m | \u001b[0m-0.4236  \u001b[0m | \u001b[0m 1.0     \u001b[0m | \u001b[0m 0.8981  \u001b[0m | \u001b[0m 5.0     \u001b[0m | \u001b[0m 5.092e-0\u001b[0m | \u001b[0m 0.001   \u001b[0m | \u001b[0m 4.0     \u001b[0m | \u001b[0m 32.52   \u001b[0m | \u001b[0m 0.001   \u001b[0m | \u001b[0m 24.25   \u001b[0m |\n"
     ]
    },
    {
     "name": "stderr",
     "output_type": "stream",
     "text": [
      "/Users/chienan/anaconda2/envs/python3/lib/python3.6/site-packages/lightgbm/engine.py:102: UserWarning: Found `num_iterations` in params. Will use it instead of argument\n",
      "  warnings.warn(\"Found `{}` in params. Will use it instead of argument\".format(alias))\n",
      "/Users/chienan/anaconda2/envs/python3/lib/python3.6/site-packages/lightgbm/engine.py:107: UserWarning: Found `early_stopping_round` in params. Will use it instead of argument\n",
      "  warnings.warn(\"Found `{}` in params. Will use it instead of argument\".format(alias))\n"
     ]
    },
    {
     "name": "stdout",
     "output_type": "stream",
     "text": [
      "Training until validation scores don't improve for 100 rounds.\n",
      "Early stopping, best iteration is:\n",
      "[1]\ttraining's binary_error: 0.413511\tvalid_1's binary_error: 0.423577\n",
      "| \u001b[0m 59      \u001b[0m | \u001b[0m-0.4236  \u001b[0m | \u001b[0m 0.5     \u001b[0m | \u001b[0m 0.1     \u001b[0m | \u001b[0m 1.843e-0\u001b[0m | \u001b[0m 3.0     \u001b[0m | \u001b[0m 0.001   \u001b[0m | \u001b[0m 4.0     \u001b[0m | \u001b[0m 32.54   \u001b[0m | \u001b[0m 0.1     \u001b[0m | \u001b[0m 29.25   \u001b[0m |\n"
     ]
    },
    {
     "name": "stderr",
     "output_type": "stream",
     "text": [
      "/Users/chienan/anaconda2/envs/python3/lib/python3.6/site-packages/lightgbm/engine.py:102: UserWarning: Found `num_iterations` in params. Will use it instead of argument\n",
      "  warnings.warn(\"Found `{}` in params. Will use it instead of argument\".format(alias))\n",
      "/Users/chienan/anaconda2/envs/python3/lib/python3.6/site-packages/lightgbm/engine.py:107: UserWarning: Found `early_stopping_round` in params. Will use it instead of argument\n",
      "  warnings.warn(\"Found `{}` in params. Will use it instead of argument\".format(alias))\n"
     ]
    },
    {
     "name": "stdout",
     "output_type": "stream",
     "text": [
      "Training until validation scores don't improve for 100 rounds.\n",
      "Early stopping, best iteration is:\n",
      "[96]\ttraining's binary_error: 0.192864\tvalid_1's binary_error: 0.34878\n",
      "| \u001b[0m 60      \u001b[0m | \u001b[0m-0.3488  \u001b[0m | \u001b[0m 0.5     \u001b[0m | \u001b[0m 0.9     \u001b[0m | \u001b[0m 5.0     \u001b[0m | \u001b[0m 3.0     \u001b[0m | \u001b[0m 0.1     \u001b[0m | \u001b[0m 4.944   \u001b[0m | \u001b[0m 50.0    \u001b[0m | \u001b[0m 0.001   \u001b[0m | \u001b[0m 43.79   \u001b[0m |\n"
     ]
    },
    {
     "name": "stderr",
     "output_type": "stream",
     "text": [
      "/Users/chienan/anaconda2/envs/python3/lib/python3.6/site-packages/lightgbm/engine.py:102: UserWarning: Found `num_iterations` in params. Will use it instead of argument\n",
      "  warnings.warn(\"Found `{}` in params. Will use it instead of argument\".format(alias))\n",
      "/Users/chienan/anaconda2/envs/python3/lib/python3.6/site-packages/lightgbm/engine.py:107: UserWarning: Found `early_stopping_round` in params. Will use it instead of argument\n",
      "  warnings.warn(\"Found `{}` in params. Will use it instead of argument\".format(alias))\n"
     ]
    },
    {
     "name": "stdout",
     "output_type": "stream",
     "text": [
      "Training until validation scores don't improve for 100 rounds.\n",
      "Early stopping, best iteration is:\n",
      "[63]\ttraining's binary_error: 0.251791\tvalid_1's binary_error: 0.347154\n",
      "| \u001b[0m 61      \u001b[0m | \u001b[0m-0.3472  \u001b[0m | \u001b[0m 1.0     \u001b[0m | \u001b[0m 0.9     \u001b[0m | \u001b[0m 0.0     \u001b[0m | \u001b[0m 3.0     \u001b[0m | \u001b[0m 0.1     \u001b[0m | \u001b[0m 4.0     \u001b[0m | \u001b[0m 43.72   \u001b[0m | \u001b[0m 0.001   \u001b[0m | \u001b[0m 45.0    \u001b[0m |\n"
     ]
    },
    {
     "name": "stderr",
     "output_type": "stream",
     "text": [
      "/Users/chienan/anaconda2/envs/python3/lib/python3.6/site-packages/lightgbm/engine.py:102: UserWarning: Found `num_iterations` in params. Will use it instead of argument\n",
      "  warnings.warn(\"Found `{}` in params. Will use it instead of argument\".format(alias))\n",
      "/Users/chienan/anaconda2/envs/python3/lib/python3.6/site-packages/lightgbm/engine.py:107: UserWarning: Found `early_stopping_round` in params. Will use it instead of argument\n",
      "  warnings.warn(\"Found `{}` in params. Will use it instead of argument\".format(alias))\n"
     ]
    },
    {
     "name": "stdout",
     "output_type": "stream",
     "text": [
      "Training until validation scores don't improve for 100 rounds.\n",
      "[200]\ttraining's binary_error: 0.0501535\tvalid_1's binary_error: 0.347967\n",
      "Early stopping, best iteration is:\n",
      "[137]\ttraining's binary_error: 0.0998684\tvalid_1's binary_error: 0.339024\n",
      "| \u001b[0m 62      \u001b[0m | \u001b[0m-0.339   \u001b[0m | \u001b[0m 0.5852  \u001b[0m | \u001b[0m 0.1251  \u001b[0m | \u001b[0m 4.577   \u001b[0m | \u001b[0m 0.8093  \u001b[0m | \u001b[0m 0.09101 \u001b[0m | \u001b[0m 8.112   \u001b[0m | \u001b[0m 26.79   \u001b[0m | \u001b[0m 0.0525  \u001b[0m | \u001b[0m 24.18   \u001b[0m |\n"
     ]
    },
    {
     "name": "stderr",
     "output_type": "stream",
     "text": [
      "/Users/chienan/anaconda2/envs/python3/lib/python3.6/site-packages/lightgbm/engine.py:102: UserWarning: Found `num_iterations` in params. Will use it instead of argument\n",
      "  warnings.warn(\"Found `{}` in params. Will use it instead of argument\".format(alias))\n",
      "/Users/chienan/anaconda2/envs/python3/lib/python3.6/site-packages/lightgbm/engine.py:107: UserWarning: Found `early_stopping_round` in params. Will use it instead of argument\n",
      "  warnings.warn(\"Found `{}` in params. Will use it instead of argument\".format(alias))\n"
     ]
    },
    {
     "name": "stdout",
     "output_type": "stream",
     "text": [
      "Training until validation scores don't improve for 100 rounds.\n",
      "Early stopping, best iteration is:\n",
      "[94]\ttraining's binary_error: 0.0419652\tvalid_1's binary_error: 0.350407\n",
      "| \u001b[0m 63      \u001b[0m | \u001b[0m-0.3504  \u001b[0m | \u001b[0m 0.5     \u001b[0m | \u001b[0m 0.8074  \u001b[0m | \u001b[0m 4.939   \u001b[0m | \u001b[0m 0.0     \u001b[0m | \u001b[0m 0.1     \u001b[0m | \u001b[0m 8.851   \u001b[0m | \u001b[0m 5.453   \u001b[0m | \u001b[0m 0.001   \u001b[0m | \u001b[0m 37.5    \u001b[0m |\n"
     ]
    },
    {
     "name": "stderr",
     "output_type": "stream",
     "text": [
      "/Users/chienan/anaconda2/envs/python3/lib/python3.6/site-packages/lightgbm/engine.py:102: UserWarning: Found `num_iterations` in params. Will use it instead of argument\n",
      "  warnings.warn(\"Found `{}` in params. Will use it instead of argument\".format(alias))\n",
      "/Users/chienan/anaconda2/envs/python3/lib/python3.6/site-packages/lightgbm/engine.py:107: UserWarning: Found `early_stopping_round` in params. Will use it instead of argument\n",
      "  warnings.warn(\"Found `{}` in params. Will use it instead of argument\".format(alias))\n"
     ]
    },
    {
     "name": "stdout",
     "output_type": "stream",
     "text": [
      "Training until validation scores don't improve for 100 rounds.\n",
      "Early stopping, best iteration is:\n",
      "[85]\ttraining's binary_error: 0.148267\tvalid_1's binary_error: 0.355285\n",
      "| \u001b[0m 64      \u001b[0m | \u001b[0m-0.3553  \u001b[0m | \u001b[0m 0.9813  \u001b[0m | \u001b[0m 0.2592  \u001b[0m | \u001b[0m 4.999   \u001b[0m | \u001b[0m 2.954   \u001b[0m | \u001b[0m 0.08781 \u001b[0m | \u001b[0m 8.823   \u001b[0m | \u001b[0m 32.78   \u001b[0m | \u001b[0m 0.06416 \u001b[0m | \u001b[0m 36.52   \u001b[0m |\n"
     ]
    },
    {
     "name": "stderr",
     "output_type": "stream",
     "text": [
      "/Users/chienan/anaconda2/envs/python3/lib/python3.6/site-packages/lightgbm/engine.py:102: UserWarning: Found `num_iterations` in params. Will use it instead of argument\n",
      "  warnings.warn(\"Found `{}` in params. Will use it instead of argument\".format(alias))\n",
      "/Users/chienan/anaconda2/envs/python3/lib/python3.6/site-packages/lightgbm/engine.py:107: UserWarning: Found `early_stopping_round` in params. Will use it instead of argument\n",
      "  warnings.warn(\"Found `{}` in params. Will use it instead of argument\".format(alias))\n"
     ]
    },
    {
     "name": "stdout",
     "output_type": "stream",
     "text": [
      "Training until validation scores don't improve for 100 rounds.\n",
      "[200]\ttraining's binary_error: 0.28703\tvalid_1's binary_error: 0.372358\n",
      "[400]\ttraining's binary_error: 0.251353\tvalid_1's binary_error: 0.361789\n",
      "[600]\ttraining's binary_error: 0.219477\tvalid_1's binary_error: 0.355285\n",
      "[800]\ttraining's binary_error: 0.194327\tvalid_1's binary_error: 0.346341\n",
      "Early stopping, best iteration is:\n",
      "[737]\ttraining's binary_error: 0.201784\tvalid_1's binary_error: 0.344715\n",
      "| \u001b[0m 65      \u001b[0m | \u001b[0m-0.3447  \u001b[0m | \u001b[0m 0.5732  \u001b[0m | \u001b[0m 0.3795  \u001b[0m | \u001b[0m 4.982   \u001b[0m | \u001b[0m 2.996   \u001b[0m | \u001b[0m 0.006412\u001b[0m | \u001b[0m 8.509   \u001b[0m | \u001b[0m 30.22   \u001b[0m | \u001b[0m 0.06174 \u001b[0m | \u001b[0m 24.56   \u001b[0m |\n"
     ]
    },
    {
     "name": "stderr",
     "output_type": "stream",
     "text": [
      "/Users/chienan/anaconda2/envs/python3/lib/python3.6/site-packages/lightgbm/engine.py:102: UserWarning: Found `num_iterations` in params. Will use it instead of argument\n",
      "  warnings.warn(\"Found `{}` in params. Will use it instead of argument\".format(alias))\n",
      "/Users/chienan/anaconda2/envs/python3/lib/python3.6/site-packages/lightgbm/engine.py:107: UserWarning: Found `early_stopping_round` in params. Will use it instead of argument\n",
      "  warnings.warn(\"Found `{}` in params. Will use it instead of argument\".format(alias))\n"
     ]
    },
    {
     "name": "stdout",
     "output_type": "stream",
     "text": [
      "Training until validation scores don't improve for 100 rounds.\n",
      "[200]\ttraining's binary_error: 0.112151\tvalid_1's binary_error: 0.363415\n",
      "Early stopping, best iteration is:\n",
      "[215]\ttraining's binary_error: 0.102208\tvalid_1's binary_error: 0.355285\n",
      "| \u001b[0m 66      \u001b[0m | \u001b[0m-0.3553  \u001b[0m | \u001b[0m 0.9791  \u001b[0m | \u001b[0m 0.1152  \u001b[0m | \u001b[0m 3.122   \u001b[0m | \u001b[0m 2.858   \u001b[0m | \u001b[0m 0.06534 \u001b[0m | \u001b[0m 5.8     \u001b[0m | \u001b[0m 26.11   \u001b[0m | \u001b[0m 0.01405 \u001b[0m | \u001b[0m 24.08   \u001b[0m |\n"
     ]
    },
    {
     "name": "stderr",
     "output_type": "stream",
     "text": [
      "/Users/chienan/anaconda2/envs/python3/lib/python3.6/site-packages/lightgbm/engine.py:102: UserWarning: Found `num_iterations` in params. Will use it instead of argument\n",
      "  warnings.warn(\"Found `{}` in params. Will use it instead of argument\".format(alias))\n",
      "/Users/chienan/anaconda2/envs/python3/lib/python3.6/site-packages/lightgbm/engine.py:107: UserWarning: Found `early_stopping_round` in params. Will use it instead of argument\n",
      "  warnings.warn(\"Found `{}` in params. Will use it instead of argument\".format(alias))\n"
     ]
    },
    {
     "name": "stdout",
     "output_type": "stream",
     "text": [
      "Training until validation scores don't improve for 100 rounds.\n",
      "Early stopping, best iteration is:\n",
      "[84]\ttraining's binary_error: 0.159234\tvalid_1's binary_error: 0.355285\n",
      "| \u001b[0m 67      \u001b[0m | \u001b[0m-0.3553  \u001b[0m | \u001b[0m 0.5891  \u001b[0m | \u001b[0m 0.8954  \u001b[0m | \u001b[0m 3.271   \u001b[0m | \u001b[0m 2.908   \u001b[0m | \u001b[0m 0.09179 \u001b[0m | \u001b[0m 8.994   \u001b[0m | \u001b[0m 49.97   \u001b[0m | \u001b[0m 0.002191\u001b[0m | \u001b[0m 30.59   \u001b[0m |\n"
     ]
    },
    {
     "name": "stderr",
     "output_type": "stream",
     "text": [
      "/Users/chienan/anaconda2/envs/python3/lib/python3.6/site-packages/lightgbm/engine.py:102: UserWarning: Found `num_iterations` in params. Will use it instead of argument\n",
      "  warnings.warn(\"Found `{}` in params. Will use it instead of argument\".format(alias))\n",
      "/Users/chienan/anaconda2/envs/python3/lib/python3.6/site-packages/lightgbm/engine.py:107: UserWarning: Found `early_stopping_round` in params. Will use it instead of argument\n",
      "  warnings.warn(\"Found `{}` in params. Will use it instead of argument\".format(alias))\n"
     ]
    },
    {
     "name": "stdout",
     "output_type": "stream",
     "text": [
      "Training until validation scores don't improve for 100 rounds.\n",
      "Early stopping, best iteration is:\n",
      "[97]\ttraining's binary_error: 0.200614\tvalid_1's binary_error: 0.352846\n",
      "| \u001b[0m 68      \u001b[0m | \u001b[0m-0.3528  \u001b[0m | \u001b[0m 0.5891  \u001b[0m | \u001b[0m 0.7597  \u001b[0m | \u001b[0m 0.9534  \u001b[0m | \u001b[0m 0.1635  \u001b[0m | \u001b[0m 0.02977 \u001b[0m | \u001b[0m 8.999   \u001b[0m | \u001b[0m 21.62   \u001b[0m | \u001b[0m 0.01606 \u001b[0m | \u001b[0m 28.76   \u001b[0m |\n"
     ]
    },
    {
     "name": "stderr",
     "output_type": "stream",
     "text": [
      "/Users/chienan/anaconda2/envs/python3/lib/python3.6/site-packages/lightgbm/engine.py:102: UserWarning: Found `num_iterations` in params. Will use it instead of argument\n",
      "  warnings.warn(\"Found `{}` in params. Will use it instead of argument\".format(alias))\n",
      "/Users/chienan/anaconda2/envs/python3/lib/python3.6/site-packages/lightgbm/engine.py:107: UserWarning: Found `early_stopping_round` in params. Will use it instead of argument\n",
      "  warnings.warn(\"Found `{}` in params. Will use it instead of argument\".format(alias))\n"
     ]
    },
    {
     "name": "stdout",
     "output_type": "stream",
     "text": [
      "Training until validation scores don't improve for 100 rounds.\n",
      "Early stopping, best iteration is:\n",
      "[98]\ttraining's binary_error: 0.216991\tvalid_1's binary_error: 0.356911\n",
      "| \u001b[0m 69      \u001b[0m | \u001b[0m-0.3569  \u001b[0m | \u001b[0m 0.5     \u001b[0m | \u001b[0m 0.9     \u001b[0m | \u001b[0m 0.0     \u001b[0m | \u001b[0m 3.0     \u001b[0m | \u001b[0m 0.1     \u001b[0m | \u001b[0m 4.0     \u001b[0m | \u001b[0m 33.38   \u001b[0m | \u001b[0m 0.1     \u001b[0m | \u001b[0m 45.0    \u001b[0m |\n"
     ]
    },
    {
     "name": "stderr",
     "output_type": "stream",
     "text": [
      "/Users/chienan/anaconda2/envs/python3/lib/python3.6/site-packages/lightgbm/engine.py:102: UserWarning: Found `num_iterations` in params. Will use it instead of argument\n",
      "  warnings.warn(\"Found `{}` in params. Will use it instead of argument\".format(alias))\n",
      "/Users/chienan/anaconda2/envs/python3/lib/python3.6/site-packages/lightgbm/engine.py:107: UserWarning: Found `early_stopping_round` in params. Will use it instead of argument\n",
      "  warnings.warn(\"Found `{}` in params. Will use it instead of argument\".format(alias))\n"
     ]
    },
    {
     "name": "stdout",
     "output_type": "stream",
     "text": [
      "Training until validation scores don't improve for 100 rounds.\n",
      "[200]\ttraining's binary_error: 0.325925\tvalid_1's binary_error: 0.386179\n",
      "[400]\ttraining's binary_error: 0.292879\tvalid_1's binary_error: 0.372358\n",
      "Early stopping, best iteration is:\n",
      "[418]\ttraining's binary_error: 0.29244\tvalid_1's binary_error: 0.368293\n",
      "| \u001b[0m 70      \u001b[0m | \u001b[0m-0.3683  \u001b[0m | \u001b[0m 0.5047  \u001b[0m | \u001b[0m 0.3874  \u001b[0m | \u001b[0m 4.293   \u001b[0m | \u001b[0m 2.942   \u001b[0m | \u001b[0m 0.00378 \u001b[0m | \u001b[0m 5.049   \u001b[0m | \u001b[0m 38.0    \u001b[0m | \u001b[0m 0.0551  \u001b[0m | \u001b[0m 44.93   \u001b[0m |\n",
      "=====================================================================================================================================\n",
      "CPU times: user 41min 3s, sys: 3min 54s, total: 44min 57s\n",
      "Wall time: 18min 20s\n"
     ]
    }
   ],
   "source": [
    "%%time\n",
    "lgbBO.maximize(init_points=20, n_iter=50)"
   ]
  },
  {
   "cell_type": "code",
   "execution_count": 66,
   "metadata": {},
   "outputs": [
    {
     "data": {
      "text/plain": [
       "{'params': {'bagging_fraction': 0.8659721311517226,\n",
       "  'feature_fraction': 0.12990323999850997,\n",
       "  'lambda_l1': 4.932979957889549,\n",
       "  'lambda_l2': 0.22996619845092425,\n",
       "  'learning_rate': 0.08795888944269456,\n",
       "  'max_depth': 8.82417808161163,\n",
       "  'min_child_weight': 16.48843378194777,\n",
       "  'min_split_gain': 0.04994382474273818,\n",
       "  'num_leaves': 30.046472146356052},\n",
       " 'target': -0.33739837398373984}"
      ]
     },
     "execution_count": 66,
     "metadata": {},
     "output_type": "execute_result"
    }
   ],
   "source": [
    "lgbBO.res[np.argmax([i[\"target\"] for i in lgbBO.res])]"
   ]
  },
  {
   "cell_type": "code",
   "execution_count": 67,
   "metadata": {
    "collapsed": true
   },
   "outputs": [],
   "source": [
    "best_params = lgbBO.res[np.argmax([i[\"target\"] for i in lgbBO.res])][\"params\"]"
   ]
  },
  {
   "cell_type": "code",
   "execution_count": 68,
   "metadata": {},
   "outputs": [
    {
     "data": {
      "text/plain": [
       "{'bagging_fraction': 0.8659721311517226,\n",
       " 'feature_fraction': 0.12990323999850997,\n",
       " 'lambda_l1': 4.932979957889549,\n",
       " 'lambda_l2': 0.22996619845092425,\n",
       " 'learning_rate': 0.08795888944269456,\n",
       " 'max_depth': 8.82417808161163,\n",
       " 'min_child_weight': 16.48843378194777,\n",
       " 'min_split_gain': 0.04994382474273818,\n",
       " 'num_leaves': 30.046472146356052}"
      ]
     },
     "execution_count": 68,
     "metadata": {},
     "output_type": "execute_result"
    }
   ],
   "source": [
    "best_params"
   ]
  },
  {
   "cell_type": "code",
   "execution_count": 69,
   "metadata": {
    "collapsed": true
   },
   "outputs": [],
   "source": [
    "best_params[\"num_leaves\"] = int(round(best_params[\"num_leaves\"]))\n",
    "best_params[\"max_depth\"] = int(round(best_params[\"max_depth\"]))"
   ]
  },
  {
   "cell_type": "code",
   "execution_count": 78,
   "metadata": {
    "collapsed": true
   },
   "outputs": [],
   "source": [
    "best_params.update({'num_iterations': 1000,\n",
    "                    'early_stopping_round':100,\n",
    "                    \"metric\": \"binary_error\"})"
   ]
  },
  {
   "cell_type": "code",
   "execution_count": 76,
   "metadata": {},
   "outputs": [
    {
     "data": {
      "text/plain": [
       "{'bagging_fraction': 0.8659721311517226,\n",
       " 'early_stopping_round': 50,\n",
       " 'feature_fraction': 0.12990323999850997,\n",
       " 'lambda_l1': 4.932979957889549,\n",
       " 'lambda_l2': 0.22996619845092425,\n",
       " 'learning_rate': 0.08795888944269456,\n",
       " 'max_depth': 9,\n",
       " 'metric': 'binary_error',\n",
       " 'min_child_weight': 16.48843378194777,\n",
       " 'min_split_gain': 0.04994382474273818,\n",
       " 'num_iterations': 1000,\n",
       " 'num_leaves': 30,\n",
       " 'verbose': 1}"
      ]
     },
     "execution_count": 76,
     "metadata": {},
     "output_type": "execute_result"
    }
   ],
   "source": [
    "best_params"
   ]
  },
  {
   "cell_type": "code",
   "execution_count": 73,
   "metadata": {
    "collapsed": true
   },
   "outputs": [],
   "source": [
    "import pickle"
   ]
  },
  {
   "cell_type": "code",
   "execution_count": 64,
   "metadata": {
    "collapsed": true
   },
   "outputs": [],
   "source": [
    "pickle.dump(best_params, open(\"/Users/chienan/Pycon/github/SportLottery/model/model_params.pkl\",\"wb\"),protocol=-1)"
   ]
  },
  {
   "cell_type": "code",
   "execution_count": 79,
   "metadata": {},
   "outputs": [
    {
     "name": "stdout",
     "output_type": "stream",
     "text": [
      "start training...\n",
      "Training until validation scores don't improve for 100 rounds.\n"
     ]
    },
    {
     "name": "stderr",
     "output_type": "stream",
     "text": [
      "/Users/chienan/anaconda2/envs/python3/lib/python3.6/site-packages/lightgbm/engine.py:102: UserWarning: Found `num_iterations` in params. Will use it instead of argument\n",
      "  warnings.warn(\"Found `{}` in params. Will use it instead of argument\".format(alias))\n",
      "/Users/chienan/anaconda2/envs/python3/lib/python3.6/site-packages/lightgbm/engine.py:107: UserWarning: Found `early_stopping_round` in params. Will use it instead of argument\n",
      "  warnings.warn(\"Found `{}` in params. Will use it instead of argument\".format(alias))\n"
     ]
    },
    {
     "name": "stdout",
     "output_type": "stream",
     "text": [
      "[20]\ttraining's binary_error: 0.266852\tvalid_1's binary_error: 0.365854\n",
      "[40]\ttraining's binary_error: 0.223132\tvalid_1's binary_error: 0.356911\n",
      "[60]\ttraining's binary_error: 0.182044\tvalid_1's binary_error: 0.365854\n",
      "[80]\ttraining's binary_error: 0.147098\tvalid_1's binary_error: 0.35935\n",
      "[100]\ttraining's binary_error: 0.11566\tvalid_1's binary_error: 0.358537\n",
      "[120]\ttraining's binary_error: 0.0889019\tvalid_1's binary_error: 0.356911\n",
      "[140]\ttraining's binary_error: 0.0662378\tvalid_1's binary_error: 0.346341\n",
      "[160]\ttraining's binary_error: 0.0507384\tvalid_1's binary_error: 0.354472\n",
      "[180]\ttraining's binary_error: 0.0371399\tvalid_1's binary_error: 0.352846\n",
      "[200]\ttraining's binary_error: 0.0282205\tvalid_1's binary_error: 0.357724\n",
      "[220]\ttraining's binary_error: 0.0228104\tvalid_1's binary_error: 0.358537\n",
      "Early stopping, best iteration is:\n",
      "[136]\ttraining's binary_error: 0.0715017\tvalid_1's binary_error: 0.344715\n",
      "CPU times: user 4.88 s, sys: 2.28 s, total: 7.16 s\n",
      "Wall time: 2.26 s\n"
     ]
    }
   ],
   "source": [
    "%%time \n",
    "print(\"start training...\")\n",
    "model = lgb.train(train_set=train_dataset,\n",
    "                  valid_sets=[train_dataset, test_dataset] ,\n",
    "                  verbose_eval=20,\n",
    "                  params=best_params,\n",
    "                  evals_result=evals_result)"
   ]
  },
  {
   "cell_type": "code",
   "execution_count": 113,
   "metadata": {
    "collapsed": true
   },
   "outputs": [],
   "source": [
    "# model.save_model('/Users/chienan/Pycon/github/SportLottery/model/model_agg_v1.txt')"
   ]
  },
  {
   "cell_type": "code",
   "execution_count": 65,
   "metadata": {},
   "outputs": [
    {
     "data": {
      "image/png": "[encoded data removed]",
      "text/plain": [
       "<matplotlib.figure.Figure at 0x1221567f0>"
      ]
     },
     "metadata": {},
     "output_type": "display_data"
    }
   ],
   "source": [
    "lgb.plot_importance(booster=model,max_num_features=20,importance_type=\"split\")\n",
    "plt.show()"
   ]
  },
  {
   "cell_type": "code",
   "execution_count": 115,
   "metadata": {},
   "outputs": [
    {
     "data": {
      "text/plain": [
       "(882, 709.0)"
      ]
     },
     "execution_count": 115,
     "metadata": {},
     "output_type": "execute_result"
    }
   ],
   "source": [
    "sum(model.predict(x_val)>0.5), sum(y_val)"
   ]
  },
  {
   "cell_type": "code",
   "execution_count": 116,
   "metadata": {},
   "outputs": [
    {
     "data": {
      "text/plain": [
       "0.6528455284552845"
      ]
     },
     "execution_count": 116,
     "metadata": {},
     "output_type": "execute_result"
    }
   ],
   "source": [
    "# accuracy \n",
    "# 0.6365638766519823\n",
    "sum((model.predict(x_val)>0.5).astype(int)==y_val)/len(y_val)"
   ]
  },
  {
   "cell_type": "code",
   "execution_count": 120,
   "metadata": {
    "collapsed": true
   },
   "outputs": [],
   "source": [
    "from sklearn.metrics import f1_score,precision_score,recall_score,precision_recall_curve"
   ]
  },
  {
   "cell_type": "code",
   "execution_count": 121,
   "metadata": {},
   "outputs": [
    {
     "data": {
      "text/plain": [
       "0.7316153362664991"
      ]
     },
     "execution_count": 121,
     "metadata": {},
     "output_type": "execute_result"
    }
   ],
   "source": [
    "f1_score(y_pred=(model.predict(x_val)>0.5).astype(int),y_true=y_val)"
   ]
  },
  {
   "cell_type": "code",
   "execution_count": 123,
   "metadata": {},
   "outputs": [
    {
     "data": {
      "text/plain": [
       "0.6598639455782312"
      ]
     },
     "execution_count": 123,
     "metadata": {},
     "output_type": "execute_result"
    }
   ],
   "source": [
    "precision_score(y_pred=(model.predict(x_val)>0.5).astype(int),y_true=y_val)"
   ]
  },
  {
   "cell_type": "code",
   "execution_count": 124,
   "metadata": {},
   "outputs": [
    {
     "data": {
      "text/plain": [
       "0.8208744710860366"
      ]
     },
     "execution_count": 124,
     "metadata": {},
     "output_type": "execute_result"
    }
   ],
   "source": [
    "recall_score(y_pred=(model.predict(x_val)>0.5).astype(int),y_true=y_val)"
   ]
  },
  {
   "cell_type": "code",
   "execution_count": 135,
   "metadata": {},
   "outputs": [
    {
     "data": {
      "text/plain": [
       "(array([0.579722  , 0.57937807, 0.57985258, ..., 0.5       , 0.        ,\n",
       "        1.        ]),\n",
       " array([1.        , 0.99858956, 0.99858956, ..., 0.00141044, 0.        ,\n",
       "        0.        ]),\n",
       " array([0.19871837, 0.2045991 , 0.20840515, ..., 1.00533111, 1.01637953,\n",
       "        1.02066585]))"
      ]
     },
     "execution_count": 135,
     "metadata": {},
     "output_type": "execute_result"
    }
   ],
   "source": [
    "precision_recall_curve(probas_pred=model.predict(x_val),y_true=y_val)"
   ]
  },
  {
   "cell_type": "code",
   "execution_count": null,
   "metadata": {
    "collapsed": true
   },
   "outputs": [],
   "source": [
    "data_lst = [col for col in x_train.columns[model.feature_importance().argsort()][::-1] if \"TEAM_ID\" not in col]"
   ]
  },
  {
   "cell_type": "code",
   "execution_count": null,
   "metadata": {
    "collapsed": true
   },
   "outputs": [],
   "source": [
    "data_lst = [col for col in x_train.columns[model.feature_importance().argsort()][::-1] if \"TEAM_ID\" not in col]\n",
    "lst = []\n",
    "\n",
    "while data_lst:\n",
    "    add_item = list(set([data_lst[0] for i in column if (i in data_lst[0])&(\"_H\" in data_lst[0])] + \n",
    "                        [data_lst[0] for i in column if (i in data_lst[0])&(\"_A\" in data_lst[0])]))\n",
    "    lst += add_item\n",
    "    data_lst = [col for col in data_lst if \"_\".join(lst[-1].split(\"_\")[3:]) != \"_\".join(col.split(\"_\")[3:])]"
   ]
  },
  {
   "cell_type": "code",
   "execution_count": null,
   "metadata": {
    "collapsed": true
   },
   "outputs": [],
   "source": [
    "x_train = df_train.loc[:,lst]\n",
    "x_test = df_test.loc[:,lst]"
   ]
  },
  {
   "cell_type": "code",
   "execution_count": null,
   "metadata": {
    "collapsed": true
   },
   "outputs": [],
   "source": [
    "%%time\n",
    "print(\"start training...\")\n",
    "model_v2 = lgb.train(train_set=train_dataset, params=param)"
   ]
  },
  {
   "cell_type": "code",
   "execution_count": null,
   "metadata": {
    "collapsed": true
   },
   "outputs": [],
   "source": [
    "lgb.plot_importance(booster=model_v2,max_num_features=20,importance_type=\"split\")\n",
    "plt.show()"
   ]
  },
  {
   "cell_type": "code",
   "execution_count": null,
   "metadata": {
    "collapsed": true
   },
   "outputs": [],
   "source": [
    "sum((model_v2.predict(x_test)>0.4).astype(int)==y_test)/len(y_test)"
   ]
  },
  {
   "cell_type": "code",
   "execution_count": null,
   "metadata": {
    "collapsed": true
   },
   "outputs": [],
   "source": [
    "model_v2.predict(x_test)"
   ]
  },
  {
   "cell_type": "code",
   "execution_count": null,
   "metadata": {
    "collapsed": true
   },
   "outputs": [],
   "source": [
    "sum(y_test[model_v2.predict(x_test)>0.4])/sum((model_v2.predict(x_test)>0.4))"
   ]
  },
  {
   "cell_type": "code",
   "execution_count": null,
   "metadata": {
    "collapsed": true
   },
   "outputs": [],
   "source": [
    "sum(model_v2.predict(x_test)[y_test.astype(bool)]>0.4)/sum(y_test)"
   ]
  },
  {
   "cell_type": "code",
   "execution_count": null,
   "metadata": {
    "collapsed": true
   },
   "outputs": [],
   "source": [
    "sum(model_v2.predict(x_test)>0.4)"
   ]
  },
  {
   "cell_type": "code",
   "execution_count": null,
   "metadata": {
    "collapsed": true
   },
   "outputs": [],
   "source": [
    "sum(y_test),len(y_test)"
   ]
  },
  {
   "cell_type": "code",
   "execution_count": null,
   "metadata": {
    "collapsed": true
   },
   "outputs": [],
   "source": []
  }
 ],
 "metadata": {
  "kernelspec": {
   "display_name": "Python 3",
   "language": "python",
   "name": "python3"
  },
  "language_info": {
   "codemirror_mode": {
    "name": "ipython",
    "version": 3
   },
   "file_extension": ".py",
   "mimetype": "text/x-python",
   "name": "python",
   "nbconvert_exporter": "python",
   "pygments_lexer": "ipython3",
   "version": "3.6.2"
  }
 },
 "nbformat": 4,
 "nbformat_minor": 2
}
