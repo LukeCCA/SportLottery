{
 "cells": [
  {
   "cell_type": "code",
   "execution_count": 45,
   "metadata": {},
   "outputs": [],
   "source": [
    "import numpy as np\n",
    "import pandas as pd\n",
    "import json\n",
    "from datetime import datetime\n",
    "from datetime import timedelta\n",
    "import gc\n",
    "import pickle\n",
    "import time\n",
    "from math import radians, cos, sin, asin, sqrt"
   ]
  },
  {
   "cell_type": "code",
   "execution_count": 2,
   "metadata": {
    "collapsed": true
   },
   "outputs": [],
   "source": [
    "teams = json.loads(open(\"/Users/chienan/Pycon/github/SportLottery/nbastat/teamId_mpt\").read())"
   ]
  },
  {
   "cell_type": "code",
   "execution_count": 46,
   "metadata": {},
   "outputs": [],
   "source": [
    "def haversine(coord1, coord2):\n",
    "    '''\n",
    "    calculate the great circle distance between two points\n",
    "    on the Earth (coordinates specified in decimal degrees)\n",
    "    '''\n",
    "    # convert decimal degrees to radians\n",
    "    lon1, lat1, lon2, lat2 = map(radians, [coord1[0], coord1[1], coord2[0], coord2[1]])\n",
    "    # Haversine formula\n",
    "    dlon = lon2 - lon1\n",
    "    dlat = lat2 - lat1\n",
    "    a = sin(dlat/2)**2 + cos(lat1) * cos(lat2) * sin(dlon/2)**2\n",
    "    c = 2 * asin(sqrt(a))\n",
    "    # 6367 km (3961 miles) is the radius of the Earth\n",
    "    km = 6367 * c\n",
    "    miles = 3961 * c\n",
    "    return km, miles"
   ]
  },
  {
   "cell_type": "code",
   "execution_count": 5,
   "metadata": {
    "scrolled": true
   },
   "outputs": [],
   "source": [
    "teams = dict((k,\" \".join(v.split(\" \")[:-1]))for k,v in teams.items())\n",
    "teams[\"1610612757\"] = \"Portland\""
   ]
  },
  {
   "cell_type": "code",
   "execution_count": 6,
   "metadata": {
    "scrolled": true
   },
   "outputs": [
    {
     "data": {
      "text/plain": [
       "{'1610612737': 'Atlanta',\n",
       " '1610612738': 'Boston',\n",
       " '1610612739': 'Cleveland',\n",
       " '1610612740': 'New Orleans',\n",
       " '1610612741': 'Chicago',\n",
       " '1610612742': 'Dallas',\n",
       " '1610612743': 'Denver',\n",
       " '1610612744': 'Golden State',\n",
       " '1610612745': 'Houston',\n",
       " '1610612746': 'Los Angeles',\n",
       " '1610612747': 'Los Angeles',\n",
       " '1610612748': 'Miami',\n",
       " '1610612749': 'Milwaukee',\n",
       " '1610612750': 'Minnesota',\n",
       " '1610612751': 'Brooklyn',\n",
       " '1610612752': 'New York',\n",
       " '1610612753': 'Orlando',\n",
       " '1610612754': 'Indiana',\n",
       " '1610612755': 'Philadelphia',\n",
       " '1610612756': 'Phoenix',\n",
       " '1610612757': 'Portland',\n",
       " '1610612758': 'Sacramento',\n",
       " '1610612759': 'San Antonio',\n",
       " '1610612760': 'Oklahoma City',\n",
       " '1610612761': 'Toronto',\n",
       " '1610612762': 'Utah',\n",
       " '1610612763': 'Memphis',\n",
       " '1610612764': 'Washington',\n",
       " '1610612765': 'Detroit',\n",
       " '1610612766': 'Charlotte'}"
      ]
     },
     "execution_count": 6,
     "metadata": {},
     "output_type": "execute_result"
    }
   ],
   "source": [
    "teams"
   ]
  },
  {
   "cell_type": "code",
   "execution_count": 7,
   "metadata": {
    "collapsed": true
   },
   "outputs": [],
   "source": [
    "from geopy.geocoders import Nominatim"
   ]
  },
  {
   "cell_type": "code",
   "execution_count": 13,
   "metadata": {
    "collapsed": true
   },
   "outputs": [],
   "source": [
    "geolocator = Nominatim(user_agent=\"specify_your_app_name_here\")"
   ]
  },
  {
   "cell_type": "code",
   "execution_count": 14,
   "metadata": {},
   "outputs": [
    {
     "data": {
      "text/plain": [
       "'Boston'"
      ]
     },
     "execution_count": 14,
     "metadata": {},
     "output_type": "execute_result"
    }
   ],
   "source": [
    "teams[team_code]"
   ]
  },
  {
   "cell_type": "code",
   "execution_count": 22,
   "metadata": {},
   "outputs": [
    {
     "name": "stdout",
     "output_type": "stream",
     "text": [
      "error while processing Boston data...\n"
     ]
    }
   ],
   "source": [
    "for team_code in teams:\n",
    "    try:\n",
    "        location = geolocator.geocode(teams[team_code])\n",
    "        teams[team_code] = (location.latitude, location.longitude)\n",
    "    except:\n",
    "        print(\"error while processing %s data...\"%teams[team_code])\n",
    "        time.sleep(10)\n",
    "        location = geolocator.geocode(teams[team_code])\n",
    "        teams[team_code] = (location.latitude, location.longitude)        "
   ]
  },
  {
   "cell_type": "code",
   "execution_count": 39,
   "metadata": {},
   "outputs": [],
   "source": [
    "pickle.dump(teams,open(\"/Users/chienan/Pycon/github/SportLottery/input/city_dist.pkl\",\"wb\"),protocol=-1)"
   ]
  },
  {
   "cell_type": "code",
   "execution_count": 53,
   "metadata": {},
   "outputs": [
    {
     "data": {
      "text/plain": [
       "2585.4273190897966"
      ]
     },
     "execution_count": 53,
     "metadata": {},
     "output_type": "execute_result"
    }
   ],
   "source": [
    "haversine(teams[\"1610612746\"],teams[\"1610612766\"])[1]"
   ]
  },
  {
   "cell_type": "code",
   "execution_count": 51,
   "metadata": {},
   "outputs": [
    {
     "data": {
      "text/plain": [
       "(35.4729886, -97.5170536)"
      ]
     },
     "execution_count": 51,
     "metadata": {},
     "output_type": "execute_result"
    }
   ],
   "source": []
  },
  {
   "cell_type": "code",
   "execution_count": null,
   "metadata": {
    "collapsed": true
   },
   "outputs": [],
   "source": []
  }
 ],
 "metadata": {
  "kernelspec": {
   "display_name": "Python 3",
   "language": "python",
   "name": "python3"
  },
  "language_info": {
   "codemirror_mode": {
    "name": "ipython",
    "version": 3
   },
   "file_extension": ".py",
   "mimetype": "text/x-python",
   "name": "python",
   "nbconvert_exporter": "python",
   "pygments_lexer": "ipython3",
   "version": "3.6.2"
  }
 },
 "nbformat": 4,
 "nbformat_minor": 2
}
